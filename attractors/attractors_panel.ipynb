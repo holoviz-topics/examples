{
 "cells": [
  {
   "cell_type": "markdown",
   "metadata": {},
   "source": [
    "# Strange Attractors App"
   ]
  },
  {
   "cell_type": "markdown",
   "metadata": {},
   "source": [
    "<img align='right' style='margin:8px' src='./assets/attractors_screenshot.png'/>\n",
    "\n",
    "[Strange attractors](attractors.ipynb) are a type of iterative equation that traces the path of a particle through a 2D space, forming interesting patterns in the trajectories. The patterns differ depending on which sets of equations are used and which parameter values are selected for those equations.\n",
    "\n",
    "To make the parameter spaces easy to explore, we'll build a web-based application using [Panel](https://panel.holoviz.org) to select between the attractor families, adjust the parameter values for that type of attractor, and see the results rendered using [Datashader](https://datashader.org). Using this app requires a live, running Python process, not just a static web page. \n",
    "\n",
    "This dashboard code also functions as an example of how to build a Panel application for working with an arbitrarily large family of Python objects organized into a class hierarchy, without depending on the details of that structure and without that code depending on any GUI libraries. In this approach, each object defines its own parameters in a GUI-independent way, but then Panel can access this information and construct appropriate widgets to provide interactive control of the values. This approach can allow the same codebase be used in a GUI with full interactivity while also supporting non-GUI command-line, batch, or headless usage. New classes added to the .py file, even with entirely different parameters, will automatically be supported by this GUI code.\n",
    "\n",
    "If you aren't familiar with Panel, you may wish to check out the much simpler [Clifford-only app](./clifford_panel.ipynb) first, to understand the basic structure of an app and of how to compute an attractor.\n",
    "\n",
    "\n",
    "## Attractor definitions\n",
    "\n",
    "Here, we'll make use of a family of attractors whose code is defined in the separate file [attractors.py](attractors.py), currently including classes for Clifford, De Jong, Svensson, Fractal Dream, Bedhead, Hopalong1, Hopalong2, Gumowski Mira, and Symmetric Icon attractors. That module also provides support for working with a separate YAML-format list of examples of each type of attractor, in [attractors.yml](./data/attractors.yml).\n",
    "\n",
    "Each attractor family is a subclass of the Attractor class, capturing the attractor equations as runnable Python code, the equations in LaTeX form for displaying, the parameters of the equations, and their expected ranges of values:"
   ]
  },
  {
   "cell_type": "code",
   "execution_count": null,
   "metadata": {},
   "outputs": [],
   "source": [
    "import attractors\n",
    "\n",
    "h = attractors.Hopalong1()\n",
    "h"
   ]
  },
  {
   "cell_type": "code",
   "execution_count": null,
   "metadata": {},
   "outputs": [],
   "source": [
    "from IPython.display import display, Latex\n",
    "\n",
    "display(*[Latex(e) for e in h.equations])"
   ]
  },
  {
   "cell_type": "code",
   "execution_count": null,
   "metadata": {},
   "outputs": [],
   "source": [
    "import inspect\n",
    "\n",
    "print(inspect.getsource(h.fn))"
   ]
  },
  {
   "cell_type": "markdown",
   "metadata": {},
   "source": [
    "We can use the `trajectory` function to run this equation for specified parameter values to calculate `n` (x,y) positions of the simulated particle through space, where each subsequent position is calculated from the previous one:"
   ]
  },
  {
   "cell_type": "code",
   "execution_count": null,
   "metadata": {},
   "outputs": [],
   "source": [
    "attractors.trajectory(h.fn, 0, 0, a=1, b=3, c=5, n=5)"
   ]
  },
  {
   "cell_type": "markdown",
   "metadata": {},
   "source": [
    "## Attractor parameter values\n",
    "\n",
    "Many of these attractors have only specific sets of parameters that are visually striking.  Suitable parameters have been collected into a separate [YAML-format text file](https://raw.githubusercontent.com/holoviz-topics/examples/main/attractors/attractors.yml), which we can load here, add new values to, save, etc.:"
   ]
  },
  {
   "cell_type": "code",
   "execution_count": null,
   "metadata": {},
   "outputs": [],
   "source": [
    "params = attractors.ParameterSets(name=\"Attractors\")\n",
    "params.attractors[\"Svensson\"]"
   ]
  },
  {
   "cell_type": "markdown",
   "metadata": {},
   "source": [
    "The `params` object also allows constructing a new Attractor object by name with the given parameters:"
   ]
  },
  {
   "cell_type": "code",
   "execution_count": null,
   "metadata": {},
   "outputs": [],
   "source": [
    "params.attractor('Gumowski_Mira', None, 0.1, 0.1, 0.0, 0.5, -0.75)"
   ]
  },
  {
   "cell_type": "markdown",
   "metadata": {},
   "source": [
    "## Attractor plotting using Datashader\n",
    "\n",
    "To turn the attractors into visible images, we'll define some plotting code using [Datashader](https://datashader.org):"
   ]
  },
  {
   "cell_type": "code",
   "execution_count": null,
   "metadata": {},
   "outputs": [],
   "source": [
    "import datashader as ds\n",
    "from datashader.colors import inferno, viridis\n",
    "from colorcet import palette\n",
    "\n",
    "palette[\"viridis\"] = viridis\n",
    "palette[\"inferno\"] = inferno\n",
    "size = 1000\n",
    "\n",
    "def datashade(df, plot_type='points', cmap=palette[\"inferno\"], size=size):\n",
    "    cvs = ds.Canvas(plot_width=size, plot_height=size)\n",
    "    agg = getattr(cvs,plot_type)(df, 'x', 'y', agg=ds.count())\n",
    "    return ds.tf.shade(agg, cmap=cmap)\n",
    "\n",
    "datashade(attractors.trajectory(attractors.Hopalong1.fn, 0, 0, a=1, b=3, c=5, n=5000000), cmap=viridis, size=200)"
   ]
  },
  {
   "cell_type": "markdown",
   "metadata": {},
   "source": [
    "# Panel dashboard\n",
    "\n",
    "As illustrated above, we can use `datashade` on its own to plot any of these attractors, or `IPython.display.Latex` to render the equations mathematically. But to make it much simpler to explore, let's build an app with widgets using Panel. We'll first make an object that lets us select between attractor families, types of plots, etc.:"
   ]
  },
  {
   "cell_type": "code",
   "execution_count": null,
   "metadata": {},
   "outputs": [],
   "source": [
    "import param, panel as pn\n",
    "from panel.pane import LaTeX\n",
    "pn.extension('katex', sizing_mode='stretch_width')\n",
    "\n",
    "pn.Param.margin = 0\n",
    "pn.widgets.Button.param.width.default = 300\n",
    "\n",
    "class Attractors(pn.viewable.Viewer):\n",
    "    attractor_type = param.Selector(objects=params.attractors, default=params.attractors[\"Clifford\"], precedence=0.9)\n",
    "\n",
    "    parameters = param.Selector(objects=params.attractors, precedence=-0.5, readonly=True)\n",
    "\n",
    "    plot_type = param.Selector(\n",
    "        precedence=0.8, objects=['points', 'line'],\n",
    "        doc=\"Type of aggregation to use\"\n",
    "    )\n",
    "\n",
    "    n = param.Integer(2000000, bounds=(1,None), softbounds=(1,50000000),\n",
    "                      doc=\"Number of points\", precedence=0.85)\n",
    "\n",
    "    @param.depends(\"parameters.param\", watch=True)\n",
    "    def _update_from_parameters(self):\n",
    "        a = params.attractor(*self.attractor_type())\n",
    "        if a is not self.attractor_type:\n",
    "            self.param.update(attractor_type=a)\n",
    "\n",
    "    @param.depends(\"attractor_type.param\", \"plot_type\", \"n\")\n",
    "    def __panel__(self):\n",
    "        return datashade(self.attractor_type(n=self.n), self.plot_type,\n",
    "                         palette[self.attractor_type.colormap][::-1])\n",
    "\n",
    "    @param.depends(\"attractor_type\")\n",
    "    def equations(self):\n",
    "        if not self.attractor_type.equations:\n",
    "            return pn.Column()\n",
    "        return pn.Column(\"<b>\"+self.attractor_type.__class__.name+\" attractor<b>\",\n",
    "                         *[LaTeX(e) for e in self.attractor_type.equations])\n",
    "\n",
    "ats = Attractors(name=\"Options\")\n",
    "params.current = lambda: ats.attractor_type\n",
    "ats # Uncomment to see a plot of the current attractor"
   ]
  },
  {
   "cell_type": "markdown",
   "metadata": {},
   "source": [
    "And we'll create a scrubber widget to make it easy to select between the existing example parameter sets:"
   ]
  },
  {
   "cell_type": "code",
   "execution_count": null,
   "metadata": {},
   "outputs": [],
   "source": [
    "from panel.widgets import DiscretePlayer\n",
    "\n",
    "player = DiscretePlayer(options=params.param.example.objects, interval=2000, align='center')\n",
    "player.link(params, value='example');"
   ]
  },
  {
   "cell_type": "markdown",
   "metadata": {},
   "source": [
    "And let's add the panel logo and define some explanatory text that will be useful if this app is deployed outside the notebook context where you are reading this:"
   ]
  },
  {
   "cell_type": "code",
   "execution_count": null,
   "metadata": {
    "scrolled": true
   },
   "outputs": [],
   "source": [
    "logo = '<img src=\"https://panel.holoviz.org/_static/logo_stacked.png\" width=180 height=151>'\n",
    "text = \"\"\" *This [Panel](https://github.com/holoviz/panel) app lets you explore [strange attractors](attractors.ipynb) \n",
    "-- fractal-like patterns that can emerge from the trajectory of a particle in 2D space.*\n",
    "\n",
    "*Here you can choose between different attractor families, selecting from predefined examples or \n",
    "adjusting your own values and adding them to the saved list when you discover something interesting.*\n",
    "\n",
    "*The trajectories are calculated quickly using [Numba](https://numba.pydata.org), aggregated using [Datashader](https://datashader.org), \n",
    "and colorized using [Colorcet](https://colorcet.holoviz.org).*\"\"\"\n",
    "plot = pn.Column(ats, player)\n",
    "widgets = pn.Param(ats.param, expand=True, margin=0)"
   ]
  },
  {
   "cell_type": "markdown",
   "metadata": {},
   "source": [
    "Ok, now we are ready to put everything together into a dashboard using one of the available panel templates, which we will mark `.servable()` to indicate that the dashboard should be displayed if this notebook is run using `panel serve`:"
   ]
  },
  {
   "cell_type": "code",
   "execution_count": null,
   "metadata": {},
   "outputs": [],
   "source": [
    "template = pn.template.FastGridTemplate(\n",
    "    title=\"Strange Attractors Dashboard\",\n",
    "    sidebar=[logo, text, ats.equations],\n",
    "    sidebar_width=250,\n",
    "    accent=\"#4099da\",\n",
    "    theme_toggle=False\n",
    ")\n",
    "\n",
    "template.main[:6, 0:8] = plot\n",
    "template.main[:6, 8:10] = widgets\n",
    "\n",
    "template.servable();"
   ]
  },
  {
   "cell_type": "markdown",
   "metadata": {},
   "source": [
    "You can add `.show()` after `.servable()` if you want to launch a standalone dashboard immediately from within the Jupyter notebook, or just run this notebook through Bokeh Server using `panel serve --show attractors_panel.ipynb`. Either way, you should get a browser tab with a dashboard like in the above cell, which you can explore or share."
   ]
  }
 ],
 "metadata": {
  "kernelspec": {
   "display_name": "Python 3 (ipykernel)",
   "language": "python",
   "name": "python3"
  },
  "language_info": {
   "codemirror_mode": {
    "name": "ipython",
    "version": 3
   },
   "file_extension": ".py",
   "mimetype": "text/x-python",
   "name": "python",
   "nbconvert_exporter": "python",
   "pygments_lexer": "ipython3",
   "version": "3.11.8"
  }
 },
 "nbformat": 4,
 "nbformat_minor": 4
}
