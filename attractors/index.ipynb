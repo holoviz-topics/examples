{
 "cells": [
  {
   "cell_type": "markdown",
   "metadata": {},
   "source": [
    "# Attractors\n",
    "\n",
    "An [attractor](https://en.wikipedia.org/wiki/Attractor#Strange_attractor) is a set of values to which a numerical system tends to evolve. An attractor is called a [strange attractor](https://en.wikipedia.org/wiki/Attractor#Strange_attractor) if the resulting pattern has a fractal structure. This topic example is composed of three notebooks, two of them being deployable Panel dashboard:\n",
    "\n",
    "1. [Visualizing Attractors](./attractors.ipynb): This notebook shows how to calculate and plot two-dimensional attractors of a variety of types, using code and parameters primarily from [L&aacute;zaro Alonso](https://web.archive.org/web/20220128110321/https://lazarusa.github.io/Webpage/codepython2.html), [François Pacull](https://aetperf.github.io/2018/08/29/Plotting-Hopalong-attractor-with-Datashader-and-Numba.html), [Jason Rampe](https://softologyblog.wordpress.com/2017/03/04/2d-strange-attractors), [Paul Bourke](https://paulbourke.net/fractals/), and [James A. Bednar](https://github.com/jbednar).\n",
    "\n",
    "2. [Clifford Attractors App](./clifford_panel.ipynb): *Clifford attractors* are a type of iterative equation that traces the path of a particle through a 2D space using functions of sine and cosine terms that make interesting \"attractor\" patterns (covering only some portions of the possible space, in certain shapes). This notebook shows how to use [Datashader](https://datashader.org), [Numba](https://numba.pydata.org) and [Panel](https://panel.holoviz.org) to build a simple app to interact with such attractors.\n",
    "\n",
    "3. [Strange Attractors App](./attractors_panel.ipynb): *Strange attractors* are a type of iterative equation that traces the path of a particle through a 2D space, forming interesting patterns in the trajectories. The patterns differ depending on which sets of equations are used and which parameter values are selected for those equations. This notebook demonstrates how to build a more complex [Panel](https://panel.holoviz.org) app that makes the parameter spaces easy to explore, allowing to select between the attractor families, to adjust the parameter values for that type of attractor, and see the results rendered using [Datashader](https://datashader.org).\n"
   ]
  }
 ],
 "metadata": {
  "kernelspec": {
   "display_name": "Python 3 (ipykernel)",
   "language": "python",
   "name": "python3"
  },
  "language_info": {
   "codemirror_mode": {
    "name": "ipython",
    "version": 3
   },
   "file_extension": ".py",
   "mimetype": "text/x-python",
   "name": "python",
   "nbconvert_exporter": "python",
   "pygments_lexer": "ipython3",
   "version": "3.11.8"
  }
 },
 "nbformat": 4,
 "nbformat_minor": 4
}
