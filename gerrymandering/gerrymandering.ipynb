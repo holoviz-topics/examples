{
 "cells": [
  {
   "cell_type": "markdown",
   "metadata": {},
   "source": [
    "# Gerrymandering"
   ]
  },
  {
   "cell_type": "markdown",
   "metadata": {},
   "source": [
    "## Racial data vs. Congressional districts\n",
    "\n",
    "We are now awash with data from different sources, but pulling it all together to gain insights can be difficult for many reasons.  In this notebook we show how to combine data of very different types to show previously hidden relationships:\n",
    "\n",
    "* **\"Big data\"**: 300 million points indicating the location and racial or ethnic category of each resident of the USA in the 2010 census.  See the [datashader census notebook](https://anaconda.org/jbednar/census) for a detailed analysis.  Most tools would need to massively downsample this data before it could be displayed.\n",
    "* **Map data**: Image tiles from [Carto](https://carto.com/basemaps) showing natural geographic boundaries.  Requires alignment and overlaying to match the census data.\n",
    "* **Geographic shapes**: 2015 Congressional districts for the USA, downloaded from census.gov.  Requires reprojection to match the coordinate system of the image tiles.\n",
    "\n",
    "Few if any tools can alone handle all of these data sources, but here we'll show how freely available Python packages can easily be combined to explore even large, complex datasets interactively in a web browser.  The resulting plots make it simple to explore how the racial distribution of the USA population corresponds to the geographic features of each region and how both of these are reflected in the shape of US Congressional districts.  For instance, here's an example of using this notebook to zoom in to Houston, revealing a very precisely [gerrymandered](https://en.wikipedia.org/wiki/Gerrymandering_in_the_United_States) Hispanic district:\n",
    "\n",
    "![Houston district 29](./assets/houston_district29.png)\n",
    "\n",
    "Here the US population is rendered using racial category using the key shown, with more intense colors indicating a higher population density in that pixel, and the geographic background being dimly visible where population density is low.  Racially integrated neighborhoods show up as intermediate or locally mixed colors, but most neighborhoods are quite segregated, and in this case the congressional district boundary shown clearly follows the borders of this segregation.\n",
    "\n",
    "If you run this notebook and zoom in on any urban region of interest, you can click on an area with a concentration of one racial or ethnic group to see for yourself if that district follows geographic features, state boundaries, the racial distribution, or some combination thereof.\n",
    "\n",
    "Numerous Python packages are required for this type of analysis to work, all coordinated using [conda](https://docs.conda.io/):\n",
    "\n",
    "* [Numba](https://numba.pydata.org): Compiles low-level numerical code written in Python into very fast machine code\n",
    "* [Dask](https://docs.dask.org): Distributes these numba-based workloads across multiple processing cores in your machine\n",
    "* [Datashader](https://datashader.org): Using Numba and Dask, aggregates big datasets into a fixed-sized array suitable for display in the browser\n",
    "* [GeoViews](https://geoviews.org/): Projecting and visualizing points onto a geographic map\n",
    "* [GeoPandas](https://geopandas.org/): Creates an GeoDataFrame from an online shapefile of the US\n",
    "* [HoloViews](https://holoviews.org/): Flexibly combine each of the data sources into a just-in-time displayable, interactive plot\n",
    "* [hvPlot](https://hvplot.holoviz.org/): Quickly creates interactive visualizations from Dask and GeoPandas\n",
    "* [Bokeh](https://docs.bokeh.org): Generate JavaScript-based interactive plot from HoloViews declarative specification\n",
    "\n",
    "Each package is maintained independently and focuses on doing one job really well, but they all combine seamlessly and with very little code to solve complex problems."
   ]
  },
  {
   "cell_type": "code",
   "execution_count": null,
   "metadata": {},
   "outputs": [],
   "source": [
    "import dask\n",
    "\n",
    "dask.config.set({\"dataframe.convert-string\": False})\n",
    "dask.config.set({\"dataframe.query-planning\": False})"
   ]
  },
  {
   "cell_type": "code",
   "execution_count": null,
   "metadata": {},
   "outputs": [],
   "source": [
    "import holoviews as hv\n",
    "import hvplot.dask  # noqa\n",
    "import hvplot.pandas  # noqa\n",
    "import datashader as ds\n",
    "import dask.dataframe as dd\n",
    "import geopandas as gpd\n",
    "import geoviews as gv\n",
    "import cartopy.crs as ccrs\n",
    "\n",
    "hv.extension('bokeh')"
   ]
  },
  {
   "cell_type": "markdown",
   "metadata": {},
   "source": [
    "In this notebook, we'll load data from different sources and show it all overlaid together.  First, let's define a color key for racial/ethnic categories:"
   ]
  },
  {
   "cell_type": "code",
   "execution_count": null,
   "metadata": {},
   "outputs": [],
   "source": [
    "color_key = {'w':'blue',  'b':'green', 'a':'red',   'h':'orange',   'o':'saddlebrown'}\n",
    "races     = {'w':'White', 'b':'Black', 'a':'Asian', 'h':'Hispanic', 'o':'Other'}\n",
    "\n",
    "color_points = hv.NdOverlay(\n",
    "    {races[k]: gv.Points([0,0], crs=ccrs.PlateCarree()).opts(color=v) for k, v in color_key.items()})"
   ]
  },
  {
   "cell_type": "markdown",
   "metadata": {},
   "source": [
    "Next, we'll load the 2010 US Census, with the location and race or ethnicity of every US resident as of that year (300 million data points) and define a plot using datashader to show this data with the given color key. While we would normally use Pandas to load in data, we will use Dask instead for speed since it can use all the available cores on your machine. We also \"persist\" the data into memory, which will be faster as long as you have enough memory; otherwise every time we zoom it would have to read from disk."
   ]
  },
  {
   "cell_type": "code",
   "execution_count": null,
   "metadata": {},
   "outputs": [],
   "source": [
    "df = dd.read_parquet('./data/census.snappy.parq', engine='pyarrow')\n",
    "df = df.persist()"
   ]
  },
  {
   "cell_type": "markdown",
   "metadata": {},
   "source": [
    "Now we will use hvplot with `datashade=True` to render these points efficiently using [Datashader](https://datashader.org). We also set `dynspread=True` which dynamically increases point size once zooming in enough that that it makes sense to focus on individual points rather than the overall distribution. We also add a tile-based map in the background for context, using `tiles=`."
   ]
  },
  {
   "cell_type": "code",
   "execution_count": null,
   "metadata": {},
   "outputs": [],
   "source": [
    "x_range, y_range = ((-13884029.0, -7453303.5), (2818291.5, 6335972.0)) # Continental USA\n",
    "\n",
    "shaded = df.hvplot.points(\n",
    "    'easting', 'northing',\n",
    "    datashade=True,\n",
    "    aggregator=ds.count_cat('race'),\n",
    "    cmap=color_key,\n",
    "    xlim=x_range,\n",
    "    ylim=y_range,\n",
    "    dynspread=True,\n",
    "    height=800,\n",
    "    width=1000,\n",
    "    data_aspect=1,\n",
    "    tiles='CartoLight',\n",
    ")\n",
    "\n",
    "shaded"
   ]
  },
  {
   "cell_type": "markdown",
   "metadata": {},
   "source": [
    "Next, we'll load congressional districts from a publicly available [shapefile](https://catalog.data.gov/dataset/tiger-line-shapefile-2015-nation-u-s-114th-congressional-district-national)."
   ]
  },
  {
   "cell_type": "code",
   "execution_count": null,
   "metadata": {},
   "outputs": [],
   "source": [
    "shape_path = './data/congressional_districts/cb_2015_us_cd114_5m.shp'\n",
    "gdf_districts = gpd.read_file(shape_path)\n",
    "gdf_districts.head()"
   ]
  },
  {
   "cell_type": "markdown",
   "metadata": {},
   "source": [
    "Now that we have a Geopandas dataframe, we are able to plot the districts using hvPlot by setting `geo=True`. This setting serves a dual purpose, as `geo=True` tells hvPlot that the data is geographic and will use the Web Mercator projection. We also set `project=True` to project the data before plotting, which removes the need for projecting every time the plot is zoomed or panned."
   ]
  },
  {
   "cell_type": "code",
   "execution_count": null,
   "metadata": {},
   "outputs": [],
   "source": [
    "districts = gdf_districts.hvplot.polygons(geo=True, project=True, color=None)\n",
    "districts"
   ]
  },
  {
   "cell_type": "markdown",
   "metadata": {},
   "source": [
    "Each of these data sources can be visualized on their own (just type their name in a separate cell), but they can also easily be combined into a single overlaid plot to see the relationships."
   ]
  },
  {
   "cell_type": "code",
   "execution_count": null,
   "metadata": {},
   "outputs": [],
   "source": [
    "shaded * districts * color_points"
   ]
  },
  {
   "cell_type": "markdown",
   "metadata": {},
   "source": [
    "You should now be able to interactively explore these three linked datasets, to see how they all relate to each other.  In a live notebook, this plot will support a variety of interactive features including:\n",
    "\n",
    "* Pan/zoom: Select the \"wheel zoom\" tool at the left, and you can zoom in on any region of interest using your scroll wheel.  The shapes should update immediately, while the map tiles will update as soon as they are loaded from the external server, and the racial data will be updated once it has been rendered for the current viewport by datashader. This behavior is the default for any HoloViews plot using a Bokeh backend.\n",
    "\n",
    "Most of these interactive features are also available in the static HTML copy visible at [examples.holoviz.org](https://examples.holoviz.org/gerrymandering/gerrymandering.html), with the restriction that because there is no Python process running, the racial/population data will be limited to the resolution at which it was initially rendered, rather than being dynamically re-rendered to fit the current zoom level.  Thus in a static copy, the data will look pixelated, whereas in the live server you can zoom all the way down to individual datapoints (people) in each region."
   ]
  }
 ],
 "metadata": {
  "kernelspec": {
   "display_name": "Python 3 (ipykernel)",
   "language": "python",
   "name": "python3"
  },
  "language_info": {
   "codemirror_mode": {
    "name": "ipython",
    "version": 3
   },
   "file_extension": ".py",
   "mimetype": "text/x-python",
   "name": "python",
   "nbconvert_exporter": "python",
   "pygments_lexer": "ipython3",
   "version": "3.11.9"
  }
 },
 "nbformat": 4,
 "nbformat_minor": 4
}
