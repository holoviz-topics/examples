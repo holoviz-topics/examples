{
 "cells": [
  {
   "cell_type": "markdown",
   "id": "0ac60a1f",
   "metadata": {},
   "source": [
    "# Age demography of Titanic passengers"
   ]
  },
  {
   "cell_type": "code",
   "execution_count": null,
   "id": "b5ece04c-0482-4351-b174-624f9d8ef9cd",
   "metadata": {},
   "outputs": [],
   "source": [
    "import pandas as pd\n",
    "import panel as pn\n",
    "import numpy as np\n",
    "import hvplot.pandas # noqa\n",
    "from bokeh.models import CustomJSTickFormatter"
   ]
  },
  {
   "cell_type": "markdown",
   "id": "4ddc3ea8-6d59-4e1a-bfa2-579a8963312c",
   "metadata": {},
   "source": [
    "## Read the data"
   ]
  },
  {
   "cell_type": "code",
   "execution_count": null,
   "id": "60c655c6-9d37-4b7b-92d6-b5becb6b86f9",
   "metadata": {},
   "outputs": [],
   "source": [
    "df = pd.read_csv('data/titanic.csv', usecols=lambda column: column != 'Unnamed: 0')\n",
    "df.head()"
   ]
  },
  {
   "cell_type": "markdown",
   "id": "5bb0bb69-f3bd-462e-a4d2-7dae0c0db423",
   "metadata": {},
   "source": [
    "## Create the plots"
   ]
  },
  {
   "cell_type": "code",
   "execution_count": null,
   "id": "426801f6-863f-478e-8e95-7c7ab9ac2245",
   "metadata": {},
   "outputs": [],
   "source": [
    "sex_group = df.groupby(\"Sex\")\n",
    "\n",
    "f_ages = sex_group.get_group(\"female\")[\"Age\"].dropna()\n",
    "m_ages = sex_group.get_group(\"male\")[\"Age\"].dropna()\n",
    "\n",
    "bin_width = 5\n",
    "bins = np.arange(0, 72, bin_width)\n",
    "m_hist, edges = np.histogram(m_ages, bins=bins)\n",
    "f_hist, edges = np.histogram(f_ages, bins=bins)\n",
    "\n",
    "m_df = pd.DataFrame({'age':edges[1:], 'count':m_hist*-1})\n",
    "f_df = pd.DataFrame({'age':edges[1:], 'count':f_hist})\n",
    "\n",
    "m_plot = m_df.hvplot.barh(x='age', y='count', xformatter=CustomJSTickFormatter(code=\"return Math.abs(tick)\"))\n",
    "\n",
    "f_plot = f_df.hvplot.barh(x='age', y='count', color='pink')"
   ]
  },
  {
   "cell_type": "markdown",
   "id": "48f318d3-2daa-48ad-bf52-2924484e0ef9",
   "metadata": {},
   "source": [
    "## Display the plots"
   ]
  },
  {
   "cell_type": "code",
   "execution_count": null,
   "id": "fd9de8ad-7542-4baf-ad91-bd6bc2c26182",
   "metadata": {},
   "outputs": [],
   "source": [
    "pyramid = m_plot * f_plot\n",
    "\n",
    "pyramid"
   ]
  },
  {
   "cell_type": "markdown",
   "id": "fbbcfb9f-52c6-4e18-9e4f-765e4d017f17",
   "metadata": {},
   "source": [
    "## Create a Panel dashboard"
   ]
  },
  {
   "cell_type": "code",
   "execution_count": null,
   "id": "067ac538-9c8f-4ac6-83d1-0a211113beed",
   "metadata": {},
   "outputs": [],
   "source": [
    "template = pn.template.MaterialTemplate(title='Age Pyramid of Titanic passengers')\n",
    "panel_logo = pn.pane.PNG('https://panel.holoviz.org/_static/logo_stacked.png',\n",
    "                         link_url='https://panel.holoviz.org', width=250, align='center')\n",
    "sidebar = pn.Column(panel_logo)\n",
    "\n",
    "template.sidebar.extend(sidebar)\n",
    "template.main.append(pyramid)\n",
    "\n",
    "template.servable();"
   ]
  },
  {
   "cell_type": "code",
   "execution_count": null,
   "id": "8a3305bd-f83e-4832-b33f-2faaf7ad7767",
   "metadata": {},
   "outputs": [],
   "source": []
  }
 ],
 "metadata": {
  "kernelspec": {
   "display_name": "Python 3 (ipykernel)",
   "language": "python",
   "name": "python3"
  },
  "language_info": {
   "codemirror_mode": {
    "name": "ipython",
    "version": 3
   },
   "file_extension": ".py",
   "mimetype": "text/x-python",
   "name": "python",
   "nbconvert_exporter": "python",
   "pygments_lexer": "ipython3",
   "version": "3.11.8"
  }
 },
 "nbformat": 4,
 "nbformat_minor": 5
}
