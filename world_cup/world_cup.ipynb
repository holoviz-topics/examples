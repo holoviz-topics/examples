{
 "cells": [
  {
   "cell_type": "markdown",
   "id": "5bf22dfe",
   "metadata": {},
   "source": [
    "# 2018 FIFA World Cup\n",
    "\n",
    "<img src='./thumbnails/world_cup.png' alt=\"Panel Dashboard\" align=\"right\">\n",
    "\n",
    "The FIFA World Cup is the premier international football tournament, held every four years and featuring teams from around the globe. It is a celebration of the sport, bringing together fans and players in a thrilling competition for the prestigious title. Each World Cup tournament offers a wealth of data on matches, players, and events, providing a rich resource for analysis and visualization.\n",
    "\n",
    "In this notebook, we focus on the 2018 FIFA World Cup, hosted by Russia. Using `hvPlot` and `Panel`, we will create dynamic and interactive visualizations to explore the extensive dataset from this tournament. These tools enable us to investigate the statistics and uncover insights about player performances and more. \n",
    "\n",
    "The dataset used for this analysis is sourced from [Pappalardo, Luca; Massucco, Emanuele (2019)](https://doi.org/10.6084/m9.figshare.c.4415000.v5) Soccer match event dataset, figshare collection."
   ]
  },
  {
   "cell_type": "markdown",
   "id": "beb52634",
   "metadata": {},
   "source": [
    "## Load the data\n",
    "\n",
    "Here we will load the `players` and `World Cup events` dataset from the figshare collection to enable use create plots and visualizations focused only on the 2018 World Cup."
   ]
  },
  {
   "cell_type": "code",
   "execution_count": null,
   "id": "d4b184fe",
   "metadata": {},
   "outputs": [],
   "source": [
    "import pandas as pd\n",
    "import hvplot.pandas # noqa\n",
    "import holoviews as hv\n",
    "from holoviews import opts\n",
    "import panel as pn\n",
    "\n",
    "pn.extension()"
   ]
  },
  {
   "cell_type": "code",
   "execution_count": null,
   "id": "9103bbcd",
   "metadata": {},
   "outputs": [],
   "source": [
    "players_df = pd.read_json('data/players.json', encoding='unicode-escape')\n",
    "events_df = pd.read_json('data/events/events_World_Cup.json')"
   ]
  },
  {
   "cell_type": "code",
   "execution_count": null,
   "id": "497a2532-ec81-4941-b6b4-add10d389987",
   "metadata": {},
   "outputs": [],
   "source": [
    "events_df.head()"
   ]
  },
  {
   "cell_type": "code",
   "execution_count": null,
   "id": "bb43355b",
   "metadata": {
    "scrolled": false
   },
   "outputs": [],
   "source": [
    "players_df.tail()"
   ]
  },
  {
   "cell_type": "markdown",
   "id": "3b0ad532-0e42-4c6a-8456-5bd1debb27e7",
   "metadata": {},
   "source": [
    "## Event distribution\n",
    "\n",
    "We can take a look at the unique events that take place in a typical football game and plot the frequency of those events using a hvPlot bar chart:"
   ]
  },
  {
   "cell_type": "code",
   "execution_count": null,
   "id": "de2f9803",
   "metadata": {},
   "outputs": [],
   "source": [
    "pitch_events = list(events_df['eventName'].unique())\n",
    "pitch_events"
   ]
  },
  {
   "cell_type": "code",
   "execution_count": null,
   "id": "9a405ef9",
   "metadata": {},
   "outputs": [],
   "source": [
    "event_type_count = events_df['eventName'].value_counts()\n",
    "event_type_distribution = event_type_count.hvplot.bar(title='Distribution of Event Types', height=400,\n",
    "                                                      width=800, rot=45)\n",
    "event_type_distribution"
   ]
  },
  {
   "cell_type": "markdown",
   "id": "20226b98",
   "metadata": {},
   "source": [
    "It is unsurprising that passes are the most common event in a football match, however we would also like to see the areas of the football pitch most these events occur.\n",
    "\n",
    "First, we will use the `holoviews` library to draw an outline of a football pitch:"
   ]
  },
  {
   "cell_type": "code",
   "execution_count": null,
   "id": "b10cfa15",
   "metadata": {},
   "outputs": [],
   "source": [
    "opts.defaults(opts.Path(color = 'black'),\n",
    "            opts.Points(color='black', size=5))"
   ]
  },
  {
   "cell_type": "code",
   "execution_count": null,
   "id": "b2b3c547",
   "metadata": {},
   "outputs": [],
   "source": [
    "def plot_pitch():\n",
    "    pitch_elements = [\n",
    "    hv.Path([[(0, 0), (0, 100), (100, 100), (100, 0), (0, 0)]]), # pitch outline\n",
    "    hv.Path([[(50, 0), (50, 100)]]), # center line\n",
    "    hv.Path([[(16, 19), (16, 81), (0, 81), (0, 19), (16, 19)]]), # left penalty area\n",
    "    hv.Path([[(84, 19), (84, 81), (100, 81), (100, 19), (84, 19)]]), # right penalty area\n",
    "    hv.Path([[(0, 37), (6, 37), (6, 63), (0, 63), (0, 37)]]), # left six yard box\n",
    "    hv.Path([[(100, 37), (94, 37), (94, 63), (100, 63), (100, 37)]]), # right six yard box\n",
    "    hv.Ellipse(50, 50, 16.3), # center circle\n",
    "    hv.Points([(50, 50)]), # center spot\n",
    "    hv.Points([(11, 50)]), # left penalty spot\n",
    "    hv.Points([(89, 50)]), # right penalty spot\n",
    "    hv.Arrow(20, 5, '', '>', ), # attack arrow\n",
    "    hv.Text(7, 7, 'Attack', 12)] # attack text\n",
    "\n",
    "    pitch = hv.Overlay(pitch_elements).opts(frame_width=600, frame_height=300, show_frame=False,\n",
    "                                            xlim=(-5, 105), ylim=(-5, 105), xaxis=None, yaxis=None)\n",
    "\n",
    "    return pitch"
   ]
  },
  {
   "cell_type": "code",
   "execution_count": null,
   "id": "31d756d9-b25d-4027-bc46-f6142cf175f9",
   "metadata": {},
   "outputs": [],
   "source": [
    "pitch = plot_pitch()\n",
    "pitch"
   ]
  },
  {
   "cell_type": "markdown",
   "id": "b215afdf",
   "metadata": {},
   "source": [
    "Then, we can generate a heatmap to see where these events occur the most on the pitch:"
   ]
  },
  {
   "cell_type": "code",
   "execution_count": null,
   "id": "074305d1-22a8-4224-95f9-91efdf7e16b6",
   "metadata": {},
   "outputs": [],
   "source": [
    "def plot_event_heatmap(events_df, event_type, cmap='Greens'):\n",
    "    \"\"\"\n",
    "    Plots a heatmap of the specified event type on a football pitch.\n",
    "    \n",
    "    Parameters:\n",
    "    events_df (pd.DataFrame): The dataframe containing event data with the following columns:\n",
    "        - eventId: The identifier of the event's type.\n",
    "        - eventName: The name of the event's type.\n",
    "        - subEventId: The identifier of the subevent's type.\n",
    "        - subEventName: The name of the subevent's type.\n",
    "        - tags: A list of event tags describing additional information about the event.\n",
    "        - eventSec: The time when the event occurs (in seconds since the beginning of the current half).\n",
    "        - id: A unique identifier of the event.\n",
    "        - matchId: The identifier of the match the event refers to.\n",
    "        - matchPeriod: The period of the match (1H, 2H, E1, E2, P).\n",
    "        - playerId: The identifier of the player who generated the event.\n",
    "        - positions: The origin and destination positions associated with the event.\n",
    "        - teamId: The identifier of the player's team.\n",
    "    event_type (str): The type of event to plot (e.g., 'Pass', 'Duel', 'Shot').\n",
    "    cmap (str): The color map to use for the heatmap. Default is 'Greens'.\n",
    "    \n",
    "    Returns:\n",
    "    hvPlot object: A heatmap plot of the specified event type overlaid on a football pitch.\n",
    "    \"\"\"\n",
    "    event_type = event_type.lower()\n",
    "    event = events_df[events_df['eventName'].str.lower() == event_type]\n",
    "    positions = [(pos[0]['x'], pos[0]['y']) for pos in event['positions'] if len(pos) > 0]\n",
    "    event_df = pd.DataFrame(positions, columns=['x', 'y'])\n",
    "    pitch = plot_pitch() \n",
    "    title = f\"{event_type.capitalize()}s Heatmap\" if event_type != 'pass' else \"Passes Heatmap\"\n",
    "    \n",
    "    event_heatmap = event_df.hvplot.hexbin(x='x', y='y', cmap=cmap, min_count=1, title=title)\n",
    "    \n",
    "    event_heatmap_plot = (event_heatmap * pitch).opts(\n",
    "        frame_width=600, frame_height=300, xlim=(-5, 105), ylim=(-5, 105),\n",
    "        show_frame=False, xaxis=None, yaxis=None)\n",
    "\n",
    "    return event_heatmap_plot"
   ]
  },
  {
   "cell_type": "markdown",
   "id": "ca025fcb",
   "metadata": {},
   "source": [
    "For example, let use see the heatmap of the passes in a typical game:"
   ]
  },
  {
   "cell_type": "code",
   "execution_count": null,
   "id": "7c91c467",
   "metadata": {},
   "outputs": [],
   "source": [
    "passes_map = plot_event_heatmap(events_df, 'pass')\n",
    "passes_map"
   ]
  },
  {
   "cell_type": "markdown",
   "id": "f97522bf",
   "metadata": {},
   "source": [
    "We can replace \"pass\" with another event type to see the heatmap for that event. However, Panel makes it easy to create widgets that we can use to select the different event types and immediately see the heatmap of that event.\n",
    "\n",
    "First, we create a `Select` widget and use `pn.bind` to link the widget with the `event_heatmap` function. Then we can display it as a column using `pn.Column`:"
   ]
  },
  {
   "cell_type": "code",
   "execution_count": null,
   "id": "0683709f",
   "metadata": {
    "scrolled": false
   },
   "outputs": [],
   "source": [
    "event_type_selector = pn.widgets.Select(name='Event Type', options=pitch_events)\n",
    "event_heatmap = pn.bind(plot_event_heatmap, events_df=events_df, event_type=event_type_selector)\n",
    "\n",
    "pn.Column(event_type_selector, event_heatmap)"
   ]
  },
  {
   "cell_type": "markdown",
   "id": "75324849",
   "metadata": {},
   "source": [
    "If you have a live python process running, you can use the Selector widget to alternate between the different event types and see their heatmap on the football pitch."
   ]
  },
  {
   "cell_type": "markdown",
   "id": "d3bc9cb1",
   "metadata": {},
   "source": [
    "## Player events\n",
    "\n",
    "Using the `playerId` from the events dataframe, we can plot the top `n` players in any event category. First, we create a function to find the top players for any event type:"
   ]
  },
  {
   "cell_type": "code",
   "execution_count": null,
   "id": "9e19a4ca-d771-403e-8035-4068765fa422",
   "metadata": {},
   "outputs": [],
   "source": [
    "def find_top_players(events_df, players_df, event_type, top_n=10):\n",
    "    \"\"\"\n",
    "    Finds the top players for a given event type.\n",
    "\n",
    "    Parameters:\n",
    "    events_df (pd.DataFrame): The dataframe containing event data.\n",
    "    players_df (pd.DataFrame): The dataframe containing player data.\n",
    "    event_type (str): The type of event to filter by.\n",
    "    top_n (int): The number of top players to return.\n",
    "\n",
    "    Returns:\n",
    "    pd.DataFrame: A dataframe containing the top players for the given event type.\n",
    "    \"\"\"\n",
    "    event_type = event_type.lower()\n",
    "    event = events_df[events_df['eventName'].str.lower() == event_type]\n",
    "    event_counts = event.groupby('playerId').size().reset_index(name=f'{event_type} count')\n",
    "    \n",
    "    top_players = event_counts.sort_values(by=f'{event_type} count', ascending=False).head(top_n)\n",
    "    top_players = top_players.merge(players_df, left_on='playerId', right_on='wyId')\n",
    "    top_players.set_index('playerId', inplace=True)\n",
    "    \n",
    "    return top_players[['shortName', f'{event_type} count']]"
   ]
  },
  {
   "cell_type": "markdown",
   "id": "e6ec12c9",
   "metadata": {},
   "source": [
    "For example, we can check the top 10 players with the highest passes in the World Cup:"
   ]
  },
  {
   "cell_type": "code",
   "execution_count": null,
   "id": "a5681d70",
   "metadata": {
    "scrolled": true
   },
   "outputs": [],
   "source": [
    "pass_maestros = find_top_players(events_df, players_df, 'pass')\n",
    "pass_maestros"
   ]
  },
  {
   "cell_type": "markdown",
   "id": "7b86f0af",
   "metadata": {},
   "source": [
    "We can then create a bar chart to visualize these players:"
   ]
  },
  {
   "cell_type": "code",
   "execution_count": null,
   "id": "ab07610d-539c-45e3-bec0-305f4395cef5",
   "metadata": {},
   "outputs": [],
   "source": [
    "def plot_top_players(events_df, players_df, event_type, top_n=10):\n",
    "    \"\"\"\n",
    "    Plots a bar chart of the top players for a given event type.\n",
    "\n",
    "    Parameters:\n",
    "    events_df (pd.DataFrame): The dataframe containing event data.\n",
    "    players_df (pd.DataFrame): The dataframe containing player data.\n",
    "    event_type (str): The type of event to filter by.\n",
    "    top_n (int): The number of top players to return.\n",
    "\n",
    "    Returns:\n",
    "    hvPlot: A bar chart of the top players for the given event type.\n",
    "    \"\"\"\n",
    "    top_players = find_top_players(events_df, players_df, event_type, top_n)\n",
    "    event_type = event_type.lower()\n",
    "    if event_type == 'pass':\n",
    "        title = f'Top {top_n} Players for {event_type.capitalize()}es'\n",
    "    else:\n",
    "        title = f'Top {top_n} Players for {event_type.capitalize()}s'\n",
    "    \n",
    "    bar_plot = top_players.hvplot.bar(title=title, x='shortName', y=f'{event_type} count',\n",
    "                                      xlabel='', ylabel=f'Number of {event_type}', height=300, width=600, rot=45)\n",
    "    \n",
    "    return bar_plot"
   ]
  },
  {
   "cell_type": "code",
   "execution_count": null,
   "id": "39981e48",
   "metadata": {
    "scrolled": false
   },
   "outputs": [],
   "source": [
    "pass_maestros_plot = plot_top_players(events_df, players_df, 'pass')\n",
    "pass_maestros_plot"
   ]
  },
  {
   "cell_type": "markdown",
   "id": "cf1fd402",
   "metadata": {},
   "source": [
    "We can do also plot the individual player heatmaps for any type of event on the football pitch. First, we create a function that maps the player name to their unique ID, then create another function that plots the player heatmap using the resulting player ID:"
   ]
  },
  {
   "cell_type": "code",
   "execution_count": null,
   "id": "d7a9ade4",
   "metadata": {},
   "outputs": [],
   "source": [
    "def get_player_id(player_name):\n",
    "    player_name_to_id = dict(zip(players_df['shortName'], players_df['wyId']))\n",
    "    return player_name_to_id.get(player_name)"
   ]
  },
  {
   "cell_type": "code",
   "execution_count": null,
   "id": "11b96e88",
   "metadata": {},
   "outputs": [],
   "source": [
    "def plot_player_event_heatmap(events_df, players_df, player_name):\n",
    "    \"\"\"\n",
    "    Plots a heatmap of events performed by a specific player on a football pitch.\n",
    "    \n",
    "    Parameters:\n",
    "    events_df (pd.DataFrame): The dataframe containing event data.\n",
    "    players_df (pd.DataFrame): The dataframe containing player data.\n",
    "    player_name (str): The name of the player to plot events for.\n",
    "    \n",
    "    Returns:\n",
    "    hvPlot object: A heatmap plot of the player's events overlaid on a football pitch.\n",
    "    \"\"\"\n",
    "    if not player_name:\n",
    "        return pn.pane.Markdown(\"Select a player to see the heatmap.\", height=200)\n",
    "    \n",
    "    player_id = get_player_id(player_name)\n",
    "    if player_id is None:\n",
    "        return pn.pane.Markdown(\"Please select a valid player.\", height=200)\n",
    "    \n",
    "    player_events = events_df[events_df['playerId'] == player_id]\n",
    "    \n",
    "    if player_events.empty:\n",
    "        return pn.pane.Markdown(\"No events found for the selected player.\", height=200)\n",
    "    \n",
    "    positions = [(pos[0]['x'], pos[0]['y'], event) \n",
    "                 for pos, event in zip(player_events['positions'], player_events['eventName']) \n",
    "                 if len(pos) > 0]\n",
    "    event_df = pd.DataFrame(positions, columns=['x', 'y', 'eventName'])\n",
    "    pitch = plot_pitch()\n",
    "    \n",
    "    event_heatmap = event_df.hvplot.points(x='x', y='y', c='eventName', cmap='Category20',\n",
    "                                           title=f'{player_name} Event Heatmap')\n",
    "    \n",
    "    player_heatmap_plot = (event_heatmap * pitch).opts(frame_width=600, frame_height=300,\n",
    "                                                       xlim=(-5, 105), ylim=(-5, 105),\n",
    "                                                       show_frame=False, xaxis=None, yaxis=None)\n",
    "    \n",
    "    return player_heatmap_plot"
   ]
  },
  {
   "cell_type": "code",
   "execution_count": null,
   "id": "86e094b7",
   "metadata": {},
   "outputs": [],
   "source": [
    "isco_map = plot_player_event_heatmap(events_df, players_df, 'Isco')\n",
    "isco_map"
   ]
  },
  {
   "cell_type": "markdown",
   "id": "4ca214f4",
   "metadata": {},
   "source": [
    "Using the Panel `AutocompleteInput` widget, we can then devise a way to search for players using their names and immediately seeing their event heatmap on the football pitch:"
   ]
  },
  {
   "cell_type": "code",
   "execution_count": null,
   "id": "3586cff6",
   "metadata": {},
   "outputs": [],
   "source": [
    "player_name_selector = pn.widgets.AutocompleteInput(name='Player Name', options=list(players_df['shortName']),\n",
    "                                                    placeholder='Type player name...', case_sensitive=False,\n",
    "                                                   search_strategy='includes')\n",
    "\n",
    "player_heatmap = pn.bind(plot_player_event_heatmap, events_df=events_df,\n",
    "                         players_df=players_df, player_name=player_name_selector)\n",
    "\n",
    "pn.Column(player_name_selector, player_heatmap, sizing_mode='stretch_both')"
   ]
  },
  {
   "cell_type": "markdown",
   "id": "acf6858c",
   "metadata": {},
   "source": [
    "Another insight we can glean is the \"player passing network\", which is a way of calculating the average position of a player on the pitch and then plotting the direction where their passes get to:"
   ]
  },
  {
   "cell_type": "code",
   "execution_count": null,
   "id": "279fefda",
   "metadata": {},
   "outputs": [],
   "source": [
    "def plot_player_passing_network(events_df, players_df, player_name):\n",
    "    \"\"\"\n",
    "    Plots the passing network for a specific player on a football pitch.\n",
    "    \n",
    "    Parameters:\n",
    "    events_df (pd.DataFrame): The dataframe containing event data.\n",
    "    players_df (pd.DataFrame): The dataframe containing player data.\n",
    "    player_name (str): The name of the player to plot the passing network for.\n",
    "    \n",
    "    Returns:\n",
    "    hvPlot object: A plot of the player's passing network overlaid on a football pitch.\n",
    "    \"\"\"\n",
    "    player_id = get_player_id(player_name)\n",
    "    \n",
    "    if player_id is None:\n",
    "        return pn.pane.Markdown(\"Please select a valid player.\", height=200)\n",
    "    \n",
    "    player_events = events_df[events_df['playerId'] == player_id]\n",
    "    \n",
    "    if player_events.empty:\n",
    "        return pn.pane.Markdown(\"No events found for the selected player.\", height=200)\n",
    "    \n",
    "    passes = player_events[player_events['eventName'] == 'Pass']\n",
    "    pass_positions = [(pos[0]['x'], pos[0]['y'], pos[1]['x'], pos[1]['y']) for pos in passes['positions'] if len(pos) > 1]\n",
    "    pass_df = pd.DataFrame(pass_positions, columns=['start_x', 'start_y', 'end_x', 'end_y'])\n",
    "    \n",
    "    avg_x = player_events['positions'].apply(lambda x: x[0]['x']).mean()\n",
    "    avg_y = player_events['positions'].apply(lambda x: x[0]['y']).mean()\n",
    "    \n",
    "    avg_position = hv.Points([(avg_x, avg_y)]).opts(size=10, marker='x', title=f'{player_name} Passing Network')\n",
    "    \n",
    "    total_passes = len(pass_df)\n",
    "    \n",
    "    total_passes_text = hv.Text(75, 103, f'Total number of passes: {total_passes}', halign='center', fontsize=10)\n",
    "    \n",
    "    pass_lines = [hv.Segments([(avg_x, avg_y, row['end_x'], row['end_y'])]) for index, row in pass_df.iterrows()]\n",
    "    pass_lines_overlay = hv.Overlay(pass_lines)\n",
    "    \n",
    "    pitch = plot_pitch()\n",
    "    \n",
    "    network_plot = (avg_position * pass_lines_overlay * total_passes_text * pitch).opts(\n",
    "        frame_width=600, frame_height=300, xlim=(-5, 105), ylim=(-5, 105),\n",
    "        show_frame=False, xaxis=None, yaxis=None)\n",
    "    \n",
    "    return network_plot\n",
    "    "
   ]
  },
  {
   "cell_type": "markdown",
   "id": "c2306700",
   "metadata": {},
   "source": [
    "Then we use the previously defined `player_name_selector` widget to bind it to the `plot_player_passing_network` in other to make it easier to search for different players and view their passing network:"
   ]
  },
  {
   "cell_type": "code",
   "execution_count": null,
   "id": "4ff9c731",
   "metadata": {},
   "outputs": [],
   "source": [
    "player_network = pn.bind(plot_player_passing_network, events_df=events_df,\n",
    "                                     players_df=players_df, player_name=player_name_selector)\n",
    "\n",
    "pn.Column(player_name_selector, player_network, sizing_mode='stretch_both')"
   ]
  },
  {
   "cell_type": "markdown",
   "id": "5a56692b",
   "metadata": {},
   "source": [
    "## Dashboard\n",
    "\n",
    "We can now combine all the different plots into one layout using `pn.Column`, but first we will create an `IntSlider` widget for the top n bar charts and then bind the widget to the `plot_top_players` function:"
   ]
  },
  {
   "cell_type": "code",
   "execution_count": null,
   "id": "6a9ac1cf",
   "metadata": {},
   "outputs": [],
   "source": [
    "top_n_selector = pn.widgets.IntSlider(name='Top', start=1, end=20, value=10)\n",
    "\n",
    "bar_chart = pn.bind(plot_top_players, events_df=events_df, players_df=players_df,\n",
    "                                event_type=event_type_selector, top_n=top_n_selector)\n",
    "\n",
    "pn.Column(pn.Row(top_n_selector, event_type_selector), bar_chart)"
   ]
  },
  {
   "cell_type": "markdown",
   "id": "00d10649",
   "metadata": {},
   "source": [
    "Finally, we can now arrange all the plots into a neat layout with the widgets at the top:"
   ]
  },
  {
   "cell_type": "code",
   "execution_count": null,
   "id": "ae9a5aed-5af0-40be-a83d-2a8d05fd4c3f",
   "metadata": {
    "scrolled": false
   },
   "outputs": [],
   "source": [
    "layout = pn.Column(\n",
    "    pn.Row(event_type_selector, top_n_selector, player_name_selector, sizing_mode='stretch_width'),\n",
    "    bar_chart,\n",
    "    event_heatmap,\n",
    "    player_heatmap,\n",
    "    player_network,\n",
    "    sizing_mode='stretch_both')\n",
    "\n",
    "layout"
   ]
  },
  {
   "cell_type": "markdown",
   "id": "a14e200c-46a1-4294-9672-d705153354a8",
   "metadata": {},
   "source": [
    "## Servable dashboard\n",
    "\n",
    "Now that we have a fully interactive dashboard, we can now deploy it in a template to give it a more polished look:"
   ]
  },
  {
   "cell_type": "code",
   "execution_count": null,
   "id": "529d8d7b",
   "metadata": {},
   "outputs": [],
   "source": [
    "logo = '<img src=\"https://panel.holoviz.org/_static/logo_stacked.png\" width=180 height=150>'\n",
    "\n",
    "text = ''' **Use the selector widget to select the different type of events on the pitch and see the areas where they occur the most.\n",
    "            Use the slider widget to select the number of players to display.\n",
    "            search with name of player to see their event map.**'''\n",
    "\n",
    "template = pn.template.BootstrapTemplate(\n",
    "    header_background='#18BB12',\n",
    "    title='Interactive football dashboard',\n",
    "    sidebar=[logo, text],\n",
    "    main=[pn.panel(layout, sizing_mode='scale_both')]\n",
    ")\n",
    "template.servable();"
   ]
  },
  {
   "cell_type": "markdown",
   "id": "4c0d2697",
   "metadata": {},
   "source": [
    "If you have a live python process, running the cell above will open a standalone dashboard in a new browser tab where you can select and explore the data to your heart’s content, and share it with anyone else interested in this topic.\n",
    "\n",
    "You can also display the dashboard alone using `panel serve --rest-session-info --session-history -1 world_cup.ipynb --show`"
   ]
  }
 ],
 "metadata": {
  "kernelspec": {
   "display_name": "Python 3 (ipykernel)",
   "language": "python",
   "name": "python3"
  },
  "language_info": {
   "codemirror_mode": {
    "name": "ipython",
    "version": 3
   },
   "file_extension": ".py",
   "mimetype": "text/x-python",
   "name": "python",
   "nbconvert_exporter": "python",
   "pygments_lexer": "ipython3",
   "version": "3.11.9"
  }
 },
 "nbformat": 4,
 "nbformat_minor": 5
}
