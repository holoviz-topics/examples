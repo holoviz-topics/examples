{
 "cells": [
  {
   "cell_type": "markdown",
   "id": "5bf22dfe",
   "metadata": {},
   "source": [
    "# 2018 FIFA World Cup\n",
    "\n",
    "<img src='./thumbnails/world_cup.png' alt=\"Panel Dashboard\" align=\"right\">\n",
    "\n",
    "The FIFA World Cup is the premier international football tournament, held every four years and featuring teams from around the globe. It is a celebration of the sport, bringing together fans and players in a thrilling competition for the prestigious title. Each World Cup tournament offers a wealth of data on matches, players, and events, providing a rich resource for analysis and visualization.\n",
    "\n",
    "In this notebook, we focus on the 2018 FIFA World Cup, hosted by Russia. Using `hvPlot` and `Panel`, we will create dynamic and interactive visualizations to explore the extensive dataset from this tournament. These tools enable us to investigate the statistics and uncover insights about player performances and more. \n",
    "\n",
    "The dataset used for this analysis is sourced from [Pappalardo, Luca; Massucco, Emanuele (2019)](https://doi.org/10.6084/m9.figshare.c.4415000.v5) Soccer match event dataset, figshare collection."
   ]
  },
  {
   "cell_type": "markdown",
   "id": "beb52634",
   "metadata": {},
   "source": [
    "## Load the data\n",
    "\n",
    "Here we will load the `players` and `World Cup events` dataset from the figshare collection to enable us create plots and visualizations focused only on the 2018 World Cup."
   ]
  },
  {
   "cell_type": "code",
   "execution_count": null,
   "id": "d4b184fe",
   "metadata": {},
   "outputs": [],
   "source": [
    "import numpy as np\n",
    "import pandas as pd\n",
    "import hvplot.pandas # noqa\n",
    "import holoviews as hv\n",
    "from holoviews import opts\n",
    "import panel as pn\n",
    "\n",
    "pn.extension()"
   ]
  },
  {
   "cell_type": "code",
   "execution_count": null,
   "id": "9103bbcd",
   "metadata": {},
   "outputs": [],
   "source": [
    "players_df = pd.read_json('data/players.json', encoding='unicode-escape')\n",
    "events_df = pd.read_json('data/events/events_World_Cup.json')"
   ]
  },
  {
   "cell_type": "code",
   "execution_count": null,
   "id": "497a2532-ec81-4941-b6b4-add10d389987",
   "metadata": {},
   "outputs": [],
   "source": [
    "events_df.head()"
   ]
  },
  {
   "cell_type": "code",
   "execution_count": null,
   "id": "bb43355b",
   "metadata": {},
   "outputs": [],
   "source": [
    "players_df.tail()"
   ]
  },
  {
   "cell_type": "markdown",
   "id": "3b0ad532-0e42-4c6a-8456-5bd1debb27e7",
   "metadata": {},
   "source": [
    "## Plots\n",
    "\n",
    "### Event distribution\n",
    "\n",
    "We can take a look at the unique events that take place in a typical football game and plot the frequency of those events using a hvPlot bar chart:"
   ]
  },
  {
   "cell_type": "code",
   "execution_count": null,
   "id": "9a405ef9",
   "metadata": {},
   "outputs": [],
   "source": [
    "event_type_count = events_df['eventName'].value_counts()\n",
    "event_type_distribution = event_type_count.hvplot.bar(title='Distribution of Event Types', height=400,\n",
    "                                                      responsive=True, rot=45)\n",
    "event_type_distribution"
   ]
  },
  {
   "cell_type": "markdown",
   "id": "20226b98",
   "metadata": {},
   "source": [
    "It is unsurprising that passes are the most common event in a football match, however we would also like to see the areas of the football pitch where most of these events occur.\n",
    "\n",
    "First, we will use the `HoloViews` library to draw an outline of a football pitch using the official dimensions:"
   ]
  },
  {
   "cell_type": "code",
   "execution_count": null,
   "id": "b10cfa15",
   "metadata": {},
   "outputs": [],
   "source": [
    "opts.defaults(opts.Path(color='black'),\n",
    "              opts.Rectangles(color=''),\n",
    "              opts.Points(color='black', size=5))"
   ]
  },
  {
   "cell_type": "code",
   "execution_count": null,
   "id": "8d0a4352",
   "metadata": {},
   "outputs": [],
   "source": [
    "# Set the dimensions of the field in meters\n",
    "field_length = 105\n",
    "field_width = 68\n",
    "penalty_area_length = 16.5\n",
    "penalty_area_width = 40.3\n",
    "goal_area_length = 5.5\n",
    "goal_area_width = 18.32\n",
    "goal_width = 7.32\n",
    "goal_depth = 2.44\n",
    "\n",
    "pitch_plot_height = 550\n",
    "pitch_plot_width = 800\n",
    "    \n",
    "# Helper function to create arcs\n",
    "def create_arc(center, radius, start_angle, end_angle, clockwise=False):\n",
    "    if clockwise:\n",
    "        angles = np.linspace(np.radians(start_angle), np.radians(end_angle), 100)\n",
    "    else:\n",
    "        if start_angle < end_angle:\n",
    "            start_angle += 360\n",
    "        angles = np.linspace(np.radians(start_angle), np.radians(end_angle), 100)\n",
    "    x = center[0] + radius * np.cos(angles)\n",
    "    y = center[1] + radius * np.sin(angles)\n",
    "    return hv.Path([np.column_stack([x, y])])\n",
    "\n",
    "# create football pitch\n",
    "def plot_pitch():\n",
    "    pitch_elements = [\n",
    "        hv.Rectangles([(0, 0, field_length, field_width)]), # outer pitch rectangle\n",
    "        hv.Ellipse(field_length/2, field_width/2, 18.3), # center circle\n",
    "        hv.Points([(field_length/2, field_width/2)]), # center spot\n",
    "        hv.Path([[(field_length/2, 0), (field_length/2, field_width)]]), # halfway line\n",
    "        hv.Rectangles([(0, (field_width - penalty_area_width) / 2, penalty_area_length,\n",
    "                        (field_width + penalty_area_width) / 2)]), # left penalty area\n",
    "        hv.Rectangles([(field_length - penalty_area_length, (field_width - penalty_area_width) / 2,\n",
    "                        field_length, (field_width + penalty_area_width) / 2)]), # right penalty area\n",
    "        hv.Rectangles([(0, (field_width - goal_area_width) / 2, goal_area_length,\n",
    "                        (field_width + goal_area_width) / 2)]), # left goal area\n",
    "        hv.Rectangles([(field_length - goal_area_length, (field_width - goal_area_width) / 2,\n",
    "                        field_length, (field_width + goal_area_width) / 2)]), # right goal area\n",
    "        hv.Points([(11, field_width/2)]), # left penalty spot\n",
    "        hv.Points([(field_length - 11, field_width/2)]), # right penalty spot\n",
    "        create_arc((11, field_width/2), 9.15, 52, 308), # left penalty arc\n",
    "        create_arc((field_length - 11, field_width/2), 9.15, 232, 128), # right penalty arc\n",
    "        hv.Rectangles([(-goal_depth, (field_width - goal_width) / 2,\n",
    "                        0, (field_width + goal_width) / 2)]), # left goal\n",
    "        hv.Rectangles([(field_length, (field_width - goal_width) / 2,\n",
    "                        field_length + goal_depth, (field_width + goal_width) / 2)]), # right goal\n",
    "        hv.Arrow(20, 5, '', '>', ), # attack arrow\n",
    "        hv.Text(10, 6, 'Attack', 11) # attack text\n",
    "    ]\n",
    "    \n",
    "    field = hv.Overlay(pitch_elements).opts(frame_width=pitch_plot_width, frame_height=pitch_plot_height,\n",
    "                                            xlim=(-5, field_length + 5), ylim=(-5, field_width + 5),\n",
    "                                            xaxis=None, yaxis=None)\n",
    "    return field"
   ]
  },
  {
   "cell_type": "code",
   "execution_count": null,
   "id": "31d756d9-b25d-4027-bc46-f6142cf175f9",
   "metadata": {},
   "outputs": [],
   "source": [
    "pitch = plot_pitch()\n",
    "pitch"
   ]
  },
  {
   "cell_type": "markdown",
   "id": "9f9c03ae",
   "metadata": {},
   "source": [
    "In `events_df` dataframe, the `positions` column is a pair of coordinates written in percentages instead of the actual field dimensions, as described in the [data source](https://figshare.com/articles/dataset/Events/7770599?backTo=/collections/_/4415000). To match the coordinates of the drawn pitch, we will have to transform those coordinates to their actual dimensions in meters:"
   ]
  },
  {
   "cell_type": "code",
   "execution_count": null,
   "id": "df8b2936",
   "metadata": {},
   "outputs": [],
   "source": [
    "def transform_positions(events_df, field_length, field_width):\n",
    "    def scale_position(pos):\n",
    "        scaled_positions = []\n",
    "        for p in pos:\n",
    "            scaled_p = {\n",
    "                'x': p['x'] * field_length / 100,\n",
    "                'y': p['y'] * field_width / 100\n",
    "            }\n",
    "            scaled_positions.append(scaled_p)\n",
    "        return scaled_positions\n",
    "\n",
    "    events_df['positions'] = events_df['positions'].apply(scale_position)\n",
    "    return events_df"
   ]
  },
  {
   "cell_type": "code",
   "execution_count": null,
   "id": "5e61ea7b",
   "metadata": {},
   "outputs": [],
   "source": [
    "events_df = transform_positions(events_df, field_length, field_width)\n",
    "events_df.head()"
   ]
  },
  {
   "cell_type": "markdown",
   "id": "b215afdf",
   "metadata": {},
   "source": [
    "Then, we can generate a heatmap to see where these events occur the most on the pitch:"
   ]
  },
  {
   "cell_type": "code",
   "execution_count": null,
   "id": "074305d1-22a8-4224-95f9-91efdf7e16b6",
   "metadata": {},
   "outputs": [],
   "source": [
    "def plot_event_heatmap(events_df, event_type, cmap='Greens'):\n",
    "    \"\"\"\n",
    "    Plots a heatmap of the specified event type on a football pitch.\n",
    "    \n",
    "    Parameters:\n",
    "    events_df (pd.DataFrame): The dataframe containing event data with the following columns:\n",
    "        - eventId: The identifier of the event's type.\n",
    "        - eventName: The name of the event's type.\n",
    "        - subEventId: The identifier of the subevent's type.\n",
    "        - subEventName: The name of the subevent's type.\n",
    "        - tags: A list of event tags describing additional information about the event.\n",
    "        - eventSec: The time when the event occurs (in seconds since the beginning of the current half).\n",
    "        - id: A unique identifier of the event.\n",
    "        - matchId: The identifier of the match the event refers to.\n",
    "        - matchPeriod: The period of the match (1H, 2H, E1, E2, P).\n",
    "        - playerId: The identifier of the player who generated the event.\n",
    "        - positions: The origin and destination positions associated with the event.\n",
    "        - teamId: The identifier of the player's team.\n",
    "    event_type (str): The type of event to plot from the eventName column.\n",
    "    cmap (str): The color map to use for the heatmap. Default is 'Greens'.\n",
    "    \n",
    "    Returns:\n",
    "    hvPlot object: A heatmap plot of the specified event type overlaid on a football pitch.\n",
    "    \"\"\"\n",
    "    event_type = event_type.lower()\n",
    "    event = events_df[events_df['eventName'].str.lower() == event_type]\n",
    "    positions = [(pos[0]['x'], pos[0]['y']) for pos in event['positions'] if len(pos) > 0]\n",
    "    event_df = pd.DataFrame(positions, columns=['x', 'y'])\n",
    "    pitch = plot_pitch() \n",
    "    title = f\"{event_type.capitalize()} Heatmap for All Players\"\n",
    "    \n",
    "    event_heatmap = event_df.hvplot.hexbin(x='x', y='y', cmap=cmap, min_count=1, title=title)\n",
    "    \n",
    "    event_heatmap_plot = (event_heatmap * pitch).opts(frame_width=pitch_plot_width, frame_height=pitch_plot_height,\n",
    "                                                      xlim=(-5, 110), ylim=(-5, 73),\n",
    "                                                      xaxis=None, yaxis=None)\n",
    "\n",
    "    return event_heatmap_plot"
   ]
  },
  {
   "cell_type": "markdown",
   "id": "ca025fcb",
   "metadata": {},
   "source": [
    "For example, let use see the heatmap of the passes in a typical game:"
   ]
  },
  {
   "cell_type": "code",
   "execution_count": null,
   "id": "7c91c467",
   "metadata": {},
   "outputs": [],
   "source": [
    "passes_map = plot_event_heatmap(events_df, 'pass')\n",
    "passes_map"
   ]
  },
  {
   "cell_type": "markdown",
   "id": "f97522bf",
   "metadata": {},
   "source": [
    "We can replace \"pass\" with another event type to see the heatmap for that event. However, Panel makes it easy to create widgets that we can use to select the different event types and immediately see the heatmap of that event.\n",
    "\n",
    "First, we create a `Select` widget and use `pn.bind` to link the widget with the `event_heatmap` function. Then we can display it as a column using `pn.Column`:"
   ]
  },
  {
   "cell_type": "code",
   "execution_count": null,
   "id": "3948c04a",
   "metadata": {},
   "outputs": [],
   "source": [
    "event_type = list(events_df['eventName'].unique())\n",
    "event_type_selector = pn.widgets.Select(name='Event Type', options=event_type)\n",
    "event_heatmap = pn.bind(plot_event_heatmap, events_df=events_df, event_type=event_type_selector)\n",
    "\n",
    "pn.Column(event_type_selector, event_heatmap)"
   ]
  },
  {
   "cell_type": "markdown",
   "id": "75324849",
   "metadata": {},
   "source": [
    "If you have a live python process running, you can use the Selector widget to alternate between the different event types and see their heatmap on the football pitch."
   ]
  },
  {
   "cell_type": "markdown",
   "id": "d3bc9cb1",
   "metadata": {},
   "source": [
    "### Player events\n",
    "\n",
    "Using the `playerId` from the events dataframe, we can plot the top `n` players in any event category. First, we create a function to find the top players for any event type:"
   ]
  },
  {
   "cell_type": "code",
   "execution_count": null,
   "id": "9e19a4ca-d771-403e-8035-4068765fa422",
   "metadata": {},
   "outputs": [],
   "source": [
    "def find_top_players(events_df, players_df, event_type, top_n=10):\n",
    "    \"\"\"\n",
    "    Finds the top players for a given event type.\n",
    "\n",
    "    Parameters:\n",
    "    events_df (pd.DataFrame): The dataframe containing event data.\n",
    "    players_df (pd.DataFrame): The dataframe containing player data.\n",
    "    event_type (str): The type of event to filter by.\n",
    "    top_n (int): The number of top players to return.\n",
    "\n",
    "    Returns:\n",
    "    pd.DataFrame: A dataframe containing the top players for the given event type.\n",
    "    \"\"\"\n",
    "    event_type = event_type.lower()\n",
    "    event = events_df[events_df['eventName'].str.lower() == event_type]\n",
    "    event_counts = event.groupby('playerId').size().reset_index(name=f'{event_type} count')\n",
    "    \n",
    "    top_players = event_counts.sort_values(by=f'{event_type} count', ascending=False).head(top_n)\n",
    "    top_players = top_players.merge(players_df, left_on='playerId', right_on='wyId')\n",
    "    top_players.set_index('playerId', inplace=True)\n",
    "    \n",
    "    return top_players[['shortName', f'{event_type} count']]"
   ]
  },
  {
   "cell_type": "markdown",
   "id": "e6ec12c9",
   "metadata": {},
   "source": [
    "For example, we can check the top 10 players with the most passes in the World Cup:"
   ]
  },
  {
   "cell_type": "code",
   "execution_count": null,
   "id": "a5681d70",
   "metadata": {},
   "outputs": [],
   "source": [
    "pass_maestros = find_top_players(events_df, players_df, 'pass')\n",
    "pass_maestros"
   ]
  },
  {
   "cell_type": "markdown",
   "id": "7b86f0af",
   "metadata": {},
   "source": [
    "We can then create a bar chart to visualize these players:"
   ]
  },
  {
   "cell_type": "code",
   "execution_count": null,
   "id": "ab07610d-539c-45e3-bec0-305f4395cef5",
   "metadata": {},
   "outputs": [],
   "source": [
    "def plot_top_players(events_df, players_df, event_type, top_n=10):\n",
    "    \"\"\"\n",
    "    Plots a bar chart of the top players for a given event type.\n",
    "\n",
    "    Parameters:\n",
    "    events_df (pd.DataFrame): The dataframe containing event data.\n",
    "    players_df (pd.DataFrame): The dataframe containing player data.\n",
    "    event_type (str): The type of event to filter by.\n",
    "    top_n (int): The number of top players to return.\n",
    "\n",
    "    Returns:\n",
    "    hvPlot: A bar chart of the top players for the given event type.\n",
    "    \"\"\"\n",
    "    top_players = find_top_players(events_df, players_df, event_type, top_n)\n",
    "    event_type = event_type.lower()\n",
    "    \n",
    "    title = f'Top {top_n} Players for {event_type.capitalize()}'\n",
    "    \n",
    "    bar_plot = top_players.hvplot.bar(title=title, x='shortName', y=f'{event_type} count',\n",
    "                                      xlabel='', ylabel=f'Number of {event_type}', rot=45)\n",
    "    \n",
    "    return bar_plot"
   ]
  },
  {
   "cell_type": "code",
   "execution_count": null,
   "id": "39981e48",
   "metadata": {},
   "outputs": [],
   "source": [
    "pass_maestros_plot = plot_top_players(events_df, players_df, 'pass')\n",
    "pass_maestros_plot"
   ]
  },
  {
   "cell_type": "markdown",
   "id": "8aab3e2a",
   "metadata": {},
   "source": [
    "Using Panel, we can also create another type of widget to select number of bars to display in the bar chart as well\n",
    "as selecting the different event types:"
   ]
  },
  {
   "cell_type": "code",
   "execution_count": null,
   "id": "cbfa63a1",
   "metadata": {},
   "outputs": [],
   "source": [
    "top_n_selector = pn.widgets.IntSlider(name='Top', start=1, end=20, value=10)\n",
    "\n",
    "bar_chart = pn.bind(plot_top_players, events_df=events_df, players_df=players_df,\n",
    "                                event_type=event_type_selector, top_n=top_n_selector)\n",
    "\n",
    "pn.Column(pn.Row(top_n_selector, event_type_selector), bar_chart)"
   ]
  },
  {
   "cell_type": "markdown",
   "id": "cf1fd402",
   "metadata": {},
   "source": [
    "We can also plot the individual player activity for any type of event on the football pitch. First, we create a function that maps the player name to their unique ID, then create another function that plots the player activity using the resulting player ID:"
   ]
  },
  {
   "cell_type": "code",
   "execution_count": null,
   "id": "d7a9ade4",
   "metadata": {},
   "outputs": [],
   "source": [
    "def get_player_id(player_name):\n",
    "    player_name_to_id = dict(zip(players_df['shortName'], players_df['wyId']))\n",
    "    return player_name_to_id.get(player_name)\n",
    "\n",
    "def plot_player_events(events_df, players_df, player_name):\n",
    "    \"\"\"\n",
    "    Plots a distribution of events performed by a specific player on a football pitch.\n",
    "    \n",
    "    Parameters:\n",
    "    events_df (pd.DataFrame): The dataframe containing event data.\n",
    "    players_df (pd.DataFrame): The dataframe containing player data.\n",
    "    player_name (str): The name of the player to plot events for.\n",
    "    \n",
    "    Returns:\n",
    "    hvPlot object: A scatter plot of the player's events overlaid on a football pitch.\n",
    "    \"\"\"\n",
    "    pitch = plot_pitch()\n",
    "    if not player_name:\n",
    "        return pn.Column(pn.pane.Markdown(\"## Start typing a player name above.\"), pitch)\n",
    "    \n",
    "    player_id = get_player_id(player_name)\n",
    "    if player_id is None:\n",
    "        return pn.Column(pn.pane.Markdown(\"## Please select a valid player.\"), pitch)\n",
    "    \n",
    "    player_events = events_df[events_df['playerId'] == player_id]\n",
    "    \n",
    "    if player_events.empty:\n",
    "        return pn.Column(pn.pane.Markdown(f\"## No events found for {player_name}.\"), pitch)\n",
    "    \n",
    "    positions = [(pos[0]['x'], pos[0]['y'], event) \n",
    "                 for pos, event in zip(player_events['positions'], player_events['eventName']) \n",
    "                 if len(pos) > 0]\n",
    "    event_df = pd.DataFrame(positions, columns=['x', 'y', 'eventName'])\n",
    "    \n",
    "    event_scatter = event_df.hvplot.points(x='x', y='y', c='eventName', cmap='Category20',\n",
    "                                           title=f'All Events for Player: {player_name}')\n",
    "    \n",
    "    player_scatter = (event_scatter * pitch).opts(frame_width=pitch_plot_width, frame_height=pitch_plot_height,\n",
    "                                                  xlim=(-5, 110), ylim=(-5, 73),\n",
    "                                                  xaxis=None, yaxis=None, legend_position='top')\n",
    "    \n",
    "    return player_scatter"
   ]
  },
  {
   "cell_type": "code",
   "execution_count": null,
   "id": "86e094b7",
   "metadata": {},
   "outputs": [],
   "source": [
    "isco_map = plot_player_events(events_df, players_df, 'Isco')\n",
    "isco_map"
   ]
  },
  {
   "cell_type": "markdown",
   "id": "4ca214f4",
   "metadata": {},
   "source": [
    "Using the Panel `AutocompleteInput` widget, we can then devise a way to search for players using their names and immediately see their activities on the football pitch:"
   ]
  },
  {
   "cell_type": "code",
   "execution_count": null,
   "id": "84e41cb1",
   "metadata": {},
   "outputs": [],
   "source": [
    "player_name_selector = pn.widgets.AutocompleteInput(name='Player Name', options=list(players_df['shortName']),\n",
    "                                                    placeholder='Type player name...', case_sensitive=False,\n",
    "                                                   search_strategy='includes', value='L. Messi')\n",
    "\n",
    "player_events = pn.bind(plot_player_events, events_df=events_df,\n",
    "                         players_df=players_df, player_name=player_name_selector)\n",
    "\n",
    "pn.Column(player_name_selector, player_events, sizing_mode='stretch_width')"
   ]
  },
  {
   "cell_type": "markdown",
   "id": "74e44732",
   "metadata": {},
   "source": [
    "Another insightful view would be to show the scatter plot of pass start locations for a selected player and then adding a callback function that shows the trajectory of the passes from a clicked location:"
   ]
  },
  {
   "cell_type": "code",
   "execution_count": null,
   "id": "bbd20085",
   "metadata": {},
   "outputs": [],
   "source": [
    "def plot_player_pass_trajectory(events_df, players_df, player_name):\n",
    "    player_id = get_player_id(player_name)\n",
    "    pitch = plot_pitch()\n",
    "    \n",
    "    if player_id is None:\n",
    "        return pn.Column(pn.pane.Markdown(\"## Please select a valid player.\"), pitch)\n",
    "    \n",
    "    player_events = events_df[events_df['playerId'] == player_id]\n",
    "    \n",
    "    if player_events.empty:\n",
    "        return pn.Column(pn.pane.Markdown(f\"## No events found for {player_name}.\"), pitch)\n",
    "    \n",
    "    passes = player_events[player_events['eventName'].str.lower() == 'pass']\n",
    "    \n",
    "    if passes.empty:\n",
    "        return pn.Column(pn.pane.Markdown(f\"## No passes found for {player_name}.\"), pitch)\n",
    "    \n",
    "    pass_positions = [(pos[0]['x'], pos[0]['y']) for pos in passes['positions'] if len(pos) > 1]\n",
    "    pass_df = pd.DataFrame(pass_positions, columns=['x', 'y'])\n",
    "    \n",
    "    pass_scatter = pass_df.hvplot.points(x='x', y='y', color='#1D78B4', title=f\"Click for Pass Trajectories of {player_name}\")\n",
    "    total_passes = hv.Text(75, 70, f'Total number of passes: {len(pass_df)}', halign='center', fontsize=12)\n",
    "    \n",
    "    # Callback to filter passes based on click location\n",
    "    def filter_passes(x, y, radius=1.5):\n",
    "        filtered_passes = passes[\n",
    "            (passes['positions'].apply(lambda pos: pos[0]['x']) >= x - radius) & \n",
    "            (passes['positions'].apply(lambda pos: pos[0]['x']) <= x + radius) &\n",
    "            (passes['positions'].apply(lambda pos: pos[0]['y']) >= y - radius) & \n",
    "            (passes['positions'].apply(lambda pos: pos[0]['y']) <= y + radius)\n",
    "        ]\n",
    "        \n",
    "        if filtered_passes.empty:\n",
    "            return hv.Overlay()\n",
    "            \n",
    "        pass_lines = []\n",
    "        for pos in filtered_passes['positions']:\n",
    "            pass_lines.append(hv.Segments([(pos[0]['x'], pos[0]['y'], pos[1]['x'], pos[1]['y'])]).opts(\n",
    "                color='green', line_width=2, line_alpha=.5))\n",
    "        pass_lines_overlay = hv.Overlay(pass_lines)\n",
    "        \n",
    "        return pass_lines_overlay\n",
    "    \n",
    "    # Create a stream for handling clicks\n",
    "    stream = hv.streams.Tap(source=pass_scatter, x=52, y=34)\n",
    "    dynamic_pass_lines = hv.DynamicMap(lambda x, y: filter_passes(x, y), streams=[stream])\n",
    "\n",
    "    dynamic_map = pitch * pass_scatter * total_passes * dynamic_pass_lines\n",
    "    \n",
    "    return dynamic_map.opts(frame_width=pitch_plot_width, frame_height=pitch_plot_height,\n",
    "                            xlim=(-5, 110), ylim=(-5, 73),\n",
    "                            xaxis=None, yaxis=None)"
   ]
  },
  {
   "cell_type": "markdown",
   "id": "c29981a2",
   "metadata": {},
   "source": [
    "Then we use the previously defined `player_name_selector` widget to bind it to the `plot_player_pass_trajectory` in other to make it easier to search for different players and view their passing:"
   ]
  },
  {
   "cell_type": "code",
   "execution_count": null,
   "id": "b6e4003f",
   "metadata": {},
   "outputs": [],
   "source": [
    "player_pass_scatter = pn.bind(plot_player_pass_trajectory, events_df=events_df,\n",
    "                         players_df=players_df, player_name=player_name_selector)\n",
    "\n",
    "pn.Column(player_name_selector, player_pass_scatter, sizing_mode='stretch_width')"
   ]
  },
  {
   "cell_type": "markdown",
   "id": "56beb52f",
   "metadata": {},
   "source": [
    "Clicking in the vicinity of any of these points will show the trajectory of the passes."
   ]
  },
  {
   "cell_type": "markdown",
   "id": "5a56692b",
   "metadata": {},
   "source": [
    "### Dashboard\n",
    "\n",
    "We can now combine all the different plots into one layout using `pn.Column` with the widgets at the top:"
   ]
  },
  {
   "cell_type": "code",
   "execution_count": null,
   "id": "ae9a5aed-5af0-40be-a83d-2a8d05fd4c3f",
   "metadata": {},
   "outputs": [],
   "source": [
    "all_players_tab = pn.Column(\n",
    "    pn.WidgetBox(event_type_selector, top_n_selector),\n",
    "    bar_chart,\n",
    "    event_heatmap,\n",
    ")\n",
    "\n",
    "player_event_tab = pn.Column(\n",
    "    player_name_selector,\n",
    "    player_events,\n",
    "    player_pass_scatter,\n",
    ")\n",
    "\n",
    "layout = pn.Tabs(('All Players', all_players_tab), ('Per Player', player_event_tab))\n",
    "layout"
   ]
  },
  {
   "cell_type": "markdown",
   "id": "a14e200c-46a1-4294-9672-d705153354a8",
   "metadata": {},
   "source": [
    "## Servable dashboard\n",
    "\n",
    "Now that we have a fully interactive dashboard, we can now deploy it in a template to give it a more polished look:"
   ]
  },
  {
   "cell_type": "code",
   "execution_count": null,
   "id": "529d8d7b",
   "metadata": {},
   "outputs": [],
   "source": [
    "logo = '<img src=\"https://upload.wikimedia.org/wikipedia/en/6/67/2018_FIFA_World_Cup.svg\" width=200 height=150>'\n",
    "\n",
    "text = \"\"\" ## Explore the 2018 FIFA World Cup with interactive visualizations built with `hvPlot` and `Panel` from HoloViz.\"\"\"\n",
    "\n",
    "template = pn.template.FastListTemplate(\n",
    "    header_background='#18BB12',\n",
    "    title='2018 FIFA World Cup Dashboard',\n",
    "    sidebar=[logo, text],\n",
    "    main=[layout]\n",
    ")\n",
    "template.servable();"
   ]
  },
  {
   "cell_type": "markdown",
   "id": "4c0d2697",
   "metadata": {},
   "source": [
    "You can now display this as a standalone app from the command line using `panel serve world_cup.ipynb --show`"
   ]
  }
 ],
 "metadata": {
  "kernelspec": {
   "display_name": "Python 3 (ipykernel)",
   "language": "python",
   "name": "python3"
  },
  "language_info": {
   "codemirror_mode": {
    "name": "ipython",
    "version": 3
   },
   "file_extension": ".py",
   "mimetype": "text/x-python",
   "name": "python",
   "nbconvert_exporter": "python",
   "pygments_lexer": "ipython3",
   "version": "3.11.9"
  }
 },
 "nbformat": 4,
 "nbformat_minor": 5
}
