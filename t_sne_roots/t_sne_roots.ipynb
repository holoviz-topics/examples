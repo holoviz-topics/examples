{
 "cells": [
  {
   "cell_type": "markdown",
   "id": "286d2e98-9f33-4e1e-bba4-f526360dfc59",
   "metadata": {},
   "source": [
    "# Interactive t-SNE ROOTS dimensionality reduction"
   ]
  },
  {
   "cell_type": "code",
   "execution_count": null,
   "id": "3d774823",
   "metadata": {},
   "outputs": [],
   "source": [
    "import pandas as pd\n",
    "import colorcet as cc\n",
    "import holoviews as hv\n",
    "import panel as pn\n",
    "\n",
    "import warnings\n",
    "warnings.filterwarnings(action=\"ignore\")\n",
    "import datashader as ds\n",
    "from holoviews.operation.datashader import rasterize\n",
    "pn.extension()\n",
    "hv.extension('bokeh')"
   ]
  },
  {
   "cell_type": "markdown",
   "id": "9deb58ad-1c26-440c-a622-80a79159102c",
   "metadata": {},
   "source": [
    "\n",
    "*Visualization of t-Distributed Stochastic Neighbor Embedding of ROOTS language Corpus.*\n",
    "\n",
    "Trained data from Christopher Akiki (dataset `cakiki/roots-tsne-data` on Hugging Face. A version of this notebook that runs color-mixing on the server-side can be found [here](./t_sne_roots_datashaded.ipynb)."
   ]
  },
  {
   "cell_type": "markdown",
   "id": "c46d5abb-2a8c-4533-9e30-9970bf20e015",
   "metadata": {},
   "source": [
    "## Load the data"
   ]
  },
  {
   "cell_type": "code",
   "execution_count": null,
   "id": "6bf4b1c8",
   "metadata": {},
   "outputs": [],
   "source": [
    "tsne_embedding = pd.read_parquet('./data/train-00000-of-00001-9a434d9cf7fd233e.parquet')\n",
    "df = pd.DataFrame(data=tsne_embedding, columns=['x','y','language'])"
   ]
  },
  {
   "cell_type": "markdown",
   "id": "d56df973-74b8-44af-a80b-cda8d304b4c6",
   "metadata": {},
   "source": [
    "## Datashade and add hover layer\n",
    "\n",
    "Note that until client-side colormixing is supported, the `datashade` operation is used with an invisible hover layer overlaid on top."
   ]
  },
  {
   "cell_type": "code",
   "execution_count": null,
   "id": "b3f9e6b7",
   "metadata": {},
   "outputs": [],
   "source": [
    "points = hv.Points(df, ['x','y'], ['language'])\n",
    "op = rasterize(points,aggregator=ds.by('language', ds.count())).opts(\n",
    "    show_legend=False, frame_width=600, aspect=1, cnorm='eq_hist', cmap=cc.glasbey_light[:47])\n",
    "hover_layer = rasterize(points, selector=ds.first(\"x\"), x_sampling=2, y_sampling=2).opts(tools=[\"hover\"], alpha=0)"
   ]
  },
  {
   "cell_type": "markdown",
   "id": "5ac2a4f4-84fa-438c-b049-0a2f678c5270",
   "metadata": {},
   "source": [
    "### Render"
   ]
  },
  {
   "cell_type": "code",
   "execution_count": null,
   "id": "b5f9f99b-afde-46d1-af64-b3a98a306bc5",
   "metadata": {},
   "outputs": [],
   "source": [
    "op  * hover_layer"
   ]
  },
  {
   "cell_type": "markdown",
   "id": "1b2ab76e-b3f4-4c15-8295-2a1285d0ef62",
   "metadata": {},
   "source": [
    "### Build a small dashboard with panel"
   ]
  },
  {
   "cell_type": "code",
   "execution_count": null,
   "id": "5bb031a1",
   "metadata": {},
   "outputs": [],
   "source": [
    "text = \"\"\"\n",
    "### Visualization of t-Distributed Stochastic Neighbor Embedding of ROOTS language Corpus. <br> Trained data from Christopher Akiki (dataset `cakiki/roots-tsne-data` on Hugging Face\n",
    "\"\"\"\n",
    "\n",
    "template = pn.template.FastListTemplate(\n",
    "    title=\"t-SNE clustering of ROOTS language corpus\"\n",
    ")\n",
    "\n",
    "template.main.append(\n",
    "    pn.Column(\n",
    "        pn.pane.Markdown(text),\n",
    "        pn.Row(pn.HSpacer(), \n",
    "               op  * hover_layer,\n",
    "               pn.HSpacer())\n",
    "    )\n",
    ")\n",
    "template.servable();"
   ]
  }
 ],
 "metadata": {
  "kernelspec": {
   "display_name": "Python 3 (ipykernel)",
   "language": "python",
   "name": "python3"
  },
  "language_info": {
   "codemirror_mode": {
    "name": "ipython",
    "version": 3
   },
   "file_extension": ".py",
   "mimetype": "text/x-python",
   "name": "python",
   "nbconvert_exporter": "python",
   "pygments_lexer": "ipython3",
   "version": "3.9.0"
  }
 },
 "nbformat": 4,
 "nbformat_minor": 5
}
