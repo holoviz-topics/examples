{
 "cells": [
  {
   "cell_type": "markdown",
   "id": "ac18470d-c893-4659-aa41-138ceec11064",
   "metadata": {},
   "source": [
    "# Gene Expression of Cell Subpopulations\n",
    "\n",
    "<img \n",
    "    src=\"./assets/gene_profiling.png\" \n",
    "    alt=\"ManifoldMap with linked selection to DotMap plot\"\n",
    "    align=\"center\" \n",
    "    style=\"border: 2px solid #ccc; border-radius: 8px; padding: 5px; width: 100%; box-shadow: 0px 4px 8px rgba(0,0,0,0.1);\">\n",
    "\n",
    "## Introduction\n",
    "Single-cell RNA sequencing (scRNA-seq) has revolutionized our understanding of tumor heterogeneity, immune microenvironments, and treatment resistance mechanisms in cancer. However, the complexity and scale of these datasets—often containing millions of cells and thousands of genes—present significant analytical challenges for cancer researchers. This workflow demonstrates how interactive visualization tools can transform the exploration of single-cell cancer data from a technical programming exercise into an intuitive visual discovery process.\n",
    "\n",
    "### Why This Matters for Cancer Research\n",
    "\n",
    "In cancer biology, understanding tumor cellular heterogeneity is crucial for:\n",
    "- **Identifying rare cell populations** that may drive metastasis or treatment resistance\n",
    "- **Characterizing tumor microenvironment interactions** between cancer cells, immune cells, and stromal cells\n",
    "- **Discovering novel therapeutic targets** through differential gene expression analysis\n",
    "- **Monitoring treatment response** at single-cell resolution to understand mechanisms of resistance\n",
    "\n",
    "This workflow showcases two complementary visualization approaches—**ManifoldMap** for exploring cellular landscapes and **DotMap** for validating cell group assignments—that when linked together, enable powerful hypothesis-driven exploration of cancer datasets.\n"
   ]
  },
  {
   "cell_type": "markdown",
   "id": "a55621d5-e0d3-4559-86fa-0595813bad67",
   "metadata": {},
   "source": [
    "## Imports and Setup"
   ]
  },
  {
   "cell_type": "code",
   "execution_count": null,
   "id": "af1d1dfc-ce17-43a7-b718-334c58283284",
   "metadata": {},
   "outputs": [],
   "source": [
    "import holoviews as hv\n",
    "import panel as pn\n",
    "import hv_anndata\n",
    "from hv_anndata import Dotmap, ManifoldMap\n",
    "import scanpy as sc\n",
    "\n",
    "hv_anndata.register()\n",
    "hv.extension(\"bokeh\")\n",
    "pn.extension('jsoneditor')"
   ]
  },
  {
   "cell_type": "markdown",
   "id": "d06858ba-2736-442a-b4f9-a57d61869aff",
   "metadata": {},
   "source": [
    "## Loading and Inspecting the Data"
   ]
  },
  {
   "cell_type": "markdown",
   "id": "f273a5fe-9b1e-43be-a280-849d659bb5ef",
   "metadata": {},
   "source": [
    "For this demonstration, we'll use a peripheral blood mononuclear cell (PBMC) sample dataset included in the scanpy package. While PBMCs are not cancer cells themselves, they represent a critical component of cancer research and are also present in tumor samples. Understanding immune cell populations is essential for things like developing CAR-T cell therapies, predicting immunotherapy response, monitoring immune reconstitution after bone marrow transplantation, and studying tumor-infiltrating lymphocytes."
   ]
  },
  {
   "cell_type": "code",
   "execution_count": null,
   "id": "5bc7a49f-c94a-4134-95a1-c1efdf73b419",
   "metadata": {},
   "outputs": [],
   "source": [
    "adata = sc.datasets.pbmc68k_reduced()\n",
    "adata"
   ]
  },
  {
   "cell_type": "markdown",
   "id": "a65ab76b-6470-4d23-9cdd-06a69c3cf9e0",
   "metadata": {},
   "source": [
    "The above output should look like the following:\n",
    "\n",
    "```bash\n",
    "AnnData object with n_obs × n_vars = 700 × 765\n",
    "    obs: 'bulk_labels', 'n_genes', 'percent_mito', 'n_counts', 'S_score', 'G2M_score', 'phase', 'louvain'\n",
    "    var: 'n_counts', 'means', 'dispersions', 'dispersions_norm', 'highly_variable'\n",
    "    uns: 'bulk_labels_colors', 'louvain', 'louvain_colors', 'neighbors', 'pca', 'rank_genes_groups'\n",
    "    obsm: 'X_pca', 'X_umap'\n",
    "    varm: 'PCs'\n",
    "    obsp: 'distances', 'connectivities'\n",
    "```\n",
    "\n",
    "\n",
    "This [AnnData](https://anndata.readthedocs.io/) object contains pre-computed dimensionality reductions (PCA, UMAP) stored in the `obsm` space. If your dataset doesn't have these, refer to the [scanpy preprocessing tutorial](https://scanpy.readthedocs.io/en/stable/tutorials/basics/clustering.html#nearest-neighbor-graph-construction-and-visualization).\n"
   ]
  },
  {
   "cell_type": "markdown",
   "id": "ec3d7bde-39ee-4469-b39b-6f362609f009",
   "metadata": {},
   "source": [
    "## Part 1: High-Dimensional Similarity Patterns with ManifoldMap\n",
    "\n",
    "The **ManifoldMap** visualization allows researchers to explore the cellular landscape of their samples through dimensionality reduction techniques like UMAP, t-SNE, or PCA. These techniques compress high-dimensional gene expression data into low-dimensional (e.g. 2D) representations that often expose cellular relationships.\n",
    "\n",
    "### Clinical Research Applications\n",
    "In the cancer research context, ManifoldMap-type of visualizations can help researchers:\n",
    "- **Identify distinct cell populations** within tumor biopsies\n",
    "- **Track clonal evolution** by visualizing genetic or transcriptomic similarities\n",
    "- **Assess treatment effects** by comparing pre- and post-treatment cellular landscapes\n",
    "- **Discover transitional cell states** that may indicate epithelial-to-mesenchymal transition (EMT)"
   ]
  },
  {
   "cell_type": "code",
   "execution_count": null,
   "id": "0891d3f0-e557-489c-8e2b-9bd8ab034a63",
   "metadata": {},
   "outputs": [],
   "source": [
    "mm = ManifoldMap(adata=adata)\n",
    "mm"
   ]
  },
  {
   "cell_type": "markdown",
   "id": "15146b07-a630-42bc-add3-944b41715690",
   "metadata": {},
   "source": [
    "### ManifoldMap widgets:\n",
    "\n",
    "- **`Reduction`**: Switch between dimensionality reduction methods to reveal different aspects of cellular relationships\n",
    "- **`X axis`, `Y axis`**: Explore different dimension combinations (in this case, PCA has several to choose from) to investigate population patterns\n",
    "- **`Color By`**: \n",
    "  - Use `Observations` to color by metadata (e.g., patient ID, treatment status, sample location)\n",
    "  - Use `Variables` to visualize gene expression (e.g., CD8A for cytotoxic T cells, PD-1 for exhausted T cells)\n",
    "- **`Colormap`**: Automatically adapts between categorical and continuous colormaps\n",
    "- **`Datashade`**: Enable [Datashader](https://datashader.org/) for large (e.g. >1M cell) datasets\n",
    "- **`Overlay Labels`**: Dynamically position cell type labels for clear visualization\n",
    "\n",
    "<div class=\"admonition alert alert-info\">\n",
    "    <p class=\"admonition-title\" style=\"font-weight:bold\">Performance Note</p>\n",
    "    For large cancer atlas datasets (>1M cells), enable Datashader to maintain interactive performance while preserving accurate density patterns.\n",
    "</div>\n"
   ]
  },
  {
   "cell_type": "markdown",
   "id": "38f9c286-1269-46db-9461-9795eb73bdfe",
   "metadata": {},
   "source": [
    "---\n",
    "<img \n",
    "    src=\"./assets/mm_first_look.png\"  \n",
    "    alt=\"Static Preview ManifoldMap\" \n",
    "    align=\"right\" \n",
    "    width=\"80%\">\n",
    "\n",
    "**Here's a static snapshot of what the previous cell produces in a live notebook. 👉**\n",
    "\n",
    "<div style=\"clear: both;\"></div>\n",
    "\n",
    "---"
   ]
  },
  {
   "cell_type": "markdown",
   "id": "3ce71102-90e6-4e8f-b88e-d352526a549e",
   "metadata": {},
   "source": [
    "## Part 2: Validating Cell-Groupings with Dotmap\n",
    "\n",
    "While dimensionality reduction reveals similarity structure between cellular populations based on high-dimensional measurements, dotmap (or 'dotplot') visualizations are common and complementary tool for validating cell groupings using **`marker_genes`** that are known to be associated with, e.g. a particular cell-type, biological function, or cancer. This is critical in cancer research for:\n",
    "- **Confirming immune cell subtypes** for immunotherapy applications\n",
    "- **Identifying cancer stem cells** using 'stemness' markers\n",
    "- **Detecting metastatic cells** through epithelial/mesenchymal markers\n",
    "- **Characterizing the tumor microenvironment** composition\n",
    "\n",
    "### Understanding Marker Gene Selection\n",
    "\n",
    "In cancer research, marker genes are selected based on:\n",
    "1. **Literature-validated markers** for specific cell types (e.g. [PanglaoDB](https://panglaodb.se/), [Annotation of cell types (ACT)](http://xteam.xbio.top/ACT/))\n",
    "2. **Tissue-specific expression patterns** relevant to the tumor type\n",
    "3. **Therapeutic relevance** (e.g., immune checkpoint molecules, drug targets)\n",
    "4. **Differential Expression** analysis on the result of clustering the dataset (e.g. with scanpy's `rank_genes_groups`)\n",
    "\n",
    "\n",
    "Let's start by creatign a Dotmap with example marker genes relevant to **cancer immunotherapy**, grouping the cells by their `bulk_labels`:\n",
    "\n",
    "\n",
    "<div class=\"admonition alert alert-info\">\n",
    "    <p class=\"admonition-title\" style=\"font-weight:bold\">Marker Gene Input Note</p>\n",
    "    Marker gene input should be a list or dict (in the case of grouped genes), which are a subset from the list of genes included in the dataset, which can be accessed with `adata.var_names`. If we pass a grouped genes dict, then we'll get an extra `Active Group` widget to customize the grouping.\n",
    "</div>\n",
    "\n"
   ]
  },
  {
   "cell_type": "code",
   "execution_count": null,
   "id": "10687812-0ee2-46bd-a03c-078093169862",
   "metadata": {},
   "outputs": [],
   "source": [
    "immuno_mgenes = {\n",
    "    'T-cell Core': ['CD247', 'CD3D', 'CD3E'],  # Pan T-cell markers\n",
    "    'Cytotoxic': [\"GNLY\", \"NKG7\", \"PRF1\", \"GZMB\"],  # Cytotoxic function\n",
    "    'Myeloid': [\"FCER1G\", \"TYROBP\", \"KLRG1\", \"FCGR3A\"]  # Myeloid lineage\n",
    "}\n",
    "\n",
    "immuno_dm = Dotmap(\n",
    "    adata=adata,\n",
    "    marker_genes=immuno_mgenes,\n",
    "    groupby='bulk_labels'\n",
    ")\n",
    "immuno_dm"
   ]
  },
  {
   "cell_type": "markdown",
   "id": "4f0ebe7d-9b8f-45a7-b524-8ee7b9417830",
   "metadata": {},
   "source": [
    "---\n",
    "<img \n",
    "    src=\"./assets/dm_immuno.png\"  \n",
    "    alt=\"Static Preview DotMap plot with immuno markers\" \n",
    "    align=\"right\" \n",
    "    width=\"80%\">\n",
    "\n",
    "**Here's a static snapshot of what the previous cell produces in a live notebook 👉**\n",
    "\n",
    "<div style=\"clear: both;\"></div>\n",
    "\n",
    "---"
   ]
  },
  {
   "cell_type": "markdown",
   "id": "bea98da6-7ae7-4573-8d8e-3fa46d546318",
   "metadata": {},
   "source": [
    "### Deriving Marker Genes From Data\n",
    "\n",
    "An alternative to curating known marker genes is to derive the most differentially expressed genes per cell-grouping/cluster. For this, we can use scanpy:"
   ]
  },
  {
   "cell_type": "code",
   "execution_count": null,
   "id": "37ce8435-b833-49ae-b169-889c08f7eb29",
   "metadata": {},
   "outputs": [],
   "source": [
    "sc.tl.rank_genes_groups(adata, groupby=\"bulk_labels\", method=\"wilcoxon\")"
   ]
  },
  {
   "cell_type": "markdown",
   "id": "3bfc9c18-c4c6-4d9a-8a77-5ce2e397eb9c",
   "metadata": {},
   "source": [
    "Now collect the top 2 differentially expressed marker_genes per group:"
   ]
  },
  {
   "cell_type": "code",
   "execution_count": null,
   "id": "b7990ab8-6a29-492b-8f67-094358ace158",
   "metadata": {},
   "outputs": [],
   "source": [
    "names_data = adata.uns[\"rank_genes_groups\"][\"names\"]\n",
    "top_n = 2\n",
    "de_mgenes = {}\n",
    "for key in names_data.dtype.names:\n",
    "    de_mgenes[key] = [str(gene) for gene in names_data[key][:top_n]]\n",
    "de_mgenes"
   ]
  },
  {
   "cell_type": "code",
   "execution_count": null,
   "id": "038ddf96-1acc-4cb1-a259-2509a69b3232",
   "metadata": {},
   "outputs": [],
   "source": [
    "de_dm = Dotmap(\n",
    "    adata=adata,\n",
    "    marker_genes=de_mgenes,\n",
    "    groupby='bulk_labels'\n",
    ")\n",
    "de_dm"
   ]
  },
  {
   "cell_type": "markdown",
   "id": "967e67f6-5191-4adf-a49b-48ea832c863c",
   "metadata": {},
   "source": [
    "---\n",
    "<img \n",
    "    src=\"./assets/de_dm.png\"  \n",
    "    alt=\"Static Preview DotMap plot with de markers\" \n",
    "    align=\"right\" \n",
    "    width=\"80%\">\n",
    "\n",
    "**Here's a static snapshot of what the previous cell produces in a live notebook 👉**\n",
    "\n",
    "<div style=\"clear: both;\"></div>\n",
    "\n",
    "---"
   ]
  },
  {
   "cell_type": "markdown",
   "id": "0937d7b7-e93d-4372-a69a-e13a223f544b",
   "metadata": {},
   "source": [
    "That looks great! Now let's play with the widgets...\n",
    "\n",
    "## Dotmap Widget UI\n",
    "Here's an overview on the functionality for editing the included genes from the dotmap widget set:\n",
    "- **`Active Group `**: Will appear if 'marker_genes' was as a dict. This widget allows for switching between the gene groupings for the following widget updates.\n",
    "- **`New Marker Gene`**: Textual input field to add another gene (from the list of `adata.var_names`) to be included in the `Active Group`. Adding a gene will update the plot.\n",
    "- **`Selected Group Marker Genes`**: Use this widget to remove genes from this, either with the 'X' on each pill or via unselecting in the dropdown menu.\n",
    "- **`JSON Editor`**: View the included genes in a dropdown form. It is also possible to edit the genes directly from this widget, although we recommend using one of the above widgets for editing.\n",
    "\n",
    "\n",
    "<div class=\"admonition alert alert-info\">\n",
    "    <p class=\"admonition-title\" style=\"font-weight:bold\">Available Genes Note</p>\n",
    "    You can programmatically access the full list of available genes in this dataset with 'list(adata.var_names))'\n",
    "</div>"
   ]
  },
  {
   "attachments": {},
   "cell_type": "markdown",
   "id": "4e47e23a-ed7a-401d-8cf2-56e15588d5f6",
   "metadata": {},
   "source": [
    "## Part 3: Linked Analysis for Subpopulation Discovery\n",
    "\n",
    "The true power of this workflow emerges when linking ManifoldMap and DotMap visualizations. This approach mirrors the analytical process cancer researchers use when investigating heterogeneous tumor samples.\n",
    "\n",
    "Imagine you're studying a tumor sample after immunotherapy treatment. You observe an unusual cluster of cells in the UMAP ManifoldMap that might represent:\n",
    "- Treatment-resistant cancer cells\n",
    "- Exhausted T cells\n",
    "- Myeloid-derived suppressor cells (MDSCs)\n",
    "- Cancer-associated fibroblasts (CAFs)\n",
    "\n",
    "By linking the user-selection of points from ManifoldMap to the DotMap visualization, you can immediately see the gene expression profile of these mysterious cells for the set of disambiguating marker genes.\n",
    "\n",
    "Let's take a look at a demonstration of this linking functionality. First, we need to create a instance of HoloViews' `link_selections` and pass it to our new instance of `ManifoldMap`. Then we can generate a DotMap using `Dotmap.from_manifold_map`, and pass it the shared `link_selections` instance. We finish by laying out the two linked plots in a HoloViz Panel `Column`. \n",
    "\n",
    "Go ahead and click one of the selection tools from the Bokeh sidebar on the far right, then draw on the ManifoldMap to apply a selection filter that will get applied to linked dotmap."
   ]
  },
  {
   "cell_type": "code",
   "execution_count": null,
   "id": "2a69e4ec-51c7-40e6-9e62-c6c84389474f",
   "metadata": {},
   "outputs": [],
   "source": [
    "# Create linked selection instance\n",
    "ls = hv.link_selections.instance()\n",
    "\n",
    "# ManifoldMap with linking enabled\n",
    "ls_mm = ManifoldMap(\n",
    "    adata=adata,\n",
    "    datashade=False,\n",
    "    ls=ls, # key input for linking\n",
    "    reduction='X_umap',\n",
    ")\n",
    "\n",
    "# DotMap automatically linked to ManifoldMap selections\n",
    "ls_dm = Dotmap.from_manifold_map( # special method for linking\n",
    "    mm=ls_mm, # key input for linking\n",
    "    marker_genes=immuno_mgenes, # immunotherapy markers\n",
    "    groupby=\"bulk_labels\",\n",
    "    ls=ls,\n",
    ")\n",
    "\n",
    "# Marked as .servable to optionally serve as standalone app with `panel serve <file>`\n",
    "pn.Column(ls_mm, ls_dm).servable() "
   ]
  },
  {
   "cell_type": "markdown",
   "id": "8418bc67-305e-49a1-95b0-ee70fd303bb5",
   "metadata": {},
   "source": [
    "---\n",
    "<img \n",
    "    src=\"./assets/mm_dm_ls_box.png\"  \n",
    "    alt=\"Static Preview ManifoldMap and DotMap plot with linked selections\" \n",
    "    align=\"right\" \n",
    "    width=\"80%\">\n",
    "\n",
    "**Here's a static snapshot of what the previous cell produces in a live notebook after using the 'Box Select' tool from the right sidebar to select points in the ManifoldMap. You could also use the 'Lasso-Select' tool to free-hand trace a selection area 👉**\n",
    "\n",
    "<div style=\"clear: both;\"></div>\n",
    "\n",
    "---"
   ]
  },
  {
   "cell_type": "markdown",
   "id": "2582625c-7c00-4c18-bcc2-a988566d3380",
   "metadata": {},
   "source": [
    "### Interactive Discovery Workflow\n",
    "\n",
    "1. **Identify interesting cell clusters** in the ManifoldMap using visual patterns\n",
    "2. **Select cells** using Box Select or Lasso tools\n",
    "3. **Observe marker expression** instantly updated in the linked DotMap\n",
    "4. **Refine hypotheses** by updating the marker genes"
   ]
  },
  {
   "cell_type": "markdown",
   "id": "5e1bc724-dcd2-4b82-b9fb-6ec838a48676",
   "metadata": {},
   "source": [
    "## Acknowledgments\n",
    "\n",
    "The functionality demonstrated in this workflow was developed in part with funding from NIH-NCI."
   ]
  },
  {
   "cell_type": "code",
   "execution_count": null,
   "id": "74ee7430-36c0-49b8-9569-f3ca71526437",
   "metadata": {},
   "outputs": [],
   "source": []
  }
 ],
 "metadata": {
  "kernelspec": {
   "display_name": "Python 3 (ipykernel)",
   "language": "python",
   "name": "python3"
  },
  "language_info": {
   "codemirror_mode": {
    "name": "ipython",
    "version": 3
   },
   "file_extension": ".py",
   "mimetype": "text/x-python",
   "name": "python",
   "nbconvert_exporter": "python",
   "pygments_lexer": "ipython3",
   "version": "3.11.13"
  }
 },
 "nbformat": 4,
 "nbformat_minor": 5
}
