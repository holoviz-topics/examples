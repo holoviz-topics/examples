{
 "cells": [
  {
   "cell_type": "markdown",
   "id": "bdc3cdec",
   "metadata": {},
   "source": [
    "# Template"
   ]
  },
  {
   "cell_type": "markdown",
   "id": "3bde5ed6",
   "metadata": {},
   "source": [
    "This is the template project. Its very first content must be a Markdown header (e.g. `# My title`) and should be short and close to the project name."
   ]
  },
  {
   "cell_type": "code",
   "execution_count": null,
   "id": "884fad20",
   "metadata": {},
   "outputs": [],
   "source": [
    "import hvplot.pandas  # noqa\\n\"\n",
    "import pandas as pd\n",
    "import panel as pn\n"
   ]
  },
  {
   "cell_type": "markdown",
   "id": "171d2421",
   "metadata": {},
   "source": [
    "## Data loading\n",
    "\n",
    "Loading some data."
   ]
  },
  {
   "cell_type": "code",
   "execution_count": null,
   "id": "89e3186e",
   "metadata": {},
   "outputs": [],
   "source": [
    "df = pd.read_csv('data/athlete_events.csv')\n",
    "df.head(100)"
   ]
  },
  {
   "cell_type": "markdown",
   "id": "5b2018bb",
   "metadata": {},
   "source": [
    "## Analysis"
   ]
  },
  {
   "cell_type": "markdown",
   "id": "0ef9aa53",
   "metadata": {},
   "source": [
    "Creating an interactive pipeline."
   ]
  },
  {
   "cell_type": "code",
   "execution_count": null,
   "id": "b1977f4c",
   "metadata": {},
   "outputs": [],
   "source": [
    "df = df.dropna(subset=[\"Weight\", \"Height\"])"
   ]
  },
  {
   "cell_type": "code",
   "execution_count": null,
   "id": "5786c4f5",
   "metadata": {},
   "outputs": [],
   "source": [
    "avg_height_by_sport = df.groupby('Sport')['Height'].mean()\n",
    "avg_height_by_sport.sort_values(inplace=True)\n",
    "avg_height_by_sport.head()"
   ]
  },
  {
   "cell_type": "code",
   "execution_count": null,
   "id": "82f985b4",
   "metadata": {},
   "outputs": [],
   "source": [
    "bar = avg_height_by_sport.hvplot.barh(by='Sport', stacked=True, height=600)\n",
    "txt = avg_height_by_sport.hvplot.labels(\"Sport\", \"Height\", \"{Height:.0f} cm\", invert=True, text_align=\"left\", text_baseline=\"middle\", text_color=\"darkred\")\n",
    "bar_sel = bar.select(Sport=[\"Basketball\", \"Gymnastics\"]).opts(fill_color=\"darkred\")\n",
    "(bar * bar_sel * txt.select(Sport=[\"Basketball\", \"Gymnastics\"])).opts(title=\"Average Height of each Olympic Sport, a 28 cm difference\")"
   ]
  },
  {
   "cell_type": "code",
   "execution_count": null,
   "id": "97e655ea",
   "metadata": {},
   "outputs": [],
   "source": [
    "avg_basketball_height = df[df[\"Sport\"] == \"Basketball\"].groupby(\"Year\").mean()\n",
    "avg_gymnastics_height = df[df[\"Sport\"] == \"Gymnastics\"].groupby(\"Year\").mean()\n",
    "avg_height_diff = avg_basketball_height[\"Height\"] - avg_gymnastics_height[\"Height\"]\n",
    "avg_height_diff.hvplot.line()\n"
   ]
  },
  {
   "cell_type": "code",
   "execution_count": null,
   "id": "602dc692",
   "metadata": {},
   "outputs": [],
   "source": [
    "df = df.sort_values(\"Year\")\n",
    "df.hvplot(\"Year\", \"Height\", groupby=[\"Medal\", \"Sport\"])\n"
   ]
  },
  {
   "cell_type": "code",
   "execution_count": null,
   "id": "d3d007fc",
   "metadata": {},
   "outputs": [],
   "source": [
    "df.hvplot(\"Year\", \"Weight\", groupby=[\"Medal\", \"Sport\"])\n"
   ]
  },
  {
   "cell_type": "code",
   "execution_count": null,
   "id": "4077d0a8",
   "metadata": {},
   "outputs": [],
   "source": [
    "df.hvplot(\"Year\", \"Weight\", groupby=[\"Medal\", \"Event\"])\n"
   ]
  },
  {
   "cell_type": "code",
   "execution_count": null,
   "id": "ed9098bc",
   "metadata": {},
   "outputs": [],
   "source": [
    "medalist_avg = df[df[\"Medal\"].notna()].groupby([\"Year\", \"Event\"]).mean()\n",
    "not_medalist_avg = df[df[\"Medal\"].isna()].groupby([\"Year\", \"Event\"]).mean()\n",
    "\n",
    "height_medalist_plot = medalist_avg.hvplot.line(x=\"Year\", y=\"Height\", groupby=[\"Event\"], label='Medalist')\n",
    "height_not_medalist_plot = not_medalist_avg.hvplot.line(x=\"Year\", y=\"Height\", groupby=[\"Event\"], color=\"red\", label='Non-Medalist')\n",
    "height_plot = (height_medalist_plot * height_not_medalist_plot).opts(title=\"Height\", legend_position=\"bottom_right\", x_range=(1880, 2000))\n",
    "\n",
    "weight_medalist_plot = medalist_avg.hvplot.line(x=\"Year\", y=\"Weight\", groupby=[\"Event\"], label='Medalist')\n",
    "weight_not_medalist_plot = not_medalist_avg.hvplot.line(x=\"Year\", y=\"Weight\", groupby=[\"Event\"], color=\"red\", label='Non-Medalist')\n",
    "weight_plot = (weight_medalist_plot * weight_not_medalist_plot).opts(title=\"Weight\", legend_position=\"bottom_right\", x_range=(1880, 2000))\n",
    "\n",
    "\n",
    "combined_plots.cols(1)"
   ]
  }
 ],
 "metadata": {
  "kernelspec": {
   "display_name": "Python 3 (ipykernel)",
   "language": "python",
   "name": "python3"
  },
  "language_info": {
   "codemirror_mode": {
    "name": "ipython",
    "version": 3
   },
   "file_extension": ".py",
   "mimetype": "text/x-python",
   "name": "python",
   "nbconvert_exporter": "python",
   "pygments_lexer": "ipython3",
   "version": "3.9.0"
  }
 },
 "nbformat": 4,
 "nbformat_minor": 5
}
