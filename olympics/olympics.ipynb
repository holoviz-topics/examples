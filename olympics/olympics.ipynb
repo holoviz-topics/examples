{
 "cells": [
  {
   "cell_type": "markdown",
   "id": "bdc3cdec",
   "metadata": {},
   "source": [
    "# Olympics"
   ]
  },
  {
   "cell_type": "markdown",
   "id": "3bde5ed6",
   "metadata": {},
   "source": [
    "In this example, we will be exploring the weights and heights of olympic athletes by using hvplot and pandas."
   ]
  },
  {
   "cell_type": "code",
   "execution_count": null,
   "id": "884fad20",
   "metadata": {},
   "outputs": [],
   "source": [
    "import hvplot.pandas  # noqa\\n\"\n",
    "import pandas as pd\n",
    "    "
   ]
  },
  {
   "cell_type": "markdown",
   "id": "171d2421",
   "metadata": {},
   "source": [
    "## Data loading\n",
    "\n",
    "First, we will load in the data."
   ]
  },
  {
   "cell_type": "code",
   "execution_count": null,
   "id": "89e3186e",
   "metadata": {},
   "outputs": [],
   "source": [
    "df = pd.read_csv('https://media.githubusercontent.com/media/srungta/120-years-of-olympics/master/data/athlete_events.csv')\n",
    "df.head()"
   ]
  },
  {
   "cell_type": "markdown",
   "id": "5b2018bb",
   "metadata": {},
   "source": [
    "## Analysis"
   ]
  },
  {
   "cell_type": "markdown",
   "id": "0ef9aa53",
   "metadata": {},
   "source": [
    "Since we are focusing on the weight and height columns of our dataset, let's remove any NaN values that are in those columns."
   ]
  },
  {
   "cell_type": "code",
   "execution_count": null,
   "id": "b1977f4c",
   "metadata": {},
   "outputs": [],
   "source": [
    "df = df.dropna(subset=[\"Weight\", \"Height\"])"
   ]
  },
  {
   "cell_type": "markdown",
   "id": "4a802c22",
   "metadata": {},
   "source": [
    "One of the first things to look at is the the average height of each sport. "
   ]
  },
  {
   "cell_type": "code",
   "execution_count": null,
   "id": "5786c4f5",
   "metadata": {},
   "outputs": [],
   "source": [
    "avg_height_by_sport = df.groupby('Sport')['Height'].mean()\n",
    "avg_height_by_sport.sort_values(inplace=True)\n",
    "avg_height_by_sport.head()"
   ]
  },
  {
   "cell_type": "markdown",
   "id": "93367f84",
   "metadata": {},
   "source": [
    "Using hvplot, we can create a horizontal bar chart by using `.hvplot.barh`. Then we add labels to our chart and select the basketball and gymnastics as they have the highest and lowest heights. We finally combine everything by overlaying the chart, labels, and select together to create our chart through the use of `*` operator."
   ]
  },
  {
   "cell_type": "code",
   "execution_count": null,
   "id": "82f985b4",
   "metadata": {},
   "outputs": [],
   "source": [
    "bar = avg_height_by_sport.hvplot.barh(by='Sport', stacked=True, height=600)\n",
    "txt = avg_height_by_sport.hvplot.labels(\"Sport\", \"Height\", \"{Height:.0f} cm\", invert=True, text_align=\"left\", text_baseline=\"middle\", text_color=\"darkred\")\n",
    "bar_sel = bar.select(Sport=[\"Basketball\", \"Gymnastics\"]).opts(fill_color=\"darkred\")\n",
    "(bar * bar_sel * txt.select(Sport=[\"Basketball\", \"Gymnastics\"])).opts(title=\"Average Height of each Olympic Sport, a 28 cm difference\")"
   ]
  },
  {
   "cell_type": "markdown",
   "id": "3412b2d0",
   "metadata": {},
   "source": [
    "We can also create a line plot between differnece the average heights of basketball and gymanstic olympians for each year. It's interesting to see that the difference has been growing wider with it peaking at 1992. "
   ]
  },
  {
   "cell_type": "code",
   "execution_count": null,
   "id": "97e655ea",
   "metadata": {},
   "outputs": [],
   "source": [
    "avg_basketball_height = df[df[\"Sport\"] == \"Basketball\"].groupby(\"Year\")[\"Height\"].mean()\n",
    "avg_gymnastics_height = df[df[\"Sport\"] == \"Gymnastics\"].groupby(\"Year\")[\"Height\"].mean()\n",
    "avg_height_diff = avg_basketball_height - avg_gymnastics_height\n",
    "avg_height_diff.hvplot.line()\n"
   ]
  },
  {
   "cell_type": "markdown",
   "id": "a5ab6dd1",
   "metadata": {},
   "source": [
    "We can also take a look at the height and weights at the same time for each medal and sport combination. We were able to overlay the plot earlier using `*` but we can also arrange the two plots together using `+`. To make them vertical we use `.cols(1)`.\n",
    "\n",
    "Note that the medal defaults to \"nan\" which won't display any data on the graphs, so it needs to be changed to something else. "
   ]
  },
  {
   "cell_type": "code",
   "execution_count": null,
   "id": "602dc692",
   "metadata": {},
   "outputs": [],
   "source": [
    "df = df.sort_values(\"Year\")\n",
    "height_plot = df.hvplot(\"Year\", \"Height\", groupby=[\"Medal\", \"Sport\"])\n",
    "weight_plot = df.hvplot(\"Year\", \"Weight\", groupby=[\"Medal\", \"Sport\"])\n",
    "combined_plots = height_plot + weight_plot\n",
    "combined_plots.cols(1)"
   ]
  },
  {
   "cell_type": "markdown",
   "id": "0cf6a8ba",
   "metadata": {},
   "source": [
    "We can further narrow down the data by looking at specific events instead of sports. "
   ]
  },
  {
   "cell_type": "code",
   "execution_count": null,
   "id": "4077d0a8",
   "metadata": {},
   "outputs": [],
   "source": [
    "df.hvplot(\"Year\", \"Weight\", groupby=[\"Medal\", \"Event\"])\n"
   ]
  },
  {
   "cell_type": "markdown",
   "id": "8cca1882",
   "metadata": {},
   "source": [
    "We can even take a step further by looking at the difference in weight and height between medalists and non-medalists. First, we will separate the data by having the averages of medalists and non-medalists. We use the `*` operator to overlay the medalists and non-medalists data for both the height and weight plots. Then we use the `+` operator to arrange the two plots. \n",
    "\n",
    "This gives us very interesting graphs as we can see there is a distinct difference of height and weight between medalists and non-medalists of the athletics men's 100 metres event."
   ]
  },
  {
   "cell_type": "code",
   "execution_count": null,
   "id": "ed9098bc",
   "metadata": {
    "scrolled": true
   },
   "outputs": [],
   "source": [
    "medalist_avg = df[df[\"Medal\"].notna()].groupby([\"Year\", \"Event\"]).agg({\"Height\": \"mean\", \"Weight\": \"mean\"})\n",
    "not_medalist_avg = df[df[\"Medal\"].isna()].groupby([\"Year\", \"Event\"]).agg({\"Height\": \"mean\", \"Weight\": \"mean\"})\n",
    "\n",
    "height_medalist_plot = medalist_avg.hvplot.line(x=\"Year\", y=\"Height\", groupby=[\"Event\"], label='Medalist')\n",
    "height_not_medalist_plot = not_medalist_avg.hvplot.line(x=\"Year\", y=\"Height\", groupby=[\"Event\"], color=\"red\", label='Non-Medalist')\n",
    "height_plot = (height_medalist_plot * height_not_medalist_plot).opts(title=\"Height\", legend_position=\"bottom_right\")\n",
    "\n",
    "weight_medalist_plot = medalist_avg.hvplot.line(x=\"Year\", y=\"Weight\", groupby=[\"Event\"], label='Medalist')\n",
    "weight_not_medalist_plot = not_medalist_avg.hvplot.line(x=\"Year\", y=\"Weight\", groupby=[\"Event\"], color=\"red\", label='Non-Medalist')\n",
    "weight_plot = (weight_medalist_plot * weight_not_medalist_plot).opts(title=\"Weight\", legend_position=\"bottom_right\")\n",
    "weight_plot\n",
    "\n",
    "combined_plots = height_plot + weight_plot\n",
    "\n",
    "combined_plots.cols(1)"
   ]
  }
 ],
 "metadata": {
  "kernelspec": {
   "display_name": "Python 3 (ipykernel)",
   "language": "python",
   "name": "python3"
  },
  "language_info": {
   "codemirror_mode": {
    "name": "ipython",
    "version": 3
   },
   "file_extension": ".py",
   "mimetype": "text/x-python",
   "name": "python",
   "nbconvert_exporter": "python",
   "pygments_lexer": "ipython3",
   "version": "3.11.8"
  }
 },
 "nbformat": 4,
 "nbformat_minor": 5
}
