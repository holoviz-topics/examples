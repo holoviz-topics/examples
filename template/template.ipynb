{
 "cells": [
  {
   "cell_type": "markdown",
   "id": "bdc3cdec",
   "metadata": {},
   "source": [
    "# Template"
   ]
  },
  {
   "cell_type": "markdown",
   "id": "3bde5ed6",
   "metadata": {},
   "source": [
    "This is the template project. Its very first content must be a Markdown header (e.g. `# My title`) and should be short and close to the project name."
   ]
  },
  {
   "cell_type": "code",
   "execution_count": null,
   "id": "884fad20",
   "metadata": {},
   "outputs": [],
   "source": [
    "import hvplot.pandas  # noqa\n",
    "import pandas as pd\n",
    "import panel as pn"
   ]
  },
  {
   "cell_type": "markdown",
   "id": "171d2421",
   "metadata": {},
   "source": [
    "## Data loading\n",
    "\n",
    "Loading some data."
   ]
  },
  {
   "cell_type": "code",
   "execution_count": null,
   "id": "89e3186e",
   "metadata": {},
   "outputs": [],
   "source": [
    "df = pd.read_csv('data/penguins.csv')\n",
    "df.head()"
   ]
  },
  {
   "cell_type": "markdown",
   "id": "5b2018bb",
   "metadata": {},
   "source": [
    "## Analysis"
   ]
  },
  {
   "cell_type": "markdown",
   "id": "0ef9aa53",
   "metadata": {},
   "source": [
    "Creating an interactive pipeline."
   ]
  },
  {
   "cell_type": "code",
   "execution_count": null,
   "id": "80d05a6e",
   "metadata": {},
   "outputs": [],
   "source": [
    "dfi = df.interactive()"
   ]
  },
  {
   "cell_type": "code",
   "execution_count": null,
   "id": "5786c4f5",
   "metadata": {},
   "outputs": [],
   "source": [
    "w_island = pn.widgets.Select(options=list(df['island'].unique()))"
   ]
  },
  {
   "cell_type": "code",
   "execution_count": null,
   "id": "82f985b4",
   "metadata": {},
   "outputs": [],
   "source": [
    "pipeline = (\n",
    "    dfi[dfi['island'] == w_island]\n",
    "    .hvplot\n",
    "    .scatter(x='bill_length_mm', y='bill_depth_mm', by='species', width=400)\n",
    ")\n",
    "pipeline"
   ]
  },
  {
   "cell_type": "markdown",
   "id": "6ecedfa6",
   "metadata": {},
   "source": [
    "## Panel app\n",
    "\n",
    "When the full application is not meant to be displayed in the notebook, or when it is known to affect the notebook's CSS (as in this case wrapping it in a template), it is useful to suppress the cell output with `;`."
   ]
  },
  {
   "cell_type": "code",
   "execution_count": null,
   "id": "0bb368c2",
   "metadata": {},
   "outputs": [],
   "source": [
    "pn.template.FastListTemplate(\n",
    "    sidebar=[pipeline.widgets()],\n",
    "    main=[pipeline.panel()],\n",
    "    title='Template Application'\n",
    ").servable();"
   ]
  }
 ],
 "metadata": {
  "kernelspec": {
   "display_name": "Python 3 (ipykernel)",
   "language": "python",
   "name": "python3"
  },
  "language_info": {
   "codemirror_mode": {
    "name": "ipython",
    "version": 3
   },
   "file_extension": ".py",
   "mimetype": "text/x-python",
   "name": "python",
   "nbconvert_exporter": "python",
   "pygments_lexer": "ipython3",
   "version": "3.9.0"
  }
 },
 "nbformat": 4,
 "nbformat_minor": 5
}
