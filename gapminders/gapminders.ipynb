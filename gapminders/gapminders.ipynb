{
 "cells": [
  {
   "cell_type": "markdown",
   "metadata": {},
   "source": [
    "# Gapminders"
   ]
  },
  {
   "cell_type": "markdown",
   "metadata": {},
   "source": [
    "In his Gapminder example during thes 2006 TED Talk, Hans Rosling debunked stereotypes about developed and undeveloped countries using statistics and data visualization, revealing the nuanced reality of global development. We will be recreating this example using four different plotting libraries ([Matplotlib](https://matplotlib.org/), [Plotly](https://plotly.com/), [Vega-Altair](https://altair-viz.github.io/), [hvPlot](https://hvplot.holoviz.org/), which will be controlled by widgets from [Panel](https://panel.holoviz.org/).\n",
    "\n",
    "<img src=\"./assets/dashboard.png\" alt=\"Gapminder app with 4 plots\" />"
   ]
  },
  {
   "cell_type": "markdown",
   "metadata": {},
   "source": [
    "We'll being by importing the packages needed."
   ]
  },
  {
   "cell_type": "code",
   "execution_count": null,
   "metadata": {},
   "outputs": [],
   "source": [
    "import numpy as np \n",
    "import pandas as pd\n",
    "import panel as pn\n",
    "\n",
    "import altair as alt\n",
    "import plotly.graph_objs as go\n",
    "import plotly.io as pio\n",
    "import matplotlib.pyplot as plt\n",
    "import matplotlib as mpl\n",
    "import hvplot.pandas  # noqa\n",
    "import warnings\n",
    "\n",
    "warnings.simplefilter('ignore')\n",
    "pn.extension('vega', 'plotly', defer_load=True, sizing_mode=\"stretch_width\")\n",
    "mpl.use('agg')"
   ]
  },
  {
   "cell_type": "markdown",
   "metadata": {},
   "source": [
    "Let's also define some constant variables for our plots."
   ]
  },
  {
   "cell_type": "code",
   "execution_count": null,
   "metadata": {},
   "outputs": [],
   "source": [
    "XLABEL = 'GDP per capita (2000 dollars)'\n",
    "YLABEL = 'Life expectancy (years)'\n",
    "YLIM = (20, 90)\n",
    "HEIGHT=500 # pixels\n",
    "WIDTH=500 # pixels\n",
    "ACCENT=\"#D397F8\"\n",
    "PERIOD = 1000 # miliseconds"
   ]
  },
  {
   "cell_type": "markdown",
   "metadata": {},
   "source": [
    "## Extract the dataset\n",
    "\n",
    "First, we'll get the data into a Pandas dataframe. We use the [built in `cache`](https://panel.holoviz.org/user_guide/Performance_and_Debugging.html#caching) to speed up the app."
   ]
  },
  {
   "cell_type": "code",
   "execution_count": null,
   "metadata": {},
   "outputs": [],
   "source": [
    "@pn.cache\n",
    "def get_dataset():\n",
    "    url = 'https://raw.githubusercontent.com/plotly/datasets/master/gapminderDataFiveYear.csv'\n",
    "    return pd.read_csv(url)"
   ]
  },
  {
   "cell_type": "code",
   "execution_count": null,
   "metadata": {},
   "outputs": [],
   "source": [
    "dataset = get_dataset()\n",
    "dataset.sample(10)"
   ]
  },
  {
   "cell_type": "markdown",
   "metadata": {},
   "source": [
    "We'll also create a constant variable `YEARS` containing all the unique years in our dataset."
   ]
  },
  {
   "cell_type": "code",
   "execution_count": null,
   "metadata": {},
   "outputs": [],
   "source": [
    "YEARS = [int(year) for year in dataset.year.unique()]\n",
    "YEARS"
   ]
  },
  {
   "cell_type": "markdown",
   "metadata": {},
   "source": [
    "## Transform the dataset to plots\n",
    "\n",
    "Now let's define helper functions and functions to plot this dataset with Matplotlib, Plotly, Altair, and hvPlot (using HoloViews and Bokeh)."
   ]
  },
  {
   "cell_type": "code",
   "execution_count": null,
   "metadata": {},
   "outputs": [],
   "source": [
    "@pn.cache\n",
    "def get_data(year):\n",
    "    df = dataset[(dataset.year==year) & (dataset.gdpPercap < 10000)].copy()\n",
    "    df['size'] = np.sqrt(df['pop']*2.666051223553066e-05)\n",
    "    df['size_hvplot'] = df['size']*6\n",
    "    return df\n",
    "\n",
    "def get_title(library, year):\n",
    "    return f\"{library}: Life expectancy vs. GDP, {year}\"\n",
    "\n",
    "def get_xlim(data):\n",
    "    return (dataset['gdpPercap'].min()-100, dataset[dataset['gdpPercap'] < 10000].max()['gdpPercap']+1000)"
   ]
  },
  {
   "cell_type": "markdown",
   "metadata": {},
   "source": [
    "Let's define the **Matplotlib** plotting function."
   ]
  },
  {
   "cell_type": "code",
   "execution_count": null,
   "metadata": {},
   "outputs": [],
   "source": [
    "@pn.cache\n",
    "\n",
    "# plt.rcParams.update({\n",
    "#     \"savefig.facecolor\": (0.0, 0.0, 0.0, 0.0), \n",
    "# })\n",
    "\n",
    "\n",
    "def mpl_view(year=1952, show_legend=True):\n",
    "    data = get_data(year)\n",
    "    title = get_title(\"Matplotlib\", year)\n",
    "    xlim = get_xlim(data)\n",
    "\n",
    "    plot = plt.figure(figsize=(10, 8), facecolor=(0, 0, 0, 0))\n",
    "    ax = plot.add_subplot(111)\n",
    "    ax.set_xscale(\"log\")\n",
    "    ax.set_title(title)\n",
    "    ax.set_xlabel(XLABEL)\n",
    "    ax.set_ylabel(YLABEL)\n",
    "    ax.set_ylim(YLIM)\n",
    "    ax.set_xlim(xlim)\n",
    "\n",
    "    for continent, df in data.groupby('continent'):\n",
    "        ax.scatter(df.gdpPercap, y=df.lifeExp, s=df['size']*5,\n",
    "                   edgecolor='black', label=continent)\n",
    "\n",
    "    if show_legend:\n",
    "        ax.legend(loc=4)\n",
    "\n",
    "    plt.close(plot)\n",
    "    return plot\n",
    "\n",
    "mpl_view(1952, True)"
   ]
  },
  {
   "cell_type": "markdown",
   "metadata": {},
   "source": [
    "Let's define the **Plotly** plotting function."
   ]
  },
  {
   "cell_type": "code",
   "execution_count": null,
   "metadata": {},
   "outputs": [],
   "source": [
    "pio.templates.default = None\n",
    "@pn.cache\n",
    "\n",
    "def plotly_view(year=1952, show_legend=True):\n",
    "    data = get_data(year)\n",
    "    title = get_title(\"Plotly\", year)\n",
    "    xlim = get_xlim(data)\n",
    "    ylim = YLIM\n",
    "    traces = []\n",
    "    for continent, df in data.groupby('continent'):\n",
    "        marker=dict(symbol='circle', sizemode='area', sizeref=0.1, size=df['size'], line=dict(width=2))\n",
    "        traces.append(go.Scatter(x=df.gdpPercap, y=df.lifeExp, mode='markers', marker=marker, name=continent, text=df.country))\n",
    "\n",
    "    axis_opts = dict(gridcolor='rgb(255, 255, 255)', zerolinewidth=1, ticklen=5, gridwidth=2)\n",
    "    layout = go.Layout(\n",
    "        title=title, showlegend=show_legend,\n",
    "        xaxis=dict(title=XLABEL, type='linear', range=xlim, **axis_opts),\n",
    "        yaxis=dict(title=YLABEL, range=ylim, **axis_opts),\n",
    "        autosize=True, paper_bgcolor='rgba(0,0,0,0)',\n",
    "    )\n",
    "    return go.Figure(data=traces, layout=layout)\n",
    "\n",
    "plotly_view()"
   ]
  },
  {
   "cell_type": "markdown",
   "metadata": {},
   "source": [
    "Let's define the **Altair** plotting function."
   ]
  },
  {
   "cell_type": "code",
   "execution_count": null,
   "metadata": {},
   "outputs": [],
   "source": [
    "@pn.cache\n",
    "def altair_view(year=1952, show_legend=True, height=\"container\", width=\"container\"):\n",
    "    data = get_data(year)\n",
    "    title = get_title(\"Altair/ Vega\", year)\n",
    "    xlim = get_xlim(data)\n",
    "    legend= ({} if show_legend else {'legend': None})\n",
    "    return (\n",
    "        alt.Chart(data)\n",
    "            .mark_circle().encode(\n",
    "                alt.X('gdpPercap:Q', scale=alt.Scale(type='log', domain=xlim), axis=alt.Axis(title=XLABEL)),\n",
    "                alt.Y('lifeExp:Q', scale=alt.Scale(zero=False, domain=YLIM), axis=alt.Axis(title=YLABEL)),\n",
    "                size=alt.Size('pop:Q', scale=alt.Scale(type=\"log\"), legend=None),\n",
    "                color=alt.Color('continent', scale=alt.Scale(scheme=\"category10\"), **legend),\n",
    "                tooltip=['continent','country'])\n",
    "            .configure_axis(grid=False)\n",
    "            .properties(title=title, height=height, width=width, background='rgba(0,0,0,0)') \n",
    "            .configure_view(fill=\"white\")\n",
    "            .interactive()\n",
    "    )\n",
    "\n",
    "altair_view(height=HEIGHT-100, width=1000)"
   ]
  },
  {
   "cell_type": "markdown",
   "metadata": {},
   "source": [
    "Let's define the **hvPlot** plotting function. Please note that [hvPlot](https://hvplot.holoviz.org/) is the recommended entry point to the HoloViz plotting ecosystem."
   ]
  },
  {
   "cell_type": "code",
   "execution_count": null,
   "metadata": {},
   "outputs": [],
   "source": [
    "@pn.cache\n",
    "def hvplot_view(year=1952, show_legend=True):\n",
    "    data = get_data(year)\n",
    "    title = get_title(\"hvPlot/ Bokeh\", year)\n",
    "    xlim = get_xlim(data)\n",
    "\n",
    "    return data.hvplot.scatter(\n",
    "        'gdpPercap', 'lifeExp', by='continent', s='size_hvplot', alpha=0.8,\n",
    "        logx=True, title=title, legend='bottom_right',\n",
    "        hover_cols=['country'], ylim=YLIM, xlim=xlim, ylabel=YLABEL, xlabel=XLABEL, height=400\n",
    "\n",
    "    )\n",
    "\n",
    "hvplot_view()"
   ]
  },
  {
   "cell_type": "markdown",
   "metadata": {},
   "source": [
    "## Define the widgets"
   ]
  },
  {
   "cell_type": "markdown",
   "metadata": {},
   "source": [
    "Next we will set up a periodic callback to allow cycling through the years with a slider and checkbox widget for showing the legend. These widgets allow user to interact with our app."
   ]
  },
  {
   "cell_type": "code",
   "execution_count": null,
   "metadata": {},
   "outputs": [],
   "source": [
    "year = pn.widgets.DiscreteSlider(value=YEARS[-1], options=YEARS, name=\"Year\")\n",
    "show_legend = pn.widgets.Checkbox(value=True, name=\"Show Legend\")"
   ]
  },
  {
   "cell_type": "code",
   "execution_count": null,
   "metadata": {},
   "outputs": [],
   "source": [
    "def play():\n",
    "    if year.value == YEARS[-1]:\n",
    "        year.value=YEARS[0]\n",
    "        return\n",
    "    \n",
    "    index = YEARS.index(year.value)\n",
    "    year.value = YEARS[index+1]    \n",
    "\n",
    "periodic_callback = pn.state.add_periodic_callback(play, start=False, period=PERIOD)\n",
    "player = pn.widgets.Checkbox.from_param(periodic_callback.param.running, name=\"Autoplay\")"
   ]
  },
  {
   "cell_type": "code",
   "execution_count": null,
   "metadata": {},
   "outputs": [],
   "source": [
    "widgets = pn.Column(year, player, show_legend, margin=(0,15))\n",
    "widgets"
   ]
  },
  {
   "cell_type": "markdown",
   "metadata": {},
   "source": [
    "## Layout the widgets"
   ]
  },
  {
   "cell_type": "markdown",
   "metadata": {},
   "source": [
    "Now we can craete a Panel layout containing a logo, description and the widgets through the use of `pn.Column`."
   ]
  },
  {
   "cell_type": "code",
   "execution_count": null,
   "metadata": {
    "tags": []
   },
   "outputs": [],
   "source": [
    "logo = pn.pane.PNG(\n",
    "    \"https://panel.holoviz.org/_static/logo_stacked.png\",\n",
    "    link_url=\"https://panel.holoviz.org\", embed=False, width=150, align=\"center\"\n",
    ")\n",
    "\n",
    "desc = pn.pane.Markdown(\"\"\"## 🎓 Info\n",
    "\n",
    "The [Panel](https://panel.holoviz.org) library from [HoloViz](https://holoviz.org)\n",
    "lets you make widget-controlled apps and dashboards from a wide variety of \n",
    "plotting libraries and data types. Here you can try out four different plotting libraries\n",
    "controlled by a couple of widgets, for Hans Rosling's \n",
    "[gapminder](https://demo.bokeh.org/gapminder) example.\n",
    "\"\"\")\n",
    "\n",
    "settings = pn.Column(logo, \"## ⚙️ Settings\", widgets, desc)\n",
    "settings"
   ]
  },
  {
   "cell_type": "markdown",
   "metadata": {},
   "source": [
    "## Bind widgets to plots"
   ]
  },
  {
   "cell_type": "markdown",
   "metadata": {},
   "source": [
    "Next, let's create a function that will generate a list of plots encapsulated in `pn.pane` objects. It takes parameters for the year and whether to display legends on the plots"
   ]
  },
  {
   "cell_type": "code",
   "execution_count": null,
   "metadata": {},
   "outputs": [],
   "source": [
    "@pn.cache\n",
    "def update_views(year, show_legend):\n",
    "    mpl_v = mpl_view(year=year, show_legend=show_legend)\n",
    "    plotly_v = plotly_view(year=year, show_legend=show_legend)\n",
    "    altair_v = altair_view(year=year, show_legend=show_legend)\n",
    "    hvplot_v = hvplot_view(year=year, show_legend=show_legend)\n",
    "\n",
    "    return [\n",
    "        pn.pane.Vega(altair_v, sizing_mode='stretch_both', margin=10),\n",
    "        pn.pane.HoloViews(hvplot_v, sizing_mode='stretch_both', margin=10),\n",
    "        pn.pane.Matplotlib(mpl_v, format='png', sizing_mode='stretch_both', tight=True, margin=10),\n",
    "        pn.pane.Plotly(plotly_v, sizing_mode='stretch_both', margin=10)\n",
    "\n",
    "    ]"
   ]
  },
  {
   "cell_type": "markdown",
   "metadata": {},
   "source": [
    "Then we will call `pn.bind` using the function created above. This will update the plots whenever the slider widget is moved. \n",
    "We layout the plots in a [Gridbox](https://panel.holoviz.org/reference/layouts/GridBox.html) with 2 columns. Panel provides many other [layouts](https://panel.holoviz.org/reference/index.html#layouts) that might be perfect for your use case. Currently, placing Altair and Plotly plots on the same row causes the Vega plot to behave unexpectedly."
   ]
  },
  {
   "cell_type": "code",
   "execution_count": null,
   "metadata": {},
   "outputs": [],
   "source": [
    "gridbox = pn.layout.GridBox(\n",
    "    objects = pn.bind(update_views, year=year, show_legend=show_legend),   \n",
    "    ncols=2,\n",
    "    sizing_mode=\"stretch_both\"\n",
    ")\n",
    "\n",
    "gridbox"
   ]
  },
  {
   "cell_type": "markdown",
   "metadata": {},
   "source": [
    "## Configure the template\n",
    "\n",
    "Let us layout out the app in the nicely styled [FastListTemplate](https://panel.holoviz.org/reference/templates/FastListTemplate.html)."
   ]
  },
  {
   "cell_type": "code",
   "execution_count": null,
   "metadata": {},
   "outputs": [],
   "source": [
    "pn.template.FastListTemplate(\n",
    "    sidebar=[settings],\n",
    "    main=[gridbox],\n",
    "    site=\"Panel\",\n",
    "    site_url=\"https://panel.holoviz.org\",\n",
    "    title=\"Hans Rosling's Gapminder\",\n",
    "    header_background=ACCENT,\n",
    "    accent_base_color=ACCENT,\n",
    "    favicon=\"static/extensions/panel/images/favicon.ico\",\n",
    "    theme_toggle=False,\n",
    ").servable();  # We add ; to avoid showing the app in the notebook"
   ]
  },
  {
   "cell_type": "markdown",
   "metadata": {},
   "source": [
    "Congrats, you are finished! The final data app can be served via `panel serve gapminders.ipynb`.\n",
    "\n",
    "It will look something like."
   ]
  },
  {
   "cell_type": "markdown",
   "metadata": {},
   "source": [
    "<img src=\"./assets/dashboard.png\" alt=\"Gapminder app with 4 plots\" />"
   ]
  }
 ],
 "metadata": {
  "kernelspec": {
   "display_name": "Python 3 (ipykernel)",
   "language": "python",
   "name": "python3"
  },
  "language_info": {
   "codemirror_mode": {
    "name": "ipython",
    "version": 3
   },
   "file_extension": ".py",
   "mimetype": "text/x-python",
   "name": "python",
   "nbconvert_exporter": "python",
   "pygments_lexer": "ipython3",
   "version": "3.11.9"
  }
 },
 "nbformat": 4,
 "nbformat_minor": 4
}
