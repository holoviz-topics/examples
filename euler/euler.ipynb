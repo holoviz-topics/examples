{
 "cells": [
  {
   "cell_type": "markdown",
   "metadata": {},
   "source": [
    "# Euler\n",
    "Written by Egbert Ammicht<br>\n",
    "Created: November 16, 2018<br>\n",
    "Last updated: June 30, 2020"
   ]
  },
  {
   "cell_type": "markdown",
   "metadata": {},
   "source": [
    "## Panel dashboard illustrating Euler's Method\n",
    "\n",
    "Euler's method is a numerical integration technique for solving ordinary differential equations. Specifically, given $y' = f( x, y )$ and a starting point $(x_0, y_0)$, Euler's method provides approximate values of $y$ for $x>x_0$. To explore how this method works, this notebook from [Egbert Ammicht](https://github.com/ea42gh) sets up a dashboard using [Panel](http://panel.holoviz.org), [HoloViews](http://holoviews.org), and [Bokeh](http://bokeh.pydata.org). You will need to have a live Python process running (not just an Anaconda.org notebook or web page), which you can set up using `conda install -c pyviz panel holoviews bokeh`."
   ]
  },
  {
   "cell_type": "code",
   "execution_count": null,
   "metadata": {},
   "outputs": [],
   "source": [
    "import param, panel as pn, holoviews as hv, warnings, numpy as np, pandas as pd\n",
    "hv.extension('bokeh')\n",
    "pn.extension()\n",
    "warnings.filterwarnings('ignore')\n",
    "#print(pn.__name__, pn.__version__, hv.__name__, hv.__version__ )"
   ]
  },
  {
   "cell_type": "markdown",
   "metadata": {},
   "source": [
    "### Vector field background\n",
    "\n",
    "To start, let's consider the linear approximation $y' \\approx \\frac{y(x+h)-y(x)}{h}$, where $h$ is a small value controlling the integration step size.  We can evaluate this equation on a set of $x$ grid points $x_n = x_0 + n h$, to obtain a series of $y$ values using $y_{n+1} = y_n + h f( x_n, y_n)$. We can use this approach to draw a vector field showing the direction of the integral at each location in the $x,y$ space, overlaid on a grayscale plot of the same data:"
   ]
  },
  {
   "cell_type": "code",
   "execution_count": null,
   "metadata": {},
   "outputs": [],
   "source": [
    "def background(func, size=(500,500)):\n",
    "    \"\"\"\n",
    "    Given the ODE y'=f(x,y),\n",
    "    \n",
    "       bg,vec,xaxis_line,yaxis_line = background()\n",
    "    \n",
    "    returns a grayscale image of the slopes y',\n",
    "            a vector field representation of the slopes, and\n",
    "            a set of axis lines for -5<x<5, -5<y<5\n",
    "    \"\"\"\n",
    "    \n",
    "    # compute the data\n",
    "    vals = np.linspace( -5, 5, num=150 )\n",
    "    X, Y = np.meshgrid(vals, vals)\n",
    "\n",
    "    clines  = func(X,Y)                    # f(x,y)\n",
    "    theta   = np.arctan2( clines, 1)       # angle of the slope y' at x,y\n",
    "\n",
    "    # Obtain the vector field (subsample the grid)\n",
    "    h,w=size\n",
    "    vf_opts = dict(size_index=3, height=h, width=w, xticks=9, yticks=9, alpha=0.3, muted_alpha=0.05)\n",
    "    vec_field = hv.VectorField((vals[::3],vals[::3], theta[::3,::3],0*clines[::3,::3]+1), \n",
    "                               label='vector_field' ).options(**vf_opts)\n",
    "    \n",
    "    # Normalize the given array so that it can be used with the RGB element's alpha channel   \n",
    "    def norm(arr):\n",
    "        arr = (arr-arr.min())\n",
    "        return arr/arr.max()\n",
    "\n",
    "    normXY    = norm(clines)\n",
    "    img_field = hv.RGB( (vals, vals, normXY, normXY, normXY, 0*clines+0.1), vdims=['R','G','B','A'] )\\\n",
    "                .options(width=size[0], height=size[1], shared_axes=False)\n",
    "\n",
    "    # finally, we add the axes as VLine, HLine and return an array of the plot Elements\n",
    "    hv_opts = dict( color='k', alpha=0.8, line_width=1.5)\n",
    "    return [img_field,vec_field, hv.HLine(0).options(**hv_opts),\n",
    "                hv.VLine(0).options(**hv_opts)]\n",
    "\n",
    "# Test it:\n",
    "hv.Overlay(background(lambda x,y:   np.sin(x*y), size=(400,400))).options(show_legend=False).relabel(\"y' = sin(x y)\"   ) +\\\n",
    "hv.Overlay(background(lambda x,y: x*np.sin(5*y), size=(400,400))).options(show_legend=False).relabel(\"y' = x sin(5 y)\" )"
   ]
  },
  {
   "cell_type": "markdown",
   "metadata": {},
   "source": [
    "### Euler Integration Curves\n",
    "\n",
    "We can now overlay a series of lines approximating the integral for various step sizes at a given starting point, to show how the step size affects the accuracy."
   ]
  },
  {
   "cell_type": "code",
   "execution_count": null,
   "metadata": {},
   "outputs": [],
   "source": [
    "def euler_step(x,y,h,func):\n",
    "    \"\"\"x <- x +h, y_<- y + h f(x,y)\"\"\"\n",
    "    hs = h * func(x,y)\n",
    "    x = x + h\n",
    "    y = y + hs\n",
    "    return x,y\n",
    "\n",
    "def euler_table(x0,y0,n,h,func):\n",
    "    \"\"\"\n",
    "    Compute up to n euler steps with step size h for  y' = f(x,y) starting from (x0,y0),\n",
    "    returning the results in an hv.Table\n",
    "    \"\"\"\n",
    "    xl = [x0]; yl=[y0]\n",
    "    for i in range(n):\n",
    "        x0,y0 = euler_step(x0,y0,h,func)\n",
    "        xl.append(x0);yl.append(y0)\n",
    "        if np.abs(x0) > 5. or np.abs(y0) > 5. : break   # we ran off the grid\n",
    "    return hv.Table(pd.DataFrame(dict(x=xl,y=yl)), kdims=['x'],vdims=['y'])\n",
    "\n",
    "line_colors = hv.Cycle([\"Red\",\"Orange\",\"LightGreen\",\"Green\"])\n",
    "\n",
    "def euler_curve(x0,y0,n,h,func):\n",
    "    \"\"\"\n",
    "    Compute up to n euler steps with step size h for  y' = f(x,y) starting from (x0,y0)\n",
    "    return the results in an hv.Curve\n",
    "    \"\"\"\n",
    "    return euler_table(x0,y0,n,h,func).to.curve( label= 'h=%6.3f'%h).options(color=line_colors)\n",
    "\n",
    "def append_euler_plots( l, start, func, n=10000, h=[.5,.2,.01,.0011] ):\n",
    "    for hi in h: l.append( euler_curve(*start, n, hi, func) )\n",
    "    return l"
   ]
  },
  {
   "cell_type": "code",
   "execution_count": null,
   "metadata": {},
   "outputs": [],
   "source": [
    "# Example functions\n",
    "\n",
    "funcs = {\n",
    "    \"y' = sin(xy)\"           : lambda x,y: np.sin(x*y),\n",
    "    \"y' = sin(x) sin(y)\"      : lambda x,y: np.sin(x)*np.sin(y),\n",
    "    \"y' = cos(x)\"             : lambda x,y: np.cos(x),\n",
    "    \"y' = exp(x /(x**2 + 1))\" : lambda x,y: np.exp(-x/( x**2 + 1)),\n",
    "    \"y' = x**2 sin(5y)\"      : lambda x,y: x**2*np.sin(5*y),\n",
    "    \"y' = x sin(5y)\"         : lambda x,y: x   *np.sin(5*y),\n",
    "    \"y' = x tan(y)\"           : lambda x,y: x   *np.tan(y),\n",
    "    \"y' = x / cosh(y)\"        : lambda x,y: x/np.cosh(y),\n",
    "}\n",
    "\n",
    "f1_key   = \"y' = sin(xy)\"\n",
    "l1       = background(funcs[f1_key])\n",
    "append_euler_plots(l1, (-5,np.pi/4.75),funcs[f1_key] )\n",
    "\n",
    "f2_key   = \"y' = sin(x) sin(y)\"\n",
    "l2       = background(funcs[f2_key])\n",
    "append_euler_plots(l2, (-5, np.pi/4.75),funcs[f2_key] )\n",
    "append_euler_plots(l2, (-5,-np.pi/4.75),funcs[f2_key] )\n",
    "\n",
    "# We need to call redim in case some curve overshot the grid  (might instead use apply_ranges=False to Curves)\n",
    "pos_opts = dict(legend_position='right', toolbar='above',width=450,height=350)\n",
    "hv.Overlay(l1).redim.range(x=(-5,5),y=(-5,5)).options(**pos_opts).relabel(f1_key) +\\\n",
    "hv.Overlay(l2).redim.range(x=(-5,5),y=(-5,5)).options(**pos_opts).relabel(f2_key)"
   ]
  },
  {
   "cell_type": "markdown",
   "metadata": {},
   "source": [
    "## User-selectable starting point\n",
    "\n",
    "The above plots use a fixed starting point, but we can let the user select anything in the x.y plane, using a HoloViews Tap stream:"
   ]
  },
  {
   "cell_type": "code",
   "execution_count": null,
   "metadata": {},
   "outputs": [],
   "source": [
    "from holoviews.streams import SingleTap\n",
    "\n",
    "func_sel   = \"y' = x tan(y)\"\n",
    "l1         = background(funcs[func_sel])\n",
    "tap        = SingleTap(transient=True)\n",
    "\n",
    "pos_opts = dict(legend_position='right', toolbar='above')\n",
    "\n",
    "# Add 4 initial curves; not sure why they are needed for the display to get updated\n",
    "append_euler_plots(l1, (-5, np.pi/4.75),funcs[func_sel] )\n",
    "\n",
    "def react_to_tap(x,y):\n",
    "    if x is not None and y is not None and x < 5. and y < 5.:\n",
    "        # Avoids firing when clicked on a legend\n",
    "        del l1[4:] # temorary hack: want a reset button later\n",
    "        append_euler_plots( l1, (x,y), funcs[func_sel] )\n",
    "    return hv.Overlay(l1).redim.range(x=(-5,5),y=(-5,5)).options(**pos_opts).relabel( func_sel )\n",
    "\n",
    "hv.DynamicMap( react_to_tap, streams=[ tap ]).options(**pos_opts).relabel( func_sel )"
   ]
  },
  {
   "cell_type": "markdown",
   "metadata": {},
   "source": [
    "# A dashboard\n",
    "\n",
    "We can now put everything together into a panel, capturing the above code into an object with a parameter to select the function to show. By default, the panel will be shown directly in this notebook, but you can instead launch the object marked `.servable()` below as a separate dashboard using:\n",
    "\n",
    "> panel serve --show App_EulersMethod.ipynb"
   ]
  },
  {
   "cell_type": "code",
   "execution_count": null,
   "metadata": {},
   "outputs": [],
   "source": [
    "class EulersMethodExplorer(param.Parameterized):\n",
    "    function_ = param.ObjectSelector(default=\"y' = sin(xy)\", objects=list(funcs.keys()))\n",
    "\n",
    "    @param.depends('function_', watch=True)\n",
    "    def view(self):\n",
    "        l1       = background(funcs[self.function_])\n",
    "        tap      = SingleTap(transient=True)\n",
    "        pos_opts = dict(legend_position='right', toolbar='above', width=700)\n",
    "\n",
    "        append_euler_plots(l1, (-5, np.pi/4.75),funcs[self.function_] )\n",
    "        \n",
    "        def react_to_tap(x,y):\n",
    "            if x is not None and y is not None and x < 5. and y < 5.:\n",
    "                del l1[4:]             # temorary hack: want a reset button later\n",
    "                append_euler_plots( l1, (x,y), funcs[self.function_] )\n",
    "            return hv.Overlay(l1).redim.range(x=(-5,5),y=(-5,5)).options(**pos_opts).relabel( self.function_ )\n",
    "\n",
    "        return hv.DynamicMap( react_to_tap, streams=[ tap ]).options(**pos_opts).relabel( self.function_ )\n",
    "\n",
    "#EulersMethodExplorer(name=\"\").view()"
   ]
  },
  {
   "cell_type": "code",
   "execution_count": null,
   "metadata": {},
   "outputs": [],
   "source": [
    "explorer = EulersMethodExplorer(name=\"\")\n",
    "widgets = pn.panel(explorer.param, width=600)\n",
    "\n",
    "header = pn.panel(\"\"\"\n",
    "<a href=\"https://en.wikipedia.org/wiki/Leonhard_Euler\"><img width=180\n",
    "   src=\"http://image.wikifoundry.com/image/3/c75ec475d131ddea43f308b3df83b4e7/GW161H211\"></a>\n",
    "\n",
    "### Euler's Method\n",
    "\n",
    "<i>This [Panel](https://github.com/pyviz/panel) app lets you explore \n",
    "the behavior of \n",
    "[Euler's Method](http://tutorial.math.lamar.edu/Classes/DE/EulersMethod.aspx)\n",
    "for various differential equations.<br><br>\n",
    "\n",
    "Choose a particular equation, then click on a starting point on the plot.\n",
    "The curves then show increasingly better approximations to the integral, with\n",
    "green indicating the most accurate (stepsize h=0.001).<br><br>\n",
    "\n",
    "Plot elements can be muted by clicking on the legend.</i>\n",
    "\"\"\", width=200, height=250)"
   ]
  },
  {
   "cell_type": "code",
   "execution_count": null,
   "metadata": {},
   "outputs": [],
   "source": [
    "pn.Row(header, pn.Spacer(width=50), \n",
    "       pn.Column( pn.Spacer(height=10), widgets, pn.Spacer(height=10), explorer.view)).servable()"
   ]
  }
 ],
 "metadata": {
  "language_info": {
   "name": "python",
   "pygments_lexer": "ipython3"
  }
 },
 "nbformat": 4,
 "nbformat_minor": 2
}