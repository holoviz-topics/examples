{
 "cells": [
  {
   "cell_type": "markdown",
   "id": "d2037657-5317-4700-b6c0-a8ebb2366136",
   "metadata": {},
   "source": [
    "# OpenStreetMap\n",
    "\n",
    "This example demonstrates how to use Datashader to plot billions of points on a map. The data is taken from Open Street Map's (OSM) bulk GPS point data. It consists of two notebooks:\n",
    "\n",
    "1. [1 billion points](./osm-1billion.ipynb): This notebook demonstrates how to plot a billion points.\n",
    "2. [2.7 billion points](./osm-3billion.ipynb): This notebook additionaly uses Dask to handle a data set of 2.7 billion points and plot it with Datashader."
   ]
  }
 ],
 "metadata": {
  "kernelspec": {
   "display_name": "Python 3 (ipykernel)",
   "language": "python",
   "name": "python3"
  },
  "language_info": {
   "codemirror_mode": {
    "name": "ipython",
    "version": 3
   },
   "file_extension": ".py",
   "mimetype": "text/x-python",
   "name": "python",
   "nbconvert_exporter": "python",
   "pygments_lexer": "ipython3",
   "version": "3.10.12"
  }
 },
 "nbformat": 4,
 "nbformat_minor": 5
}
