{
 "cells": [
  {
   "cell_type": "markdown",
   "metadata": {},
   "source": [
    "# OpenSky\n",
    "Written by Philipp Rudiger<br>\n",
    "Created: November 3, 2017<br>\n",
    "Last updated: July 21, 2021"
   ]
  },
  {
   "cell_type": "markdown",
   "metadata": {},
   "source": [
    "## OpenSky flight trajectories\n",
    "\n",
    "Flight path information for commercial flights is available for some regions of the USA and Europe from the crowd-sourced [OpenSky Network](https://opensky-network.org/).  OpenSky collects data from a large number of users monitoring public air-traffic control information.  Here we will use a subset of the data that was polled from their REST API at an interval of 1 minute over 4 days (September 5-13, 2016), using the collect_data.py and prepare_data.py.  In general the terms of use for OpenSky data do not allow redistribution, but we have obtained specific permission for distributing the subset of the data used in this project, which is a 200MB Parquet file (1.1GB as the original database). If you want more or different data, you can run the scripts yourself, or else you can contact OpenSky asking for a copy of the dataset.\n",
    "\n",
    "**NOTE:**  This dataset is also explorable through the Datashader example dashboard. From inside the examples directory, run: `DS_DATASET=opensky panel serve --show dashboard.ipynb`\n",
    "\n",
    "We'll only use some of the fields provided by OpenSky, out of: *icao24, callsign, origin, time_position, time_velocity, longitude, latitude, altitude, on_ground, velocity, heading, vertical_rate, sensors, timestamp*\n",
    "\n",
    "Here, we'll load the data and declare that some fields are categorical (which isn't information fully expressed in the Parquet file):"
   ]
  },
  {
   "cell_type": "code",
   "execution_count": null,
   "metadata": {},
   "outputs": [],
   "source": [
    "%%time\n",
    "import pandas as pd\n",
    "import xarray as xr\n",
    "\n",
    "flightpaths = pd.read_parquet('./data/opensky.parq')\n",
    "flightpaths['origin']    = flightpaths.origin.astype('category')\n",
    "flightpaths['ascending'] = flightpaths.ascending.astype('category')\n",
    "flightpaths.tail()"
   ]
  },
  {
   "cell_type": "markdown",
   "metadata": {},
   "source": [
    "The default database has about 10 million points, with some metadata for each.  \n",
    "\n",
    "Now let's define a datashader-based processing pipeline to render images:"
   ]
  },
  {
   "cell_type": "code",
   "execution_count": null,
   "metadata": {},
   "outputs": [],
   "source": [
    "import datashader as ds\n",
    "import datashader.transfer_functions as tf\n",
    "from colorcet import fire\n",
    "\n",
    "import numpy as np\n",
    "\n",
    "plot_width  = 850\n",
    "plot_height = 600\n",
    "x_range = (-2.0e6, 2.5e6)\n",
    "y_range = (4.1e6, 7.8e6)"
   ]
  },
  {
   "cell_type": "markdown",
   "metadata": {},
   "source": [
    "We can use this function to get a dump of all of the trajectory information:"
   ]
  },
  {
   "cell_type": "code",
   "execution_count": null,
   "metadata": {},
   "outputs": [],
   "source": [
    "cvs = ds.Canvas(plot_width, plot_height, x_range, y_range)\n",
    "%time agg = cvs.line(flightpaths, 'longitude', 'latitude',  ds.count())\n",
    "tf.set_background(tf.shade(agg, cmap=fire), 'black')"
   ]
  },
  {
   "cell_type": "markdown",
   "metadata": {},
   "source": [
    "This plot shows all of the trajectories in this database, overlaid in a way that avoids [overplotting](https://anaconda.org/jbednar/plotting_pitfalls/notebook).  With this \"fire\" color map, a single trajectory shows up as black, while increasing levels of overlap show up as brighter colors.  \n",
    "\n",
    "A static image on its own like this is difficult to interpret, but if we overlay it on a map we can see where these flights originate, and can zoom in to see detail in specific regions:"
   ]
  },
  {
   "cell_type": "code",
   "execution_count": null,
   "metadata": {},
   "outputs": [],
   "source": [
    "import holoviews as hv\n",
    "from holoviews import opts\n",
    "from holoviews.operation import datashader as hd\n",
    "hv.extension('bokeh', 'matplotlib')"
   ]
  },
  {
   "cell_type": "code",
   "execution_count": null,
   "metadata": {},
   "outputs": [],
   "source": [
    "opts.defaults(\n",
    "    opts.RGB(width=850, height=600, xaxis=None, yaxis=None))"
   ]
  },
  {
   "cell_type": "code",
   "execution_count": null,
   "metadata": {},
   "outputs": [],
   "source": [
    "tile_url ='http://server.arcgisonline.com/ArcGIS/rest/services/World_Street_Map/MapServer/tile/{Z}/{Y}/{X}.png'\n",
    "datashaded = hd.datashade(hv.Path(flightpaths, ['longitude', 'latitude']), \n",
    "                          x_range=x_range, y_range=y_range, aggregator=ds.count())\n",
    "hv.Tiles(tile_url) * datashaded"
   ]
  },
  {
   "cell_type": "markdown",
   "metadata": {},
   "source": [
    "E.g. try zooming in on London in the above figure, which has a lot of structure not visible in the initial rendering but visible on a zoom. Note that zooming in will only reveal more detail in the datashader plot if you are working with a live server; a static HTML view (e.g. on Anaconda Cloud) will dynamically update the underlying map plot, but not the data.  \n",
    "\n",
    "We can use the metadata associated with each trajectory to show additional information.  For instance, we can color each flight by its country of origin, using the key:\n",
    "\n",
    "* **UK** - Orange\n",
    "* **Germany** - Blue\n",
    "* **Netherland** - Teal\n",
    "* **Switzerland** - Yellow\n",
    "* **France** - Purple\n",
    "* **Norway** - Green\n",
    "* **USA** - Red\n",
    "\n",
    "(There are actually more than a hundred different origins, so this key is only approximate.)"
   ]
  },
  {
   "cell_type": "code",
   "execution_count": null,
   "metadata": {},
   "outputs": [],
   "source": [
    "def categorical_color_key(aggregator, cmap):\n",
    "    \"\"\"Generate a color key from the given colormap with the appropriate number of colors for flightpaths\"\"\"\n",
    "    from matplotlib.colors import rgb2hex\n",
    "    from matplotlib.cm import get_cmap\n",
    "    ncats = len(flightpaths[aggregator.column].unique())\n",
    "    return [str(rgb2hex(get_cmap(cmap)(i))) for i in np.linspace(0, 1, ncats)]"
   ]
  },
  {
   "cell_type": "code",
   "execution_count": null,
   "metadata": {},
   "outputs": [],
   "source": [
    "aggregator = ds.count_cat('origin')\n",
    "datashaded = hd.datashade(hv.Path(flightpaths, ['longitude', 'latitude']), \n",
    "                          x_range=x_range, y_range=y_range, aggregator=aggregator, \n",
    "                          color_key=categorical_color_key(aggregator, 'hsv_r'))\n",
    "hv.Tiles(tile_url) * datashaded"
   ]
  },
  {
   "cell_type": "markdown",
   "metadata": {},
   "source": [
    "Or we can label ascending (Blue) vs. descending flights (Red), which is particularly informative when zooming in on specific airports:"
   ]
  },
  {
   "cell_type": "code",
   "execution_count": null,
   "metadata": {},
   "outputs": [],
   "source": [
    "datashaded = hd.datashade(hv.Path(flightpaths, ['longitude', 'latitude']), \n",
    "                          x_range=x_range, y_range=y_range, aggregator=ds.count_cat('ascending'))\n",
    "hv.Tiles(tile_url) * datashaded"
   ]
  },
  {
   "cell_type": "markdown",
   "metadata": {},
   "source": [
    "Or we can show velocity, which of course decreases (dark colors) when approaching or leaving airports:"
   ]
  },
  {
   "cell_type": "code",
   "execution_count": null,
   "metadata": {},
   "outputs": [],
   "source": [
    "datashaded = hd.datashade(hv.Path(flightpaths, ['longitude', 'latitude']), \n",
    "                          x_range=x_range, y_range=y_range, aggregator=ds.mean('velocity'), cmap=fire[::-1])\n",
    "hv.Tiles(tile_url) * datashaded"
   ]
  },
  {
   "cell_type": "markdown",
   "metadata": {},
   "source": [
    "The flight patterns associated with each airport are clearly visible in these close-ups of various cities, where the circular holding pattern for landings (red) is clearly visible for the various airports in London:"
   ]
  },
  {
   "cell_type": "code",
   "execution_count": null,
   "metadata": {},
   "outputs": [],
   "source": [
    "hv.output(backend='matplotlib')"
   ]
  },
  {
   "cell_type": "code",
   "execution_count": null,
   "metadata": {},
   "outputs": [],
   "source": [
    "opts.defaults(\n",
    "    opts.RGB(xaxis=None, yaxis=None, bgcolor='black', axiswise=True),\n",
    "    opts.Layout(hspace=0.1, vspace=0, sublabel_format=None, framewise=True))"
   ]
  },
  {
   "cell_type": "code",
   "execution_count": null,
   "metadata": {},
   "outputs": [],
   "source": [
    "from datashader.utils import lnglat_to_meters\n",
    "\n",
    "cities = {'Frankfurt' : (8.6821, 50.1109),\n",
    "          'London'    : (-0.1278, 51.5074), \n",
    "          'Paris'     : (2.3522, 48.8566),\n",
    "          'Amsterdam' : (4.8952, 52.3702),\n",
    "          'Zurich'    : (8.5417, 47.3769),\n",
    "          'Munich'    : (11.5820, 48.1351)}\n",
    "\n",
    "radius = 150000\n",
    "mercator_cities = {city: lnglat_to_meters(lon, lat) for city, (lon, lat) in cities.items()}\n",
    "city_ranges = {city: dict(x_range=(lon-radius, lon+radius), y_range=(lat-radius, lat+radius))\n",
    "               for city, (lon, lat) in mercator_cities.items()}\n",
    "\n"
   ]
  },
  {
   "cell_type": "code",
   "execution_count": null,
   "metadata": {},
   "outputs": [],
   "source": [
    "aggregator = ds.count_cat('origin')\n",
    "hv.Layout([hd.datashade(hv.Path(flightpaths, ['longitude', 'latitude']), \n",
    "                        aggregator=aggregator, \n",
    "                        color_key=categorical_color_key(aggregator, 'hsv_r'),\n",
    "                        dynamic=False, **ranges).relabel(city)\n",
    "           for city, ranges in sorted(city_ranges.items())]).cols(3)"
   ]
  },
  {
   "cell_type": "markdown",
   "metadata": {},
   "source": [
    "The patterns for a single city can make a nice wallpaper for your desktop if you wish:"
   ]
  },
  {
   "cell_type": "code",
   "execution_count": null,
   "metadata": {},
   "outputs": [],
   "source": [
    "hd.datashade(hv.Path(flightpaths, ['longitude', 'latitude']), \n",
    "                        aggregator=aggregator, \n",
    "                        color_key=categorical_color_key(aggregator, 'hsv_r'),\n",
    "                        dynamic=False, **city_ranges[\"Zurich\"]).opts(fig_size=400, bgcolor=None)"
   ]
  },
  {
   "cell_type": "markdown",
   "metadata": {},
   "source": [
    "As you can see, datashader makes it quite easy to explore even large databases of trajectory information, without trial and error parameter setting and experimentation.  These examples have millions of datapoints, but it could work with [billions](http://anaconda.org/jbednar/osm/notebook) just as easily, covering long time ranges or large geographic areas. Check out the other [datashader notebooks](http://anaconda.org/jbednar/notebooks) for other examples!\n",
    "\n",
    "This data was obtained by running a cron job with the collect_data.py script running at one-minute intervals over a four-day period. Then the data was transformed into the Parquet format using the prepare_data.py script. "
   ]
  }
 ],
 "metadata": {
  "language_info": {
   "name": "python",
   "pygments_lexer": "ipython3"
  }
 },
 "nbformat": 4,
 "nbformat_minor": 2
}
