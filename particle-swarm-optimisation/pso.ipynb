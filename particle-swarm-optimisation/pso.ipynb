{
 "cells": [
  {
   "cell_type": "markdown",
   "metadata": {},
   "source": [
    "# Interactive Particle Swarm Optimisation Dashboard from Scratch in Python\n",
    "> Swarm Intelligence from social interaction\n",
    "\n",
    "- toc: true \n",
    "- badges: true\n",
    "- comments: true\n",
    "- categories: [jupyter, optimisation, visualisation]"
   ]
  },
  {
   "cell_type": "markdown",
   "metadata": {},
   "source": [
    "# Why are we here?"
   ]
  },
  {
   "cell_type": "markdown",
   "metadata": {},
   "source": [
    "I'm hoping it's to read about **Swarm Intelligence!** I'm also hoping you're interested to read about the **_interactive dashboard_** side of things too so we can play with it at the end. "
   ]
  },
  {
   "cell_type": "markdown",
   "metadata": {},
   "source": [
    "## Finding the \"just right\" Goldilocks Zone using Swarm Intelligence"
   ]
  },
  {
   "cell_type": "markdown",
   "metadata": {},
   "source": [
    "Say you're building a house and you want to maximise the number of rooms you can fit in your plot of land, maybe saying that all rooms have to be a certain size or bigger. That's the kind of thing that optimisation algorithms are useful for.\n",
    "\n",
    "Optimisation methods like **Particle Swarm Optimisation** are used when you want to find the _best_/_optimum_  for some system / problem. **You could just try every possible input** but that might take a while so smarter people than me have invented better ways."
   ]
  },
  {
   "cell_type": "markdown",
   "metadata": {},
   "source": [
    "## Make it interactive because"
   ]
  },
  {
   "cell_type": "markdown",
   "metadata": {},
   "source": [
    "Let's build a dashboard in which you can **control parameters of Particle Swarm Optimisation, click a target and see the little dots flock towards it**. Like an interactive, 2D version of this plot on Wikipedia."
   ]
  },
  {
   "cell_type": "markdown",
   "metadata": {},
   "source": [
    "![pso_gif.gif](https://www.scottcondron.com/images/copied_from_nb/my_icons/pso_gif.gif \"Source: Wikipedia\")"
   ]
  },
  {
   "cell_type": "markdown",
   "metadata": {},
   "source": [
    "# Swarm Intelligence"
   ]
  },
  {
   "cell_type": "markdown",
   "metadata": {},
   "source": [
    "## Wait, why no death?\n",
    "\n",
    "Genetic algorithm is based on genetic evolution where each generation there is survival-of-the-fittest-style well... death. In the case of Particle Swarm Optimisation, **there is the same population throughout** because we want them to **remember where they were when they were at their fittest**. Like looking back at yourself on your wedding day or after a health kick. **Each particles position is a potential solution to your problem so they're all trying to find the _best position_ together.** \n",
    "\n",
    "## Adding velocity to the mix\n",
    "\n",
    "In the case of Genetic Algorithm each member of the population was just a few numbers (their X and Y position), the parameters that you’re trying to optimise. In this case each particle will not just have a X and Y position, **they also have a velocity**. We also need a way to know how to improve the particles in our swarm..."
   ]
  },
  {
   "cell_type": "markdown",
   "metadata": {},
   "source": [
    "### Closer (smaller distance) is better"
   ]
  },
  {
   "cell_type": "markdown",
   "metadata": {},
   "source": [
    "We'll need to **find the fittest member of the population using euclidean distance** / mean squared error (which particle is closest to the target). "
   ]
  },
  {
   "cell_type": "code",
   "execution_count": null,
   "metadata": {},
   "outputs": [],
   "source": [
    "#collapse-hide\n",
    "def mean_squared_error(y_true, y_pred):\n",
    "    return ((y_true - y_pred)**2).mean(axis=0)\n",
    "\n",
    "target_x, target_y = 0,0  \n",
    "def problem(soln):\n",
    "    global target_x #using globals so we can link this to the click event later\n",
    "    global target_y\n",
    "    return mean_squared_error(soln, [target_x, target_y])\n",
    "\n",
    "def assess_fitness(individual, problem):\n",
    "    \"Determines the fitness of an individual using the given problem\"\n",
    "    return problem(individual)"
   ]
  },
  {
   "cell_type": "markdown",
   "metadata": {},
   "source": [
    "## Nostalgic by design"
   ]
  },
  {
   "cell_type": "markdown",
   "metadata": {},
   "source": [
    "**Each member is going to keep track of their fittest position**, this can help them if they explore a worse direction, or want to tell other particles (but we'll get to that later). They also keep an ID so that we can colour them across iterations. "
   ]
  },
  {
   "cell_type": "markdown",
   "metadata": {},
   "source": [
    "Here's that in code (before we add any of the update logic)."
   ]
  },
  {
   "cell_type": "code",
   "execution_count": null,
   "metadata": {},
   "outputs": [],
   "source": [
    "import numpy as np\n",
    "import pandas as pd\n",
    "import random\n",
    "from holoviews import opts, dim\n",
    "import holoviews as hv\n",
    "import panel as pn\n",
    "from holoviews.streams import Stream\n",
    "hv.extension('bokeh', logo=False)  "
   ]
  },
  {
   "cell_type": "code",
   "execution_count": null,
   "metadata": {},
   "outputs": [],
   "source": [
    "class Particle:\n",
    "    def __init__(self, problem, velocity, position, index):\n",
    "        self.problem = problem\n",
    "        self.velocity = velocity\n",
    "        self.position = position\n",
    "        self.fittest_position = position\n",
    "        self.id = index"
   ]
  },
  {
   "cell_type": "markdown",
   "metadata": {},
   "source": [
    "## Create a \"swarm\" of them"
   ]
  },
  {
   "cell_type": "markdown",
   "metadata": {},
   "source": [
    "For each particle, we want their position and velocity. We also convert their velocity into angle and magnitude for the little arrows in the visualisation."
   ]
  },
  {
   "cell_type": "code",
   "execution_count": null,
   "metadata": {},
   "outputs": [],
   "source": [
    "vector_length=2\n",
    "swarm_size = 50\n",
    "swarm = [Particle(problem, np.random.uniform(-2, 2, vector_length), np.random.rand(vector_length), i)\n",
    "                      for i, x in enumerate(range(swarm_size))]"
   ]
  },
  {
   "cell_type": "markdown",
   "metadata": {},
   "source": [
    "Here's what our swarm looks like:"
   ]
  },
  {
   "cell_type": "code",
   "execution_count": null,
   "metadata": {},
   "outputs": [],
   "source": [
    "def to_angle(vector):\n",
    "    x = vector[0]\n",
    "    y = vector[1]\n",
    "    mag = np.sqrt(x**2 + y**2)\n",
    "    angle = (np.pi/2.) - np.arctan2(x/mag, y/mag)\n",
    "    return mag, angle\n",
    "\n",
    "def get_vectorfield_data(swarm):\n",
    "    '''Returns (xs, ys, angles, mags, ids)'''\n",
    "    xs, ys, angles, mags, ids = [], [], [], [], []\n",
    "    for particle in swarm:\n",
    "        xs.append(particle.position[0])\n",
    "        ys.append(particle.position[1])\n",
    "        mag, angle = to_angle(particle.velocity)\n",
    "        mags.append(mag)\n",
    "        angles.append(angle)\n",
    "        ids.append(particle.id)\n",
    "    return xs, ys, angles, mags, ids\n",
    "\n",
    "vect_data = get_vectorfield_data(swarm)\n",
    "vectorfield = hv.VectorField(vect_data, vdims=['Angle', 'Magnitude', 'Index'])\n",
    "\n",
    "# [x, y, id] for all particles\n",
    "particles = [np.array([vect_data[0], vect_data[1], vect_data[4]]) for i, particle in enumerate(swarm)] \n",
    "points = hv.Points(particles, vdims=['Index'])\n",
    "layout = vectorfield * points\n",
    "layout.opts(\n",
    "    opts.VectorField(color='Index', cmap='tab20c', magnitude=dim('Magnitude').norm()*10, pivot='tail'),\n",
    "    opts.Points(color='Index',     cmap='tab20c', size=5)\n",
    ")\n",
    "pn.Column(layout.opts(width=500, height=500)).servable()"
   ]
  },
  {
   "cell_type": "markdown",
   "metadata": {},
   "source": [
    "> Note: Here we initialised the particles with a velocity for visualisationg, we'll initialise them with zero velocity when it comes to actually optimising."
   ]
  },
  {
   "cell_type": "markdown",
   "metadata": {},
   "source": [
    "# Updating\n",
    "\n",
    "Okay so we have a population of particles, **each with a position, velocity and fittest position** but how can we update this population to find our _optimum_ spot.\n",
    "\n",
    "Each particle could just move in the direction that they think the optimum spot is. But if they overshoot it or get lost, thankfully they remember their best position so they can use that a little bit too. \n",
    "\n",
    "## Particles' social lives\n",
    "\n",
    "Seems pretty inefficient for a bunch of these particles to all be trying the same thing without sharing any information with each other. In PSO, **they can get \"fittest position\" from some other members of the population when they’re updating (called the social component)**.\n",
    "\n",
    "They choose a few other particles and say “hey I’m looking for this red marker, any chance you’ve seen it? “ and the other particles reply “No but here is where I was when I was closest to it.“. Thrilling conversations."
   ]
  },
  {
   "cell_type": "markdown",
   "metadata": {},
   "source": [
    "> Note: Intesting side note, PSO was introduced by James Kennedy and Russell Eberhart in 1995 after they discovered its optimisation properties while trying to build a social simulator."
   ]
  },
  {
   "cell_type": "markdown",
   "metadata": {},
   "source": [
    "## Too much social interaction\n",
    "\n",
    "A quick way to get stuck with a bad solution to a complex problem is to only listen to one suggestion and following that. This is what happens in particle swarm optimisation when all particles communicate to all of the particles during their update step (called the **global component**). "
   ]
  },
  {
   "cell_type": "markdown",
   "metadata": {},
   "source": [
    "### Update code"
   ]
  },
  {
   "cell_type": "markdown",
   "metadata": {},
   "source": [
    "Here's the code for the Particle to update itself each iteration."
   ]
  },
  {
   "cell_type": "code",
   "execution_count": null,
   "metadata": {},
   "outputs": [],
   "source": [
    "def update(self, fittest_informant, global_fittest, follow_current, follow_personal_best, follow_social_best, follow_global_best, scale_update_step):\n",
    "    \"\"\" Updates the velocity and position of the particle using the PSO update algorithm\"\"\"\n",
    "    self.position += self.velocity * scale_update_step\n",
    "    cognitive = random.uniform(0, follow_personal_best)\n",
    "    social = random.uniform(0, follow_social_best)\n",
    "    glob = random.uniform(0, follow_global_best)\n",
    "    self.velocity = (follow_current * self.velocity \n",
    "                    + cognitive * (self.fittest_position - self.position)\n",
    "                    + social * (fittest_informant.fittest_position - self.position)\n",
    "                    + glob * (global_fittest.fittest_position - self.position))\n",
    "    current_fitness = self.assess_fitness()\n",
    "    if (current_fitness < self.previous_fitness and self.previous_fitness is not None):\n",
    "        self.fittest_position = self.position\n",
    "    self.previous_fitness = current_fitness"
   ]
  },
  {
   "cell_type": "markdown",
   "metadata": {},
   "source": [
    "> Note: We are using a variant of the PSO algorithm introduced in 1995, with a social component as well as global. Also, we sample uniformly from 0 and our given update parameter before updating each part of the equation."
   ]
  },
  {
   "cell_type": "markdown",
   "metadata": {},
   "source": [
    "There are various values used to determine how to update the current velocity (as described above). \n",
    "- `follow_current` is how much to use the particles current velocity.\n",
    "- `cognitive` is how much to use the particles personal best fittest position. \n",
    "- `social` is how much to use it's the fittest position of a smaller subset of the population. \n",
    "- `glob` (global) is how much to use the fittest position of the fittest particle in the population. \n",
    "\n",
    "These are applied to the difference between the particles current position and a \"fit\" other position (either it's own fittest position or another particle's fittest position)."
   ]
  },
  {
   "cell_type": "markdown",
   "metadata": {},
   "source": [
    "### Particle Class"
   ]
  },
  {
   "cell_type": "markdown",
   "metadata": {},
   "source": [
    "Here is the Particle class with the `update` and `assess_fitness` methods added in."
   ]
  },
  {
   "cell_type": "code",
   "execution_count": null,
   "metadata": {},
   "outputs": [],
   "source": [
    "#collapse-hide\n",
    "class Particle:\n",
    "    \"\"\"\n",
    "    An Particle used in PSO.\n",
    "        \n",
    "    Attributes\n",
    "    ----------\n",
    "    problem : function to minimise\n",
    "    velocity : nparray\n",
    "        The current velocity of the particle\n",
    "    position : nparray\n",
    "        The current position of the particle, used as the solution for the problem given\n",
    "    id : int\n",
    "        The unique id of the particle\n",
    "    \n",
    "    Public Methods\n",
    "    -------\n",
    "    assess_fitness()\n",
    "        Determines the fitness of the particle using the given problem\n",
    "    update(fittest_informant, global_fittest, \n",
    "           follow_current, follow_personal_best, \n",
    "           follow_social_best, follow_global_best,\n",
    "           scale_update_step)\n",
    "        Updates the velocity and position of the particle using the PSO update algorithm\n",
    "    \"\"\"\n",
    "    \n",
    "    def __init__(self, problem, velocity, position, index):\n",
    "        self.velocity = velocity\n",
    "        self.position = position\n",
    "        self.fittest_position = position\n",
    "        self.problem = problem\n",
    "        self.id = index\n",
    "        self.previous_fitness = 1e7\n",
    "\n",
    "    def assess_fitness(self): \n",
    "        \"\"\"Determines the fitness of the particle using the given problem\"\"\"\n",
    "        return assess_fitness(self.position, self.problem)\n",
    "    \n",
    "    def update(self, fittest_informant, global_fittest, follow_current, follow_personal_best, follow_social_best, follow_global_best, scale_update_step):\n",
    "        \"\"\" Updates the velocity and position of the particle using the PSO update algorithm\"\"\"\n",
    "        self.position += self.velocity * scale_update_step\n",
    "        cognitive = random.uniform(0, follow_personal_best)\n",
    "        social = random.uniform(0, follow_social_best)\n",
    "        glob = random.uniform(0, follow_global_best)\n",
    "        self.velocity = (follow_current * self.velocity \n",
    "                        + cognitive * (self.fittest_position - self.position)\n",
    "                        + social * (fittest_informant.fittest_position - self.position)\n",
    "                        + glob * (global_fittest.fittest_position - self.position))\n",
    "        current_fitness = self.assess_fitness()\n",
    "        if (current_fitness < self.previous_fitness):\n",
    "            self.fittest_position = self.position\n",
    "        self.previous_fitness = current_fitness"
   ]
  },
  {
   "cell_type": "markdown",
   "metadata": {},
   "source": [
    "## Find the fittest Particle in the swarm"
   ]
  },
  {
   "cell_type": "markdown",
   "metadata": {},
   "source": [
    "We use this `find_current_best` method to keep track of our current fittest `Particle`, and to find the best among a selected few \"informant\" `Particle`s for the social component."
   ]
  },
  {
   "cell_type": "code",
   "execution_count": null,
   "metadata": {},
   "outputs": [],
   "source": [
    "#collapse-show\n",
    "def find_current_best(swarm, problem):\n",
    "    \"\"\"Evaluates a given swarm and returns the fittest particle based on their best previous position\n",
    "    This can be sped up to only loop over swarm once, but because this is a tutorial, 3 lines is nicer.\n",
    "    \"\"\"\n",
    "    fitnesses = [assess_fitness(x.fittest_position, problem) for x in swarm]\n",
    "    best_value = min(fitnesses)\n",
    "    best_index = fitnesses.index(best_value)\n",
    "    return swarm[best_index]"
   ]
  },
  {
   "cell_type": "markdown",
   "metadata": {},
   "source": [
    "## PSO Class"
   ]
  },
  {
   "cell_type": "markdown",
   "metadata": {},
   "source": [
    "This is just a wrapper which updates all the particles and keeps track of the current fittest. "
   ]
  },
  {
   "cell_type": "markdown",
   "metadata": {},
   "source": [
    "> Note: One thing to note is that we randomly sample the swarm to get the \"informants\" for the `social` update in each particle. There are many different topologies that can be chosen for this part of the algorithm, but we're keeping it simple here. "
   ]
  },
  {
   "cell_type": "code",
   "execution_count": null,
   "metadata": {},
   "outputs": [],
   "source": [
    "class PSO:\n",
    "    \"\"\"\n",
    "    An implementation of Particle Swarm Optimisation, pioneered by Kennedy, Eberhart and Shi.\n",
    "    \n",
    "    \n",
    "    The swarm consists of Particles with 2 fixed length vectors; velocity and position.\n",
    "    Position is initialised with a uniform distribution between 0 and 1. Velocity is initialised with zeros.\n",
    "    Each particle has a given number of informants which are randomly chosen at each iteration.\n",
    "    \n",
    "    Attributes\n",
    "    ----------\n",
    "    swarm_size : int\n",
    "        The size of the swarm\n",
    "    vector_length : int\n",
    "        The dimensions of the problem, should be the same used when creating the problem object \n",
    "    num_informants: int\n",
    "        The number of informants used for social component in particle velocity update \n",
    "\n",
    "    Public Methods\n",
    "    -------\n",
    "    improve(follow_current, follow_personal_best, follow_social_best, follow_global_best, scale_update_step)\n",
    "        Update each particle in the swarm and updates the global fitness\n",
    "    update_swarm(follow_current, follow_personal_best, follow_social_best, follow_global_best, scale_update_step)\n",
    "        Updates each particle, randomly choosing informants for each particle's update.\n",
    "    update_global_fittest()\n",
    "        Updates the `globale_fittest` variable to be the current fittest Particle in the swarm.\n",
    "    \"\"\"\n",
    "    def __init__(self, problem, swarm_size, vector_length, num_informants=2):\n",
    "        self.swarm_size = swarm_size\n",
    "        self.num_informants = num_informants\n",
    "        self.problem = problem\n",
    "        self.swarm = [Particle(self.problem, np.zeros(vector_length), np.random.rand(vector_length), i)\n",
    "                      for i, x in enumerate(range(swarm_size))]\n",
    "        self.global_fittest = np.random.choice(self.swarm, 1)[0]\n",
    "    \n",
    "    def update_swarm(self, follow_current, follow_personal_best, follow_social_best, follow_global_best, scale_update_step):\n",
    "        \"\"\"Update each particle in the swarm\"\"\"\n",
    "        for particle in self.swarm:\n",
    "            informants = np.random.choice(self.swarm, self.num_informants)\n",
    "            if particle not in informants:\n",
    "                np.append(informants, particle)\n",
    "            fittest_informant = find_current_best(informants, self.problem)\n",
    "            particle.update(fittest_informant, \n",
    "                            self.global_fittest, \n",
    "                            follow_current, \n",
    "                            follow_personal_best, \n",
    "                            follow_social_best, \n",
    "                            follow_global_best, \n",
    "                            scale_update_step)\n",
    "    \n",
    "    def update_global_fittest(self):\n",
    "        fittest = find_current_best(self.swarm, self.problem)\n",
    "        global_fittest_fitness = self.global_fittest.assess_fitness()\n",
    "        if (fittest.assess_fitness() < global_fittest_fitness):\n",
    "            self.global_fittest = fittest\n",
    "    \n",
    "    def improve(self, follow_current, follow_personal_best, follow_social_best, follow_global_best, scale_update_step):\n",
    "        \"\"\"Improves the population for one iteration.\"\"\"\n",
    "        self.update_swarm(follow_current, follow_personal_best, follow_social_best, follow_global_best, scale_update_step)\n",
    "        self.update_global_fittest()\n",
    "        \n",
    "size = 25\n",
    "vector_length = 2\n",
    "num_informants = 2\n",
    "pso = PSO(problem, size, vector_length)"
   ]
  },
  {
   "cell_type": "markdown",
   "metadata": {},
   "source": [
    "# Interaction"
   ]
  },
  {
   "cell_type": "markdown",
   "metadata": {},
   "source": [
    "We're using [Panel](https://panel.holoviz.org/) (a library from Anaconda) for the sliders and buttons. Because there are a _lot_ of settings for PSO, we'll leave a escape hatch for people in the form of a `reset_button` which will set the sliders to their default."
   ]
  },
  {
   "cell_type": "markdown",
   "metadata": {},
   "source": [
    "## Sliders and defaults"
   ]
  },
  {
   "cell_type": "code",
   "execution_count": null,
   "metadata": {},
   "outputs": [],
   "source": [
    "default_pop_size = 25\n",
    "default_time = 3\n",
    "default_num_informants = 6\n",
    "population_size_slider = pn.widgets.IntSlider(name='Population Size', start=10, end=50, value=default_pop_size)\n",
    "time_slider = pn.widgets.IntSlider(name='Time Evolving (s)', start=0, end=15, value=default_time)\n",
    "num_informants_slider = pn.widgets.IntSlider(name='Number of Informants', start=0, end=20, value=default_num_informants)\n",
    "\n",
    "default_current = 0.7\n",
    "default_personal_best = 2.0\n",
    "default_social_best = 0.9\n",
    "default_global_best = 0.0\n",
    "default_scale_update_step = 0.7\n",
    "follow_current_slider = pn.widgets.FloatSlider(name='Follow Current', start=0.0, end=5, value=default_current)\n",
    "follow_personal_best_slider = pn.widgets.FloatSlider(name='Follow Personal Best', start=0, end=5, value=default_personal_best)\n",
    "follow_social_best_slider = pn.widgets.FloatSlider(name='Follow Social Best', start=0.0, end=5, value=default_social_best)\n",
    "follow_global_best_slider = pn.widgets.FloatSlider(name='Follow Global Best', start=0.0, end=1, value=default_global_best)\n",
    "scale_update_step_slider = pn.widgets.FloatSlider(name='Scale Update Step', start=0.0, end=1, value=0.7)\n",
    "\n",
    "reset_params_button = pn.widgets.Button(name='Reset Parameters', width=50)\n",
    "def reset_event(event):\n",
    "    global default_current\n",
    "    global default_personal_best\n",
    "    global default_social_best\n",
    "    global default_global_best\n",
    "    global default_scale_update_step\n",
    "    global default_pop_size \n",
    "    global default_time\n",
    "    global default_num_informants\n",
    "    follow_current_slider.value, follow_personal_best_slider.value = default_current, default_personal_best\n",
    "    follow_social_best_slider.value, follow_global_best_slider.value = default_social_best, default_global_best\n",
    "    scale_update_step_slider.value, population_size_slider.value = default_scale_update_step, default_pop_size\n",
    "    time_slider.value, num_informants_slider.value = default_time, default_num_informants\n",
    "reset_params_button.on_click(reset_event)\n"
   ]
  },
  {
   "cell_type": "markdown",
   "metadata": {},
   "source": [
    "## Set the Target\n",
    "\n",
    "For the \"click to set target\" interaction, we'll use a `Holoviews` [DynamicMap](https://holoviews.org/reference/containers/bokeh/DynamicMap.html). It sounds complicated but put simply, it links a stream with a callback function. In this case the stream we're using is a `hv.stream.SingleTap`, which will trigger the `tap_event` callback function with the x and y position of the tap when a tap happens. A `hv.Points` object is returned which can be displayed later."
   ]
  },
  {
   "cell_type": "code",
   "execution_count": null,
   "metadata": {},
   "outputs": [],
   "source": [
    "def tap_event(x,y):\n",
    "    global target_x\n",
    "    global target_y\n",
    "    if x is not None:\n",
    "        target_x, target_y = x,y\n",
    "    return hv.Points((x,y,1), label='Target').opts(color='r', marker='^', size=15)\n",
    "\n",
    "target_x, target_y = 0.5, 0.5\n",
    "tap_stream = hv.streams.SingleTap(transient=True, x=target_x, y=target_y)\n",
    "target_tap = hv.DynamicMap(tap_event, streams=[tap_stream])"
   ]
  },
  {
   "cell_type": "markdown",
   "metadata": {},
   "source": [
    "## Create button events"
   ]
  },
  {
   "cell_type": "markdown",
   "metadata": {},
   "source": [
    "Now for the best part, animating the Particles. This time our callback will return our swarm visualised using `hv.Points` for the particle points, `hv.VectorField` for the velocity arrows, and `hv.Points` to circle the fittest particle.\n",
    "\n",
    "We're going to use a `Holoviews` [DynamicMap](https://holoviews.org/reference/containers/bokeh/DynamicMap.html) again. This time, our stream that we link to the callback is one with no parameters so we can trigger it with our buttons. `run_button` creates a new population and uses DynamicMap's `periodic` method to keep updating it for a given period of time (set with a slider from above)."
   ]
  },
  {
   "cell_type": "code",
   "execution_count": null,
   "metadata": {},
   "outputs": [],
   "source": [
    "def update():\n",
    "    pso.improve(follow_current_slider.value, follow_personal_best_slider.value, \n",
    "               follow_social_best_slider.value, follow_global_best_slider.value, \n",
    "                scale_update_step_slider.value)\n",
    "    vect_data = get_vectorfield_data(pso.swarm)\n",
    "    vectorfield = hv.VectorField(vect_data, vdims=['Angle', 'Magnitude', 'Index'])\n",
    "    particles = [np.array([vect_data[0], vect_data[1], vect_data[4]]) for i, particle in enumerate(swarm)]\n",
    "    scatter = hv.Points(particles, vdims=['Index'], group='Particles')\n",
    "    fittest = hv.Points((pso.global_fittest.fittest_position[0], pso.global_fittest.fittest_position[1],1), label='Current Fittest')\n",
    "    layout = vectorfield * scatter * fittest \n",
    "    layout.opts(\n",
    "        opts.Points(color='b', fill_alpha=0.1, line_width=1, size=10),\n",
    "        opts.VectorField(color='Index', cmap='tab20c', magnitude=dim('Magnitude').norm()*10, pivot='tail'),\n",
    "        opts.Points('Particles', color='Index', cmap='tab20c', size=5, xlim=(0,1), ylim=(0,1))\n",
    "    )\n",
    "    return layout\n",
    "vector_field = hv.DynamicMap(update, streams=[Stream.define('Next')()])\n",
    "\n",
    "run_button = pn.widgets.Button(name='\\u25b6 Begin Improving', width=50)\n",
    "def b(event): \n",
    "    global pso\n",
    "    size = population_size_slider.value\n",
    "    vector_length = 2\n",
    "    num_informants = num_informants_slider.value\n",
    "    pso_fitnesses = []\n",
    "    pso = PSO(problem, size, vector_length, num_informants)\n",
    "    vector_field.periodic(0.005, timeout=time_slider.value)    \n",
    "run_button.on_click(b)"
   ]
  },
  {
   "cell_type": "markdown",
   "metadata": {},
   "source": [
    "## New Population Button"
   ]
  },
  {
   "cell_type": "markdown",
   "metadata": {},
   "source": [
    "We'll also add a button which can step through the update process or reset the population. We do this by hooking up other buttons to the `vector_field.streams` DynamicMap and passing it to `hv.streams.Stream.trigger`."
   ]
  },
  {
   "cell_type": "code",
   "execution_count": null,
   "metadata": {},
   "outputs": [],
   "source": [
    "def new_pop_event(event):\n",
    "    global pso\n",
    "    size = population_size_slider.value\n",
    "    num_informants = num_informants_slider.value\n",
    "    pso = PSO(problem, size, vector_length=2, num_informants=num_informants)\n",
    "    hv.streams.Stream.trigger(vector_field.streams)\n",
    "new_pop_button = pn.widgets.Button(name='New Population', width=50)\n",
    "new_pop_button.on_click(new_pop_event)\n",
    "\n",
    "def next_gen_event(event):\n",
    "    hv.streams.Stream.trigger(vector_field.streams)\n",
    "next_generation_button = pn.widgets.Button(name='Next Generation', width=50)\n",
    "next_generation_button.on_click(next_gen_event)"
   ]
  },
  {
   "cell_type": "markdown",
   "metadata": {},
   "source": [
    "## Layout everything together"
   ]
  },
  {
   "cell_type": "code",
   "execution_count": null,
   "metadata": {},
   "outputs": [],
   "source": [
    "instructions = pn.pane.Markdown('''\n",
    "# Partical Swarm Optimisation Dashboard \n",
    "## Instructions: \n",
    "1. **Click on the plot to place the target.** \n",
    "2. Click '\\u25b6 Begin Improving' button to begin improving for the time on the Time Evolving slider. \n",
    "3. Experiment with the sliders \n",
    "''')\n",
    "dashboard = pn.Column(instructions, \n",
    "                      pn.Row((vector_field*target_tap).opts(width=600, height=600), \n",
    "                             pn.Column(\n",
    "                                 pn.Row(run_button, pn.Spacer(width=50), new_pop_button), \n",
    "                                 next_generation_button, \n",
    "                                 time_slider, \n",
    "                                 num_informants_slider,\n",
    "                                 population_size_slider,\n",
    "                                 follow_current_slider, \n",
    "                                 follow_personal_best_slider, \n",
    "                                 follow_social_best_slider, \n",
    "                                 follow_global_best_slider,\n",
    "                                 scale_update_step_slider,\n",
    "                                 reset_params_button)))"
   ]
  },
  {
   "cell_type": "code",
   "execution_count": null,
   "metadata": {},
   "outputs": [],
   "source": [
    "dashboard.servable()"
   ]
  },
  {
   "cell_type": "markdown",
   "metadata": {},
   "source": [
    "# Conclusion"
   ]
  },
  {
   "cell_type": "markdown",
   "metadata": {},
   "source": [
    "Particle Swarm Optimisation is a really intesting algorithm which was built while trying to build a simiplified model of social interactions. The original aim was to create an algorithm in which the particles would behave like flocking birds.\n",
    "\n",
    "We've seen how each particle has a velocity and position, and the position represents a potential solution to your problem. For updating the velocities, each particle uses its current position, its own fittest position and the fittest positions of other particles.\n",
    "\n",
    "We've also looked at [Anacondas](https://www.anaconda.com/)'s [HoloViz](https://holoviz.org/) tools (Holoviews, Panel and Bokeh). Using these we build an interactive dashboard which shows all the particles updating!\n",
    "\n",
    "Thanks for reading! "
   ]
  }
 ],
 "metadata": {
  "kernelspec": {
   "display_name": "Python 3",
   "language": "python",
   "name": "python3"
  }
 },
 "nbformat": 4,
 "nbformat_minor": 2
}
