{
 "cells": [
  {
   "cell_type": "markdown",
   "id": "5e1f0f90-2aa2-477d-8cbe-d1a98244b059",
   "metadata": {},
   "source": [
    "# Differential Expression in Bulk RNA-seq with AnnData\n",
    "\n",
    "<img \n",
    "    src=\"./assets/header.png\" \n",
    "    alt=\"Header for Differential Expression in Bulk RNA-seq with AnnData\"\n",
    "    align=\"center\" \n",
    "    style=\"border: 2px solid #ccc; border-radius: 8px; padding: 5px; width: 100%; box-shadow: 0px 4px 8px rgba(0,0,0,0.1);\">\n",
    "\n",
    "## Introduction\n",
    "\n",
    "The Cancer Genome Atlas (TCGA) has greatly impacted cancer research by providing comprehensive molecular profiles of over 11,000 tumors across 33 cancer types. This wealth of genomic data enables researchers to identify driver mutations, discover therapeutic targets, and understand the molecular basis of treatment response. However, analyzing TCGA's massive datasets, containing thousands of samples with tens of thousands of genes, can be challenging. This workflow demonstrates how to perform differential expression analysis on TCGA data using modern Python tools and interactive HoloViz visualizations to derive biological insights from sequencing counts.\n",
    "\n",
    "### Why TCGA Analysis Matters for Cancer Research\n",
    "\n",
    "Differential expression analysis of TCGA data is fundamental for:\n",
    "- **Identifying cancer biomarkers** that distinguish tumor from normal tissue\n",
    "- **Understanding oncogenic pathways** by revealing coordinated gene expression changes\n",
    "- **Discovering therapeutic vulnerabilities** through identification of overexpressed targetable genes\n",
    "- **Stratifying patient populations** based on molecular signatures for precision medicine\n",
    "- **Validating findings** from smaller studies using TCGA's large, well-annotated cohorts\n",
    "\n",
    "This workflow guides you through a complete analysis pipeline, from loading TCGA breast cancer data to identifying significantly dysregulated genes, using tools that can scale to pan-cancer analyses.\n"
   ]
  },
  {
   "cell_type": "code",
   "execution_count": null,
   "id": "378339fd-cdcf-49ea-9c59-0187eaacc7ac",
   "metadata": {},
   "outputs": [],
   "source": [
    "from pathlib import Path\n",
    "import anndata as ad\n",
    "import holoviews as hv\n",
    "import panel as pn\n",
    "import hvplot.pandas    # noqa\n",
    "import numpy as np\n",
    "import pooch\n",
    "import pydeseq2.dds\n",
    "import pydeseq2.ds\n",
    "import scanpy as sc\n",
    "\n",
    "import hv_anndata\n",
    "from hv_anndata import ClusterMap\n",
    "\n",
    "hv_anndata.register()\n",
    "hv.extension(\"bokeh\")\n",
    "pn.extension()\n",
    "pn.config.throttled = True"
   ]
  },
  {
   "cell_type": "markdown",
   "id": "304da7a5-e5d1-4577-aad9-d9a4eb63a387",
   "metadata": {},
   "source": [
    "## Part 1: Loading and Understanding TCGA Data Structure\n",
    "\n",
    "For this demonstration, we'll analyze TCGA breast cancer (BRCA) samples that have been preprocessed into the AnnData format, commonly used for single-cell and bulk RNA-seq analysis. The dataset has been subsampled to ~120MB for easier demonstration and dissemination of this workflow.\n",
    "\n",
    "### Understanding the Data Structure\n",
    "\n",
    "TCGA data in AnnData format contains:\n",
    "- **Expression matrix (`X`)**: Raw read counts from RNA sequencing\n",
    "- **Sample metadata (`obs`)**: Clinical and technical annotations for each sample\n",
    "- **Gene information (`var`)**: Gene symbols, IDs, and annotations\n",
    "- **Additional matrices (`layers`)**: Normalized counts, log-transformed values, etc.\n",
    "\n",
    "<div class=\"admonition alert alert-info\">\n",
    "    <p class=\"admonition-title\" style=\"font-weight:bold\">Data Access Note</p>\n",
    "    This demonstration uses publicly available TCGA data. For access to full TCGA datasets, visit the <a href=\"https://portal.gdc.cancer.gov/\">GDC Data Portal</a>.\n",
    "</div>"
   ]
  },
  {
   "cell_type": "code",
   "execution_count": null,
   "id": "0299b3af-6f8b-4b52-b7e8-07e0fb8fbade",
   "metadata": {},
   "outputs": [],
   "source": [
    "DATA_URL = 'https://storage.googleapis.com/tcga-anndata-public/test2025-04/brca_test.h5ad'\n",
    "DATA_DIR = Path('./data')\n",
    "DATA_FILENAME = Path(DATA_URL).name\n",
    "DATA_PATH = DATA_DIR / DATA_FILENAME\n",
    "\n",
    "print(f'Local Data Path: {DATA_PATH}')"
   ]
  },
  {
   "cell_type": "markdown",
   "id": "74f09e6f-b0f0-49d7-af68-89c8caed86d2",
   "metadata": {},
   "source": [
    "<div class=\"admonition alert alert-info\">\n",
    "    <p class=\"admonition-title\" style=\"font-weight:bold\">Note</p>\n",
    "    If you are viewing this notebook as a result of using the `anaconda-project run` command, the data has already been ingested, as configured in the associated yaml file. Running the following cell should find that data and skip any further download.\n",
    "</div>"
   ]
  },
  {
   "cell_type": "markdown",
   "id": "4472cb40-d19c-4fc7-b8a7-c9b3cbe5e62e",
   "metadata": {},
   "source": [
    "<div class=\"admonition alert alert-warning\">\n",
    "    <p class=\"admonition-title\" style=\"font-weight:bold\">Warning</p>\n",
    "    If the data was not previously ingested with `anaconda-project`, the following cell will download ~100 MB the first time it is run.\n",
    "</div>"
   ]
  },
  {
   "cell_type": "code",
   "execution_count": null,
   "id": "7989f412-c25d-4897-9b86-b7842887a3a3",
   "metadata": {},
   "outputs": [],
   "source": [
    "DATA_DIR.mkdir(parents=True, exist_ok=True)\n",
    "\n",
    "# Download the data if it doesn't exist\n",
    "if not DATA_PATH.exists():\n",
    "    print(f'Downloading data to: {DATA_PATH}')\n",
    "    full_file_path = pooch.retrieve(\n",
    "        path=DATA_DIR,\n",
    "        fname='brca_test.h5ad',\n",
    "        url=\"https://storage.googleapis.com/tcga-anndata-public/test2025-04/brca_test.h5ad\",\n",
    "        known_hash=\"md5:0e17ecf3716174153bc31988ba6dd161\"\n",
    "    )\n",
    "    print(f'Dataset downloaded to: {DATA_PATH}')\n",
    "else:\n",
    "    print(f'Data exists at: {DATA_PATH}')"
   ]
  },
  {
   "cell_type": "code",
   "execution_count": null,
   "id": "3c0b6b01-ba3e-46af-82d1-b63e37ebd71f",
   "metadata": {},
   "outputs": [],
   "source": [
    "adata = ad.read_h5ad(full_file_path)\n",
    "adata"
   ]
  },
  {
   "cell_type": "markdown",
   "id": "ba6c77e1-c0c6-417d-a46e-3fd6967cc812",
   "metadata": {},
   "source": [
    "## Part 2: Cohort Selection and Quality Control\n",
    "\n",
    "### Exploring Sample Types\n",
    "\n",
    "TCGA includes multiple sample types from the same patients, enabling paired analyses. Let's examine what sample types are available:\n"
   ]
  },
  {
   "cell_type": "code",
   "execution_count": null,
   "id": "b0e7ea4b-d222-45db-985c-fa608c146e20",
   "metadata": {},
   "outputs": [],
   "source": [
    "adata.obs.sample_type_name.value_counts()"
   ]
  },
  {
   "cell_type": "markdown",
   "id": "6a678c8a-6532-4c10-8732-61ebffcc0ff7",
   "metadata": {},
   "source": [
    "The cell output above should look like the following:\n",
    "```python\n",
    "sample_type_name\n",
    "Primary Tumor          347\n",
    "Solid Tissue Normal     37\n",
    "Metastatic               2\n",
    "Name: count, dtype: int64\n",
    "\n",
    "```\n",
    "\n",
    "For differential expression analysis, we'll compare:\n",
    "- **Primary Tumor**: Cancer tissue from the original tumor site\n",
    "- **Solid Tissue Normal**: Adjacent normal breast tissue (crucial controls)\n",
    "\n",
    "We'll exclude metastatic samples due to their small sample size in this subset.\n"
   ]
  },
  {
   "cell_type": "code",
   "execution_count": null,
   "id": "c6563f11-742c-4dd0-a89e-9f4e66a39ed7",
   "metadata": {},
   "outputs": [],
   "source": [
    "# Define cohort for analysis\n",
    "sample_types = [\"Primary Tumor\", \"Solid Tissue Normal\"]\n",
    "\n",
    "# Verify tissue origin\n",
    "adata.obs.primary_site.value_counts()"
   ]
  },
  {
   "cell_type": "markdown",
   "id": "c285dab7-0ab2-467d-8db1-f53edadc181a",
   "metadata": {},
   "source": [
    "### Data Filtering and Preprocessing\n",
    "\n",
    "Quality control is essential for reliable differential expression results. We'll:\n",
    "1. Filter to breast tissue samples only\n",
    "2. Remove lowly expressed genes (mean count < 50)\n",
    "3. Convert sparse matrix to dense format for DESeq2"
   ]
  },
  {
   "cell_type": "code",
   "execution_count": null,
   "id": "6319ab0b-6a62-45ed-bad8-73191e2e587e",
   "metadata": {},
   "outputs": [],
   "source": [
    "# Select breast cancer samples of interest\n",
    "brca = adata[(adata.obs.primary_site == \"Breast\") & \n",
    "           (adata.obs.sample_type_name.isin(sample_types))]\n",
    "\n",
    "# Filter genes with sufficient expression\n",
    "brca = brca[:, np.mean(brca.X, axis=0) > 50].copy()\n",
    "\n",
    "# Convert to dense matrix for analysis\n",
    "brca.X = brca.X.todense()\n",
    "\n",
    "print(f\"Analysis cohort: {brca.n_obs} samples × {brca.n_vars} genes\")"
   ]
  },
  {
   "cell_type": "markdown",
   "id": "4c5b2a34-7977-4899-849b-f9cc808095de",
   "metadata": {},
   "source": [
    "<div class=\"admonition alert alert-info\">\n",
    "    <p class=\"admonition-title\" style=\"font-weight:bold\">Filtering Rationale</p>\n",
    "    Removing genes with low expression reduces noise and multiple testing burden while preserving biologically relevant signals. The threshold of 50 mean counts is conservative but appropriate for TCGA's sequencing depth.\n",
    "</div>"
   ]
  },
  {
   "cell_type": "markdown",
   "id": "195852f4-4fc1-47bc-848c-df815026bf37",
   "metadata": {},
   "source": [
    "## Part 3: Differential Expression Analysis with DESeq2\n",
    "\n",
    "### Why DESeq2?\n",
    "\n",
    "DESeq2 is a standard tool for differential expression analysis because it:\n",
    "- **Models count data appropriately** using negative binomial distribution\n",
    "- **Normalizes for library size** and RNA composition biases\n",
    "- **Shrinks log fold changes** for genes with low counts, reducing false positives\n",
    "- **Provides robust statistical testing** with multiple testing correction\n",
    "\n",
    "### Running the Analysis\n"
   ]
  },
  {
   "cell_type": "code",
   "execution_count": null,
   "id": "07eb0829-ab54-49b6-b0a6-66a0da20b8db",
   "metadata": {
    "scrolled": true
   },
   "outputs": [],
   "source": [
    "# Create DESeq dataset with experimental design\n",
    "brca_ds = pydeseq2.dds.DeseqDataSet(\n",
    "    adata=brca, \n",
    "    design=\"~sample_type_name\",  # Compare by sample type\n",
    "    quiet=True,\n",
    "    n_cpus=1, # Remove this for multi-cpu processing\n",
    ")"
   ]
  },
  {
   "cell_type": "code",
   "execution_count": null,
   "id": "092479f9-ea6a-4a58-8db0-9c2544090a13",
   "metadata": {},
   "outputs": [],
   "source": [
    "%%time\n",
    "# Run differential expression analysis\n",
    "brca_ds.deseq2()"
   ]
  },
  {
   "cell_type": "markdown",
   "id": "c7afc4c9-af20-40c6-92c8-f79e2d3b6a81",
   "metadata": {},
   "source": [
    "The analysis performs several steps:\n",
    "1. Estimating size factors (normalization)\n",
    "2. Estimating gene dispersions\n",
    "3. Fitting the negative binomial model\n",
    "4. Testing for differential expression\n",
    "   \n",
    "### Adding Log-Transformed Counts\n",
    "\n",
    "For visualization, we'll add log-transformed normalized counts:"
   ]
  },
  {
   "cell_type": "code",
   "execution_count": null,
   "id": "d784a7d8-4c17-41c6-bdb0-abbf96013339",
   "metadata": {},
   "outputs": [],
   "source": [
    "# Log transform normalized counts for visualization\n",
    "brca_ds.layers['log1p'] = np.log1p(brca_ds.layers['normed_counts'])"
   ]
  },
  {
   "cell_type": "code",
   "execution_count": null,
   "id": "47a60037-39a2-410f-b5b3-794a279171dc",
   "metadata": {},
   "outputs": [],
   "source": [
    "brca_ds"
   ]
  },
  {
   "cell_type": "markdown",
   "id": "93f3d618-20a5-4ac4-9395-6c302bbc6e3b",
   "metadata": {},
   "source": [
    "## Part 4: Statistical Testing and Visualization"
   ]
  },
  {
   "cell_type": "code",
   "execution_count": null,
   "id": "0dc50e27-6124-4849-8a60-e4b1a73fb856",
   "metadata": {},
   "outputs": [],
   "source": [
    "%%time\n",
    "# Statistical testing: Primary Tumor vs Solid Tissue Normal\n",
    "t_n = pydeseq2.ds.DeseqStats(\n",
    "    brca_ds, \n",
    "    contrast=[\"sample_type_name\"] + sample_types,\n",
    "    n_cpus=1, # Remove this for multi-cpu processing\n",
    ")\n",
    "t_n.summary()\n",
    "\n",
    "# Extract results\n",
    "t_n_res = t_n.results_df\n",
    "\n",
    "# Merge the gene_name with results\n",
    "t_n_res = t_n_res.join(brca.var['gene_name'])"
   ]
  },
  {
   "cell_type": "markdown",
   "id": "988ab155-c797-4828-8277-55fd60272082",
   "metadata": {},
   "source": [
    "### Creating a Volcano Plot\n",
    "\n",
    "Volcano plots are the standard visualization for differential expression results, displaying:\n",
    "- **X-axis**: Log2 fold change (effect size)\n",
    "- **Y-axis**: Statistical significance (-log10 adjusted p-value)"
   ]
  },
  {
   "cell_type": "code",
   "execution_count": null,
   "id": "c7adaadf-94a6-457b-88f4-0a25c574c66c",
   "metadata": {},
   "outputs": [],
   "source": [
    "# Prepare data for visualization\n",
    "t_n_res['neg_log10_p'] = -np.log10(t_n_res['pvalue'])\n",
    "t_n_res['neg_log10_padj'] = -np.log10(t_n_res['padj'])\n",
    "\n",
    "# Create significance categories based on both thresholds\n",
    "significance_threshold = -np.log10(0.05)\n",
    "fold_change_threshold = 1.0\n",
    "\n",
    "t_n_res['significance'] = 'Not-Significant'\n",
    "t_n_res.loc[\n",
    "    (t_n_res['neg_log10_padj'] > significance_threshold) & \n",
    "    (abs(t_n_res['log2FoldChange']) > fold_change_threshold), \n",
    "    'significance'\n",
    "] = 'Significant'\n",
    "\n",
    "volcano_plot = t_n_res.hvplot.scatter(\n",
    "    x=\"log2FoldChange\", \n",
    "    y=\"neg_log10_padj\",\n",
    "    c='significance',\n",
    "    cmap={'Not-Significant': 'lightgrey', 'Significant': 'black'},\n",
    "    hover_cols=['gene_name', 'significance'],\n",
    "    title=\"Differential Expression: Tumor vs Normal\",\n",
    "    legend='top_right',\n",
    "    alpha=0.6,\n",
    "    size=20,\n",
    "    responsive=True,\n",
    "    height=500\n",
    ")\n",
    "\n",
    "# Add threshold lines\n",
    "(\n",
    "    volcano_plot\n",
    "    * hv.HLine(significance_threshold).opts(color='red', line_dash='dashed', line_width=2)\n",
    "    * hv.VLine(-fold_change_threshold).opts(color='blue', line_dash='dashed', line_width=2) \n",
    "    * hv.VLine(fold_change_threshold).opts(color='blue', line_dash='dashed', line_width=2)\n",
    ")"
   ]
  },
  {
   "cell_type": "markdown",
   "id": "0000bb2a-395e-454b-84fe-d136f0a048a8",
   "metadata": {},
   "source": [
    "---\n",
    "<img \n",
    "    src=\"./assets/volcano.png\"   \n",
    "    alt=\"Volcano plot showing differentially expressed genes\" \n",
    "    align=\"right\" \n",
    "    width=\"75%\">\n",
    "\n",
    "**Static preview of the above plot. The Interactive volcano plot reveals significantly differentially expressed genes in breast cancer. Red line: p-adj = 0.05; Blue lines: |log2FC| = 1 👉**\n",
    "\n",
    "<div style=\"clear: both;\"></div>\n",
    "\n",
    "---"
   ]
  },
  {
   "cell_type": "markdown",
   "id": "68f5dbfa-2b6f-40a9-a4d3-86674d9e4a06",
   "metadata": {},
   "source": [
    "### Identifying Significantly Dysregulated Genes"
   ]
  },
  {
   "cell_type": "code",
   "execution_count": null,
   "id": "554f483e-8f1e-4619-b7d3-d0c984b704a8",
   "metadata": {},
   "outputs": [],
   "source": [
    "# Select genes with adjusted p-value < 0.05 and |log2FC| > 1\n",
    "sig_genes = t_n_res[\n",
    "    (t_n_res['neg_log10_padj'] > -np.log10(0.05)) & \n",
    "    (abs(t_n_res['log2FoldChange']) > 1.0)\n",
    "]\n",
    "\n",
    "# Store Ensembl IDs before changing index\n",
    "sig_genes['ensembl_id'] = sig_genes.index\n",
    "\n",
    "# Set gene_name as index for better display\n",
    "sig_genes = sig_genes.set_index('gene_name')\n",
    "    \n",
    "print(f\"Found {len(sig_genes)} significantly dysregulated genes\")\n",
    "print(\"\\nTop upregulated in tumor:\")\n",
    "print(sig_genes.nlargest(5, 'log2FoldChange')[['log2FoldChange', 'padj', 'ensembl_id']])\n",
    "print(\"\\nTop downregulated in tumor:\")\n",
    "print(sig_genes.nsmallest(5, 'log2FoldChange')[['log2FoldChange', 'padj', 'ensembl_id']])"
   ]
  },
  {
   "cell_type": "markdown",
   "id": "a0c4e899-5b8f-4f6a-a69d-c53cb3c91640",
   "metadata": {},
   "source": [
    "## Part 5: Expression Heatmap with Hierarchical Clustering\n",
    "\n",
    "To visualize expression patterns across samples, we'll create a clustered heatmap of significantly dysregulated genes. This reveals:\n",
    "- **Co-expression modules** of functionally related genes\n",
    "- **Sample clustering** that may identify molecular subtypes\n",
    "- **Quality control** by confirming tumor/normal separation"
   ]
  },
  {
   "cell_type": "code",
   "execution_count": null,
   "id": "73eb3dd9-8855-42b0-a535-dea08d128050",
   "metadata": {},
   "outputs": [],
   "source": [
    "# Log transform for visualization\n",
    "brca_log1p = brca.copy()\n",
    "brca_log1p.X = np.log1p(brca_log1p.X)\n",
    "\n",
    "# Select significant genes using Ensembl IDs\n",
    "sig_ensembl_ids = sig_genes['ensembl_id'].values\n",
    "brca_sig = brca_log1p[:, sig_ensembl_ids].copy()\n",
    "\n",
    "# Update the var names to use gene symbols for better visualization\n",
    "if 'gene_name' in brca.var.columns:\n",
    "    # Create a mapping from Ensembl ID to gene name\n",
    "    id_to_name = dict(zip(sig_genes['ensembl_id'], sig_genes.index))\n",
    "    \n",
    "    # Update var_names in the subset\n",
    "    new_var_names = [id_to_name.get(eid, eid) for eid in brca_sig.var_names]\n",
    "    brca_sig.var_names = new_var_names\n",
    "\n",
    "\n",
    "# Create clustered heatmap using scanpy\n",
    "sc.pl.clustermap(\n",
    "    brca_sig, \n",
    "    obs_keys='sample_type_name',  # Colored bar showing tumor vs normal\n",
    "    use_raw=False,  # Use the log-transformed values\n",
    "    figsize=(10, 10),  # Passed to seaborn\n",
    "    cbar_kws={'label': 'Log Expression'}  # Passed to seaborn\n",
    ")\n"
   ]
  },
  {
   "cell_type": "markdown",
   "id": "ceedb095-f817-4169-a47f-5ea8190abe89",
   "metadata": {},
   "source": [
    "## Toward Interactive Exploration with HoloViz\n",
    "\n",
    "These limitations of a static plot underscore the need for interactive visualization tools in genomic analysis. The HoloViz ecosystem is developing an interactive ClusterMap. It currently enables:\n",
    "- **Zoom and pan** to explore specific regions while maintaining context\n",
    "- **Hover tooltips** showing gene names, sample IDs, and exact expression values\n",
    "\n",
    "In the future, it will support:\n",
    "- **Dynamic filtering** to focus on specific gene sets or sample subgroups\n",
    "- **Adjoined Bars** to indicate additional features of each sample (like showing tumor vs normal) or gene"
   ]
  },
  {
   "cell_type": "code",
   "execution_count": null,
   "id": "03f59e24-d4fc-43e8-abe3-7d5c7dc9c640",
   "metadata": {},
   "outputs": [],
   "source": [
    "ClusterMap(adata=brca_sig, plot_opts={'width': 700, 'height':700}).servable() # servable for Panel standalone apps"
   ]
  },
  {
   "cell_type": "markdown",
   "id": "01c50bb3-aca4-4977-b778-0ee45decd9f6",
   "metadata": {},
   "source": [
    "---\n",
    "<img \n",
    "    src=\"./assets/clustermap.png\"  \n",
    "    alt=\"Clustered heatmap of differentially expressed genes\" \n",
    "    align=\"right\" \n",
    "    width=\"75%\"> \n",
    "\n",
    "**Static preview of the above cell output. The hierarchical clustering reveals expression patterns along interactive capabilities 👉**\n",
    "\n",
    "<div style=\"clear: both;\"></div>\n",
    "\n",
    "---\n"
   ]
  },
  {
   "cell_type": "markdown",
   "id": "6c14f368-fd4e-4477-9dba-9e789a0b98b6",
   "metadata": {},
   "source": [
    "<div class=\"admonition alert alert-info\">\n",
    "    <p class=\"admonition-title\" style=\"font-weight:bold\">Next Steps</p>\n",
    "    Consider pathway enrichment analysis on significant genes using tools like <a href=\"http://www.gsea-msigdb.org/gsea/index.jsp\">GSEA</a> or <a href=\"https://maayanlab.cloud/Enrichr/\">Enrichr</a> to understand biological processes driving the expression changes.\n",
    "</div>\n"
   ]
  },
  {
   "cell_type": "markdown",
   "id": "eb82c54f-dded-4d04-81e9-ce20128ed914",
   "metadata": {},
   "source": [
    "## Clinical Applications\n",
    "\n",
    "This differential expression workflow underpins biomarker discovery, therapeutic target identification, and molecular subtyping. It enables researchers to identify diagnostic and prognostic genes, uncover druggable vulnerabilities, and define expression signatures that stratify patients and predict treatment response, providing a foundation for precision oncology.\n",
    "\n",
    "\n",
    "## Acknowledgments\n",
    "\n",
    "This workflow was developed with support from NIH-NCI. TCGA data is provided by the National Cancer Institute Genomic Data Commons."
   ]
  },
  {
   "cell_type": "code",
   "execution_count": null,
   "id": "27891fc0-ab7d-4ce3-9f7d-26837c7739b5",
   "metadata": {},
   "outputs": [],
   "source": []
  }
 ],
 "metadata": {
  "kernelspec": {
   "display_name": "Python 3 (ipykernel)",
   "language": "python",
   "name": "python3"
  },
  "language_info": {
   "codemirror_mode": {
    "name": "ipython",
    "version": 3
   },
   "file_extension": ".py",
   "mimetype": "text/x-python",
   "name": "python",
   "nbconvert_exporter": "python",
   "pygments_lexer": "ipython3",
   "version": "3.13.7"
  }
 },
 "nbformat": 4,
 "nbformat_minor": 5
}
