{
 "cells": [
  {
   "cell_type": "markdown",
   "metadata": {},
   "source": [
    "# Census 2020"
   ]
  },
  {
   "cell_type": "markdown",
   "metadata": {},
   "source": [
    "## 2020 US Census Data\n",
    "\n",
    "The United States Census is conducted every 10 years, as mandated by Article I, Section 2 of the Constitution. The 2020 Census collected detailed demographic information for over 330 million people across the USA. This data is crucial for several purposes, including:\n",
    "\n",
    "1. Apportioning seats in the U.S. House of Representatives among the 50 states.\n",
    "2. Redistricting and adjusting electoral boundaries based on population changes.\n",
    "3. Allocating federal funds to local communities for various programs.\n",
    "\n",
    "In this notebook, we will explore the 2020 Census dataset using the [hvPlot](https://hvplot.holoviz.org/) library, which allows for easy, interactive plotting of large datasets. We will employ [Datashader](https://datashader.org/) within hvPlot to visualize racial demographics and population density, following a similar approach to our analysis of the [2010 Census data](https://examples.holoviz.org/gallery/census/census.html#). Using this 2020 dataset, we aim to investigate if there are significant shifts in population or racial distributions over the past decade.\n",
    "\n",
    "The 2020 dataset, available [here](#), provides racial information and approximate locations  for individuals, with privacy maintained by randomizing the precise coordinates at the census block level.\n",
    "\n",
    "### Load data and set up\n",
    "\n",
    "The census data has been saved in a [Parquet](https://parquet.apache.org)-format file, a columnar data structure which will be loaded using [Dask](https://dask.org/) dataframe."
   ]
  },
  {
   "cell_type": "code",
   "execution_count": null,
   "metadata": {},
   "outputs": [],
   "source": [
    "import datashader as ds\n",
    "import dask.dataframe as dd\n",
    "import hvplot.dask # noqa"
   ]
  },
  {
   "cell_type": "code",
   "execution_count": null,
   "metadata": {},
   "outputs": [],
   "source": [
    "%%time\n",
    "df = dd.read_parquet('./data/census2020.parq').persist()\n",
    "df = df.reset_index(drop=True).rename(columns={'R':'race'})"
   ]
  },
  {
   "cell_type": "markdown",
   "metadata": {},
   "source": [
    "This dataset contains over 334 million rows, with each row representing a person counted in the census. Each record includes a location in Web Mercator format and a race encoded as a single character: \n",
    "- `'w'` for White, \n",
    "- `'b'` for Black, \n",
    "- `'n'` for Native American, \n",
    "- `'a'` for Asian, \n",
    "- `'o'` for Hispanic or Other, \n",
    "- `'hpi'` for Hawaiian Pacific Islander, and \n",
    "- `'m'` for Two or More Races. \n",
    "\n",
    "Notably, the last two classifications were added for this 2020 dataset, making it more detailed than the 2010 dataset. We will rename the values in the `race` column to their full names for easier recall and understanding."
   ]
  },
  {
   "cell_type": "code",
   "execution_count": null,
   "metadata": {},
   "outputs": [],
   "source": [
    "race_mapping = {\n",
    "    'hpi': 'Hawaiian Pacific Islander',\n",
    "    'a': 'Asian',\n",
    "    'm': 'Mixed',\n",
    "    'o': 'Hispanic or Other',\n",
    "    'b': 'Black',\n",
    "    'n': 'Native American',\n",
    "    'w': 'White'\n",
    "}\n",
    "\n",
    "df['race'] = df['race'].map(race_mapping, meta=('race', 'category'))\n",
    "\n",
    "df.head()"
   ]
  },
  {
   "cell_type": "markdown",
   "metadata": {},
   "source": [
    "Let's define some default plot options as well some geographic ranges to look at later as well."
   ]
  },
  {
   "cell_type": "code",
   "execution_count": null,
   "metadata": {},
   "outputs": [],
   "source": [
    "from holoviews import opts\n",
    "\n",
    "plot_width  = 900\n",
    "plot_height = 525\n",
    "opts.defaults(\n",
    "    opts.Points(width=plot_width, height=plot_height,\n",
    "                xaxis=None, yaxis=None, bgcolor='black'))"
   ]
  },
  {
   "cell_type": "code",
   "execution_count": null,
   "metadata": {},
   "outputs": [],
   "source": [
    "USA           = ((-13900000, -7350000), (2880000, 6318000)) # Continental USA\n",
    "LakeMichigan  = ((-10205770.92, -9347497.64), (4975536.36, 5477830.73))\n",
    "Chicago       = ((-9828397.84, -9718191.55), (5096783.58, 5160979.44))\n",
    "Chinatown     = ((-9759379.76, -9754926.98), (5137042.27, 5140031.14))\n",
    "NewYorkCity   = ((-8281056.92, -8175303.40), (4940333.23, 4999075.73))\n",
    "LosAngeles    = ((-13194699.24, -13114549.21), (3979227.61, 4023432.27))\n",
    "Houston       = ((-10692237.09, -10539729.39), (3433046.58, 3517697.17))\n",
    "Austin        = ((-10899291.34, -10855876.74), (3525420.53, 3551199.11))\n",
    "NewOrleans    = ((-10059942.38, -10006509.03), (3480433.44, 3509978.50))\n",
    "Atlanta       = ((-9448798.38, -9355290.01), (3955187.40, 4007338.12))"
   ]
  },
  {
   "cell_type": "markdown",
   "metadata": {},
   "source": [
    "### Population Density\n",
    "\n",
    "To handle the rendering of such a large dataset efficiently using hvPlot, we will use the `rasterize=True` parameter. This activates Datashader, which aggregates individual data points into pixels, allowing for smooth and interactive visualization of large datasets. The resulting aggregated grid will be rendered with a linear color normalization (`cnorm='linear'`) and a grayscale colormap (`gray`). Denser areas will appear in lighter shades (white), while lower-density areas will be represented by darker shades of gray:\n"
   ]
  },
  {
   "cell_type": "code",
   "execution_count": null,
   "metadata": {},
   "outputs": [],
   "source": [
    "from colorcet import fire, gray, dimgray\n",
    "\n",
    "x_range, y_range = USA\n",
    "df.hvplot.points('x', 'y', rasterize=True, cnorm='linear', xlim=x_range, ylim=y_range, cmap=gray)"
   ]
  },
  {
   "cell_type": "markdown",
   "metadata": {},
   "source": [
    "As you can see, the plot provides little visual information, as the lower-density areas blend into the dark background, making them indistinguishable. To better highlight these lower-density regions, we will switch to a lighter gray colormap (`dimgray`), which will improve the visibility of less populated areas without overwhelming the higher-density ones:"
   ]
  },
  {
   "cell_type": "code",
   "execution_count": null,
   "metadata": {},
   "outputs": [],
   "source": [
    "df.hvplot.points('x', 'y', rasterize=True, cnorm='linear', xlim=x_range, ylim=y_range, cmap=dimgray)"
   ]
  },
  {
   "cell_type": "markdown",
   "metadata": {},
   "source": [
    "The plot above reveals the boundaries of the dataset and shows that many areas in the western USA have such low population density that some pixels contain no data at all. The key takeaway is that the population distribution is highly non-uniform, with dense urban areas and sparse rural regions. Given this uneven distribution, it makes sense to switch to a non-uniform color mapping by using a logarithmic scale (`cnorm='log'`) to better visualize the variations in population density across the magnitude ranges:"
   ]
  },
  {
   "cell_type": "code",
   "execution_count": null,
   "metadata": {},
   "outputs": [],
   "source": [
    "df.hvplot.points('x', 'y', rasterize=True, cnorm='log', xlim=x_range, ylim=y_range, cmap=dimgray)"
   ]
  },
  {
   "cell_type": "markdown",
   "metadata": {},
   "source": [
    "With the logarithmic mapping, we can now see much more structure in the dataset, revealing geographic patterns across varying population densities. Small towns in rural areas are now visible, while densely populated urban centers stand out sharply.\n",
    "\n",
    "However, choosing 'log' was somewhat arbitrary. It effectively highlights local patterns at different densities, but other nonlinear mappings might reveal different insights. Instead of experimenting with various functions, we can use [histogram equalization](https://en.wikipedia.org/wiki/Histogram_equalization) to adjust the mapping automatically. This technique redistributes pixel values so that each color represents a similar number of data points, making it useful for any dataset regardless of its distribution:"
   ]
  },
  {
   "cell_type": "code",
   "execution_count": null,
   "metadata": {},
   "outputs": [],
   "source": [
    "df.hvplot.points('x', 'y', rasterize=True, cnorm='eq_hist', xlim=x_range, ylim=y_range, cmap=dimgray)"
   ]
  },
  {
   "cell_type": "markdown",
   "metadata": {},
   "source": [
    "While histogram equalization helps reveal patterns across the full range of population densities, the choice of colormap is equally important in ensuring that these patterns are perceived correctly. The previous grayscale colormap (`dimgray`) was useful for distinguishing between high- and low-density areas, but grayscale often falls short when it comes to highlighting subtle variations in data values.\n",
    "\n",
    "To improve visual clarity and make these differences more perceptible, we will switch to a **perceptually uniform colormap**, such as **`fire`**. Perceptually uniform colormaps are designed so that changes in data values are reflected as uniform changes in color intensity, making patterns easier to spot across the entire range of values."
   ]
  },
  {
   "cell_type": "code",
   "execution_count": null,
   "metadata": {},
   "outputs": [],
   "source": [
    "df.hvplot.points('x', 'y', rasterize=True, cnorm='eq_hist', xlim=x_range, ylim=y_range, cmap=fire)"
   ]
  },
  {
   "cell_type": "markdown",
   "metadata": {},
   "source": [
    "We can also highlight the top 1% of the pixels by population density. By creating a custom colormap with 100 equal ranges, we can emphasize the densest areas by assigning a distinct color to the top 1%. The rest of the plot uses a uniform grayscale colormap, with the highest-density pixels standing out in red:"
   ]
  },
  {
   "cell_type": "code",
   "execution_count": null,
   "metadata": {},
   "outputs": [],
   "source": [
    "import numpy as np\n",
    "gray2 = [(int(i),int(i),int(i)) for i in np.linspace(0,255,99)]\n",
    "gray2 += ['red']"
   ]
  },
  {
   "cell_type": "code",
   "execution_count": null,
   "metadata": {},
   "outputs": [],
   "source": [
    "df.hvplot.points('x', 'y', rasterize=True, cnorm='eq_hist', xlim=x_range, ylim=y_range, cmap=gray2)"
   ]
  },
  {
   "cell_type": "markdown",
   "metadata": {},
   "source": [
    "In general, it is clear that the population distribution is dominated by densely populated urban centers, with more sparsely populated rural areas surrounding them. While population density gives a broad overview, it doesn't provide a full picture of the underlying demographics.\n",
    "\n",
    "To gain deeper insights into the makeup of the population, we will now focus on the distribution of racial categories. By examining the racial demographics within the dataset, we can uncover patterns and trends in different regions, which may reveal more nuanced population dynamics that aren't apparent from density alone.\n",
    "\n",
    "### Categorical Data (Race)\n",
    "\n",
    "To accurately visualize the racial demographics, we will use the same color scheme that was applied to the 2010 dataset. We will also introduce a few new colors to represent the extra racial categories included in the 2020 dataset:"
   ]
  },
  {
   "cell_type": "code",
   "execution_count": null,
   "metadata": {},
   "outputs": [],
   "source": [
    "color_key = {\n",
    "    'Asian': 'red',\n",
    "    'Hispanic or Other' : 'fuchsia',\n",
    "    'Black' : 'lime',\n",
    "    'Native American' : 'yellow',\n",
    "    'White' : 'aqua',\n",
    "    'Hawaiian Pacific Islander': 'orange',\n",
    "    'Mixed' : 'purple',\n",
    "}"
   ]
  },
  {
   "cell_type": "markdown",
   "metadata": {},
   "source": [
    "Now, we will aggregate the data using the `ds.by()` parameter, which allows us to group the dataset by the `race` column. This will produce separate aggregates for each racial category which will now be colored using the specified `color_key`.\n",
    "\n",
    "Additionally, we will enable the **`dynspread=True`** parameter to dynamically adjust the size of rendered points. This ensures that areas with sparse data points remain visible, even when zooming out or when the data points are too densely packed. This dynamic spreading of points enhances visibility without overwhelming the plot, allowing us to capture both the subtle variations in rural areas and the dense clusters in urban regions. \n",
    "\n",
    "You can see how this works by zooming into specific regions of the map if you are working in a live Python environment. The plot will dynamically re-render, adjusting the point sizes and density to provide clearer visibility in the zoomed areas."
   ]
  },
  {
   "cell_type": "code",
   "execution_count": null,
   "metadata": {},
   "outputs": [],
   "source": [
    "def create_image(longitude_range, latitude_range, w=plot_width, h=plot_height, bgcolor='black'):\n",
    "    return df.hvplot.points('x', 'y', rasterize=True, dynspread=True, cnorm='eq_hist', xlim=longitude_range, ylim=latitude_range,\n",
    "                            cmap=color_key, bgcolor=bgcolor, colorbar=False, aggregator=ds.by('race'), width=w, height=h)"
   ]
  },
  {
   "cell_type": "code",
   "execution_count": null,
   "metadata": {},
   "outputs": [],
   "source": [
    "%%time\n",
    "create_image(*USA)"
   ]
  },
  {
   "cell_type": "markdown",
   "metadata": {},
   "source": [
    "The result shows that the continental USA is overwhelmingly white in geographic terms, apart from some predominantly Hispanic regions along the Southern border, some regions with high densities of blacks in the Southeast, and a few isolated areas of Native Americans in the West.\n",
    "\n",
    "If you're working in a live Python environment, you can zoom into specific areas of the map, and the plot will automatically re-render to show more details at that zoom level. We can also zoom into specific regions using predefined coordinates:"
   ]
  },
  {
   "cell_type": "code",
   "execution_count": null,
   "metadata": {},
   "outputs": [],
   "source": [
    "%%time\n",
    "create_image(*NewYorkCity)"
   ]
  },
  {
   "cell_type": "code",
   "execution_count": null,
   "metadata": {},
   "outputs": [],
   "source": [
    "%%time\n",
    "create_image(*LakeMichigan)"
   ]
  },
  {
   "cell_type": "code",
   "execution_count": null,
   "metadata": {},
   "outputs": [],
   "source": [
    "%%time\n",
    "create_image(*Chicago)"
   ]
  },
  {
   "cell_type": "code",
   "execution_count": null,
   "metadata": {},
   "outputs": [],
   "source": [
    "create_image(*Chinatown)"
   ]
  },
  {
   "cell_type": "markdown",
   "metadata": {},
   "source": [
    "Here we can see that the Chinatown region of Chicago has a high concentration of Asian residents as expected and Mixed residents as well, a pattern not present in the 2010 data. However, it's unclear whether the presence of the Mixed race group is due to a new classification of an already existing population, or if it reflects an entirely new demographic in the area.\n",
    "\n",
    "We can also observe that different cities have different racial make-ups while also being highly segregated:"
   ]
  },
  {
   "cell_type": "code",
   "execution_count": null,
   "metadata": {},
   "outputs": [],
   "source": [
    "create_image(*Houston)"
   ]
  },
  {
   "cell_type": "code",
   "execution_count": null,
   "metadata": {},
   "outputs": [],
   "source": [
    "create_image(*Atlanta)"
   ]
  },
  {
   "cell_type": "code",
   "execution_count": null,
   "metadata": {},
   "outputs": [],
   "source": [
    "create_image(*LosAngeles)"
   ]
  },
  {
   "cell_type": "markdown",
   "metadata": {},
   "source": [
    "### Visualizing Racial Demographics\n",
    "\n",
    "We can use the `groupby` parameter to generate plots categorized by race. This approach allows us to clearly visualize the regions where each racial group predominantly resides, providing insights into the spatial patterns and demographic makeup of various areas."
   ]
  },
  {
   "cell_type": "code",
   "execution_count": null,
   "metadata": {},
   "outputs": [],
   "source": [
    "%%time\n",
    "df.hvplot.points('x', 'y', rasterize=True, dynspread=True, cnorm='eq_hist',\n",
    "                 xlim=x_range, ylim=y_range, colorbar=False, groupby='race') # Is there a faster way to do this?"
   ]
  },
  {
   "cell_type": "markdown",
   "metadata": {},
   "source": [
    "### Overlaying Plots with Map Data\n",
    "\n",
    "To enrich these visualizations and provide more spatial context, we can overlay the plots with map data. This will allow us to see not only where different racial groups predominantly live but also how these locations correspond to actual geographic features like cities, rivers, and state boundaries.\n",
    "\n",
    "We can also enhance the clarity of these visualizations by adding legend labels to clearly identify each racial category on the map.\n",
    "\n",
    "First, let's create the legend labels for each racial category:"
   ]
  },
  {
   "cell_type": "code",
   "execution_count": null,
   "metadata": {},
   "outputs": [],
   "source": [
    "import holoviews as hv\n",
    "labels = hv.NdOverlay({k: hv.Points([-100,40]).opts(color=v, size=0) for k, v in color_key.items()})\n",
    "labels.opts(clone=True, xaxis=None, yaxis=None, height=250, width=250)"
   ]
  },
  {
   "cell_type": "markdown",
   "metadata": {},
   "source": [
    "Then we add tiles:"
   ]
  },
  {
   "cell_type": "code",
   "execution_count": null,
   "metadata": {},
   "outputs": [],
   "source": [
    "from holoviews.element import tiles\n",
    "esri = tiles.EsriImagery()\n",
    "stamen = tiles.StamenLabels()\n",
    "full_plot = df.hvplot.points('x', 'y', rasterize=True, dynspread=True, cnorm='eq_hist', xlim=x_range, ylim=y_range,\n",
    "                         aggregator=ds.by('race'), cmap=color_key, colorbar=False)"
   ]
  },
  {
   "cell_type": "code",
   "execution_count": null,
   "metadata": {},
   "outputs": [],
   "source": [
    "esri * full_plot * stamen * labels"
   ]
  },
  {
   "cell_type": "markdown",
   "metadata": {},
   "source": [
    "### Conclusion\n",
    "\n",
    "In this notebook, we utilized **hvPlot** and **Datashader** to efficiently visualize specific data points of the 2020 US Census data, focusing on both population density and racial demographics. These tools allowed us to explore geographic patterns and identify regions where specific racial groups predominantly reside, providing insights into the spatial distribution of the population.\n",
    "\n",
    "Looking ahead, there are several ways to extend this analysis. For example, we could perform deeper investigations into **segregation patterns** within specific metropolitan areas or **compare demographic shifts across time** using historical census data (For example, the [2010 data](../census2010)). \n",
    "\n",
    "Additionally, by integrating external datasets—such as economic indicators, education levels, or voting patterns—we could uncover correlations between racial demographics and socio-economic factors. Exploring **dynamic interactions** with these visualizations, such as linking census data with interactive dashboards, would also enable more detailed, real-time analysis of regional population characteristics. These tools offer flexibility and scalability, making them powerful assets for anyone looking to conduct advanced geospatial analysis on large datasets."
   ]
  }
 ],
 "metadata": {
  "kernelspec": {
   "display_name": "Python 3 (ipykernel)",
   "language": "python",
   "name": "python3"
  },
  "language_info": {
   "codemirror_mode": {
    "name": "ipython",
    "version": 3
   },
   "file_extension": ".py",
   "mimetype": "text/x-python",
   "name": "python",
   "nbconvert_exporter": "python",
   "pygments_lexer": "ipython3",
   "version": "3.11.10"
  }
 },
 "nbformat": 4,
 "nbformat_minor": 4
}
