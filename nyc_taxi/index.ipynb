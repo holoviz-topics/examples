{
 "cells": [
  {
   "cell_type": "markdown",
   "id": "c9542515-f656-4f19-bc37-376ceafdee62",
   "metadata": {},
   "source": [
    "# NYC Taxi"
   ]
  },
  {
   "cell_type": "markdown",
   "id": "20b9c182-527f-4bac-a2cd-f265d54fc43b",
   "metadata": {},
   "source": [
    "There are a variety of approaches for plotting large datasets, but most of them are very unsatisfactory. This example shows some of the issues, then demonstrates how Datashader helps make large datasets truly practical. We will use part of the well-studied [NYC Taxi trip database](https://www1.nyc.gov/site/tlc/about/tlc-trip-record-data.page), with the locations of all NYC taxi pickups and dropoffs from the month of January 2015. Although we know what the data is, let's approach it as if we are doing data mining, and see what it takes to understand the dataset from scratch.\n",
    "\n",
    "The example project consists of three notebooks, one of them being also a deployable Panel dashboard:\n",
    "\n",
    "1. [Geographic analysis](./nyc_taxi.ipynb): This notebook demonstrates the issues with plotting a large number of points. It focuses on plotting points on a map, and shows how Datashader can help analyzing a large amount of data.\n",
    "2. [Non-geographic analysis](./nyc_taxi-nongeo.ipynb): This notebook explores different non-geographical dimensions of the dataset, again showing the capabilities offered by Datashader.\n",
    "3. [Panel Dashboard](./dashboard.ipynb): This notebook shows how to build a simple dashboard for exploring 10 million taxi trips in a Jupyter notebook using Datashader, then deploying it as a standalone dashboard using Panel."
   ]
  }
 ],
 "metadata": {
  "kernelspec": {
   "display_name": "Python 3 (ipykernel)",
   "language": "python",
   "name": "python3"
  },
  "language_info": {
   "codemirror_mode": {
    "name": "ipython",
    "version": 3
   },
   "file_extension": ".py",
   "mimetype": "text/x-python",
   "name": "python",
   "nbconvert_exporter": "python",
   "pygments_lexer": "ipython3",
   "version": "3.11.8"
  }
 },
 "nbformat": 4,
 "nbformat_minor": 5
}
