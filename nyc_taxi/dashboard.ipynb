{
 "cells": [
  {
   "cell_type": "markdown",
   "metadata": {},
   "source": [
    "# Panel dashboard"
   ]
  },
  {
   "cell_type": "markdown",
   "metadata": {},
   "source": [
    "The NYC Taxi trips dataset is a well-studied data science example. Here we show how to build a simple dashboard for exploring 10 million taxi trips in a Jupyter notebook using [Datashader](https://datashader.org), then deploying it as a standalone dashboard using [Panel](https://panel.holoviz.org).\n",
    "\n",
    "<img src='./assets/dashboard.png' alt=\"Panel Dashboard\" align=\"center\">\n"
   ]
  },
  {
   "cell_type": "code",
   "execution_count": null,
   "metadata": {},
   "outputs": [],
   "source": [
    "import holoviews as hv\n",
    "import param\n",
    "import dask.dataframe as dd\n",
    "import panel as pn\n",
    "\n",
    "from holoviews.operation.datashader import rasterize, dynspread\n",
    "from holoviews.element.tiles import EsriStreet\n",
    "\n",
    "hv.extension('bokeh')"
   ]
  },
  {
   "cell_type": "code",
   "execution_count": null,
   "metadata": {},
   "outputs": [],
   "source": [
    "usecols = ['dropoff_x', 'dropoff_y', 'pickup_x', 'pickup_y', 'dropoff_hour', 'pickup_hour', 'passenger_count']\n",
    "df = dd.read_parquet('data/nyc_taxi_wide.parq', engine='fastparquet')[usecols].persist()\n",
    "opts = dict(width=1000, height=600, xaxis=None, yaxis=None, bgcolor='black', show_grid=False)\n",
    "cmaps = ['fire', 'bgy', 'bgyw', 'bmy', 'gray', 'kbc']\n",
    "\n",
    "df.head()"
   ]
  },
  {
   "cell_type": "code",
   "execution_count": null,
   "metadata": {},
   "outputs": [],
   "source": [
    "class NYCTaxiExplorer(pn.viewable.Viewer):\n",
    "    alpha      = param.Magnitude(default=0.75, doc=\"Alpha value for the map opacity\")\n",
    "    cmap       = param.Selector(objects=cmaps)\n",
    "    hour       = param.Range(default=(0, 24), bounds=(0, 24))\n",
    "    location   = param.Selector(objects=['dropoff', 'pickup'])\n",
    "\n",
    "    @param.depends('location', 'hour')\n",
    "    def points(self):\n",
    "        points = hv.Points(df, kdims=[self.location+'_x', self.location+'_y'], vdims=['dropoff_hour'])\n",
    "        if self.hour != (0, 24):\n",
    "            points = points.select(dropoff_hour=self.hour)\n",
    "        return points\n",
    "\n",
    "    def __panel__(self, **kwargs):\n",
    "        points = hv.DynamicMap(self.points)\n",
    "        tiles = EsriStreet().apply.opts(alpha=self.param.alpha, **opts)\n",
    "        agg = rasterize(points, width=600, height=400).opts(cnorm='eq_hist', nodata=0)\n",
    "        return tiles * dynspread(agg).apply.opts(cmap=self.param.cmap)\n",
    "        \n",
    "taxi = NYCTaxiExplorer(name=\"NYC Taxi Trips\")\n",
    "pn.Row(taxi.param, taxi).servable()"
   ]
  },
  {
   "cell_type": "markdown",
   "metadata": {},
   "source": [
    "As you can see, the resulting object is rendered in the notebook (above), and it's usable as long as you have Python running on this code. You can also launch this app as a standalone server outside of the notebook, because we've marked the relevant object `.servable()`.  That declaration means that if someone later runs this notebook as a server process (using `panel serve --show dashboard.ipynb`), your browser will open a separate window with the serveable object ready to explore or share, just like the screenshot at the top of this notebook."
   ]
  }
 ],
 "metadata": {
  "kernelspec": {
   "display_name": "Python 3 (ipykernel)",
   "language": "python",
   "name": "python3"
  },
  "language_info": {
   "codemirror_mode": {
    "name": "ipython",
    "version": 3
   },
   "file_extension": ".py",
   "mimetype": "text/x-python",
   "name": "python",
   "nbconvert_exporter": "python",
   "pygments_lexer": "ipython3",
   "version": "3.11.8"
  }
 },
 "nbformat": 4,
 "nbformat_minor": 4
}
