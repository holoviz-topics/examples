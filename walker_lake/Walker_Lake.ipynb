{
 "cells": [
  {
   "cell_type": "markdown",
   "metadata": {},
   "source": [
    "# Walker Lake"
   ]
  },
  {
   "cell_type": "markdown",
   "metadata": {},
   "source": [
    "## The Disappearing Walker Lake\n",
    "While the loss of the Aral Sea in Kazakhstan and Lake Urmia in Iran have received a lot of attention over the last few decades, this trend is a global phenomena.  Reciently a number of __[papers](https://earthobservatory.nasa.gov/IOTD/view.php?id=91921)__ have been published including one focusing on the __[Decline of the world's saline lakes](https://www.nature.com/articles/ngeo3052)__.  Many of these lakes have lost the majority of their volume over the last century, including Walker Lake (Nevada, USA) which has lost 90 percent of its volume over the last 100 years.\n",
    "\n",
    "The following example is intended to replicate the typical processing required in change detection studies similar to the __[Decline of the world's saline lakes](https://www.nature.com/articles/ngeo3052)__."
   ]
  },
  {
   "cell_type": "code",
   "execution_count": null,
   "metadata": {},
   "outputs": [],
   "source": [
    "from pathlib import Path\n",
    "\n",
    "import geoviews as gv\n",
    "import holoviews as hv\n",
    "import numpy as np\n",
    "import rioxarray\n",
    "import xarray as xr\n",
    "\n",
    "import cartopy.crs as ccrs\n",
    "from colorcet import coolwarm\n",
    "from holoviews import opts\n",
    "from holoviews.operation.datashader import rasterize\n",
    "from IPython.display import display\n",
    "\n",
    "hv.extension('bokeh')"
   ]
  },
  {
   "cell_type": "markdown",
   "metadata": {},
   "source": [
    "In this example, we would like to use [Dask](https://dask.org/) to\n",
    "demonstrate how image processing can be distributed across workers,\n",
    "either running locally or across a cluster. In the next cell, we\n",
    "instantiate a Dask distributed Client where we request eight,\n",
    "single-threaded workers and declare a memory limit of 8GB per\n",
    "worker. You can experiment with different memory limits (e.g 4GB) and\n",
    "different numbers of workers but note that each worker should only use\n",
    "one thread as [Datashader](https://datashader.org) manages its own\n",
    "parallelization using [Numba](https://numba.pydata.org/):"
   ]
  },
  {
   "cell_type": "code",
   "execution_count": null,
   "metadata": {},
   "outputs": [],
   "source": [
    "# arbitrarily choose a memory limit (8GB) to demonstrate the out of core\n",
    "# processing infrastructure\n",
    "from dask.distributed import Client\n",
    "client = Client(memory_limit=8*1e9, n_workers=8, threads_per_worker=1)\n",
    "# As Datashader uses parallel Numba for raster rendering, we need to use\n",
    "# single threaded Dask workers on each CPU to avoid contention.\n",
    "client"
   ]
  },
  {
   "cell_type": "markdown",
   "metadata": {},
   "source": [
    "### Landsat Image Data\n",
    "\n",
    "To replicate this study, we first have to obtain the data from primary sources.  The conventional way to obtain Landsat image data is to download it through USGS's \n",
    "__[EarthExplorer](https://earthexplorer.usgs.gov/)__ or NASA's __[Giovanni](https://giovanni.gsfc.nasa.gov/giovanni/)__, but to facilitate the example two images have been downloaded from EarthExployer and cached.  \n",
    "\n",
    "The two images used by the original study are LT05_L1TP_042033_19881022_20161001_01_T1 and \n",
    "LC08_L1TP_042033_20171022_20171107_01_T1 from 1988/10/22 and 2017/10/22 respectively.  These images contain Landsat Surface Reflectance Level-2 Science Product images."
   ]
  },
  {
   "cell_type": "markdown",
   "metadata": {},
   "source": [
    "## Loading into xarray\n",
    "\n",
    "In the next cells, we load the Landsat-5 and Landsat-8 files into xarray `DataArray` objects, reading them locally using `rioxarray`."
   ]
  },
  {
   "cell_type": "code",
   "execution_count": null,
   "metadata": {},
   "outputs": [],
   "source": [
    "def read_landsat_files(pattern):\n",
    "    data_dir = Path('data')\n",
    "    data = {\n",
    "        int(file.stem[-1]): rioxarray.open_rasterio(file, chunks={\"x\": 1200, \"y\": 1200}, masked=True)\n",
    "        for file in sorted(data_dir.glob(pattern))\n",
    "    }\n",
    "    dataset = xr.concat(data.values(), dim=\"band\")\n",
    "    dataset = dataset.assign_coords({\"band\": list(data)})\n",
    "    return dataset"
   ]
  },
  {
   "cell_type": "code",
   "execution_count": null,
   "metadata": {},
   "outputs": [],
   "source": [
    "landsat_5_img = read_landsat_files('LT05*')\n",
    "landsat_5_img"
   ]
  },
  {
   "cell_type": "code",
   "execution_count": null,
   "metadata": {},
   "outputs": [],
   "source": [
    "landsat_8_img = read_landsat_files('LC08*')\n",
    "landsat_8_img"
   ]
  },
  {
   "cell_type": "code",
   "execution_count": null,
   "metadata": {},
   "outputs": [],
   "source": [
    "assert landsat_5_img.rio.crs == landsat_8_img.rio.crs\n",
    "print(landsat_5_img.rio.crs)"
   ]
  },
  {
   "cell_type": "markdown",
   "metadata": {},
   "source": [
    "We create a cartopy coordinate reference system that we will be using later on in this notebook:"
   ]
  },
  {
   "cell_type": "code",
   "execution_count": null,
   "metadata": {},
   "outputs": [],
   "source": [
    "crs = ccrs.epsg(landsat_5_img.rio.crs.to_epsg())"
   ]
  },
  {
   "cell_type": "markdown",
   "metadata": {},
   "source": [
    "## Computing the NDVI (1988)\n",
    "\n",
    "Now let us compute the [NDVI](https://en.wikipedia.org/wiki/Normalized_difference_vegetation_index) for the 1988 image."
   ]
  },
  {
   "cell_type": "code",
   "execution_count": null,
   "metadata": {},
   "outputs": [],
   "source": [
    "ndvi5 = (landsat_5_img[4] - landsat_5_img[3])/(landsat_5_img[4] + landsat_5_img[3])"
   ]
  },
  {
   "cell_type": "code",
   "execution_count": null,
   "metadata": {},
   "outputs": [],
   "source": [
    "client.persist(ndvi5)"
   ]
  },
  {
   "cell_type": "markdown",
   "metadata": {},
   "source": [
    "## Computing the NDVI (2017)\n",
    "\n",
    "Now we can do this for the Landsat 8 files for the 2017 image:"
   ]
  },
  {
   "cell_type": "code",
   "execution_count": null,
   "metadata": {},
   "outputs": [],
   "source": [
    "ndvi8 = (landsat_8_img[4] - landsat_8_img[3])/(landsat_8_img[4] + landsat_8_img[3])\n",
    "# ndvi8 = ndvi8_array.to_dataset(name='ndvi')[['x','y', 'ndvi']]\n",
    "# client.persist(ndvi8)"
   ]
  },
  {
   "cell_type": "markdown",
   "metadata": {},
   "source": [
    "# Resampling to same size"
   ]
  },
  {
   "cell_type": "markdown",
   "metadata": {},
   "source": [
    "The two images share the same coordinate system but do not have the exact same dimensions or coordinates. Previous versions of this notebook resampled the images to the same size, and optionally allowed to regrid them, all using  Datashader. In this version, we now interpolate the Landsat-8 image to fit onto the coordinates of the Landsat-5 one using `xarray`, approach that provides a similar result."
   ]
  },
  {
   "cell_type": "code",
   "execution_count": null,
   "metadata": {},
   "outputs": [],
   "source": [
    "ndvi8 = ndvi8.interp_like(ndvi5, method=\"nearest\")\n",
    "client.persist(ndvi8)"
   ]
  },
  {
   "cell_type": "markdown",
   "metadata": {},
   "source": [
    "## Viewing change via dropdown\n",
    "\n",
    "Using [Datashader](https://datashader.org/) together with [GeoViews](https://geoviews.org/), we can now easily build an interactive visualization where we select between the 1988 and 2017 images. The use of datashader allows these images to be dynamically updated according to zoom level (Note: it can take datashader a minute to 'warm up' before it becomes fully interactive). For more information on how the dropdown widget was created using `HoloMap`, please refer to the [HoloMap reference](https://holoviews.org/reference/containers/bokeh/HoloMap.html#bokeh-gallery-holomap)."
   ]
  },
  {
   "cell_type": "code",
   "execution_count": null,
   "metadata": {},
   "outputs": [],
   "source": [
    "opts.defaults(\n",
    "    opts.Curve(width=600, tools=['hover']),\n",
    "    opts.Image(cmap='viridis', width=450, height=450, tools=['hover'], colorbar=True))"
   ]
  },
  {
   "cell_type": "code",
   "execution_count": null,
   "metadata": {},
   "outputs": [],
   "source": [
    "hmap = hv.HoloMap({'1988':gv.Image(ndvi5, crs=crs, vdims=['ndvi'], rtol=10), \n",
    "                   '2017':gv.Image(ndvi8, crs=crs, vdims=['ndvi'], rtol=10)}, \n",
    "                  kdims=['Year']).redim(x='lon', y='lat') # Mapping 'x' and 'y' from rasterio to 'lon' and 'lat'"
   ]
  },
  {
   "cell_type": "code",
   "execution_count": null,
   "metadata": {},
   "outputs": [],
   "source": [
    "%%time\n",
    "display(rasterize(hmap))"
   ]
  },
  {
   "cell_type": "markdown",
   "metadata": {},
   "source": [
    "## Computing statistics and projecting display\n",
    "\n",
    "The rest of the notebook shows how statistical operations can reduce the dimensionality of the data that may be used to compute new features that may be used as part of an ML pipeline. \n",
    "\n",
    "### The mean and sum over the two time points\n",
    "\n",
    "The next plot (may take a minute to compute) shows the mean of the two NDVI images next to the sum of them:"
   ]
  },
  {
   "cell_type": "code",
   "execution_count": null,
   "metadata": {},
   "outputs": [],
   "source": [
    "mean_avg = hmap.collapse(dimensions=['Year'], function=np.mean)\n",
    "mean_img = gv.Image(mean_avg.data, crs=crs, kdims=['lon', 'lat'], \n",
    "                    vdims=['ndvi']).relabel('Mean over Year')\n",
    "\n",
    "summed = hmap.collapse(dimensions=['Year'], function=np.sum)\n",
    "summed_image = gv.Image(summed.data, crs=crs, kdims=['lon', 'lat'], \n",
    "                        vdims=['ndvi']).relabel('Sum over Year')"
   ]
  },
  {
   "cell_type": "code",
   "execution_count": null,
   "metadata": {},
   "outputs": [],
   "source": [
    "%%time\n",
    "display(rasterize(mean_img) + rasterize(summed_image))"
   ]
  },
  {
   "cell_type": "markdown",
   "metadata": {},
   "source": [
    "### Difference in NDVI between 1988 and 2017\n",
    "\n",
    "The change in Walker Lake as viewed using the NDVI can be shown by subtracting the NDVI recorded in 1988 from the NDVI recorded in 2017:"
   ]
  },
  {
   "cell_type": "code",
   "execution_count": null,
   "metadata": {},
   "outputs": [],
   "source": [
    "diff = hmap['1988'].data - hmap['2017'].data\n",
    "difference = gv.Image(diff, crs=crs, kdims=['lon', 'lat'], vdims=['ndvi'])\n",
    "difference = difference.relabel('Difference in NDVI').redim(ndvi='delta_ndvi')"
   ]
  },
  {
   "cell_type": "code",
   "execution_count": null,
   "metadata": {},
   "outputs": [],
   "source": [
    "%%time\n",
    "display(rasterize(difference).redim.range(delta_ndvi=(-1.0,1.0)).opts(cmap=coolwarm))"
   ]
  },
  {
   "cell_type": "markdown",
   "metadata": {},
   "source": [
    "You can see a large change (positive delta) in the areas where there is water, indicating a reduction in the size of the lake over this time period."
   ]
  },
  {
   "cell_type": "markdown",
   "metadata": {},
   "source": [
    "## Slicing across `lon` and `lat`\n",
    "\n",
    "As a final example, we can use the `sample` method to slice across the difference in NDVI along (roughly) the midpoint of the latitude and the midpoint of the longitude. To do this, we define the following helper function to convert latitude/longitude into the appropriate coordinate value used by the `DataSet`:"
   ]
  },
  {
   "cell_type": "code",
   "execution_count": null,
   "metadata": {},
   "outputs": [],
   "source": [
    "def from_lon_lat(x,y):\n",
    "    return crs.transform_point(x,y, ccrs.PlateCarree())\n",
    "\n",
    "lon_y, lat_x = from_lon_lat(-118, 39)  # Longitude of -118 and Latitude of 39"
   ]
  },
  {
   "cell_type": "code",
   "execution_count": null,
   "metadata": {},
   "outputs": [],
   "source": [
    "%%time\n",
    "display((difference.sample(lat=lat_x) + difference.sample(lon=lon_y)).cols(1))"
   ]
  }
 ],
 "metadata": {
  "kernelspec": {
   "display_name": "Python 3 (ipykernel)",
   "language": "python",
   "name": "python3"
  },
  "language_info": {
   "codemirror_mode": {
    "name": "ipython",
    "version": 3
   },
   "file_extension": ".py",
   "mimetype": "text/x-python",
   "name": "python",
   "nbconvert_exporter": "python",
   "pygments_lexer": "ipython3",
   "version": "3.11.10"
  }
 },
 "nbformat": 4,
 "nbformat_minor": 2
}
