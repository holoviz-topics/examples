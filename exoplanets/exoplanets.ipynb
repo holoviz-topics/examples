{
 "cells": [
  {
   "cell_type": "markdown",
   "id": "7183d9ee",
   "metadata": {},
   "source": [
    "# Exoplanets"
   ]
  },
  {
   "cell_type": "markdown",
   "id": "f58b1993",
   "metadata": {},
   "source": [
    "## Exoplanet Discovery\n",
    "For the past 25+ years, NASA has used ground- and space-based methods to [identify exoplanets](https://exoplanets.nasa.gov/exep/about/missions-instruments) (planets outside of our solar system). In the past ten years in particular, campaigns like Kepler, K2, and TESS have produced an explosion of results. To date, approximately 4,400 exoplanets have been identified, and over 3,000 potential exoplanet candidates have been discovered. \n",
    "\n",
    "In this notebook, we will use [Holoviews](https://holoviews.holoviz.org) and [Panel](https://panel.holoviz.org) to make a dashboard visualizing the discovery of confirmed and candidate exoplanets over the years.\n",
    "\n",
    "We'll also include a scatterplot in our dashboard that reveals details about the relationship between mass and radius of exoplanets, as well as controls to filter the data based on whether the planets could support life, and if so, whether chemical rockets could be used to escape the planet."
   ]
  },
  {
   "cell_type": "code",
   "execution_count": null,
   "id": "1cba2f63",
   "metadata": {},
   "outputs": [],
   "source": [
    "import pandas as pd\n",
    "import holoviews as hv\n",
    "import panel as pn\n",
    "import numpy as np\n",
    "import colorcet as cc\n",
    "import hvplot.pandas # noqa\n",
    "\n",
    "hv.extension('bokeh')"
   ]
  },
  {
   "cell_type": "markdown",
   "id": "a54bd851",
   "metadata": {},
   "source": [
    "## Loading data\n",
    "For this notebook, we will be loading our exoplanet data from three different CSV files: \n",
    "- [stars](data/stars.csv), a [dataset of 257,000 stars](https://www.kaggle.com/solorzano/257k-gaia-dr2-stars?select=257k-gaiadr2-sources-with-photometry.csv) identified by the European Gaia space mission,\n",
    "- [exoplanets](data/exoplanets.csv), a collection of 480 exoplanets obtained from the [NASA Exoplanet Archive](https://exoplanetarchive.ipac.caltech.edu/); and \n",
    "- [candidates](data/candidates.csv), a collection of approximately 3,000 candidate exoplanets collated from the [Kepler](http://exoplanets.org/table?datasets=kepler) and [TESS](https://exofop.ipac.caltech.edu/tess/view_toi.php) campaigns. \n",
    "\n",
    "We could load the data using pure Pandas calls like `stars = pd.read_csv(\"data/stars.csv\")`, but here let's cache the results using Panel so that new visitors to the dashboard won't have to reload or recalculate the data:"
   ]
  },
  {
   "cell_type": "code",
   "execution_count": null,
   "id": "9f08f1bc",
   "metadata": {},
   "outputs": [],
   "source": [
    "%%time\n",
    "stars      = pn.state.as_cached('stars',      lambda: pd.read_csv(\"data/stars.csv\"))\n",
    "exoplanets = pn.state.as_cached('exoplanets', lambda: pd.read_csv(\"data/exoplanets.csv\"))\n",
    "candidates = pn.state.as_cached('candidates', lambda: pd.read_csv(\"data/candidates.csv\"))"
   ]
  },
  {
   "cell_type": "markdown",
   "id": "d5b68d63",
   "metadata": {},
   "source": [
    "The stars data includes the coordinates and brightness of the star:"
   ]
  },
  {
   "cell_type": "code",
   "execution_count": null,
   "id": "92cce9c0",
   "metadata": {},
   "outputs": [],
   "source": [
    "stars.head()"
   ]
  },
  {
   "cell_type": "markdown",
   "id": "a7b0eb1d",
   "metadata": {},
   "source": [
    "The exoplanets data includes the coordinates along with a variety of attributes about the planet:"
   ]
  },
  {
   "cell_type": "code",
   "execution_count": null,
   "id": "486d462b",
   "metadata": {},
   "outputs": [],
   "source": [
    "exoplanets.head()"
   ]
  },
  {
   "cell_type": "markdown",
   "id": "0ed40c94",
   "metadata": {},
   "source": [
    "Candidate data is sparse and includes only a few attributes besides the coordinates:"
   ]
  },
  {
   "cell_type": "code",
   "execution_count": null,
   "id": "ce80979b",
   "metadata": {},
   "outputs": [],
   "source": [
    "candidates.head()"
   ]
  },
  {
   "cell_type": "markdown",
   "id": "a188f5e8",
   "metadata": {},
   "source": [
    "Note that because of imprecise detection methods, characteristics such as temperature, mass, and radius are all estimates. For more information on the uncertainty in these measurements, see the [NASA Exoplanet Archive](https://exoplanetarchive.ipac.caltech.edu/).\n",
    "\n",
    "Because our goal is to generate a map of the exoplanets and stars, we need a standardized coordinate system for all three of our dataframes. Here, we'll use the [equatorial coordinate system](https://en.wikipedia.org/wiki/Equatorial_coordinate_system) provided in the original datasets. Equatorial coordinates are given by two angles: ``ra`` (right ascension) and ``dec`` (declination). ``ra`` and ``dec`` represent the position of an object on an imaginary sphere called the celestial sphere, with the Earth at its center and an equator that's a projection of the Earth's equator. Right ascension measures the horizontal position of the object on that sphere, and is usually given in either hours or degrees (our datasets use degrees). Declination measures the vertical position of the object. Because these coordinates are defined based on the tilt and shape of the Earth independent of its rotation, the equatorial positions of celestial objects do not change over the course of a day or a year.\n",
    "\n",
    "In the dataframes, ``dec`` ranges from -90º to 90º and ``ra`` ranges from 0º to 360º. To make our map more intuitive, we will place the Earth at the origin, so we'll need to rewrite the ``ra`` coordinates in the range -180º to 180º. To do this, we'll write a simple function ``recenter``:"
   ]
  },
  {
   "cell_type": "code",
   "execution_count": null,
   "id": "466c1c84",
   "metadata": {},
   "outputs": [],
   "source": [
    "def recenter(r):\n",
    "    \"Convert ra coordinates so that Earth is at origin\"\n",
    "    return np.mod(r+180, 360)-180"
   ]
  },
  {
   "cell_type": "code",
   "execution_count": null,
   "id": "c6fc1e7b",
   "metadata": {},
   "outputs": [],
   "source": [
    "# Limit to the brightest stars, if desired\n",
    "#stars = stars[stars[\"phot_g_mean_mag\"]>11]"
   ]
  },
  {
   "cell_type": "code",
   "execution_count": null,
   "id": "07c28de4",
   "metadata": {},
   "outputs": [],
   "source": [
    "%%time\n",
    "stars['ra']      = pn.state.as_cached('stars_ra',      lambda: recenter(stars['ra']))\n",
    "exoplanets['ra'] = pn.state.as_cached('exoplanets_ra', lambda: recenter(exoplanets['ra']))\n",
    "candidates['ra'] = pn.state.as_cached('candidates_ra', lambda: recenter(candidates['ra']))"
   ]
  },
  {
   "cell_type": "markdown",
   "id": "452ec449",
   "metadata": {},
   "source": [
    "\n",
    "If desired, [Astropy](https://www.astropy.org/) provides methods of converting to other common celestial coordinate systems that can easily be applied to the dataframes; see examples in an [older version of this notebook](https://github.com/holoviz-topics/examples/blob/d4aba10a7b4b01e5782900e0a980d87c1e0ade8b/exoplanets/exoplanets.ipynb)."
   ]
  },
  {
   "cell_type": "markdown",
   "id": "69a2254c",
   "metadata": {},
   "source": [
    "## The Goldilocks zone and the Tsiolkovsky rocket equation\n",
    "One of the methods used to determine whether an exoplanet could potentially support life is to check whether liquid water could exist there. For water to be present on the planet as liquid, the planet's temperature must be within a fairly narrow range, and therefore the planet must be within a certain distance of the nearest star. Exoplanets within this range are said to be in the \"Goldilocks zone.\"\n",
    "\n",
    "If intelligent life were to exist on one of these planets, would it be capable of space travel? If the hypothetical life forms used similar methods to humans — for example, hydrogen- and oxygen-powered chemical rockets — would they even be able to leave their planet? A heavier rocket requires exponentially more fuel, but more fuel means more mass. The Tsiolkovsky rocket equation makes this question more precise:\n",
    "\n",
    "$$\\Delta v = v_e\\ln\\left(\\frac{m_0}{m_f}\\right),$$\n",
    "\n",
    "where $\\Delta v$ is the [impulse per mass unit](https://en.wikipedia.org/wiki/Impulse_(physics)) required for the rocket to travel its course, $v_e$ is [effective exhaust velocity](https://en.wikipedia.org/wiki/Specific_impulse#Specific_impulse_as_effective_exhaust_velocity), $m_0$ is the initial mass of the rocket, and $m_f$ is the final mass of the rocket (here, equal to $m_0$ minus the mass of the fuel spent on the flight). To see the rocket equation in action, consider a planet of the same density as Earth with radius $R$ double Earth's and thus mass $M$ eight times Earth's. \n",
    "<p></p>\n",
    "\n",
    "<details><summary><i><u>(Click to expand/contract computation details)</u></i></summary>\n",
    "    \n",
    "For the purposes of this example, we'll assume that $$\\Delta v = \\sqrt{\\frac{GM}{R}},$$ where $G\\approx 6.67\\cdot 10^{-11}$ (in reality, some complicating factors exist, but our formula works as an approximation at relatively low altitudes$^*$). Then\n",
    "\n",
    "$$\\Delta v = \\sqrt{\\frac{6.67\\cdot 10^{-11}\\cdot 4.78\\cdot10^{25}}{1.27\\cdot10^7}}\\approx 22407 \\frac{\\text{m}}{\\text{s}}.$$\n",
    "\n",
    "Using the [highest recorded exhaust velocity of a chemical rocket](https://en.wikipedia.org/wiki/Tripropellant_rocket#:~:text=In%20the%201960s%2C%20Rocketdyne%20fired,for%20a%20chemical%20rocket%20motor.), $5320\\frac{\\text{m}}{\\text{s}},$ and we'll calculate the approximate percent of the rocket's mass that would have to be fuel in order to propel the rocket to $250$ m$^*$:\n",
    "\n",
    "$$22407= 5320 \\ln\\left(\\frac{m_0}{m_f}\\right),$$\n",
    "\n",
    "so\n",
    "\n",
    "$$\\frac{m_0}{m_f}\\approx 67.5.$$\n",
    "\n",
    "$^*$We won't go into detail here, but the $\\Delta v$ calulation for $250$ m is derived from the [vis-viva equation](https://en.wikipedia.org/wiki/Vis-viva_equation).</details>\n",
    "\n",
    "To make it to $250$ m above this planet's surface, about $98.5\\%$ of the rocket's initial mass would need to be fuel. For comparison, the rocket with the highest initial-to-final mass ratio ever built was the [Soyuz-FG](https://en.wikipedia.org/wiki/Soyuz-FG) rocket, which was $91\\%$ fuel by mass. Moreover, we were very generous with the conditions used to compute the mass ratio to escape our imaginary planet. The exhaust velocity we used was only ever recorded for a highly corrosive, dangerous, expensive propellant that, with the current state of technology, is not feasible for use in space travel."
   ]
  },
  {
   "cell_type": "markdown",
   "id": "8c803669",
   "metadata": {},
   "source": [
    "## Filtering by feasibility of space travel\n",
    "\n",
    "We can use the rocket equation to get an idea which exoplanets might be the right size to allow for space travel. Let's assume that the hypothetical life forms on an exoplanet can make a chemical rocket with exhaust velocity at most $5320\\frac{\\text{m}}{\\text{s}}.$ Let's also say that they've figured out how to make rockets that are up to $95\\%$ fuel by mass (so $\\frac{m_0}{m_f}=20$). These two (generous) assumptions will allow us to make an educated guess of whether the mass and radius of the exoplanet would ever conceivably allow for space travel:\n",
    "\n",
    "$$\\sqrt{\\frac{GM}{R}}\\approx \\Delta v \\leq 5320\\ln{20}.$$\n",
    "\n",
    "We can now define a function  ``deltav`` that approximates $\\Delta v$ for each exoplanet and returns ``True`` or ``False`` depending on whether that value is small enough. We'll then add a corresponding column ``escapable`` in our dataframe and cache it."
   ]
  },
  {
   "cell_type": "code",
   "execution_count": null,
   "id": "ce46ed05",
   "metadata": {},
   "outputs": [],
   "source": [
    "def deltav(p):\n",
    "    \"\"\"\n",
    "    Given a planet record or planet dataframe, determine whether delta-v is \n",
    "    sufficiently small for feasible space travel with chemical rockets\n",
    "    \"\"\"\n",
    "    G = 6.67*(10**(-11))\n",
    "    return np.logical_and(p.habitable, np.sqrt(G*p.mass/p.radius)<=5320*np.log(20))\n",
    "\n",
    "exoplanets['escapable'] = pn.state.as_cached('escapable', lambda: deltav(exoplanets))"
   ]
  },
  {
   "cell_type": "markdown",
   "id": "dcd69e47",
   "metadata": {},
   "source": [
    "## Filtering and plotting data\n",
    "\n",
    "To help a user understand the data, we'll allow them to filter it and then plot the results.\n",
    "\n",
    "To orient users, we'll first create a point representing the Earth at the origin $(0,0)$:"
   ]
  },
  {
   "cell_type": "code",
   "execution_count": null,
   "id": "a78b3912",
   "metadata": {},
   "outputs": [],
   "source": [
    "origin = pd.DataFrame(data = {'ra':[0],'dec':[0]})\n",
    "\n",
    "opts  = dict(x=\"ra\", y=\"dec\", xlabel=\"right ascension (deg)\", ylabel=\"declination (deg)\", responsive=True, aspect=5/2)\n",
    "earth = hv.Text(0, 0, '🌎', fontsize=20)\n",
    "# earth"
   ]
  },
  {
   "cell_type": "markdown",
   "id": "7bf33a42",
   "metadata": {},
   "source": [
    "We could plot that single point by itself, but let's go ahead and overlay it on a background of stars as a frame of reference, setting ``rasterize=True`` to use [Datashader](https://datashader.org) to pre-rasterize the data so that it is practical to display in a web browser. We'll also add an arrow with the text \"You are here\" pointing to the Earth for this display."
   ]
  },
  {
   "cell_type": "code",
   "execution_count": null,
   "id": "d1f5cc2c",
   "metadata": {},
   "outputs": [],
   "source": [
    "star_bg = stars.hvplot.points(\n",
    "    rasterize=True, color=\"phot_g_mean_mag\", cmap=cc.fire, colorbar=True, cnorm='eq_hist', **opts).opts(bgcolor=\"black\")\n",
    "\n",
    "arrow = hv.Arrow(-5, 0, 'You are here', '>').opts(arrow_color='white',text_color=\"white\",text_baseline=\"top\",arrow_line_width=2)\n",
    "\n",
    "star_bg * earth * arrow"
   ]
  },
  {
   "cell_type": "markdown",
   "id": "f2520ec7",
   "metadata": {},
   "source": [
    "Note that since equatorial coordinates represent the view from the earth, and we are projecting onto a two-dimensional plot, we should imagine the mapped stars wrapping around the Earth spherically, with those with ``ra`` coordinates close to 180º and -180º close to each other. Note also that distances in this map are not reflective of actual distance, but instead of relative position on the celestial sphere (i.e., their relative position as seen from Earth).\n",
    "\n",
    "\n",
    "One of the first things that jumps out about this plot is the dark curve separating the two clusters of stars. This dark curve represents the [ecliptic](https://earthsky.org/space/what-is-the-ecliptic), the circular tilted path the sun appears to travel in the Earth's sky, projected onto a plane. Few stars lie on this path due to [Gaia's imaging methods](https://gea.esac.esa.int/archive/documentation/GDR2/Introduction/chap_cu0int/cu0int_sec_mission/cu0int_ssec_scanning_law.html#SSS2), which cause the spacecraft to observe the areas near this plane less frequently than other areas.\n",
    "\n",
    "Now let's plot the planets at their equatorial coordinates, using the point size and color to show attributes about them. When \"mass\" or \"temperature\" is selected as the size, we'll scale the points down to 0.5% of the corresponding numerical mass or temperature value, so that planets with large masses or high temperatures do not overwhelm the plot. The sizes are thus mainly for relative scale, though a numerical legend could be provided with a bit of work. When plots are colored by a variable, planets for which that variable is not known will be colored grey.\n",
    "\n",
    "Note that although most of the exoplanets have radii larger than Earth's, in our plot, the point `earth` is scaled to 20 times its actual size relative to the exoplanets; without this magnification, Earth wouldn't be easily discernible among the other planets."
   ]
  },
  {
   "cell_type": "code",
   "execution_count": null,
   "id": "820a9b19",
   "metadata": {},
   "outputs": [],
   "source": [
    "def planets(planets=exoplanets, size=\"radius\", color=\"radius\"):\n",
    "    size_scale = 1 if size == \"radius\" else 0.005    \n",
    "    return planets.hvplot.points(color=color, cmap='blues', size=size_scale*hv.dim(size), clabel=color, **opts, alpha=0.7)\n",
    "\n",
    "planets()"
   ]
  },
  {
   "cell_type": "markdown",
   "id": "85f403cc",
   "metadata": {},
   "source": [
    "Two notable features of this graphic are the large, dark blue planet and the dense cluster of smaller planets on the left. The largest planet is the gas giant [HD 100546 b](https://exoplanets.nasa.gov/exoplanet-catalog/6713/hd-100546-b/), with a radius of approximately 77 times that of Earth, and by far the largest exoplanet in our dataset. The clustering behavior on the left is due to the method of detection used in the Kepler mission; the spacecraft pointed at only a small section of the sky, so the detected exoplanets are concentrated in that area.\n",
    "\n",
    "If we like, we can filter this plot by year and/or by whether it is potentially habitable:"
   ]
  },
  {
   "cell_type": "code",
   "execution_count": null,
   "id": "d20696f4",
   "metadata": {},
   "outputs": [],
   "source": [
    "def habitable_exoplanets_by_year(year_range=(-np.inf, np.inf), hab=False):\n",
    "    \"Exoplanets filtered by the given year range and (if hab=True) whether they are habitable\"\n",
    "    e = exoplanets\n",
    "    filtered = e[(e.disc_year>=year_range[0]) & (e.disc_year<=year_range[1])]\n",
    "    if hab:\n",
    "        filtered = filtered[filtered.habitable == True].drop_duplicates()\n",
    "    filtered = filtered.drop_duplicates()\n",
    "    return filtered\n",
    "\n",
    "planets(habitable_exoplanets_by_year((1996, 2021), True))"
   ]
  },
  {
   "cell_type": "markdown",
   "id": "195cf044",
   "metadata": {},
   "source": [
    "There aren't a lot of potentially habitable exoplanets, and most of them are small and lie in the cluster detected by Kepler. We can also filter by whether the planet is potentially escapable with a chemical rocket, which leaves even fewer! We'll circle those points with a large purple-colored ring so that you can spot them."
   ]
  },
  {
   "cell_type": "code",
   "execution_count": null,
   "id": "ee253de3",
   "metadata": {},
   "outputs": [],
   "source": [
    "def escapable(planets=exoplanets, size=\"radius\", color=\"radius\"):\n",
    "    escapable = planets[planets['escapable']==True]\n",
    "    return escapable.hvplot.points(\n",
    "        cmap='blues', size=200, alpha=0.5, color=\"purple\", line_width=3, fill_color=None, clabel=color, **opts)\n",
    "    \n",
    "escapable()"
   ]
  },
  {
   "cell_type": "markdown",
   "id": "59d1de75",
   "metadata": {},
   "source": [
    "Separately, we can look at the candidate exoplanets to see how their distribution compares with the confirmed exoplanets:"
   ]
  },
  {
   "cell_type": "code",
   "execution_count": null,
   "id": "117d35e8",
   "metadata": {},
   "outputs": [],
   "source": [
    "def unconfirmed(year_range=(-np.inf,np.inf)):\n",
    "    \"Filter candidate exoplanets by year range and plot them in b,l space\"\n",
    "    c = candidates\n",
    "    filtered_candidates = c[(c.year>=year_range[0]) & (c.year<=year_range[1])]\n",
    "    return filtered_candidates.hvplot.points(size=30, color=\"green\", alpha=0.5, **opts)\n",
    "\n",
    "unconfirmed()"
   ]
  },
  {
   "cell_type": "markdown",
   "id": "f7a53376",
   "metadata": {},
   "source": [
    "Again, we see a dense cluster of candidate exoplanets on the right due to the Kepler spacecraft's area of detection, as well as a curve indicating the ecliptic. Few candidates lie on this curve because [the TESS mission has yet to scan this portion of the sky](https://directory.eoportal.org/web/eoportal/satellite-missions/content/-/article/tess).\n",
    "\n",
    "Given that all the above plots share the same x and y axes, we can combine them into a single plot so that you can see everything in context:"
   ]
  },
  {
   "cell_type": "code",
   "execution_count": null,
   "id": "37dc73a8",
   "metadata": {},
   "outputs": [],
   "source": [
    "star_bg * planets() * unconfirmed() * escapable() * earth"
   ]
  },
  {
   "cell_type": "markdown",
   "id": "3584a329",
   "metadata": {},
   "source": [
    "Whew, that's a bit of a mess! For a user to make much sense of that, we'll need to let them decide what they want to see dynamically; otherwise it's too difficult to see what's what. Later on we'll see how to define some widgets that let them do that. "
   ]
  },
  {
   "cell_type": "markdown",
   "id": "2bcb93e3",
   "metadata": {},
   "source": [
    "## Radius vs. mass\n",
    "\n",
    "First, though, let's define a completely different type of visualization, a scatterplot that lets us compare various quantities against each other so that we can see how habitable and uninhabitable exoplanets relate to each other:"
   ]
  },
  {
   "cell_type": "code",
   "execution_count": null,
   "id": "80dd21ab",
   "metadata": {},
   "outputs": [],
   "source": [
    "def scatter(x_axis=\"radius\", y_axis=\"mass\"):\n",
    "    habitable     = exoplanets[exoplanets['habitable']==True ].dropna(subset=[x_axis, y_axis])\n",
    "    uninhabitable = exoplanets[exoplanets['habitable']==False].dropna(subset=[x_axis, y_axis])\n",
    "    \n",
    "    habitable_points = habitable.hvplot.scatter(\n",
    "        x=x_axis,y=y_axis, color=\"red\", responsive=True, aspect=5/2,\n",
    "        label=\"Potentially habitable\", size=30, legend='top_right')\n",
    "    \n",
    "    uninhabitable_points = uninhabitable.hvplot.scatter(\n",
    "        x=x_axis, y=y_axis, responsive=True, aspect=5/2,\n",
    "        color=\"blue\", alpha=0.5, legend='top_right',\n",
    "        label=\"Uninhabitable\", size=10)\n",
    "    \n",
    "    return uninhabitable_points * habitable_points.opts(\n",
    "        min_height=200, max_height=400, title=f'Scatterplot of {x_axis} and {y_axis}'\n",
    "    )\n",
    "\n",
    "scatter()"
   ]
  },
  {
   "cell_type": "markdown",
   "id": "2c1348f7",
   "metadata": {},
   "source": [
    "In the plot above, we can see that most planets have a mass under 2000 times Earth's and radii under 20 times Earth's, but there are a few outliers. The exoplanet with the largest mass in our dataset is the gas giant [HR 2562-b](https://exoplanets.nasa.gov/exoplanet-catalog/7229/hr-2562-b/), whose mass is over 9000 times Earth's, but whose radius is only about 12 times Earth's.\n",
    "\n",
    "[HD 100546 b](https://exoplanets.nasa.gov/exoplanet-catalog/6713/hd-100546-b/) has the largest radius compared to Earth's, dwarfing our planet by a factor of 77 (that's the big blue planet in the `planets()` plot). On the other side of the scale, the smallest planet in radius is [Kepler-62 c](https://exoplanets.nasa.gov/exoplanet-catalog/373/kepler-62-c/), whose radius is about half of Earth's, but whose mass is quadruple Earth's.\n",
    "\n",
    "The hottest planet in our dataset is the gas giant [KELT-9b](https://exoplanets.nasa.gov/exoplanet-catalog/3508/kelt-9-b/), whose surface temperature is 4050 Kelvin, and the coldest is [OGLE-2005-BLG-390L b](https://exoplanets.nasa.gov/exoplanet-catalog/6081/ogle-2005-blg-390l-b/), at only 50 Kelvin. Temperature and radius appear to have a positive correlation.\n",
    "\n",
    "In terms of habitability, all the potentially habitable exoplanets have radius less than five times Earth's, mass less than forty times Earth's, and surface temperature between about 200 and 400 Kelvin. For comparison, Earth's surface temperature is 288 Kelvin."
   ]
  },
  {
   "cell_type": "markdown",
   "id": "735be04e",
   "metadata": {},
   "source": [
    "## Dashboard\n",
    "\n",
    "Now that we have our data and plots defined, we can use Panel widgets and layouts to build a shareable dashboard where we can explore all the combinations. \n",
    "\n",
    "First, we'll define two dropdown menus to choose the axis variables for the scatter plot:"
   ]
  },
  {
   "cell_type": "code",
   "execution_count": null,
   "id": "1dc554ef",
   "metadata": {},
   "outputs": [],
   "source": [
    "axis_choices={\"Earth radius\": \"radius\", \"Earth mass\": \"mass\", \"Temperature\": \"temperature\"}\n",
    "\n",
    "x_axis = pn.widgets.Select(name='x-axis:', options=axis_choices)\n",
    "y_axis = pn.widgets.Select(name='y-axis:', options=axis_choices, value='mass')"
   ]
  },
  {
   "cell_type": "markdown",
   "id": "7a2f8fd9",
   "metadata": {},
   "source": [
    "Widgets need to be bound to a function or other dynamic object for them to have any effect. Here, we'll use ``pn.bind`` to bind the user's axis selections to the arguments needed by our plotting function, then display the result along with the widgets:"
   ]
  },
  {
   "cell_type": "code",
   "execution_count": null,
   "id": "d13f14c9",
   "metadata": {},
   "outputs": [],
   "source": [
    "bound_scatter = pn.bind(scatter, x_axis=x_axis, y_axis=y_axis)\n",
    "\n",
    "pn.Column(pn.Row(x_axis, y_axis), bound_scatter)"
   ]
  },
  {
   "cell_type": "markdown",
   "id": "a405d96e",
   "metadata": {},
   "source": [
    "We can add other widgets controlling the map, including a slider representing discovery year, a checkbox determining whether to show unconfirmed exoplanets, a second checkbox determining whether to display only planets in the potentially habitable zone, and two dropdown menus to determine what the size and color of the points on the plot will represent:"
   ]
  },
  {
   "cell_type": "code",
   "execution_count": null,
   "id": "f795fb58",
   "metadata": {},
   "outputs": [],
   "source": [
    "year_range       = pn.widgets.RangeSlider( name='Discovery year range', start=1996, end=2021)\n",
    "show_unconfirmed = pn.widgets.Checkbox(    name='Show unconfirmed exoplanets')\n",
    "show_habitable   = pn.widgets.Checkbox(    name='Limit to potentially habitable planets')\n",
    "show_escapable   = pn.widgets.Checkbox(    name='Show which planets could be escaped with a chemical rocket')\n",
    "select_size      = pn.widgets.Select(      name='Size points by:',  options=axis_choices)\n",
    "select_color     = pn.widgets.Select(      name='Color points by:', options=axis_choices)\n",
    "\n",
    "widgets = pn.Column(\n",
    "    pn.Row(\n",
    "        pn.Column(select_size, select_color),\n",
    "        pn.Column(year_range, show_unconfirmed, show_escapable, show_habitable)))\n",
    "\n",
    "#widgets"
   ]
  },
  {
   "cell_type": "markdown",
   "id": "0fb43712",
   "metadata": {},
   "source": [
    "We'll first bind the filtering widgets to the arguments of our filtering function to generate a dynamically filtered dataframe that will be used in multiple plots:"
   ]
  },
  {
   "cell_type": "code",
   "execution_count": null,
   "id": "93823d87",
   "metadata": {},
   "outputs": [],
   "source": [
    "filtered = pn.bind(habitable_exoplanets_by_year, year_range, show_habitable)"
   ]
  },
  {
   "cell_type": "markdown",
   "id": "263f95fe",
   "metadata": {},
   "source": [
    "Now we can bind this dataframe and the other widgets to the various plotting function arguments. We'll wrap the bound functions as [HoloViews DynamicMaps](https://holoviews.org/reference/containers/bokeh/DynamicMap.html) so that we can use the HoloViews `*` overlay operator on them:"
   ]
  },
  {
   "cell_type": "code",
   "execution_count": null,
   "id": "b9fbdd80",
   "metadata": {},
   "outputs": [],
   "source": [
    "overlay = (star_bg * \n",
    "           hv.DynamicMap(pn.bind(planets,     filtered, select_size, select_color)) * \n",
    "           hv.DynamicMap(pn.bind(unconfirmed, year_range)).apply.opts(visible=show_unconfirmed) *\n",
    "           hv.DynamicMap(pn.bind(escapable,   filtered, select_size, select_color)).apply.opts(visible=show_escapable) * \n",
    "           earth).opts(title='Map of exoplanets', min_height=200, max_height=400)\n",
    "#overlay"
   ]
  },
  {
   "cell_type": "markdown",
   "id": "b2641ae3",
   "metadata": {},
   "source": [
    "## Putting it all together\n",
    "Finally, we create a panel from our widgets and plots to display the final dashboard using a [Panel template](https://panel.holoviz.org/user_guide/Templates.html)."
   ]
  },
  {
   "cell_type": "code",
   "execution_count": null,
   "id": "ed18f6b1",
   "metadata": {},
   "outputs": [],
   "source": [
    "explorer = pn.Row(pn.Column(widgets, overlay, pn.Row(x_axis, y_axis), bound_scatter))\n",
    "\n",
    "dashboard = pn.template.BootstrapTemplate(title='Exoplanets Explorer')\n",
    "dashboard.main.append('Filter, color, and size the displayed exoplanets using the available widgets, and explore trends in the scatterplot below.')\n",
    "\n",
    "dashboard.main.append(explorer)\n",
    "dashboard.servable()\n",
    "\n",
    "explorer"
   ]
  },
  {
   "cell_type": "markdown",
   "id": "89322641",
   "metadata": {},
   "source": [
    "You can use this app here in the notebook, or serve it as a standalone dashboard using a command like `panel serve --show exoplanets.ipynb`."
   ]
  }
 ],
 "metadata": {
  "kernelspec": {
   "display_name": "Python 3 (ipykernel)",
   "language": "python",
   "name": "python3"
  },
  "language_info": {
   "codemirror_mode": {
    "name": "ipython",
    "version": 3
   },
   "file_extension": ".py",
   "mimetype": "text/x-python",
   "name": "python",
   "nbconvert_exporter": "python",
   "pygments_lexer": "ipython3",
   "version": "3.10.13"
  }
 },
 "nbformat": 4,
 "nbformat_minor": 5
}
