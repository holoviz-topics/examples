{
 "cells": [
  {
   "cell_type": "markdown",
   "metadata": {},
   "source": [
    "# Glaciers"
   ]
  },
  {
   "cell_type": "markdown",
   "metadata": {},
   "source": [
    "## Glaciers explorer using Datashader\n",
    "\n",
    "<img align='right' style='padding:0px 0px 40px 30px' src='./assets/screenshot.png' width=\"40%\"/>\n",
    "\n",
    "This notebook provides an annotated [HoloViews](https://holoviews.org)+[Panel](https://panel.holoviz.org) implementation of a [dashboard originally developed by Fabien Maussion in Plotly+Dash](https://github.com/OGGM/OGGM-Dash/blob/master/apps/explore/app.py) for viewing data about the Earth's glaciers from the [Open Global Glacier Model](https://oggm.org).  To run it, first:\n",
    "\n",
    "    conda install -c pyviz pandas=0.24 param=1.10.0 panel=0.10.1 holoviews=1.13.5 datashader=0.11.1\n",
    "\n",
    "Next, save the [data file](https://cluster.klima.uni-bremen.de/~fmaussion/misc/oggm_glacier_explorer.csv) as `data/oggm_glacier_explorer.csv` (and gzip it if desired).\n",
    "\n",
    "The dashboard can then be used here as a cell in the Jupyter notebook, or you can run it as a separate server using:\n",
    "\n",
    "    panel serve glaciers.ipynb --show\n",
    "    \n",
    "This notebook is essentially the same as [Glaciers.ipynb](https://anaconda.org/jbednar/glaciers) but uses unaggregated data that is practical only with [Datashader](https://datashader.org)."
   ]
  },
  {
   "cell_type": "code",
   "execution_count": null,
   "metadata": {},
   "outputs": [],
   "source": [
    "import numpy as np\n",
    "import pandas as pd\n",
    "import holoviews as hv\n",
    "import datashader as ds\n",
    "import panel as pn\n",
    "\n",
    "from colorcet import bmy\n",
    "from holoviews.operation.datashader import rasterize, datashade\n",
    "\n",
    "hv.extension('bokeh')"
   ]
  },
  {
   "cell_type": "markdown",
   "metadata": {},
   "source": [
    "## Load the data\n",
    "\n",
    "Here we will load the glaciers data and project the latitudes and longitudes to Google Mercator coordinates, which will allow us to plot it on top of a tile source. We use the `pn.state.as_cached` function to cache the data to ensure that only the first visitor to our app has to load the data."
   ]
  },
  {
   "cell_type": "code",
   "execution_count": null,
   "metadata": {},
   "outputs": [],
   "source": [
    "def load_data():\n",
    "    df = pd.read_csv('data/oggm_glacier_explorer.csv')\n",
    "    df['latdeg'] = df.cenlat\n",
    "    df['x'], df['y'] = ds.utils.lnglat_to_meters(df.cenlon, df.cenlat)\n",
    "    return df\n",
    "\n",
    "df = pn.state.as_cached('glaciers', load_data)\n",
    "\n",
    "df.tail()"
   ]
  },
  {
   "cell_type": "markdown",
   "metadata": {},
   "source": [
    "## Plot the data\n",
    "\n",
    "As you can see in the dataframe, there are a lot of things that could be plotted about this dataset, but following the [previous version](https://github.com/OGGM/OGGM-Dash/blob/master/apps/explore/app.py) let's focus on the lat/lon location, elevation, temperature, and precipitation.  We'll use tools from [HoloViz](http://holoviz.org), starting with [HoloViews](https://holoviews.org) as an easy way to build interactive [Bokeh](http://bokeh.pydata.org) plots. So that we can use the full glacier database with good performance, we'll have [Datashader](http://datashader.org) pre-render some of the plots as images before they reach the browser.\n",
    "\n",
    "To start, let's declare a HoloViews object that captures English-text descriptions of the various columns in the dataframe, in a way that subsequent plots can all inherit without having to repeat that information:"
   ]
  },
  {
   "cell_type": "code",
   "execution_count": null,
   "metadata": {},
   "outputs": [],
   "source": [
    "data = hv.Dataset(df, [('x', 'Longitude'), ('y', 'Latitude')],\n",
    "                     [('avg_prcp', 'Annual Precipitation (mm/yr)'),\n",
    "                      ('area_km2', 'Area'), ('latdeg', 'Latitude (deg)'),\n",
    "                      ('avg_temp_at_mean_elev', 'Annual Temperature at avg. altitude'), \n",
    "                      ('mean_elev', 'Elevation')])\n",
    "total_area = df.area_km2.sum()\n",
    "\n",
    "print(data, len(data), total_area)"
   ]
  },
  {
   "cell_type": "markdown",
   "metadata": {},
   "source": [
    "Here we've declared that `x` and `y` (the projected lat,lon location of the center of the glacier) are the [\"key dimensions\"](http://holoviews.org/getting_started/Tabular_Datasets.html#Tabular) (independent values that specify which glacier this is), and the rest are \"value dimensions\" (various dependent values characterizing that particular sample)."
   ]
  },
  {
   "cell_type": "markdown",
   "metadata": {},
   "source": [
    "Next, let's define various options that will control the appearance of our plots:"
   ]
  },
  {
   "cell_type": "code",
   "execution_count": null,
   "metadata": {},
   "outputs": [],
   "source": [
    "geo_kw    = dict(aggregator=ds.sum('area_km2'), x_sampling=1000, y_sampling=1000)\n",
    "elev_kw   = dict(cmap='#7d3c98')\n",
    "temp_kw   = dict(num_bins=50, adjoin=False, normed=False, bin_range=data.range('avg_temp_at_mean_elev'))\n",
    "prcp_kw   = dict(num_bins=50, adjoin=False, normed=False, bin_range=data.range('avg_prcp'))\n",
    "\n",
    "size_opts = dict(min_height=400, min_width=600, responsive=True)\n",
    "geo_opts  = dict(size_opts, cmap=bmy, logz=True, colorbar=True, xlabel='', ylabel='')\n",
    "elev_opts = dict(size_opts, show_grid=True)\n",
    "temp_opts = dict(size_opts, fill_color='#f1948a', default_tools=[], toolbar=None, alpha=1.0)\n",
    "prcp_opts = dict(size_opts, fill_color='#85c1e9', default_tools=[], toolbar=None, alpha=1.0)"
   ]
  },
  {
   "cell_type": "markdown",
   "metadata": {},
   "source": [
    "Using these options with HoloViews, we can plot various combinations of the variables of interest:"
   ]
  },
  {
   "cell_type": "code",
   "execution_count": null,
   "metadata": {},
   "outputs": [],
   "source": [
    "geo_bg = hv.element.tiles.EsriImagery().opts(alpha=0.6, bgcolor=\"black\")\n",
    "geopoints = hv.Points(data, vdims=['area_km2']).opts(**geo_opts)\n",
    "\n",
    "(geo_bg*rasterize(geopoints, **geo_kw).options(**geo_opts) + \n",
    " datashade(data.to(hv.Scatter, 'mean_elev','latdeg', []), **elev_kw).options(**elev_opts) + \n",
    " data.hist('avg_temp_at_mean_elev', **temp_kw).options(**temp_opts) +\n",
    " data.hist('avg_prcp',              **prcp_kw).options(**prcp_opts)).cols(2)"
   ]
  },
  {
   "cell_type": "markdown",
   "metadata": {},
   "source": [
    "In the top left we've overlaid the location centers on a web-based map of the Earth, separately making a scatterplot of those same datapoints in the top right with elevation versus latitude. The bottom rows show histograms of temperature and precipitation for the whole set of glaciers. Of course, these are just some of the many plots that could be constructed from this data; see [holoviews.org](http://holoviews.org) for inspiration.\n",
    "\n",
    "## Define plotting functions\n",
    "\n",
    "The above plots are useful for understanding the properties of all glaciers worldwide, but what's more interesting is to consider how some particular subset of the glaciers relates to the rest.  To explore this, let's capture the above commands into some functions that will accept a dataset and return viewable plots for that particular data.  That way we can plot selected subsets of the data and compare them to the plots of the full dataset."
   ]
  },
  {
   "cell_type": "code",
   "execution_count": null,
   "metadata": {},
   "outputs": [],
   "source": [
    "def geo(data):   return hv.Points(data).options(alpha=1)\n",
    "def elev(data):  return data.to(hv.Scatter, 'mean_elev', 'latdeg', [])\n",
    "def temp(data):  return data.hist('avg_temp_at_mean_elev', **temp_kw).options(**temp_opts)\n",
    "def prcp(data):  return data.hist('avg_prcp',              **prcp_kw).options(**prcp_opts)"
   ]
  },
  {
   "cell_type": "markdown",
   "metadata": {},
   "source": [
    "If called with the full dataset:\n",
    "\n",
    "    (geo_bg*rasterize(geo(data), **geo_kw).options(**geo_opts) + datashade(elev(data), **elev_kw).options(**elev_opts) + temp(data) + prcp(data)).cols(2)\n",
    "\n",
    "these functions will return static plots just like those above. Let's capture that output as a set of low-opacity (`alpha<0.5`) plots to use as a background on which to show selected subsets of the data:"
   ]
  },
  {
   "cell_type": "code",
   "execution_count": null,
   "metadata": {},
   "outputs": [],
   "source": [
    "static_geo  = rasterize(geo(data),   **geo_kw).options(alpha=0.1, tools=['hover'], active_tools=['box_select'], **geo_opts)\n",
    "static_elev = datashade(elev(data), **elev_kw).options(alpha=0.1, active_tools=['box_select'], **elev_opts)\n",
    "static_temp = temp(data).options(alpha=0.1)\n",
    "static_prcp = prcp(data).options(alpha=0.1)"
   ]
  },
  {
   "cell_type": "markdown",
   "metadata": {},
   "source": [
    "Here we defined some Bokeh tools like `hover` and `box_select` that you'll see below. Meanwhile, we could plot these on their own if we wished:\n",
    "\n",
    "    (geo_bg*static_geo + static_elev + static_temp + static_prcp).cols(2)"
   ]
  },
  {
   "cell_type": "markdown",
   "metadata": {},
   "source": [
    "## Add linked selections\n",
    "\n",
    "All we have to do to add linked selections to these static plots is make a `hv.link_selections` instance and apply it to our plots:"
   ]
  },
  {
   "cell_type": "code",
   "execution_count": null,
   "metadata": {},
   "outputs": [],
   "source": [
    "ls = hv.link_selections.instance()\n",
    "\n",
    "geomap = geo_bg * ls(static_geo)\n",
    "elevation = ls(static_elev)\n",
    "temperature = ls(static_temp)\n",
    "precipitation = ls(static_prcp)\n",
    "\n",
    "(geomap + elevation + temperature + precipitation).cols(2)"
   ]
  },
  {
   "cell_type": "markdown",
   "metadata": {},
   "source": [
    "Let's also create a pane that renders the count of total selections:"
   ]
  },
  {
   "cell_type": "code",
   "execution_count": null,
   "metadata": {},
   "outputs": [],
   "source": [
    "def count(data): \n",
    "    selected_area  = np.sum(data['area_km2'])\n",
    "    selected_percentage = selected_area / total_area * 100\n",
    "    return pn.pane.Markdown(\n",
    "        '## Glaciers selected: {} | Area: {:.0f} km² ({:.1f}%)</font>'.format(\n",
    "            len(data), selected_area, selected_percentage),\n",
    "        align='center', width=500\n",
    "    )\n",
    "\n",
    "dynamic_count = pn.bind(count, ls.selection_param(df))\n",
    "pn.panel(dynamic_count)"
   ]
  },
  {
   "cell_type": "markdown",
   "metadata": {},
   "source": [
    "## Dashboard\n",
    "\n",
    "The code and plots above should be fine for exploring this data in a notebook, but let's go further and make a shareable dashboard using [Panel](http://panel.pyviz.org).  Panel lets us add arbitrary custom functionality, such as a button to reset the selections by calling `clear_selections` which sets the selection_expr to `None`:"
   ]
  },
  {
   "cell_type": "code",
   "execution_count": null,
   "metadata": {},
   "outputs": [],
   "source": [
    "pn.extension()\n",
    "\n",
    "def clear_selections(event):\n",
    "    ls.selection_expr = None\n",
    "\n",
    "clear_button = pn.widgets.Button(name='Clear selection', align='center')\n",
    "clear_button.param.watch(clear_selections, 'clicks');"
   ]
  },
  {
   "cell_type": "markdown",
   "metadata": {},
   "source": [
    "And we can add static text, Markdown, or HTML items like a title, instructions, and logos:"
   ]
  },
  {
   "cell_type": "code",
   "execution_count": null,
   "metadata": {},
   "outputs": [],
   "source": [
    "title       = '<div style=\"font-size:35px\">World glaciers explorer</div>'\n",
    "instruction = 'Box-select on each plot to subselect; clear selection to reset.<br>'\n",
    "oggm_url    = 'https://raw.githubusercontent.com/OGGM/oggm/master/docs/_static/logos/oggm_s_alpha.png'\n",
    "oggm_logo   = '<a href=\"https://oggm.org\"><img src=\"{0}\" width=170></a>'.format(oggm_url)\n",
    "pn_url      = 'http://panel.holoviz.org/_static/logo_stacked.png'\n",
    "pn_logo     = '<a href=\"https://panel.holoviz.org\"><img src=\"{0}\" width=140></a>'.format(pn_url)"
   ]
  },
  {
   "cell_type": "markdown",
   "metadata": {},
   "source": [
    "If you want detailed control over the formatting, you could define these items in a separate [Jinja2 template](http://bokeh.pydata.org/en/latest/docs/user_guide/server.html#building-bokeh-applications).  But here, let's put it all together using Panel Row and Column objects, which can display objects and plots from many different libraries, including the HoloViews objects used here.  You'll then get an app with widgets and plots usable from within the notebook:"
   ]
  },
  {
   "cell_type": "code",
   "execution_count": null,
   "metadata": {},
   "outputs": [],
   "source": [
    "header = pn.Row(pn.panel(oggm_logo),  pn.layout.Spacer(width=30), \n",
    "                pn.Column(pn.panel(title, width=400), pn.panel(instruction, width=500)),\n",
    "                pn.layout.HSpacer(), pn.Column(dynamic_count, pn.layout.Spacer(height=20), clear_button), \n",
    "                pn.panel(pn_logo, width=140))\n",
    "\n",
    "content = pn.Column(header, pn.Row(geomap, elevation), pn.Row(temperature, precipitation), width_policy='max', height_policy='max')\n",
    "\n",
    "content"
   ]
  },
  {
   "cell_type": "markdown",
   "metadata": {},
   "source": [
    "Lastly we will build a Template to give this dashboard a more polished look and feel when deployed, reflecting the image shown at the top of the notebook:"
   ]
  },
  {
   "cell_type": "code",
   "execution_count": null,
   "metadata": {},
   "outputs": [],
   "source": [
    "template = pn.template.MaterialTemplate(title='World Glaciers Explorer')\n",
    "\n",
    "template.header.append(\n",
    "    pn.Row(\n",
    "        pn.layout.HSpacer(),\n",
    "        dynamic_count,\n",
    "        clear_button,\n",
    "    )\n",
    ")\n",
    "\n",
    "template.sidebar.extend([\n",
    "    pn.pane.PNG(oggm_url, width=250),\n",
    "    pn.pane.Markdown(instruction, width=250, height=100),\n",
    "    pn.pane.PNG(pn_url, width=200, align='center')\n",
    "])\n",
    "\n",
    "template.main.append(\n",
    "    (geomap + elevation + temperature + precipitation).cols(2)\n",
    ")\n",
    "\n",
    "template.servable();"
   ]
  },
  {
   "cell_type": "markdown",
   "metadata": {},
   "source": [
    "As long as you are running this notebook \"live\" (in Jupyter, not viewing a website or a static copy on anaconda.org), the above notebook cell should contain the fully operational dashboard here in the notebook.  You can also launch the dashboard at a separate port that shows up in a new browser tab, either by changing `.servable()` to `.show()` above and re-executing that cell, or by leaving the cell as it is and running `panel serve --show glaciers.ipynb`.  \n",
    "\n",
    "Either way, you should get a standalone dashboard like the image at the start of this notebook. You can now select and explore your data to your heart's content, and share it with anyone else interested in this topic! Or you can use the above approach to make your own custom dashboard for just about anything you want to visualize, with plots from just about any plotting library and arbitrary custom interactivity for libraries that support it."
   ]
  }
 ],
 "metadata": {
  "kernelspec": {
   "display_name": "Python 3 (ipykernel)",
   "language": "python",
   "name": "python3"
  },
  "language_info": {
   "codemirror_mode": {
    "name": "ipython",
    "version": 3
   },
   "file_extension": ".py",
   "mimetype": "text/x-python",
   "name": "python",
   "nbconvert_exporter": "python",
   "pygments_lexer": "ipython3",
   "version": "3.8.18"
  }
 },
 "nbformat": 4,
 "nbformat_minor": 4
}
