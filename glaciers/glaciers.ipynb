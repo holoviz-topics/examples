{
 "cells": [
  {
   "cell_type": "markdown",
   "metadata": {},
   "source": [
    "# Glaciers"
   ]
  },
  {
   "cell_type": "markdown",
   "metadata": {},
   "source": [
    "## Glaciers explorer using Datashader\n",
    "\n",
    "This notebook provides an annotated [hvPlot](https://hvplot.holoviz.org)+[Panel](https://panel.holoviz.org) implementation of a [dashboard originally developed by Fabien Maussion in Plotly+Dash](https://github.com/OGGM/OGGM-Dash/blob/master/apps/explore/app.py) for viewing data about the Earth's glaciers from the [Open Global Glacier Model](https://oggm.org).\n",
    "\n",
    "<img style='padding:20px 0px 20px 30px' src='./assets/screenshot.png' width=\"80%\"/>"
   ]
  },
  {
   "cell_type": "code",
   "execution_count": null,
   "metadata": {},
   "outputs": [],
   "source": [
    "import numpy as np\n",
    "import pandas as pd\n",
    "import holoviews as hv\n",
    "import panel as pn\n",
    "import hvplot.pandas # noqa\n",
    "\n",
    "from colorcet import bmy\n",
    "from holoviews.util.transform import lon_lat_to_easting_northing as ll_en"
   ]
  },
  {
   "cell_type": "markdown",
   "metadata": {},
   "source": [
    "## Load the data\n",
    "\n",
    "Here we will load the glaciers data and project the latitudes and longitudes to Google Mercator coordinates, which will allow us to plot it on top of a tile source. We do this by using the `lon_lat_to_easting_northing` function from holoviews.\n",
    "\n",
    "We also use the `pn.state.as_cached` function to cache the data to ensure that only the first visitor to our app has to load the data."
   ]
  },
  {
   "cell_type": "code",
   "execution_count": null,
   "metadata": {},
   "outputs": [],
   "source": [
    "def load_data():\n",
    "    df = pd.read_csv('data/oggm_glacier_explorer.csv')\n",
    "    df['x'], df['y'] = ll_en(df.cenlon, df.cenlat)\n",
    "    return df\n",
    "\n",
    "df = pn.state.as_cached('glaciers', load_data)\n",
    "\n",
    "df.tail()"
   ]
  },
  {
   "cell_type": "markdown",
   "metadata": {},
   "source": [
    "## Add linked selections\n",
    "\n",
    "[Linked selections](https://holoviz.org/tutorial/Interlinked_Plots.html) are a way to interlink different plots which use the same data. With linked selections, you can explore how a particular subset of your data is rendered across the different types of plot you create.\n",
    "\n",
    "All we have to do to add linked selections to static plots is make a `hv.link_selections` instance and apply it to our plots:"
   ]
  },
  {
   "cell_type": "markdown",
   "metadata": {},
   "source": [
    "Let's create a pane that renders the count of total selections:"
   ]
  },
  {
   "cell_type": "code",
   "execution_count": null,
   "metadata": {},
   "outputs": [],
   "source": [
    "ls = hv.link_selections.instance()\n",
    "\n",
    "def clear_selections(event):\n",
    "    ls.selection_expr = None\n",
    "\n",
    "clear_button = pn.widgets.Button(name='Clear selection', align='center')\n",
    "\n",
    "clear_button.param.watch(clear_selections, 'clicks');\n",
    "\n",
    "total_area = df.area_km2.sum()\n",
    "\n",
    "def count(data):\n",
    "    selected_area  = np.sum(data['area_km2'])\n",
    "    selected_percentage = selected_area / total_area * 100\n",
    "    return f'## Glaciers selected: {len(data)} | Area: {selected_area:.0f} km² ({selected_percentage:.1f}%)</font>'\n",
    "\n",
    "dynamic_count = pn.bind(count, ls.selection_param(df))\n",
    "\n",
    "pn.Row(\n",
    "    pn.pane.Markdown(pn.bind(count, ls.selection_param(df)), align='center', width=600),\n",
    "    clear_button\n",
    ")"
   ]
  },
  {
   "cell_type": "markdown",
   "metadata": {},
   "source": [
    "## Plot the data\n",
    "\n",
    "As you can see in the dataframe, there are a lot of things that could be plotted about this dataset, but following the [previous version](https://github.com/OGGM/OGGM-Dash/blob/master/apps/explore/app.py) let's focus on the lat/lon location, elevation, temperature, and precipitation.  We'll use tools from [HoloViz](https://holoviz.org), starting with [HvPlot](https://hvplot.holoviz.org/) as an easy way to build interactive [Bokeh](https://bokeh.pydata.org) plots."
   ]
  },
  {
   "cell_type": "markdown",
   "metadata": {},
   "source": [
    "We now create different types of plot to display different aspects of the data. With the created `link_selections` instance, we can inspect how selecting an area of one plot will also render the same data point in the other plots."
   ]
  },
  {
   "cell_type": "code",
   "execution_count": null,
   "metadata": {},
   "outputs": [],
   "source": [
    "geo = df.hvplot.points(\n",
    "    'x', 'y', rasterize=True, tools=['hover'], tiles='ESRI', cmap=bmy, logz=True, colorbar=True,\n",
    "    xaxis=None, yaxis=False, ylim=(-7452837.583633271, 6349198.00989753), min_height=400, responsive=True\n",
    ").opts('Tiles', alpha=0.8, bgcolor='black')\n",
    "\n",
    "scatter = df.hvplot.scatter(\n",
    "    'mean_elev', 'cenlat', rasterize=True, fontscale=1.2, grid=True,\n",
    "    xlabel='Elevation', ylabel='Latitude (degree)', responsive=True, min_height=400,\n",
    ")\n",
    "\n",
    "temp = df.hvplot.hist(\n",
    "    'avg_temp_at_mean_elev', fontscale=1.2, bins=50, responsive=True, min_height=350, fill_color='#f1948a'\n",
    ")\n",
    "\n",
    "precipitation = df.hvplot.hist(\n",
    "    'avg_prcp', fontscale=1.2, bins=50, responsive=True, min_height=350, fill_color='#85c1e9'\n",
    ")\n",
    "\n",
    "plots = pn.pane.HoloViews(ls(geo + scatter + temp + precipitation).cols(2).opts(sizing_mode='stretch_both'))\n",
    "plots\n"
   ]
  },
  {
   "cell_type": "markdown",
   "metadata": {},
   "source": [
    "In the top left we've overlaid the location centers on a web-based map of the Earth, separately making a scatterplot of those same datapoints in the top right with elevation versus latitude. The bottom rows show histograms of temperature and precipitation for the whole set of glaciers. Of course, these are just some of the many plots that could be constructed from this data; see [holoviews.org](https://holoviews.org) for inspiration."
   ]
  },
  {
   "cell_type": "markdown",
   "metadata": {},
   "source": [
    "## Dashboard\n",
    "\n",
    "The code and plots above should be fine for exploring this data in a notebook, but let's go further and make a dashboard using [Panel](https://panel.pyviz.org)."
   ]
  },
  {
   "cell_type": "markdown",
   "metadata": {},
   "source": [
    "We can add static text, Markdown, or HTML items like a title, instructions, and logos."
   ]
  },
  {
   "cell_type": "markdown",
   "metadata": {},
   "source": [
    "If you want detailed control over the formatting, you could define these items in a separate [Jinja2 template](https://panel.holoviz.org/how_to/templates/template_custom.html).  But here, let's put it all together using the `panel.pane` module, which can display many python objects and plots from many different libraries.  You'll then get an app with widgets and plots usable from within the notebook:"
   ]
  },
  {
   "cell_type": "code",
   "execution_count": null,
   "metadata": {},
   "outputs": [],
   "source": [
    "instruction = pn.pane.Markdown(\"\"\"\n",
    "This dashboard visualizes all global glaciers and allows exploring the relationships \n",
    "between their locations and variables such as their elevation, temperature and annual precipitation.\n",
    "<br>Box- or lasso-select on each plot to subselect and hit the \"Clear selection\" button to reset. \n",
    "See the notebook source code for how to build apps like this!\"\"\", width=250)\n",
    "\n",
    "panel_logo = pn.pane.PNG(\n",
    "    'https://panel.holoviz.org/_static/logo_stacked.png',\n",
    "    link_url='https://panel.holoviz.org', width=250, align='center'\n",
    ")\n",
    "\n",
    "oggm_logo = pn.pane.PNG(\n",
    "    './assets/oggm_logo.png',\n",
    "    link_url='https://oggm.org/', width=250, align='center'\n",
    ")\n",
    "\n",
    "header = pn.Row(\n",
    "        pn.layout.HSpacer(),\n",
    "        dynamic_count,\n",
    "        clear_button,\n",
    "    )\n",
    "\n",
    "sidebar = pn.Column(oggm_logo, instruction, panel_logo,)\n",
    "\n",
    "pn.Column(header, pn.Row(sidebar, plots), min_height=900)"
   ]
  },
  {
   "cell_type": "markdown",
   "metadata": {},
   "source": [
    "## Template\n",
    "\n",
    "Now we have a fully functional dashboard here in the notebook. However, we can build a Template to give this dashboard a more polished look and feel when deployed, reflecting the image shown at the top of the notebook:"
   ]
  },
  {
   "cell_type": "code",
   "execution_count": null,
   "metadata": {},
   "outputs": [],
   "source": [
    "template = pn.template.MaterialTemplate(title='World Glaciers Explorer')\n",
    "\n",
    "template.header.append(\n",
    "    pn.Row(\n",
    "        pn.layout.HSpacer(),\n",
    "        dynamic_count,\n",
    "        clear_button,\n",
    "    )\n",
    ")\n",
    "\n",
    "template.sidebar.extend([\n",
    "    oggm_logo,\n",
    "    instruction,\n",
    "    panel_logo,\n",
    "])\n",
    "\n",
    "template.main.append(plots)\n",
    "\n",
    "template.servable();"
   ]
  },
  {
   "cell_type": "markdown",
   "metadata": {},
   "source": [
    "Running the cell above will open a standalone dashboard in a new browser tab where you can select and explore your data to your heart's content, and share it with anyone else interested in this topic! Or you can use the above approach to make your own custom dashboard for just about anything you want to visualize, with plots from just about any plotting library and arbitrary custom interactivity for libraries that support it."
   ]
  }
 ],
 "metadata": {
  "kernelspec": {
   "display_name": "Python 3 (ipykernel)",
   "language": "python",
   "name": "python3"
  },
  "language_info": {
   "codemirror_mode": {
    "name": "ipython",
    "version": 3
   },
   "file_extension": ".py",
   "mimetype": "text/x-python",
   "name": "python",
   "nbconvert_exporter": "python",
   "pygments_lexer": "ipython3",
   "version": "3.11.8"
  }
 },
 "nbformat": 4,
 "nbformat_minor": 4
}
