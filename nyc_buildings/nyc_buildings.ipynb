{
 "cells": [
  {
   "cell_type": "markdown",
   "metadata": {},
   "source": [
    "# NYC Buildings"
   ]
  },
  {
   "cell_type": "markdown",
   "metadata": {},
   "source": [
    "Many plotting libraries can handle collections of polygons, e.g. [Bokeh](https://docs.bokeh.org/en/latest/docs/examples/topics/geo/texas_hover_map.html) or [HoloViews+Bokeh](https://holoviews.org/gallery/demos/bokeh/choropleth_data_link.html). However, because browser-based libraries like Bokeh and Plotly send all the polygon data to the browser, they can struggle when either the collections or the polygons themselves get large. Even natively in Python, typical formats like Shapely for representing polygons scale poorly to large polygon collections, because each polygon is wrapped up as a separate Python object, leading to a lot of duplicated storage overhead when many polygons of the same type are defined.\n",
    "\n",
    "If you want to work with lots of polygons, here you can see how to use [SpatialPandas](https://github.com/holoviz/spatialpandas) and Dask to represent polygons efficiently in memory, fastparquet to represent them efficiently on disk, and [Datashader](https://datashader.org) to render them quickly in a web browser. This notebook also demonstrates how to support hovering for datashaded polygons, with Bokeh overlaying a single vector-based representation of a polygon where the mouse cursor is, while all the rest are sent to the browser only as rendered pixels. That way hover and other interactive features can be supported fully without ever needing to transfer large amounts of data or store them in the limited memory of the web browser tab.  \n",
    "\n",
    "This example plots the outlines of all the buildings in New York City. See\n",
    "[nyc.gov](https://nyc.maps.arcgis.com/home/item.html?id=870bf69e8a8044aea4488e564c0b4010#overview) for the original data and its description."
   ]
  },
  {
   "cell_type": "code",
   "execution_count": null,
   "metadata": {},
   "outputs": [],
   "source": [
    "import hvplot.dask # noqa\n",
    "import hvplot.pandas # noqa\n",
    "import geopandas as gpd\n",
    "import colorcet as cc"
   ]
  },
  {
   "attachments": {},
   "cell_type": "raw",
   "metadata": {},
   "source": [
    "# Create a new geodata parquet file\n",
    "ddf = spd.io.read_parquet_dask('./data/nyc_buildings.parq').persist().compute()\n",
    "\n",
    "gdf = gpd.GeoDataFrame(ddf)\n",
    "\n",
    "def convert_to_shapely(spgeom):\n",
    "    try:\n",
    "        return spgeom.to_shapely()\n",
    "    except Exception as e:\n",
    "        print(f\"Error converting geometry: {e}\")\n",
    "        return None\n",
    "\n",
    "gdf['geometry'] = gdf['geometry'].apply(convert_to_shapely)\n",
    "gdf = gpd.GeoDataFrame(gdf, geometry='geometry')\n",
    "\n",
    "gdf.to_parquet('new_nyc_buildings.parq')"
   ]
  },
  {
   "cell_type": "code",
   "execution_count": null,
   "metadata": {},
   "outputs": [],
   "source": [
    "gdf = gpd.read_parquet('new_nyc_buildings.parq')\n",
    "\n",
    "gdf.head()"
   ]
  },
  {
   "cell_type": "markdown",
   "metadata": {},
   "source": [
    "Now we compute the top categories and drop everything else:"
   ]
  },
  {
   "cell_type": "code",
   "execution_count": null,
   "metadata": {},
   "outputs": [],
   "source": [
    "cats = list(gdf['type'].value_counts().iloc[:10].index) + ['unknown']\n",
    "gdf['type'] = gdf['type'].fillna('unknown')\n",
    "gdf = gdf[gdf['type'].isin(cats)]\n",
    "gdf['type'] = gdf['type'].astype('category')"
   ]
  },
  {
   "cell_type": "markdown",
   "metadata": {},
   "source": [
    "Next we build a legend for the categories and declare a tile source as backdrop:"
   ]
  },
  {
   "cell_type": "code",
   "execution_count": null,
   "metadata": {},
   "outputs": [],
   "source": [
    "colors    = cc.glasbey_bw_minc_20_maxl_70\n",
    "color_key = {cat: tuple(int(e*255.) for e in colors[i]) for i, cat in enumerate(cats)}"
   ]
  },
  {
   "cell_type": "markdown",
   "metadata": {},
   "source": [
    "Now we put it all together, declaring a `Polygons` element from our data, datashade them and use the `inspect_polygons` operation to allow us to hover on the data:"
   ]
  },
  {
   "cell_type": "code",
   "execution_count": null,
   "metadata": {},
   "outputs": [],
   "source": [
    "gdf.head(1000).hvplot.polygons(tiles='CartoLight', rasterize=True)"
   ]
  },
  {
   "cell_type": "code",
   "execution_count": null,
   "metadata": {},
   "outputs": [],
   "source": [
    "gdf.hvplot.polygons(tiles='CartoLight', rasterize=True)"
   ]
  },
  {
   "cell_type": "code",
   "execution_count": null,
   "metadata": {},
   "outputs": [],
   "source": [
    "# This is the hold-up point\n",
    "# gdf.head(1000).hvplot.polygons(tiles='CartoLight', rasterize=True, c='type', cmap=color_key)"
   ]
  },
  {
   "cell_type": "raw",
   "metadata": {},
   "source": [
    "# Below this point is the old API\n",
    "polys = hv.Polygons(ddf, vdims='type')\n",
    "\n",
    "shaded = datashade(polys, color_key=color_key, aggregator=ds.by('type', ds.any()))\n",
    "\n",
    "hover = inspect_polygons(shaded).opts(fill_color='red', tools=['hover'])\n",
    "\n",
    "tiles * shaded * legend * hover"
   ]
  },
  {
   "cell_type": "markdown",
   "metadata": {},
   "source": [
    "Finally we will plot each category of buildings separately:"
   ]
  },
  {
   "cell_type": "raw",
   "metadata": {},
   "source": [
    "hv.NdLayout({\n",
    "    cat: hv.element.tiles.CartoLight() * rasterize(polys.select(type=cat), aggregator='any') for cat in cats\n",
    "}, 'Type').opts('Image', width=250, height=400, xaxis=None, yaxis=None).cols(4)"
   ]
  }
 ],
 "metadata": {
  "kernelspec": {
   "display_name": "Python 3 (ipykernel)",
   "language": "python",
   "name": "python3"
  },
  "language_info": {
   "codemirror_mode": {
    "name": "ipython",
    "version": 3
   },
   "file_extension": ".py",
   "mimetype": "text/x-python",
   "name": "python",
   "nbconvert_exporter": "python",
   "pygments_lexer": "ipython3",
   "version": "3.11.8"
  }
 },
 "nbformat": 4,
 "nbformat_minor": 4
}
