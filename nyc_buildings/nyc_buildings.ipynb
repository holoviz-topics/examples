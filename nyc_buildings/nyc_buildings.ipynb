{
 "cells": [
  {
   "cell_type": "markdown",
   "metadata": {},
   "source": [
    "# NYC Buildings"
   ]
  },
  {
   "cell_type": "markdown",
   "metadata": {},
   "source": [
    "<img align='right' style='margin:8px' src='./assets/dashboard.png'/>\n",
    "\n",
    "Many plotting libraries can handle collections of polygons, including [Bokeh](https://docs.bokeh.org/en/latest/docs/examples/topics/geo/texas_hover_map.html) and [HoloViews](https://holoviews.org/gallery/demos/bokeh/choropleth_data_link.html). However, because browser-based libraries like Bokeh and Plotly send all the polygon data to Javascript running in the browser, they can struggle when either the collections or the individual polygons themselves get large. Even natively in Python, typical formats like Shapely for representing polygons scale poorly to large polygon collections, because each polygon is wrapped up as a full, separate Python object, leading to a lot of duplicated storage overhead when many polygons of the same type are defined.\n",
    "\n",
    "If you want to work with lots of polygons, here you can see how to use [SpatialPandas](https://github.com/holoviz/spatialpandas) and Dask to represent polygons efficiently in memory, and [Datashader](https://datashader.org) to render them quickly in a web browser.\n",
    "\n",
    "This example plots the outlines of all one million+ buildings in New York City. See\n",
    "[nyc.gov](https://nyc.maps.arcgis.com/home/item.html?id=870bf69e8a8044aea4488e564c0b4010#overview) for the original data and its description."
   ]
  },
  {
   "cell_type": "code",
   "execution_count": null,
   "metadata": {},
   "outputs": [],
   "source": [
    "import hvplot.dask # noqa\n",
    "import hvplot.pandas # noqa\n",
    "import datashader as ds\n",
    "import colorcet as cc\n",
    "import spatialpandas as spd\n",
    "import spatialpandas.io\n",
    "\n",
    "from dask.diagnostics import ProgressBar\n",
    "from holoviews import opts\n",
    "from holoviews.streams import PlotSize"
   ]
  },
  {
   "cell_type": "code",
   "execution_count": null,
   "metadata": {
    "scrolled": false
   },
   "outputs": [],
   "source": [
    "# Add more resolution to dynamic plots, particularly important for Retina displays\n",
    "PlotSize.scale=2.0\n",
    "opts.defaults(\n",
    "    opts.Polygons(width=600, height=500, xaxis=None, yaxis=None))\n",
    "\n",
    "from dask.distributed import Client\n",
    "client = Client()\n",
    "\n",
    "client"
   ]
  },
  {
   "cell_type": "code",
   "execution_count": null,
   "metadata": {},
   "outputs": [],
   "source": [
    "ddf = spd.io.read_parquet_dask('./data/nyc_buildings.parq').persist()\n",
    "print(len(ddf))\n",
    "ddf.head()"
   ]
  },
  {
   "cell_type": "markdown",
   "metadata": {},
   "source": [
    "Here you can see that we have 1.1 million \"MultiPolygons\", some of which have a `type` and `name` declared.\n",
    "\n",
    "To get a look at this data, let's plot all the polygons, overlaid on a tiled map of the region:"
   ]
  },
  {
   "cell_type": "code",
   "execution_count": null,
   "metadata": {},
   "outputs": [],
   "source": [
    "ddf.hvplot.polygons(tiles='CartoLight', rasterize=True, aggregator='any')"
   ]
  },
  {
   "cell_type": "markdown",
   "metadata": {},
   "source": [
    "At this scale, the plot looks like a bunch of dots or large colored areas, because each building is smaller than a pixel in the plot. But if you have a live Python server running, you can use the Bokeh tools to zoom in and have the plot dynamically redrawn, showing you the full outline of each polygon.\n",
    "\n",
    "Alternatively, we can re-plot the data over a smaller selection of the location that can show us the indidvidual polygons using the `xlim` and `ylim` parameters:"
   ]
  },
  {
   "cell_type": "code",
   "execution_count": null,
   "metadata": {},
   "outputs": [],
   "source": [
    "ddf.hvplot.polygons(tiles='CartoLight', rasterize=True, aggregator='any',\n",
    "                    xlim=(-8231400, -8230900), ylim=(4971900, 4972600))"
   ]
  },
  {
   "cell_type": "markdown",
   "metadata": {},
   "source": [
    "Now let's make use of the category information. To get a manageable number of types, we'll compute the top 10 most common categories and drop everything else:"
   ]
  },
  {
   "cell_type": "code",
   "execution_count": null,
   "metadata": {},
   "outputs": [],
   "source": [
    "cats = list(ddf['type'].value_counts().compute().iloc[:10].index.values) + ['unknown']\n",
    "\n",
    "ddf['type'] = ddf['type'].replace({None: 'unknown'})\n",
    "ddf = ddf[ddf['type'].isin(cats)]\n",
    "ddf['type'] = ddf['type'].astype('category').cat.as_known()"
   ]
  },
  {
   "cell_type": "markdown",
   "metadata": {},
   "source": [
    "SpatialPandas lets us build a spatial index for accessing spatially organized regions more quickly, so let's do that:"
   ]
  },
  {
   "cell_type": "code",
   "execution_count": null,
   "metadata": {},
   "outputs": [],
   "source": [
    "with ProgressBar():\n",
    "    ddf = ddf.build_sindex().persist()"
   ]
  },
  {
   "cell_type": "markdown",
   "metadata": {},
   "source": [
    "Now we can view each category separately with a selector widget:"
   ]
  },
  {
   "cell_type": "code",
   "execution_count": null,
   "metadata": {
    "scrolled": false
   },
   "outputs": [],
   "source": [
    "ddf.hvplot.polygons(rasterize=True, tiles='CartoLight', groupby='type', aggregator='any')"
   ]
  },
  {
   "cell_type": "markdown",
   "metadata": {},
   "source": [
    "If you look at each one, you can see that unfortunately most of the categories are unknown, but there are interesting patterns (e.g. almost no garages in Manhattan, and apparently all the sheds are in New Jersey).\n",
    "\n",
    "Since these buildings don't normally overlap, we can actually combine them all into a single plot using color to show all of the categories (though we have to construct a color key manually):"
   ]
  },
  {
   "cell_type": "code",
   "execution_count": null,
   "metadata": {},
   "outputs": [],
   "source": [
    "colors    = cc.glasbey_bw_minc_20_maxl_70\n",
    "color_key = {cat: tuple(int(e*255.) for e in colors[i]) for i, cat in enumerate(cats)}"
   ]
  },
  {
   "cell_type": "markdown",
   "metadata": {},
   "source": [
    "Now we put it all together, showing the color-coded plot:"
   ]
  },
  {
   "cell_type": "code",
   "execution_count": null,
   "metadata": {},
   "outputs": [],
   "source": [
    "plot = ddf.hvplot.polygons(tiles='CartoLight', data_aspect=1, datashade=True,\n",
    "                           aggregator=ds.by('type', ds.any()), cmap=color_key)\n",
    "\n",
    "plot"
   ]
  },
  {
   "cell_type": "markdown",
   "metadata": {},
   "source": [
    "If you zoom into an area of interest, you'll see an overlay of the building at that location, with the color of the polygon telling you the type of building it is.\n",
    "\n",
    "Finally, we'll make this notebook into a shareable app (run with `anaconda-project run dashboard`):"
   ]
  },
  {
   "cell_type": "code",
   "execution_count": null,
   "metadata": {},
   "outputs": [],
   "source": [
    "import panel as pn\n",
    "pn.extension()\n",
    "\n",
    "text = \"\"\"\n",
    "# [1 million buildings in NYC](https://examples.holoviz.org/nyc_buildings)\n",
    "## Rendered using [Datashader](https://datashader.org) and [hvPlot](https://hvplot.holoviz.org).\n",
    "\"\"\"\n",
    "\n",
    "pn.Column(text, pn.panel(plot, sizing_mode='stretch_both')).servable();"
   ]
  }
 ],
 "metadata": {
  "kernelspec": {
   "display_name": "Python 3 (ipykernel)",
   "language": "python",
   "name": "python3"
  },
  "language_info": {
   "codemirror_mode": {
    "name": "ipython",
    "version": 3
   },
   "file_extension": ".py",
   "mimetype": "text/x-python",
   "name": "python",
   "nbconvert_exporter": "python",
   "pygments_lexer": "ipython3",
   "version": "3.11.9"
  }
 },
 "nbformat": 4,
 "nbformat_minor": 4
}
