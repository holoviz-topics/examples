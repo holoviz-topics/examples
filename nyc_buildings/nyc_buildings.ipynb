{
 "cells": [
  {
   "cell_type": "markdown",
   "metadata": {},
   "source": [
    "Many plotting libraries can handle collections of polygons, e.g. [Bokeh](https://docs.bokeh.org/en/latest/docs/gallery/texas.html) or [HoloViews+Bokeh](http://holoviews.org/gallery/demos/bokeh/choropleth_data_link.html). However, because browser-based libraries like Bokeh and Plotly send all the polygon data to the browser, they can struggle when either the collections or the polygons themselves get large. Even natively in Python, typical formats like Shapely for representing polygons scale poorly to large polygon collections, because each polygon is wrapped up as a separate Python object, leading to a lot of duplicated storage overhead when many polygons of the same type are defined.\n",
    "\n",
    "If you want to work with lots of polygons, here you can see how to use [SpatialPandas](https://github.com/holoviz/spatialpandas) and Dask to represent polygons efficiently in memory, fastparquet to represent them efficiently on disk, and [Datashader](https://datashader.org) to render them quickly in a web browser. This notebook also demonstrates how to support hovering for datashaded polygons, with Bokeh overlaying a single vector-based representation of a polygon where the mouse cursor is, while all the rest are sent to the browser only as rendered pixels. That way hover and other interactive features can be supported fully without ever needing to transfer large amounts of data or store them in the limited memory of the web browser tab.  \n",
    "\n",
    "This example plots the outlines of all the buildings in New York City. See\n",
    "[nyc.gov](https://www1.nyc.gov/site/doitt/residents/gis-2d-data.page) for the original data and its description."
   ]
  },
  {
   "cell_type": "code",
   "execution_count": null,
   "metadata": {},
   "outputs": [],
   "source": [
    "import holoviews as hv\n",
    "import colorcet as cc\n",
    "import datashader as ds\n",
    "import spatialpandas as spd\n",
    "import spatialpandas.io\n",
    "\n",
    "from dask.diagnostics import ProgressBar\n",
    "from holoviews.operation.datashader import (\n",
    "    rasterize, datashade, inspect_polygons\n",
    ")\n",
    "\n",
    "hv.extension('bokeh')"
   ]
  },
  {
   "cell_type": "code",
   "execution_count": null,
   "metadata": {},
   "outputs": [],
   "source": [
    "ddf = spd.io.read_parquet_dask('./data/nyc_buildings.parq').persist()"
   ]
  },
  {
   "cell_type": "markdown",
   "metadata": {},
   "source": [
    "Now we compute the top categories and drop everything else:"
   ]
  },
  {
   "cell_type": "code",
   "execution_count": null,
   "metadata": {},
   "outputs": [],
   "source": [
    "cats = list(ddf.type.value_counts().compute().iloc[:10].index.values) + ['unknown']\n",
    "ddf['type'] = ddf.type.replace({None: 'unknown'})\n",
    "ddf = ddf[ddf.type.isin(cats)]\n",
    "ddf['type'] = ddf['type'].astype('category').cat.as_known()\n",
    "\n",
    "with ProgressBar():\n",
    "    ddf = ddf.build_sindex().persist()"
   ]
  },
  {
   "cell_type": "markdown",
   "metadata": {},
   "source": [
    "Next we build a legend for the categories and declare a tile source as backdrop:"
   ]
  },
  {
   "cell_type": "code",
   "execution_count": null,
   "metadata": {},
   "outputs": [],
   "source": [
    "colors    = cc.glasbey_bw_minc_20_maxl_70\n",
    "color_key = {cat: tuple(int(e*255.) for e in colors[i]) for i, cat in enumerate(cats)}\n",
    "legend    = hv.NdOverlay({k: hv.Points([0,0], label=str(k)).opts(\n",
    "                                         color=cc.rgb_to_hex(*v), size=0, apply_ranges=False) \n",
    "                          for k, v in color_key.items()}, 'Type')\n",
    "\n",
    "tiles = hv.element.tiles.CartoLight().opts(\n",
    "    min_height=500, responsive=True, xaxis=None, yaxis=None)"
   ]
  },
  {
   "cell_type": "markdown",
   "metadata": {},
   "source": [
    "Now we put it all together, declaring a `Polygons` element from our data, datashade them and use the `inspect_polygons` operation to allow us to hover on the data:"
   ]
  },
  {
   "cell_type": "code",
   "execution_count": null,
   "metadata": {},
   "outputs": [],
   "source": [
    "polys = hv.Polygons(ddf, vdims='type')\n",
    "\n",
    "shaded = datashade(polys, color_key=color_key, aggregator=ds.by('type', ds.any()))\n",
    "\n",
    "hover = inspect_polygons(shaded).opts(fill_color='red', tools=['hover'])\n",
    "\n",
    "tiles * shaded * legend * hover"
   ]
  },
  {
   "cell_type": "markdown",
   "metadata": {},
   "source": [
    "Finally we will plot each category of buildings separately:"
   ]
  },
  {
   "cell_type": "code",
   "execution_count": null,
   "metadata": {},
   "outputs": [],
   "source": [
    "hv.NdLayout({\n",
    "    cat: hv.element.tiles.CartoLight() * rasterize(polys.select(type=cat), aggregator='any') for cat in cats\n",
    "}, 'Type').opts('Image', width=250, height=400, xaxis=None, yaxis=None).cols(4)"
   ]
  }
 ],
 "metadata": {
  "language_info": {
   "name": "python",
   "pygments_lexer": "ipython3"
  }
 },
 "nbformat": 4,
 "nbformat_minor": 4
}
