{
 "cells": [
  {
   "cell_type": "code",
   "execution_count": null,
   "metadata": {},
   "outputs": [],
   "source": [
    "import holoviews as hv\n",
    "import colorcet as cc\n",
    "import datashader as ds\n",
    "import spatialpandas as spd\n",
    "import spatialpandas.io\n",
    "\n",
    "from dask.diagnostics import ProgressBar\n",
    "from holoviews.operation.datashader import (\n",
    "    rasterize, datashade, inspect_polygons\n",
    ")\n",
    "\n",
    "hv.extension('bokeh')"
   ]
  },
  {
   "cell_type": "code",
   "execution_count": null,
   "metadata": {},
   "outputs": [],
   "source": [
    "ddf = spd.io.read_parquet_dask('./data/nyc_buildings.parq').persist()"
   ]
  },
  {
   "cell_type": "markdown",
   "metadata": {},
   "source": [
    "Now we compute the top categories and drop everything else:"
   ]
  },
  {
   "cell_type": "code",
   "execution_count": null,
   "metadata": {},
   "outputs": [],
   "source": [
    "cats = list(ddf.type.value_counts().compute().iloc[:10].index.values) + ['unknown']\n",
    "ddf['type'] = ddf.type.replace({None: 'unknown'})\n",
    "ddf = ddf[ddf.type.isin(cats)]\n",
    "ddf['type'] = ddf['type'].astype('category').cat.as_known()\n",
    "\n",
    "with ProgressBar():\n",
    "    ddf = ddf.build_sindex().persist()"
   ]
  },
  {
   "cell_type": "markdown",
   "metadata": {},
   "source": [
    "Next we build a legend for the categories and declare a tile source as backdrop:"
   ]
  },
  {
   "cell_type": "code",
   "execution_count": null,
   "metadata": {},
   "outputs": [],
   "source": [
    "colors    = cc.glasbey_bw_minc_20_maxl_70\n",
    "color_key = {cat: tuple(int(e*255.) for e in colors[i]) for i, cat in enumerate(cats)}\n",
    "legend    = hv.NdOverlay({k: hv.Points([0,0], label=str(k)).opts(\n",
    "                                         color=cc.rgb_to_hex(*v), size=0, apply_ranges=False) \n",
    "                          for k, v in color_key.items()}, 'Type')\n",
    "\n",
    "tiles = hv.element.tiles.CartoLight().opts(\n",
    "    min_height=800, responsive=True, xaxis=None, yaxis=None)"
   ]
  },
  {
   "cell_type": "markdown",
   "metadata": {},
   "source": [
    "Now we put it all together, declaring a `Polygons` element from our data, datashade them and use the `inspect_poly` operation to allow us to hover on the data:"
   ]
  },
  {
   "cell_type": "code",
   "execution_count": null,
   "metadata": {},
   "outputs": [],
   "source": [
    "polys = hv.Polygons(ddf, vdims='type')\n",
    "\n",
    "shaded = datashade(polys, color_key=color_key, aggregator=ds.by('type', ds.any()))\n",
    "\n",
    "hover = inspect_polygons(shaded).opts(fill_color='red', tools=['hover'])\n",
    "\n",
    "tiles * shaded * legend * hover"
   ]
  },
  {
   "cell_type": "markdown",
   "metadata": {},
   "source": [
    "Finally we will plot each category of buildings separately:"
   ]
  },
  {
   "cell_type": "code",
   "execution_count": null,
   "metadata": {},
   "outputs": [],
   "source": [
    "hv.NdLayout({\n",
    "    cat: hv.element.tiles.CartoLight() * rasterize(polys.select(type=cat), aggregator='any') for cat in cats\n",
    "}, 'Type').opts('Image', width=250, height=400, xaxis=None, yaxis=None).cols(4)"
   ]
  }
 ],
 "metadata": {
  "language_info": {
   "name": "python",
   "pygments_lexer": "ipython3"
  }
 },
 "nbformat": 4,
 "nbformat_minor": 4
}
