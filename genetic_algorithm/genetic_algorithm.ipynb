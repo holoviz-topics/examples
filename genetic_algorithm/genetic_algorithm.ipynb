{
 "cells": [
  {
   "cell_type": "markdown",
   "metadata": {},
   "source": [
    "# Genetic Algorithm"
   ]
  },
  {
   "cell_type": "code",
   "execution_count": null,
   "metadata": {},
   "outputs": [],
   "source": [
    "import numpy as np\n",
    "import random\n",
    "import holoviews as hv\n",
    "import panel as pn\n",
    "from holoviews.streams import Stream\n",
    "\n",
    "hv.extension('bokeh', logo=False)"
   ]
  },
  {
   "cell_type": "markdown",
   "metadata": {},
   "source": [
    "## What are we doing?"
   ]
  },
  {
   "cell_type": "markdown",
   "metadata": {},
   "source": [
    "How can you maximise the number of components in a laptop, while having size, weight and price constraints? For questions like these, we often want to reach for optimisation algorithms, and one particularly fun one is Genetic Algorithm. "
   ]
  },
  {
   "cell_type": "markdown",
   "metadata": {},
   "source": [
    "## Our example problem"
   ]
  },
  {
   "cell_type": "markdown",
   "metadata": {},
   "source": [
    "For the sake of a fun visualisation, let's say the optimisation is \"Wherever I click on the plot is the *optimimum* spot to find\". We're going to use a population-based approach, Genetic Algorithm, in which there is a population of individuals (each individual representing a possible solution) which evolve across generations. "
   ]
  },
  {
   "cell_type": "markdown",
   "metadata": {},
   "source": [
    "## What we want to see"
   ]
  },
  {
   "cell_type": "markdown",
   "metadata": {},
   "source": [
    "We want to see a kind of \"evolution simulator\" in which we click a spot on the plot and when we begin evolving, each generation moves closer to the place we clicked."
   ]
  },
  {
   "cell_type": "markdown",
   "metadata": {},
   "source": [
    "## We need a population"
   ]
  },
  {
   "cell_type": "markdown",
   "metadata": {},
   "source": [
    "\"And God said, Let us make man in our image\". First, let's create a population."
   ]
  },
  {
   "cell_type": "code",
   "execution_count": null,
   "metadata": {},
   "outputs": [],
   "source": [
    "def create_population(population_size, vector_length):\n",
    "    return np.random.rand(population_size, vector_length)"
   ]
  },
  {
   "cell_type": "code",
   "execution_count": null,
   "metadata": {},
   "outputs": [],
   "source": [
    "population_size = 100\n",
    "vector_length = 2\n",
    "current_population = create_population(population_size, vector_length)\n",
    "hv.Scatter(current_population)"
   ]
  },
  {
   "cell_type": "markdown",
   "metadata": {},
   "source": [
    "## Survival of the fittest\n",
    "\n",
    "We're going to need to *evolve* individuals from our population, so we need some way to check which of the population is the fittest. \n",
    "\n",
    "### Closer (smaller distance) is better\n",
    "\n",
    "For the sake of this visualisation, we're going to place a target on the plot and the \"fitness\" of a individual is how close they are to the target. We're going to calculate the distance using the euclidean distance metric.\n",
    "\n"
   ]
  },
  {
   "cell_type": "code",
   "execution_count": null,
   "metadata": {},
   "outputs": [],
   "source": [
    "def mean_squared_error(y_true, y_pred):\n",
    "    return ((y_true - y_pred)**2).mean(axis=0)\n",
    "\n",
    "target_x, target_y = 0,0  \n",
    "def problem(soln):\n",
    "    global target_x  # using globals so we can link this to the click event later\n",
    "    global target_y\n",
    "    return mean_squared_error(soln, [target_x, target_y])"
   ]
  },
  {
   "cell_type": "markdown",
   "metadata": {},
   "source": [
    "Then we need a way to check, who's our fittest member of our community"
   ]
  },
  {
   "cell_type": "code",
   "execution_count": null,
   "metadata": {},
   "outputs": [],
   "source": [
    "def assess_fitness(individual, problem):\n",
    "    \"Determines the fitness of an individual using the given problem\"\n",
    "    return problem(individual)\n",
    "\n",
    "def find_current_best(population, problem):\n",
    "    \"\"\"Evaluates a given population and returns the fittest individual.\n",
    "    This can be sped up to only loop over popuation once, but because this is a tutorial, 3 lines is nicer.\n",
    "    \"\"\"\n",
    "    fitnesses = [assess_fitness(x, problem) for x in population]\n",
    "    best_value = min(fitnesses)  # Lowest is best\n",
    "    best_index = fitnesses.index(best_value)\n",
    "    return population[best_index]"
   ]
  },
  {
   "cell_type": "markdown",
   "metadata": {},
   "source": [
    "## aaaand Fight!\n",
    "\n",
    "Now, we're going to let these potential solutions fight it out and only let a certain few have offspring. For this we will use \"Tournament Selection\" which is just grabbing a few individuals and having them compete to the death (the fittest survives!). \n",
    "\n",
    "What's nice about this is that you can keep a bit of diversity within the population and it's not just **the best** that survive, some lucky unfit individuals might be matched up with worse folk, and so they'll survive."
   ]
  },
  {
   "cell_type": "code",
   "execution_count": null,
   "metadata": {},
   "outputs": [],
   "source": [
    "def tournament_select_with_replacement(population, tournament_size, problem):\n",
    "    \"Competes a number of challengers and returns the fittest one\"\n",
    "    challengers_indexes = np.random.choice(population.shape[0], tournament_size, replace=True)\n",
    "    challengers = population[challengers_indexes]\n",
    "    return find_current_best(challengers, problem)"
   ]
  },
  {
   "cell_type": "markdown",
   "metadata": {},
   "source": [
    "Then once we have done this twice, those two individuals can \"mate\" and have children... to keep the population the same across generations for simplicity, they'll have two children. We'll use [Two point Crossover](https://en.wikipedia.org/wiki/Crossover_(genetic_algorithm)), which is just splitting both parents in three parts and swapping the middle part to form two children."
   ]
  },
  {
   "cell_type": "code",
   "execution_count": null,
   "metadata": {},
   "outputs": [],
   "source": [
    "def crossover(parent_a, parent_b):\n",
    "    \"Performs two point crossover on two parents\"\n",
    "    l = parent_a.shape[0]\n",
    "    c, d = random.randint(0, l), random.randint(0, l)\n",
    "    \n",
    "    # Flip if c greater than d\n",
    "    if (c > d): d, c = c, d \n",
    "    if (c == d): d += 1\n",
    "    temp = np.copy(parent_a)\n",
    "    child_a = np.concatenate([parent_a[0:c], parent_b[c:d], parent_a[d:]])\n",
    "    child_b = np.concatenate([parent_b[0:c], temp[c:d], parent_b[d:]]) \n",
    "    return child_a, child_b"
   ]
  },
  {
   "cell_type": "markdown",
   "metadata": {},
   "source": [
    "![image.png](./assets/twopointscrossover.png)\n",
    "\n",
    "*Source: Wikipedia*"
   ]
  },
  {
   "cell_type": "markdown",
   "metadata": {},
   "source": [
    "## Mutate!"
   ]
  },
  {
   "cell_type": "markdown",
   "metadata": {},
   "source": [
    "For extra variety across generations, we want to introduce a bit of chaos to the system to produce the Marie Curie of each generation (but also probably our _least_ capable individuals too). This helps find _new_ solutions outside our current population's capability. So for each individual, there's a chance that their offspring will mutate (determined by `mutation_rate`)."
   ]
  },
  {
   "cell_type": "code",
   "execution_count": null,
   "metadata": {},
   "outputs": [],
   "source": [
    "def mutate(child, mutation_rate, mutation_scale):\n",
    "    \"May mutate a child using Gaussian convolution\"\n",
    "    if mutation_rate >= random.uniform(0, 1):\n",
    "        size = child.shape[0]\n",
    "        mutation_value = np.random.normal(0, mutation_scale, size)\n",
    "        child = child + mutation_value\n",
    "    return child"
   ]
  },
  {
   "cell_type": "markdown",
   "metadata": {},
   "source": [
    "Here's the entirety of what happens to the population between generations. \n",
    "To recap: a bunch from the current population are selected at random to compete to reproduce. Two parents then produce two children using a mix of the two parents for both children. Finally, each child has a chance that they will mutate. One we've created a new population of the same size as the original population, we have completed one \"generation\"."
   ]
  },
  {
   "cell_type": "code",
   "execution_count": null,
   "metadata": {},
   "outputs": [],
   "source": [
    "def update_population(current_population, problem, should_mutate, mutation_rate, mutation_scale):\n",
    "    \"\"\"Performs one generational update of Genetic Algorithm\"\"\"\n",
    "    pop_size = len(current_population)\n",
    "    next_population = np.empty((pop_size, 2))\n",
    "    tournament_size=2\n",
    "    for i in range(int(pop_size / 2)):\n",
    "        parent_a = tournament_select_with_replacement(current_population, tournament_size, problem)\n",
    "        parent_b = tournament_select_with_replacement(current_population, tournament_size, problem)\n",
    "        child_a, child_b = crossover(parent_a, parent_b)\n",
    "        next_population[i] = mutate(child_a, mutation_rate, mutation_scale) if should_mutate else child_a \n",
    "        position_child_b = i + (pop_size / 2)\n",
    "        next_population[int(position_child_b)] = mutate(child_b, mutation_rate, mutation_scale) if should_mutate else child_b\n",
    "    return next_population"
   ]
  },
  {
   "cell_type": "markdown",
   "metadata": {},
   "source": [
    "## A little class for saving the state of the evolution "
   ]
  },
  {
   "cell_type": "code",
   "execution_count": null,
   "metadata": {},
   "outputs": [],
   "source": [
    "class GeneticAlgorithm(object):\n",
    "    def __init__(self, population_size, vector_length, problem):\n",
    "        self.problem = problem\n",
    "        self.current_population = create_population(population_size, vector_length)\n",
    "        self.current_best = find_current_best(self.current_population, self.problem)\n",
    "    \n",
    "    def next_generation(self, mrate, mscale, should_mutate):\n",
    "        self.current_population = update_population(self.current_population, self.problem, should_mutate, mrate, mscale)\n",
    "        self.current_best = find_current_best(self.current_population, self.problem)\n",
    "\n",
    "ga = GeneticAlgorithm(population_size, vector_length, problem)"
   ]
  },
  {
   "cell_type": "markdown",
   "metadata": {},
   "source": [
    "## Interact\n",
    "\n",
    "The sliders, tap streams, and buttons for our dashboard. `run_button` begins a periodic update of our evolution process when clicked. `next_generation_button` triggers just one generational update. `new_pop_button` triggers the creation of a new population. The rest are just sliders and markdown for the other bits and bobs. This is then positioned out using `pn.Column`, `pn.Row` and `pn.Spacer` from `panel`."
   ]
  },
  {
   "cell_type": "code",
   "execution_count": null,
   "metadata": {},
   "outputs": [],
   "source": [
    "def tap_event(x,y):\n",
    "    global target_x\n",
    "    global target_y\n",
    "    if x is not None:\n",
    "        target_x, target_y = x,y\n",
    "    return hv.Points((x,y,1))\n",
    "\n",
    "target_x, target_y = 10, -10\n",
    "tap = hv.streams.SingleTap(transient=True, x=target_x, y=target_y)\n",
    "tap_dmap = hv.DynamicMap(tap_event, streams=[tap]).opts(color='r', marker='^', size=10)\n",
    "mutate_checkbox = pn.widgets.Checkbox(name='Mutate', value=True)\n",
    "niters_slider = pn.widgets.IntSlider(name='Time Evolving (s)', start=0, end=50, value=5)\n",
    "mutation_rate_slider = pn.widgets.FloatSlider(name='Mutation Rate', start=0.0, end=1.0, value=0.3)\n",
    "mutation_scale_slider = pn.widgets.IntSlider(name='Mutation Scale', start=0, end=50, value=1)\n",
    "\n",
    "new_pop_button = pn.widgets.Button(name='New Population', width=50)\n",
    "def e(event):  \n",
    "    population_size = 100\n",
    "    vector_length = 2\n",
    "    global ga\n",
    "    ga = GeneticAlgorithm(population_size, vector_length, problem)\n",
    "    hv.streams.Stream.trigger(dmap.streams)\n",
    "new_pop_button.on_click(e)\n",
    "\n",
    "next_generation_button = pn.widgets.Button(name='Next Generation', width=50)\n",
    "def next_gen_event(event):\n",
    "    hv.streams.Stream.trigger(dmap.streams)\n",
    "next_generation_button.on_click(next_gen_event)\n",
    "\n",
    "def update():\n",
    "    ga.next_generation(mutation_rate_slider.value, mutation_scale_slider.value, mutate_checkbox.value)\n",
    "    return hv.Scatter(ga.current_population, label='Population').opts(color='b')*hv.Points((ga.current_best[0], ga.current_best[1],1), label='Current Fittest').opts(color='c', size=10)\n",
    "dmap = hv.DynamicMap(update, streams=[Stream.define('Next')()])\n",
    "\n",
    "run_button = pn.widgets.Button(name='\\u25b6 Begin Evolving', width=50)\n",
    "def b(event):    \n",
    "    dmap.periodic(0.1, timeout=niters_slider.value, block=False) # Run the simulation for 60 seconds    \n",
    "run_button.on_click(b)\n",
    "\n",
    "instructions = pn.pane.Markdown('''\n",
    "# Genetic Algorithm Dashboard \n",
    "## Instructions: \n",
    "1. **Click on the plot to place the target.** \n",
    "2. Click '\\u25b6 Begin Evolution' button to begin evolving for the time on the Time Evolving slider. \n",
    "3. Experiment with the Mutation Rate (the probability of an individual in the next generation mutating) \n",
    "4. Experiment with the Mutation Scale (the size of the mutation, tip: zoom out using the Wheel Zoom on the right of the plot). \n",
    "''')\n",
    "dashboard = pn.Column(instructions, pn.Row((dmap*tap_dmap.relabel('Target')).opts(width=600, height=600), \n",
    "                             pn.Column(pn.Row(run_button, pn.Spacer(width=50), new_pop_button), next_generation_button,\n",
    "                             mutate_checkbox, niters_slider, mutation_rate_slider, mutation_scale_slider)))"
   ]
  },
  {
   "cell_type": "code",
   "execution_count": null,
   "metadata": {},
   "outputs": [],
   "source": [
    "dashboard.servable()"
   ]
  }
 ],
 "metadata": {
  "kernelspec": {
   "display_name": "Python 3 (ipykernel)",
   "language": "python",
   "name": "python3"
  },
  "language_info": {
   "codemirror_mode": {
    "name": "ipython",
    "version": 3
   },
   "file_extension": ".py",
   "mimetype": "text/x-python",
   "name": "python",
   "nbconvert_exporter": "python",
   "pygments_lexer": "ipython3",
   "version": "3.10.13"
  }
 },
 "nbformat": 4,
 "nbformat_minor": 4
}
