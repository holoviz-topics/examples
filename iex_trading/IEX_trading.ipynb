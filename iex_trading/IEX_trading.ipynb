{
 "cells": [
  {
   "cell_type": "markdown",
   "metadata": {},
   "source": [
    "[IEX](https://iextrading.com/), the Investors Exchange, is a transparent\n",
    "stock exchange that discourages high-frequency trading and makes\n",
    "historical trading data [publicly\n",
    "available](https://iextrading.com/trading/market-data/#hist-download). The\n",
    "data is offered in the form of daily\n",
    "[pcap](https://en.wikipedia.org/wiki/Pcap) files where each single\n",
    "packet corresponds to a stock trade.\n",
    "\n",
    "Even with this specialized pcap file format, these daily records can\n",
    "exceed a gigabyte in size on a given day. In this notebook, we will\n",
    "develop a dashboard that will allow us to explore every single trade\n",
    "that happened in a day, including the associated metadata. To visualize\n",
    "all this data at once both rapidly and interactively, we will use\n",
    "[datashader](https://datashader.org/) via the [HoloViews\n",
    "API](http://holoviews.org/user_guide/Large_Data.html).\n",
    "\n",
    "## Loading the data\n",
    "\n",
    "The [IEX stock\n",
    "data](https://iextrading.com/trading/market-data/#hist-download) is\n",
    "saved in two formats of pcap file called\n",
    "[TOPS](https://iextrading.com/docs/IEX%20TOPS%20Specification.pdf) and\n",
    "[DEEP](https://iextrading.com/docs/IEX%20DEEP%20Specification.pdf). These\n",
    "formats are complex enough to make it non trivial to parse the trades\n",
    "with standard packet loading tools. For this reason, the trades for Monday\n",
    "21st of October 2019 are supplied as a CSV file that has been generated from\n",
    "the original pcap file using the\n",
    "[IEXTools](https://pypi.org/project/IEXTools/) library."
   ]
  },
  {
   "cell_type": "code",
   "execution_count": null,
   "metadata": {},
   "outputs": [],
   "source": [
    "import datetime\n",
    "import pandas as pd\n",
    "df = pd.read_csv('./data/IEX_2019-10-21.csv')\n",
    "print('Dataframe loaded containing %d events' % len(df))"
   ]
  },
  {
   "cell_type": "markdown",
   "metadata": {},
   "source": [
    "We can now look at the head of this DataFrame to see its structure:"
   ]
  },
  {
   "cell_type": "code",
   "execution_count": null,
   "metadata": {},
   "outputs": [],
   "source": [
    "df.head()"
   ]
  },
  {
   "cell_type": "markdown",
   "metadata": {},
   "source": [
    "Each row above corresponds to a stock trade where `price` indicates\n",
    "the stock price, the `size` indicates the size of the trade and the\n",
    "`symbol` specifies which stock was traded. Every trade also has a\n",
    "timestamp specified in nanoseconds.\n",
    "\n",
    "Note that multiple trades can occur on the same timestamp.\n",
    "\n",
    "## Visualizing trade with `Spikes`\n",
    "\n",
    "We can now load HoloViews with the Bokeh plotting extension to start\n",
    "visualizing some of this data:"
   ]
  },
  {
   "cell_type": "code",
   "execution_count": null,
   "metadata": {},
   "outputs": [],
   "source": [
    "import holoviews as hv\n",
    "from bokeh.models import HoverTool\n",
    "from holoviews.operation.datashader import spikes_aggregate\n",
    "hv.config.image_rtol = 10e-3 # Fixes datetime issue at high zoom level\n",
    "hv.extension('bokeh')"
   ]
  },
  {
   "cell_type": "markdown",
   "metadata": {},
   "source": [
    "One way to visualize events that occur over time is to use the\n",
    "[Spikes](http://holoviews.org/reference/elements/bokeh/Spikes.html#bokeh-gallery-spikes)\n",
    "element. Here we look at the first hundred spikes in this dataframe:"
   ]
  },
  {
   "cell_type": "code",
   "execution_count": null,
   "metadata": {},
   "outputs": [],
   "source": [
    "hv.Spikes(df.head(100), ['timestamp'],\n",
    "          ['symbol', 'size', 'price']).opts(xrotation=90,  tools=['hover'],\n",
    "                                            spike_length=1, position=0)"
   ]
  },
  {
   "cell_type": "markdown",
   "metadata": {},
   "source": [
    "As in the dataframe tables shown above, the timestamps are expressed as\n",
    "integers counting the nanoseconds since Unix epoch (UTC). While many\n",
    "domains may use integers as their time axis (e.g CPU cycle for processor\n",
    "events), in this case we would like to recover the timestamp as a date.\n",
    "\n",
    "We will do this in two steps (1) we map the integers to `datetime64[ns]`\n",
    "to get `datetime` objects and (2) we subtract 4 hours to go from UTC to\n",
    "the local time at the exchange (located in New Jersey):"
   ]
  },
  {
   "cell_type": "code",
   "execution_count": null,
   "metadata": {},
   "outputs": [],
   "source": [
    "df.timestamp = df.timestamp.astype('datetime64[ns]')\n",
    "df.timestamp -= datetime.timedelta(hours=4)"
   ]
  },
  {
   "cell_type": "markdown",
   "metadata": {},
   "source": [
    "Here every line corresponds to a trade where the position along the\n",
    "x-axis indicates the time at which that trade occurred (the `timestamp`\n",
    "in nanoseconds). If you hover over the spikes above, you can view all\n",
    "the timestamp values for the trades underneath the cursor as well as\n",
    "their corresponding stock symbols.\n",
    "\n",
    "Using Bokeh we can only visualize a small number of trades effectively,\n",
    "but using datashader we can visualize all 1.2 million trades available:"
   ]
  },
  {
   "cell_type": "code",
   "execution_count": null,
   "metadata": {},
   "outputs": [],
   "source": [
    "spikes = hv.Spikes(df, ['timestamp'], ['symbol', 'size', 'price'])\n",
    "rasterized = spikes_aggregate(spikes,\n",
    "                              aggregator='count', spike_length=1).opts(\n",
    "                                  width=600, colorbar=True, cmap='blues',\n",
    "                                  yaxis=None, xrotation=90,\n",
    "                                  default_tools=['xwheel_zoom', 'xpan', 'xbox_zoom'])\n",
    "rasterized"
   ]
  },
  {
   "cell_type": "markdown",
   "metadata": {},
   "source": [
    "Using the `count` aggregator, we can see the density of trades over time\n",
    "colormapped such that white indicates the highest trade density and\n",
    "black indicates a lack of trades at that time. In the [next\n",
    "notebook](./IEX_stocks.ipynb) we will aggregate over the `'size'` column\n",
    "to visualize a more useful metric, namely the trade volume.\n",
    "\n",
    "We use `spike_length` plot option to give all the spikes a fixed height\n",
    "regardless of any value dimensions specified. The `Spikes` element also\n",
    "supports variable heights according to a value dimension as seen [on the\n",
    "reference\n",
    "page](https://holoviews.org/reference/elements/bokeh/Spikes.html#bokeh-gallery-spikes).\n",
    "\n",
    "Note that the above plot is interactive: when you zoom in, datashader\n",
    "will recompute and update the visualization accordingly. When zoomed\n",
    "out, you will notice that trade volume goes up at the end of the day -\n",
    "these are all the trades being made at the last minute before the\n",
    "exchange closes for that day!\n",
    "\n",
    "## Exploring the IEX trade metadata interactively\n",
    "\n",
    "Using Bokeh, we can view individual trade metadata using the hover tool\n",
    "for a small number of trades and using datashader, we can visualize a\n",
    "very large number of trades. Now we can investigate whether it is\n",
    "possible to have the best of both worlds.\n",
    "\n",
    "When zoomed out, viewing all the trades for an entire day, hover\n",
    "information wouldn't be particularly useful. A single pixel would\n",
    "represent the accumulation of many trades across many neighboring\n",
    "timestamps which means hovering would not be able to target any specific\n",
    "trades effectively.\n",
    "\n",
    "Instead, what we can do is use datashader to visualize trades at all\n",
    "zoom levels and use Bokeh to make hover information visible once\n",
    "sufficiently zoomed in to point to individual trades. This avoids the\n",
    "problem of pushing the entire dataset to your web browser and makes Bokeh's hover\n",
    "feature available when it is most useful.\n",
    "\n",
    "### Using HoloViews to build custom interactivity\n",
    "\n",
    "Enabling Bokeh hover information at a specific zoom level is not the\n",
    "best approach as different days will have different trade volumes and no\n",
    "fixed window will be appropriate for all datasets.\n",
    "\n",
    "Instead, what we want to do is to always show hover information for as\n",
    "many trades as Bokeh can effectively handle. In other words, we want\n",
    "to count how many trades can be handed by the browser and use that number\n",
    "to decide whether or not hover information should be made available.\n",
    "\n",
    "Counting trades is as simple as counting the number of rows in the\n",
    "pandas DataFrame that datashader is rendering for a given zoom level. We\n",
    "don't need to hook in the HoloViews datashader operation to achieve\n",
    "this: instead, we can disable the normal interactive behavior and\n",
    "rebuild it using HoloViews streams and the `apply` method.\n",
    "\n",
    "Before this approach is demonstrated, we will want to define a [custom\n",
    "Bokeh hover\n",
    "tool](https://docs.bokeh.org/en/latest/docs/user_guide/tools.html#hovertool)\n",
    "to format our datetime timestamps nicely:"
   ]
  },
  {
   "cell_type": "code",
   "execution_count": null,
   "metadata": {},
   "outputs": [],
   "source": [
    "hover = HoverTool(tooltips=[\n",
    "    ('Symbol', '@symbol'),\n",
    "    ('Size', '@size'),\n",
    "    ('Price', '@price'),\n",
    "    ('Timestamp', '@timestamp{%F %H:%M %Ss %3Nms}')],\n",
    "    formatters={'timestamp': 'datetime'})"
   ]
  },
  {
   "cell_type": "markdown",
   "metadata": {},
   "source": [
    "Next we declare a `RangeX` stream to get the plot range from Bokeh from our spikes object:"
   ]
  },
  {
   "cell_type": "code",
   "execution_count": null,
   "metadata": {},
   "outputs": [],
   "source": [
    "range_stream = hv.streams.RangeX(source=spikes)"
   ]
  },
  {
   "cell_type": "markdown",
   "metadata": {},
   "source": [
    "Using this stream, we can write a callback that uses the supplied\n",
    "x-ranges to do the following:\n",
    "\n",
    "1. First it slices all the spikes across the whole dataset to those\n",
    "visible in the current viewport (`spikes[low:high]`)\n",
    "2. Next it checks if there are fewer than 600 spikes. If so, it returns\n",
    "this sliced set of spikes, otherwise it returns `ranged.iloc[:0]` which\n",
    "is a `Spikes` object containing zero spikes.\n",
    "3. We make sure these spikes are plotted with a length of one and make\n",
    "them invisible (we only want the associated hover information).\n"
   ]
  },
  {
   "cell_type": "code",
   "execution_count": null,
   "metadata": {},
   "outputs": [],
   "source": [
    "def xrange_filter(spikes, x_range):\n",
    "    low, high = (None, None) if x_range is None else x_range\n",
    "    ranged = spikes[low:high]\n",
    "    return (ranged if len(ranged) < 600 else ranged.iloc[:0]).opts(spike_length=1, alpha=0)"
   ]
  },
  {
   "cell_type": "markdown",
   "metadata": {},
   "source": [
    "Finally, can can combine our `range_stream` with this callback using the\n",
    "`apply` method on spikes. This creates a `DynamicMap` that will offer\n",
    "the hover information for 600 or fewer spikes once sufficiently zoomed\n",
    "in. The only thing left to do is to overlay this on top of the\n",
    "interactive, zoomable rasterization generated by the datashader\n",
    "operation:"
   ]
  },
  {
   "cell_type": "code",
   "execution_count": null,
   "metadata": {},
   "outputs": [],
   "source": [
    "filtered = spikes.apply(xrange_filter, streams=[range_stream])\n",
    "hover_filtered =  filtered.opts(tools=[hover])\n",
    "rasterized * hover_filtered"
   ]
  },
  {
   "cell_type": "markdown",
   "metadata": {},
   "source": [
    "Try zooming into the last 500 millisecond region before the exchange\n",
    "closes to see the last few stock symbols that were traded on that day.\n",
    "\n",
    "\n",
    "## Next steps\n",
    "\n",
    "This notebook illustrates how a large number of events (1.2 million) can\n",
    "be visualized interactively with datashader and how we can inspect the\n",
    "data for individual events by zooming in and using the hover tool.\n",
    "\n",
    "Visualizing all the data at once in this way allows you to see the\n",
    "overall structure of the data and identify any particularities in\n",
    "it. For instance, the increase in trading volume at the end of the day\n",
    "is immediately obvious and by zooming in, it is possible to identify a\n",
    "handful of trades that occur after 4pm after the bulk of trading has\n",
    "ceased.\n",
    "\n",
    "What this visualization fails to offer is any way to identify the\n",
    "trading patterns of individual stocks out of the entire volume of\n",
    "trades. The hover tool only activates when zoomed in and there is no\n",
    "suitable method for partitioning out the trading times by stock. The next\n",
    "notebook will extend the approach developed here to analyze the most\n",
    "traded stocks on this day."
   ]
  }
 ],
 "metadata": {},
 "nbformat": 4,
 "nbformat_minor": 2
}
