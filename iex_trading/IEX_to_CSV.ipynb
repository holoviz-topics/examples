{
 "cells": [
  {
   "cell_type": "markdown",
   "metadata": {},
   "source": [
    "## Converting IEX trades to CSV\n",
    "\n",
    "This notebook requires the\n",
    "[IEXTools](https://pypi.org/project/IEXTools/) library (available on\n",
    "PyPI via pip) and the TOPS pcap file for 2019-10-21 and 2019-10-25\n",
    "available from the [IEX\n",
    "exchange](https://iextrading.com/trading/market-data/#hist-download)."
   ]
  },
  {
   "cell_type": "code",
   "execution_count": null,
   "metadata": {},
   "outputs": [],
   "source": [
    "import pandas as pd\n",
    "from IEXTools import Parser, messages #noqa Version 0.0.7"
   ]
  },
  {
   "cell_type": "markdown",
   "metadata": {},
   "source": [
    "### Load parser for pcap file\n"
   ]
  },
  {
   "cell_type": "code",
   "execution_count": null,
   "metadata": {},
   "outputs": [],
   "source": [
    "date = '2019-10-21' # Note that this notebook needs to be run once per date to process'\n",
    "p = Parser(r'%s.pcap' % date, tops=True, deep=False)"
   ]
  },
  {
   "cell_type": "markdown",
   "metadata": {},
   "source": [
    "### Collect trade reports"
   ]
  },
  {
   "cell_type": "code",
   "execution_count": null,
   "metadata": {},
   "outputs": [],
   "source": [
    "allowed = [messages.TradeReport]\n",
    "messages = []\n",
    "i = 0\n",
    "while True:\n",
    "    try:\n",
    "        message = p.get_next_message(allowed)\n",
    "        messages.append(message)\n",
    "        i += 1\n",
    "    except StopIteration:\n",
    "        break"
   ]
  },
  {
   "cell_type": "markdown",
   "metadata": {},
   "source": [
    "## Build a `DataFrame`"
   ]
  },
  {
   "cell_type": "code",
   "execution_count": null,
   "metadata": {},
   "outputs": [],
   "source": [
    "fields = ['symbol', 'size', 'price_int', 'timestamp']\n",
    "df = pd.DataFrame([{f:getattr(m, f) for f in fields} for m in messages])"
   ]
  },
  {
   "cell_type": "markdown",
   "metadata": {},
   "source": [
    "## Convert `price_int` to `price`"
   ]
  },
  {
   "cell_type": "code",
   "execution_count": null,
   "metadata": {},
   "outputs": [],
   "source": [
    "df.price_int = df.price_int / 10000.0\n",
    "df = df.rename(columns={'price_int':'price'})\n",
    "df.head()"
   ]
  },
  {
   "cell_type": "markdown",
   "metadata": {},
   "source": [
    "### Save to CSV"
   ]
  },
  {
   "cell_type": "code",
   "execution_count": null,
   "metadata": {},
   "outputs": [],
   "source": [
    "df.to_csv('IEX_%s.csv' % date, index=False)\n",
    "\n"
   ]
  }
 ],
 "metadata": {
  "kernelspec": {
   "display_name": "Python 3",
   "language": "python",
   "name": "python3"
  },
  "language_info": {
   "codemirror_mode": {
    "name": "ipython",
    "version": 3
   },
   "file_extension": ".py",
   "mimetype": "text/x-python",
   "name": "python",
   "nbconvert_exporter": "python",
   "pygments_lexer": "ipython3",
   "version": "3.7.4"
  }
 },
 "nbformat": 4,
 "nbformat_minor": 2
}
