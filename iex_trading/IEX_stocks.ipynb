{
 "cells": [
  {
   "cell_type": "markdown",
   "metadata": {},
   "source": [
    "# IEX Trading\n",
    "Written by Jean-Luc Stevens<br>\n",
    "Created: November 20, 2019<br>\n",
    "Last updated: July 30, 2021"
   ]
  },
  {
   "cell_type": "markdown",
   "metadata": {},
   "source": [
    "## IEX Stocks\n",
    "\n",
    "In the [previous notebook](./IEX_trading.ipynb) we saw how all the\n",
    "trades on the IEX stock exchange could be interactively visualized over\n",
    "the course of a whole day (Monday 21st of October 2019). Using\n",
    "datashader, all the trades are rasterized interactively to reveal the\n",
    "density of trades via a colormap.\n",
    "\n",
    "When viewing a million trades at once for a whole day, it is\n",
    "extremely difficult to identify individual trades using a global\n",
    "view. In order to identify particular trades, it is necessary to zoom\n",
    "into a time window small enough that individual trades can be\n",
    "distinguished at which point the trade metadata can be inspected using\n",
    "the Bokeh hover tool.\n",
    "\n",
    "What the global visualization helps reveal is the overall pattern of\n",
    "trades. In this notebook we will focus on interactively revealing the\n",
    "trading patterns for individual stocks by partitioning on a set of stock\n",
    "symbols selected with a widget.\n",
    "\n",
    "## Loading the data\n",
    "\n",
    "First we will load the data as before, converting the integer timestamps\n",
    "into the correctly offset datetimes before counting the total number of\n",
    "events:"
   ]
  },
  {
   "cell_type": "code",
   "execution_count": null,
   "metadata": {},
   "outputs": [],
   "source": [
    "import datetime\n",
    "import pandas as pd\n",
    "df = pd.read_csv('./data/IEX_2019-10-21.csv')\n",
    "df.timestamp = df.timestamp.astype('datetime64[ns]')\n",
    "df.timestamp -= datetime.timedelta(hours=4)\n",
    "print('Dataframe loaded containing %d events' % len(df))"
   ]
  },
  {
   "cell_type": "markdown",
   "metadata": {},
   "source": [
    "Next we will identify the top ten most traded stocks on this day and\n",
    "compute how much of the trading volume (i.e summed over the `size\n",
    "column) that they account for:"
   ]
  },
  {
   "cell_type": "code",
   "execution_count": null,
   "metadata": {},
   "outputs": [],
   "source": [
    "symbol_volumes = df.groupby('symbol')['size'].sum()\n",
    "top_symbol_volumes = symbol_volumes.sort_values()[-10:]\n",
    "top_symbols = list(top_symbol_volumes.index)\n",
    "top_symbol_info = (', '.join(top_symbols),\n",
    "                   top_symbol_volumes.sum() /symbol_volumes.sum()  * 100)\n",
    "'The top ten symbols are %s and account for %.2f%% of trading volume' % top_symbol_info"
   ]
  },
  {
   "cell_type": "markdown",
   "metadata": {},
   "source": [
    "The following dictionary below show the names of the companies that each\n",
    "of these ten symbols correspond to:"
   ]
  },
  {
   "cell_type": "code",
   "execution_count": null,
   "metadata": {},
   "outputs": [],
   "source": [
    "symbol_info = {\n",
    "    \"PInterest\":'PINS',\n",
    "    'Chesapeake Energy Corporation': 'CHK',\n",
    "    \"Snap Inc\": 'SNAP',\n",
    "    \"NIO Inc\": 'NIO',\n",
    "    \"McDermott International\": 'MDR',\n",
    "    \"Teva Pharmaceutical Industries\": 'TEVA',\n",
    "    \"Hewlett Packard Enterprise\":'HPE',\n",
    "    \"Bank of America\": 'BAC',\n",
    "    \"GE\": 'General Electric',\n",
    "    \"Infosys\":'INFY',\n",
    "    }"
   ]
  },
  {
   "cell_type": "markdown",
   "metadata": {},
   "source": [
    "Before we can visualize each of these stocks individually, we will need\n",
    "to import the necessary libraries:"
   ]
  },
  {
   "cell_type": "code",
   "execution_count": null,
   "metadata": {},
   "outputs": [],
   "source": [
    "import holoviews as hv\n",
    "from bokeh.models import HoverTool\n",
    "import datashader as ds\n",
    "\n",
    "from holoviews.operation.datashader import spikes_aggregate\n",
    "hv.config.image_rtol = 10e-3 # Suppresses datetime issue at high zoom level\n",
    "hv.extension('bokeh')"
   ]
  },
  {
   "cell_type": "markdown",
   "metadata": {},
   "source": [
    "## Visualizing trade volume by stock\n",
    "\n",
    "As in the [previous notebook](./IEX_trading.ipynb), we will create a\n",
    "`Spikes` element containing our entire dataset. Instead of immediately\n",
    "rasterizing it, we will be selecting individual stocks from it and\n",
    "rasterizing those components individually.\n",
    "\n",
    " **Note**: *If you display the `spikes` object at this time, it will\n",
    "probably freeze or crash your browser tab!*"
   ]
  },
  {
   "cell_type": "code",
   "execution_count": null,
   "metadata": {},
   "outputs": [],
   "source": [
    "spikes = hv.Spikes(df, ['timestamp'], ['symbol', 'size', 'price'])"
   ]
  },
  {
   "cell_type": "markdown",
   "metadata": {},
   "source": [
    "### Visualizing two stocks at once\n",
    "\n",
    "In order to understand to build a fairly complex, interactive\n",
    "visualization, it is useful to build a simple prototype to identify the\n",
    "necessary concepts and decide whether it will satisfy our goals. In this\n",
    "section, we will prototype a fixed view that will let us directly\n",
    "compare the trading patterns for the top two stocks (PINS and CHK).\n",
    "\n",
    "We start by defining some options called `raster_opts` used to customize\n",
    "the rasterized output of the `visualize_symbol_raster` function. We will\n",
    "use the `responsive=True` option to make our rasters fill the screen:"
   ]
  },
  {
   "cell_type": "code",
   "execution_count": null,
   "metadata": {},
   "outputs": [],
   "source": [
    "raster_opts = hv.opts.Image(min_height=400, responsive=True,\n",
    "                            colorbar=True, cmap='blues', xrotation=90,\n",
    "                            default_tools=['xwheel_zoom', 'xpan', 'xbox_zoom'])\n",
    "\n",
    "def visualize_symbol_raster(symbol, offset):\n",
    "    selection = spikes.select(symbol=symbol)\n",
    "    return spikes_aggregate(selection, offset=offset,\n",
    "                            aggregator=ds.sum('size'),\n",
    "                            spike_length=1).opts(raster_opts)"
   ]
  },
  {
   "cell_type": "markdown",
   "metadata": {},
   "source": [
    "In the `visualize_symbol_raster` function, the `.select` method on our\n",
    "`spikes` object is used to select only the spikes that match the symbol\n",
    "specified in the argument. This function also take an integer `offset`\n",
    "argument that offsets the rasterized `Image` vertically by one unit (the\n",
    "spikes are unit length as specified with `spike_length=1`).\n",
    "\n",
    "One other difference from the previous notebook is that now a datashader\n",
    "aggregator over the `'size'` column is used in order to visualize the\n",
    "trade volume as opposed to the trade count.\n",
    "\n",
    "Now we can use this function with our two chosen stock symbols (PINS and\n",
    "CHK) to create an overlay. Lastly, we want to use the y-axis to label\n",
    "these stocks so we use a custom `yticks` option and set the `ylabel`.\n"
   ]
  },
  {
   "cell_type": "code",
   "execution_count": null,
   "metadata": {},
   "outputs": [],
   "source": [
    "overlay = visualize_symbol_raster('PINS', 0) * visualize_symbol_raster('CHK', 1)\n",
    "overlay.opts(yticks=[(0.5, 'PINS'), (1.5, 'CHK')], ylabel='Stock Symbol')"
   ]
  },
  {
   "cell_type": "markdown",
   "metadata": {},
   "source": [
    "We now want to generalize this example in the following ways:\n",
    "\n",
    "1. We wish to choose from any of the top ten stocks with a widget.\n",
    "2. We want to reveal the stock metadata with the Bokeh hover tool in the\n",
    "same way as the [previous notebook](./IEX_trading.ipynb).\n",
    "\n",
    "The next section will demonstrate one way this can be done.\n",
    "\n",
    "## Visualizing the top stocks interactively\n",
    "\n",
    "Our prototype is generalized in three steps:\n",
    "\n",
    "1. First the hover behavior is reintroduced per symbol.\n",
    "2. Next the process of overlaying the visualizations for the different\n",
    "symbols is generalized.\n",
    "3. Finally `panel` is used to add an interactive widget to select from\n",
    "the top ten stocks.\n",
    "\n",
    "### Adding interactive hover for metadata\n",
    "\n",
    "To enable the desired hover behavior, we shall create a custom Bokeh\n",
    "hover tool that formats the 'Symbol', 'Price' and 'Timestamp' columns of\n",
    "the dataframe nicely. In addition, a simple `RangeX` stream is declared:"
   ]
  },
  {
   "cell_type": "code",
   "execution_count": null,
   "metadata": {},
   "outputs": [],
   "source": [
    "hover = HoverTool(tooltips=[\n",
    "    ('Symbol', '@symbol'),\n",
    "    ('Size', '@size'),\n",
    "    ('Price', '@price'),\n",
    "    ('Timestamp', '@timestamp{%F %H:%M %Ss %3Nms}')],\n",
    "                  formatters={'timestamp': 'datetime'})\n",
    "\n",
    "range_stream = hv.streams.RangeX()"
   ]
  },
  {
   "cell_type": "markdown",
   "metadata": {},
   "source": [
    "Note that in this instance, the `source` of the `RangeX` stream is not\n",
    "defined upon construction: we will be setting it dynamically later. The\n",
    "`xrange_filter` function, however, is the same as the previous notebook\n",
    "(with the number of allowed hover spikes lowered to 200):"
   ]
  },
  {
   "cell_type": "code",
   "execution_count": null,
   "metadata": {},
   "outputs": [],
   "source": [
    "def xrange_filter(spikes, x_range):\n",
    "    low, high = (None, None) if x_range is None else x_range\n",
    "    ranged = spikes[pd.to_datetime(low):pd.to_datetime(high)]\n",
    "    return (ranged if len(ranged) < 200 else ranged.iloc[:0]).opts(spike_length=1, alpha=0)"
   ]
  },
  {
   "cell_type": "markdown",
   "metadata": {},
   "source": [
    "The next function, `visualize_symbol` builds on the approach used in\n",
    "`visualize_symbol_raster` above by overlaying each raster with the\n",
    "appropriate x-range filtered (invisible) `Spikes` in order to enable\n",
    "hovering.\n",
    "\n",
    "This is done using the same approach as the [previous\n",
    "notebook](./IEX_trading.ipynb) where we use the `apply` method on the spikes\n",
    "to apply the `xrange_filter function`. Note that as the `symbol`\n",
    "argument changes, the `Spikes` object returned by the `select` method\n",
    "also changes. This is why we need to set the `source` on our stream\n",
    "dynamically.\n",
    "\n",
    "In addition, to keep everything consistent, we want to use our single\n",
    "`range_stream` everywhere, including in the `DynamicMap` returned by\n",
    "`spikes_aggregate`. This is done by passing `range_stream` explicitly in\n",
    "the `streams` argument. This approach of using a single `RangeX` and\n",
    "setting the `source` ensures that you can zoom in and then select a\n",
    "different set of stocks to be displayed without resetting the zoom\n",
    "level.\n",
    "\n",
    "\n",
    "Lastly, we need to pass `expand=False` to prevent datashader from\n",
    "filling the whole y-range (with NaN colors where there is no data) for\n",
    "each raster generated."
   ]
  },
  {
   "cell_type": "code",
   "execution_count": null,
   "metadata": {},
   "outputs": [],
   "source": [
    "def visualize_symbol(symbol, offset):\n",
    "    selection = spikes.select(symbol=symbol)\n",
    "    range_stream.source = selection\n",
    "    rasterized = spikes_aggregate(selection, streams=[range_stream],\n",
    "                                  offset=offset, expand=False,\n",
    "                                  aggregator=ds.sum('size'),\n",
    "                                  spike_length=1).opts(raster_opts)\n",
    "    filtered = selection.apply(xrange_filter, streams=[range_stream])\n",
    "    return rasterized * filtered.opts(tools=[hover], position=offset)"
   ]
  },
  {
   "cell_type": "markdown",
   "metadata": {},
   "source": [
    "This `visualize_symbol` function simply adds hover behavior to\n",
    "`visualize_symbol_raster`: you can now use the former to visualize the\n",
    "PINS and CHK stocks in exactly the same way as was demonstrated above.\n",
    "\n",
    "### Building a dynamic overlay of stocks\n",
    "\n",
    "The following `overlay_symbols` function is a trivial generalization of\n",
    "the prototype that overlays an arbitrary list of stocks according to\n",
    "their symbols. Each `DynamicMap` returned by `visualize_symbol` is\n",
    "collected into an `Overlay` and the corresponding `yticks` plot option is\n",
    "dynamically generated.\n",
    "\n",
    "The only new concept is the call to `.collate()` which is necessary to\n",
    "convert an `Overlay` container of `DynamicMaps` into a `DynamicMap` of\n",
    "`Overlays` as required by the supported [nesting\n",
    "hierarchy](https://holoviews.org/user_guide/Building_Composite_Objects.html)."
   ]
  },
  {
   "cell_type": "code",
   "execution_count": null,
   "metadata": {},
   "outputs": [],
   "source": [
    "def overlay_symbols(symbols):\n",
    "    items = []\n",
    "    for offset, symbol in enumerate(symbols):\n",
    "        items.append(visualize_symbol(symbol, offset))\n",
    "    yticks = [(i+0.5,sym) for i,sym in enumerate(symbols)]\n",
    "    return hv.Overlay(items).collate().opts(\n",
    "        yticks=yticks, yaxis=True).redim(y='Stock Symbol')"
   ]
  },
  {
   "cell_type": "markdown",
   "metadata": {},
   "source": [
    "The prototype example could now be replicated (with hover) by calling\n",
    "`overlay_symbols(['PINS', 'CHK'])`.\n",
    "\n",
    "### Adding a selector widget with `panel`\n",
    "\n",
    "Using the [panel library](https://panel.pyviz.org/) we can easily\n",
    "declare a cross-selector widget specified with the `symbol_info`\n",
    "dictionary, with our two top stocks selected by default:"
   ]
  },
  {
   "cell_type": "code",
   "execution_count": null,
   "metadata": {},
   "outputs": [],
   "source": [
    "import panel as pn\n",
    "cross_selector = pn.widgets.CrossSelector(options=symbol_info,\n",
    "                                          sizing_mode='stretch_width',\n",
    "                                          value=['PINS','CHK'])"
   ]
  },
  {
   "cell_type": "markdown",
   "metadata": {},
   "source": [
    "Now we can wrap our `overlay_symbols` function in `visualize_symbols`\n",
    "and decorate it with `@pn.depends` before displaying both the widgets\n",
    "and visualization in a panel `Column`:"
   ]
  },
  {
   "cell_type": "code",
   "execution_count": null,
   "metadata": {},
   "outputs": [],
   "source": [
    "@pn.depends(cross_selector)\n",
    "def visualize_symbols(symbols):\n",
    "    return overlay_symbols(symbols)\n",
    "\n",
    "stock_selector = pn.Column(cross_selector, visualize_symbols)"
   ]
  },
  {
   "cell_type": "markdown",
   "metadata": {},
   "source": [
    "We now have a handle called `stock_selector` on a visualization that\n",
    "allows you to zoom in to any time during the day and view the metadata\n",
    "for the selected stocks (once sufficiently zoomed in).\n",
    "\n",
    "As a final step, we can build a small dashboard by adding the IEX logo\n",
    "and a short Markdown description to `stock_selector` and declaring it\n",
    "`servable()`.\n"
   ]
  },
  {
   "cell_type": "code",
   "execution_count": null,
   "metadata": {},
   "outputs": [],
   "source": [
    "dashboard_info = ('This dashboard allows exploration of the top ten stocks by volume '\n",
    "                  'on the [IEX exchange](https://iextrading.com/) on Monday 21st '\n",
    "                  'of October 2019. To view the metadata of individual trades, '\n",
    "                  'enable the Bokeh hover tool and zoom in until you can '\n",
    "                  'view individual trades.')\n",
    "pn.Column(\n",
    "    pn.pane.SVG('./assets/IEX_Group_Logo.svg', width=100),\n",
    "    dashboard_info, stock_selector).servable()"
   ]
  },
  {
   "cell_type": "markdown",
   "metadata": {},
   "source": [
    "This dashboard can now be served using `panel serve IEX_stock.ipynb`.\n",
    "\n",
    "### Conclusion\n",
    "\n",
    "In this notebook, we have seen how a trade-by-trade stock explorer for arbitrarily large datasets can\n",
    "be built up incrementally using three of the\n",
    "[HoloViz](https://holoviz.org) tools, namely by using the HoloViews\n",
    "Datashader API and Panel for the widgets."
   ]
  }
 ],
 "metadata": {
  "language_info": {
   "name": "python",
   "pygments_lexer": "ipython3"
  }
 },
 "nbformat": 4,
 "nbformat_minor": 2
}
