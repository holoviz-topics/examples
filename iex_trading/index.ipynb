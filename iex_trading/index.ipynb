{
 "cells": [
  {
   "cell_type": "markdown",
   "metadata": {},
   "source": [
    "# IEX Trading\n",
    "Written by Jean-Luc Stevens<br>\n",
    "Created: November 20, 2019<br>\n",
    "Last updated: July 30, 2021"
   ]
  },
  {
   "cell_type": "markdown",
   "metadata": {},
   "source": [
    "## IEX Index\n",
    "\n",
    "This topic example is composed of two notebooks and a deployable\n",
    "dashboard that explore an open dataset of stock trades. The visualized\n",
    "trading data is made available from the [IEX](https://iextrading.com) stock\n",
    "exchange and is available\n",
    "[here](https://iextrading.com/trading/market-data). The two notebooks in\n",
    "this topic example are:\n",
    "\n",
    "1. [IEX Stocks](./IEX_stocks.ipynb): This notebook explains how\n",
    "datashader can be used to both visualizes the entire set of trades on a\n",
    "particular day while retaining the ability to inspect individual trades.\n",
    "\n",
    "2. [IEX Trading](./IEX_trading.ipynb): This notebooks builds on the\n",
    "approach employed in the first notebook to visualize trading\n",
    "volume. This visualization is then built into a deployable dashboard\n",
    "using [panel](https://panel.holoviz.org).\n",
    "\n",
    "Additionally, there is a [supplementary notebook](./IEX_to_CSV.ipynb) that is used to\n",
    "convert the pcap files supplied by the IEX exchange into the CSV files\n",
    "consumed by these notebooks that is included for completeness."
   ]
  }
 ],
 "metadata": {
  "language_info": {
   "name": "python",
   "pygments_lexer": "ipython3"
  }
 },
 "nbformat": 4,
 "nbformat_minor": 2
}
