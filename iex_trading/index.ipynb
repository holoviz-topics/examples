{
 "cells": [
  {
   "cell_type": "markdown",
   "metadata": {},
   "source": [
    "# IEX Trading"
   ]
  },
  {
   "cell_type": "markdown",
   "metadata": {},
   "source": [
    "## IEX Index\n",
    "\n",
    "This topic example is composed of two notebooks and a deployable\n",
    "dashboard that explore an open dataset of stock trades. The visualized\n",
    "trading data is made available from the [IEX](https://iextrading.com) stock\n",
    "exchange and is available\n",
    "[here](https://iextrading.com/trading/market-data). The two notebooks in\n",
    "this topic example are:\n",
    "\n",
    "1. [IEX Stocks](./IEX_stocks.ipynb): This notebook explains how\n",
    "datashader can be used to both visualizes the entire set of trades on a\n",
    "particular day while retaining the ability to inspect individual trades.\n",
    "\n",
    "2. [IEX Trading](./IEX_trading.ipynb): This notebooks builds on the\n",
    "approach employed in the first notebook to visualize trading\n",
    "volume. This visualization is then built into a deployable dashboard\n",
    "using [panel](https://panel.holoviz.org).\n",
    "\n",
    "Additionally, there is a [supplementary notebook](./IEX_to_CSV.ipynb) that is used to\n",
    "convert the pcap files supplied by the IEX exchange into the CSV files\n",
    "consumed by these notebooks that is included for completeness."
   ]
  }
 ],
 "metadata": {
  "kernelspec": {
   "display_name": "Python 3 (ipykernel)",
   "language": "python",
   "name": "python3"
  },
  "language_info": {
   "codemirror_mode": {
    "name": "ipython",
    "version": 3
   },
   "file_extension": ".py",
   "mimetype": "text/x-python",
   "name": "python",
   "nbconvert_exporter": "python",
   "pygments_lexer": "ipython3",
   "version": "3.9.18"
  }
 },
 "nbformat": 4,
 "nbformat_minor": 2
}
