{
 "cells": [
  {
   "cell_type": "markdown",
   "metadata": {},
   "source": [
    "# IEX Trading"
   ]
  },
  {
   "cell_type": "markdown",
   "metadata": {},
   "source": [
    "This topic example is composed of two notebooks and a deployable dashboard that explore an open dataset of stock trades. The visualized trading data is made available from the [IEX stock exchange](https://iextrading.com/trading/market-data) and is available [here](https://iextrading.com/trading/market-data). The two notebooks in this topic example are:\n",
    "\n",
    "1. **[Visualize all trades](./IEX_trading.ipynb)**: This notebook explains how HoloViews, with Datashader and Bokeh, can be used to both visualize the entire set of trades on a particular day while retaining the ability to inspect individual trades.\n",
    "\n",
    "![image](./thumbnails/iex_trading_thumbnail.png)\n",
    "\n",
    "\n",
    "2. **[Trade volume dashboard](./IEX_stocks.ipynb)**: This notebook builds on the approach employed in the first notebook to visualize trading volume. This visualization is then built into a deployable dashboard using [Panel](https://panel.holoviz.org).\n",
    "\n",
    "![image](./thumbnails/iex_stocks_thumbnail.png)\n",
    "\n",
    "Additionally, there is a [supplementary notebook](./IEX_to_CSV.ipynb) that is used to convert the pcap files supplied by the IEX exchange into the CSV files consumed by these notebooks that is included for completeness."
   ]
  }
 ],
 "metadata": {
  "kernelspec": {
   "display_name": "Python 3 (ipykernel)",
   "language": "python",
   "name": "python3"
  },
  "language_info": {
   "codemirror_mode": {
    "name": "ipython",
    "version": 3
   },
   "file_extension": ".py",
   "mimetype": "text/x-python",
   "name": "python",
   "nbconvert_exporter": "python",
   "pygments_lexer": "ipython3",
   "version": "3.11.9"
  }
 },
 "nbformat": 4,
 "nbformat_minor": 4
}
