{
 "cells": [
  {
   "cell_type": "markdown",
   "metadata": {},
   "source": [
    "# Penguin Crossfilter"
   ]
  },
  {
   "cell_type": "markdown",
   "metadata": {},
   "source": [
    "## Cross-filtering Palmer Penguins"
   ]
  },
  {
   "cell_type": "code",
   "execution_count": null,
   "metadata": {},
   "outputs": [],
   "source": [
    "import numpy as np\n",
    "import pandas as pd\n",
    "import panel as pn\n",
    "\n",
    "import holoviews as hv\n",
    "import hvplot.pandas # noqa\n",
    "\n",
    "hv.extension('bokeh')"
   ]
  },
  {
   "cell_type": "markdown",
   "metadata": {},
   "source": [
    "In this introduction to building interactive dashboards we will primarily be using 4 libraries:\n",
    "    \n",
    "1. **Pandas**: To load and manipulate the data\n",
    "2. **hvPlot**: To quickly generate plots using a simple and familiar API\n",
    "3. **HoloViews**: To link selections between plots easily\n",
    "4. **Panel**: To build a dashboard we can deploy"
   ]
  },
  {
   "cell_type": "markdown",
   "metadata": {},
   "source": [
    "## Building some plots\n",
    "\n",
    "Let us first load the Palmer penguin dataset ([Gorman et al.](https://allisonhorst.github.io/palmerpenguins/)) which contains measurements about a number of penguin species:"
   ]
  },
  {
   "cell_type": "code",
   "execution_count": null,
   "metadata": {},
   "outputs": [],
   "source": [
    "penguins = pd.read_csv('data/penguins.csv')\n",
    "penguins.head()"
   ]
  },
  {
   "cell_type": "markdown",
   "metadata": {},
   "source": [
    "This diagram provides some background about what these measurements mean:\n",
    "\n",
    "<img src=\"./assets/culmen_depth.png\" style=\"display: flex; margin: auto;\" width=\"60%\"></img>"
   ]
  },
  {
   "cell_type": "markdown",
   "metadata": {},
   "source": [
    "Next we define an explicit colormapping for each species:"
   ]
  },
  {
   "cell_type": "code",
   "execution_count": null,
   "metadata": {},
   "outputs": [],
   "source": [
    "colors = {\n",
    "    'Adelie Penguin': '#1f77b4',\n",
    "    'Gentoo penguin': '#ff7f0e',\n",
    "    'Chinstrap penguin': '#2ca02c'\n",
    "}"
   ]
  },
  {
   "cell_type": "markdown",
   "metadata": {},
   "source": [
    "Now we can start plotting the data with hvPlot, which provides a familiar API to pandas `.plot` users but generates interactive plots.\n",
    "\n",
    "We start with a simple scatter plot of the culmen (think bill) length and depth for each species:"
   ]
  },
  {
   "cell_type": "code",
   "execution_count": null,
   "metadata": {},
   "outputs": [],
   "source": [
    "scatter = penguins.hvplot.points(\n",
    "    'Culmen Length (mm)', 'Culmen Depth (mm)', c='Species',\n",
    "    cmap=colors, responsive=True, min_height=300\n",
    ")\n",
    "\n",
    "scatter"
   ]
  },
  {
   "cell_type": "markdown",
   "metadata": {},
   "source": [
    "Next we generate a histogram of the body mass colored by species:"
   ]
  },
  {
   "cell_type": "code",
   "execution_count": null,
   "metadata": {},
   "outputs": [],
   "source": [
    "histogram = penguins.hvplot.hist(\n",
    "    'Body Mass (g)', by='Species', color=hv.dim('Species').categorize(colors),\n",
    "    legend=False, alpha=0.5, responsive=True, min_height=300\n",
    ")\n",
    "histogram"
   ]
  },
  {
   "cell_type": "markdown",
   "metadata": {},
   "source": [
    "Next we count the number of individuals of each species and generate a bar plot:"
   ]
  },
  {
   "cell_type": "code",
   "execution_count": null,
   "metadata": {},
   "outputs": [],
   "source": [
    "bars = penguins.hvplot.bar(\n",
    "    'Species', 'Sample Number', c='Species', cmap=colors,\n",
    "    responsive=True, min_height=300\n",
    ").aggregate(function=np.count_nonzero)\n",
    "\n",
    "bars"
   ]
  },
  {
   "cell_type": "markdown",
   "metadata": {},
   "source": [
    "Finally we generate violin plots of the flipper length of each species split by the sex:"
   ]
  },
  {
   "cell_type": "code",
   "execution_count": null,
   "metadata": {},
   "outputs": [],
   "source": [
    "violin = penguins.hvplot.violin(\n",
    "    'Flipper Length (mm)', by=['Species', 'Sex'], cmap='Category20',\n",
    "    responsive=True, min_height=300, legend='bottom_right'\n",
    ").opts(split='Sex')\n",
    "\n",
    "violin"
   ]
  },
  {
   "cell_type": "markdown",
   "metadata": {},
   "source": [
    "## Linking the plots"
   ]
  },
  {
   "cell_type": "markdown",
   "metadata": {},
   "source": [
    "hvPlot let us build interactive plots very quickly but what if we want to gain deeper insights about this data by selecting along one dimension and seeing that selection appear on other plots? Using HoloViews we can easily compose and link these plots:"
   ]
  },
  {
   "cell_type": "code",
   "execution_count": null,
   "metadata": {},
   "outputs": [],
   "source": [
    "ls = hv.link_selections.instance()\n",
    "\n",
    "ls(scatter.opts(show_legend=False) + bars + histogram + violin).cols(2)"
   ]
  },
  {
   "cell_type": "markdown",
   "metadata": {},
   "source": [
    "## Building a dashboard"
   ]
  },
  {
   "cell_type": "markdown",
   "metadata": {},
   "source": [
    "As a final step we will compose these plots into a dashboard using Panel, so as a first step we will load the Palmer penguins logo:"
   ]
  },
  {
   "cell_type": "code",
   "execution_count": null,
   "metadata": {},
   "outputs": [],
   "source": [
    "logo = pn.panel('data/logo.png', height=60)\n",
    "logo"
   ]
  },
  {
   "cell_type": "markdown",
   "metadata": {},
   "source": [
    "Next we define use some functionality on the `link_selections` object to display the count of currently selected penguins:"
   ]
  },
  {
   "cell_type": "code",
   "execution_count": null,
   "metadata": {},
   "outputs": [],
   "source": [
    "def count(selected):\n",
    "    return f\"## {len(selected)}/{len(penguins)} penguins selected\"\n",
    "\n",
    "\n",
    "selected = pn.pane.Markdown(\n",
    "    pn.bind(count, ls.selection_param(penguins)),\n",
    "    align='center', width=400, margin=(0, 100, 0, 0)\n",
    ")\n",
    "\n",
    "selected"
   ]
  },
  {
   "cell_type": "markdown",
   "metadata": {},
   "source": [
    "Now we will compose these two items into a Row which will serve as the header of our dashboard:"
   ]
  },
  {
   "cell_type": "code",
   "execution_count": null,
   "metadata": {},
   "outputs": [],
   "source": [
    "welcome = \"## Welcome and meet the Palmer penguins!\"\n",
    "\n",
    "penguins_art = pn.pane.PNG('./data/lter_penguins.png', height=160)\n",
    "\n",
    "credit = \"### Artwork by @allison_horst\"\n",
    "\n",
    "instructions = \"\"\"\n",
    "Use the box-select and lasso-select tools to select a subset of penguins\n",
    "and reveal more information about the selected subgroup through the power\n",
    "of cross-filtering.\n",
    "\"\"\"\n",
    "\n",
    "license = \"\"\"\n",
    "### License\n",
    "\n",
    "Data are available by CC-0 license in accordance with the Palmer Station LTER Data Policy and the LTER Data Access Policy for Type I data.\"\n",
    "\"\"\"\n",
    "art = pn.Column(\n",
    "    welcome, penguins_art, credit, instructions, license,\n",
    "    sizing_mode='stretch_width'\n",
    ")\n",
    "\n",
    "art"
   ]
  },
  {
   "cell_type": "markdown",
   "metadata": {},
   "source": [
    "## Deploying the dashboard"
   ]
  },
  {
   "cell_type": "code",
   "execution_count": null,
   "metadata": {},
   "outputs": [],
   "source": [
    "material = pn.template.FastListTemplate(logo='./data/logo.png', title='Palmer Penguins')\n",
    "\n",
    "ls = hv.link_selections.instance()\n",
    "\n",
    "header = pn.Row(\n",
    "    pn.layout.HSpacer(), selected,\n",
    "    sizing_mode='stretch_width'\n",
    ")\n",
    "\n",
    "selections = ls(scatter.opts(show_legend=False) + bars.opts(show_legend=False) + histogram + violin).opts(sizing_mode='stretch_both').cols(2)\n",
    "\n",
    "material.header.append(header)\n",
    "material.sidebar.append(art)\n",
    "material.main.append(selections)\n",
    "\n",
    "material.servable();"
   ]
  },
  {
   "cell_type": "markdown",
   "metadata": {},
   "source": [
    "<img src=\"./assets/screenshot.png\" style=\"display: flex; margin: auto;\" width=\"80%\"></img>"
   ]
  }
 ],
 "metadata": {
  "kernelspec": {
   "display_name": "Python 3 (ipykernel)",
   "language": "python",
   "name": "python3"
  },
  "language_info": {
   "codemirror_mode": {
    "name": "ipython",
    "version": 3
   },
   "file_extension": ".py",
   "mimetype": "text/x-python",
   "name": "python",
   "nbconvert_exporter": "python",
   "pygments_lexer": "ipython3",
   "version": "3.10.12"
  }
 },
 "nbformat": 4,
 "nbformat_minor": 4
}
