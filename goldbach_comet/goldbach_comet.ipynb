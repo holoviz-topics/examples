{
 "cells": [
  {
   "cell_type": "markdown",
   "id": "ea9fe0b6-de38-4b95-bf3c-739444f1152f",
   "metadata": {},
   "source": [
    "# Goldbach's comet with Numba and Datashader\n",
    "\n",
    "This Python notebook is about computing and plotting Goldbach function. It requires some basic mathematical knowledge, no fancy fancy prime number theory! The main point is to perfom some computations with [Numba](http://numba.pydata.org/) and some efficient plotting with [Datashader](https://datashader.org/).\n",
    "\n",
    "Here is the definition of the Goldbach function from [wikipedia](https://en.wikipedia.org/wiki/Goldbach%27s_comet):\n",
    "\n",
    "> The function $g ( E )$  is defined for all even integers $E > 2$ to be the number of different ways in which E can be expressed as the sum of two primes. For example, $g ( 22 ) = 3$  since 22 can be expressed as the sum of two primes in three different ways ( 22 = 11 + 11 = 5 + 17 = 3 + 19).\n",
    "\n",
    "The different prime pairs $(p_1, p_2)$ that sum to an even integer $E=p_1+p_2$ are called Goldbach partitions. So $g(E)$ is the count of distinct Goldbach partitions of $E$, without regard to the order of the primes in the pairs.\n",
    "\n",
    "Note that for Goldbach's conjecture to be false, there must be $g(E) = 0$ somewhere for $E > 2$. This is very unlikely to occur, but has not be proved yet. Anyway, here are the steps used in this notebook to compute Goldbach function. Given a positive integer $n$:\n",
    "- For each natural number $k \\leq n$, build a quick way to check if $k$ is a prime or not, and list all the primes smaller or equal to $n$, using a sieve method.\n",
    "- For each even number $E \\leq n$, compute $g(E)$ by counting the number of cases where $E-p$ is prime for all primes $p$ not larger than $E/2$. "
   ]
  },
  {
   "cell_type": "markdown",
   "id": "f4c572e2-9d25-4b5f-952d-83f5fb3af7b8",
   "metadata": {},
   "source": [
    "## Imports"
   ]
  },
  {
   "cell_type": "code",
   "execution_count": null,
   "id": "92c52af5-6519-4dea-8849-38e3db40345e",
   "metadata": {},
   "outputs": [],
   "source": [
    "from typing import Tuple\n",
    "\n",
    "from colorcet import palette\n",
    "import datashader as ds\n",
    "from datashader import transfer_functions as tf\n",
    "import matplotlib.pyplot as plt\n",
    "from numba import jit, njit, prange\n",
    "import numpy as np\n",
    "import pandas as pd\n",
    "import primesieve\n",
    "\n",
    "plt.style.use(\"seaborn\")\n",
    "\n",
    "\n",
    "FS = (20, 10)  # figure size"
   ]
  },
  {
   "cell_type": "markdown",
   "id": "294360ce-27a4-4d67-9294-f661c577001f",
   "metadata": {},
   "source": [
    "## Prime number sieve\n",
    "\n",
    "The `generate_primes` function creates a list of primes smaller or equal to $n$ and a boolean vector `is_prime_vec` of size $n+1$: `is_prime_vec[k]` is `True` iif `k` is a prime. It makes use of the optimized C/C++ [primesieve](https://github.com/kimwalisch/primesieve) library that has Python bindings:"
   ]
  },
  {
   "cell_type": "code",
   "execution_count": null,
   "id": "501fad89-cd7a-4980-b313-10dfe8931f5d",
   "metadata": {},
   "outputs": [],
   "source": [
    "def generate_primes(n: int) -> Tuple[np.ndarray, np.ndarray]:\n",
    "\n",
    "    primes = np.array(primesieve.primes(n))\n",
    "    is_prime_vec = np.zeros(n + 1, dtype=np.bool_)\n",
    "    is_prime_vec[primes] = True\n",
    "\n",
    "    return primes, is_prime_vec\n",
    "\n",
    "\n",
    "n = 11\n",
    "primes, is_prime_vec = generate_primes(n)\n",
    "print(f\"primes = {primes}\")\n",
    "print(f\"is_prime_vec = {is_prime_vec}\")"
   ]
  },
  {
   "cell_type": "markdown",
   "id": "9552eeac-29b9-4a68-8734-2441c9f31eea",
   "metadata": {},
   "source": [
    "## Evaluate Goldbach function for a given even number\n",
    "\n",
    "Now we show how $g(E)$ can be computed for a given value of $E$ with Numba. In the `compute_g` function, we loop over all primes $p \\leq E/2 $ with a `for` loop : if $E-p$ is a prime, $(p, E-P)$ is a partition of $E$. By looping over all primes $p \\leq E/2$, we count all the possible partitions of $E$. The upper bound of the `for` loop is computed using `np.searchsorted`, since primes are sorted within the `primes` array. This returns the index of the largest prime in the array smaller or equal to $E/2$."
   ]
  },
  {
   "cell_type": "code",
   "execution_count": null,
   "id": "a6514f58-c456-4fec-9695-68117a230f48",
   "metadata": {},
   "outputs": [],
   "source": [
    "@jit(nopython=True)\n",
    "def compute_g(is_prime_vec: np.ndarray, primes: np.ndarray, E: int) -> int:\n",
    "\n",
    "    assert E < len(is_prime_vec)\n",
    "    assert E % 2 == 0\n",
    "    E_half = int(0.5 * E)\n",
    "\n",
    "    # initialization\n",
    "    count = 0  # number of prime pairs\n",
    "\n",
    "    # we loop over all the prime numbers smaller than or equal to half of E\n",
    "    i_max = np.searchsorted(primes, E_half, side=\"right\")\n",
    "    for i in range(i_max):\n",
    "        if is_prime_vec[E - primes[i]]:\n",
    "            count += 1\n",
    "\n",
    "    return count"
   ]
  },
  {
   "cell_type": "markdown",
   "id": "024aecf7-0819-4fe7-860c-868a828bab55",
   "metadata": {},
   "source": [
    "We check the function for a few values of $E$:"
   ]
  },
  {
   "cell_type": "code",
   "execution_count": null,
   "id": "9c0d880c-c5ee-4520-94db-f93596fb1e7c",
   "metadata": {},
   "outputs": [],
   "source": [
    "E = 22\n",
    "primes, is_prime_vec = generate_primes(E)\n",
    "g = compute_g(is_prime_vec, primes, E)\n",
    "assert g == 3\n",
    "\n",
    "E = 1890  # https://www.ias.ac.in/article/fulltext/reso/019/11/1028-1037\n",
    "primes, is_prime_vec = generate_primes(E)\n",
    "g = compute_g(is_prime_vec, primes, E)\n",
    "assert g == 91\n",
    "\n",
    "E = 1_000_000  # https://resources.wolframcloud.com/FunctionRepository/resources/Goldbach/\n",
    "primes, is_prime_vec = generate_primes(E)\n",
    "g = compute_g(is_prime_vec, primes, E)\n",
    "assert g == 5402"
   ]
  },
  {
   "cell_type": "markdown",
   "id": "091d809e-5235-4921-8a47-c1dbc7546aa0",
   "metadata": {},
   "source": [
    "## Evaluate Goldbach function over a range of even numbers\n",
    "\n",
    "Now we are going to loop over all even values $E \\leq n$ to compute all the corresponding values of $g$. Note that in the following `compute_g_vector` function, the outer loop has a constant step size of 1, in order to use Numba `prange`, which only supports this unit step size. This means that we loop on contiguous $E/2$ integer values instead of even $E$ values. Also, we compute `is_prime_vec` and `primes` only once and use it for all the evaluations of $g$.\n",
    "\n",
    "`n` is calculted from the length of `is_prime_vec`. In the arguments, we assume that `primes` is corresponding to the primes of `is_prime_vec`."
   ]
  },
  {
   "cell_type": "code",
   "execution_count": null,
   "id": "3535ffc0-cb6c-4083-89ed-41aa352c2036",
   "metadata": {},
   "outputs": [],
   "source": [
    "@njit(parallel=True)\n",
    "def compute_g_vector(is_prime_vec: np.ndarray, primes: np.ndarray) -> np.ndarray:\n",
    "\n",
    "    n_max = len(is_prime_vec) - 1\n",
    "    n_max_half = int(0.5 * n_max) + 1\n",
    "\n",
    "    g_vec = np.empty(n_max_half, dtype=np.uint)\n",
    "\n",
    "    for E_half in prange(n_max_half):\n",
    "        count = 0\n",
    "        E = 2 * E_half\n",
    "        i_max = np.searchsorted(primes, E_half, side=\"right\")\n",
    "        for i in range(i_max):\n",
    "            if is_prime_vec[E - primes[i]]:\n",
    "                count += 1\n",
    "\n",
    "        g_vec[E_half] = np.uint(count)\n",
    "\n",
    "    return g_vec\n",
    "\n",
    "\n",
    "n = 10\n",
    "primes, is_prime_vec = generate_primes(n)\n",
    "g_vec = compute_g_vector(is_prime_vec, primes)\n",
    "g_vec"
   ]
  },
  {
   "cell_type": "markdown",
   "id": "93764026-9ddf-4033-b8a4-16fac6338330",
   "metadata": {},
   "source": [
    "The $i$-th value of `g_vec` correponds to $g(2 \\, i)$ with $i \\geq 0 $:\n",
    "\n",
    "\n",
    "| i |  E  | g_vec |\n",
    "|--:|----:|---------:|\n",
    "| 0 |  0  |        0 |\n",
    "| 1 |  2  |        0 |\n",
    "| 2 |  4  |        1 |\n",
    "| 3 |  6  |        1 |\n",
    "| 4 |  8  |        1 |\n",
    "| 5 | 10  |        2 |\n",
    "\n",
    "We can check $g$ at least for some for some small values of $E$ :"
   ]
  },
  {
   "cell_type": "code",
   "execution_count": null,
   "id": "3412cf46-fc19-432f-aa02-dec6dd6fb551",
   "metadata": {},
   "outputs": [],
   "source": [
    "n = 56\n",
    "primes, is_prime_vec = generate_primes(n)\n",
    "g_vec = compute_g_vector(is_prime_vec, primes)\n",
    "g_vec_ref = [0, 0, 1, 1, 1, 2, 1, 2, 2, 2, 2, 3, 3, 3, 2, 3, 2, 4, 4, 2, 3, 4, 3, 4, 5, 4, 3, 5, 3]\n",
    "np.testing.assert_array_equal(g_vec, g_vec_ref)"
   ]
  },
  {
   "cell_type": "markdown",
   "id": "8e3dd177-4cf1-4bb6-94e4-57a0e4744f4f",
   "metadata": {},
   "source": [
    "Finally we wrap everything into a function that also loads the values of `g_vec` into a Pandas dataframe for convenience:"
   ]
  },
  {
   "cell_type": "code",
   "execution_count": null,
   "id": "f8b5a571-a6ce-4519-8ccb-8030e10f3cde",
   "metadata": {},
   "outputs": [],
   "source": [
    "def compute_g_df(n):\n",
    "    primes, is_prime_vec = generate_primes(n)\n",
    "    g_vec = compute_g_vector(is_prime_vec, primes)\n",
    "    g_df = pd.DataFrame(data={\"E\": 2 * np.arange(len(g_vec)), \"g\": g_vec})\n",
    "    g_df = g_df[g_df.E > 2]  # The function g(E) is defined for all even integers E>2\n",
    "    return g_df\n",
    "\n",
    "compute_g_df(11)"
   ]
  },
  {
   "cell_type": "markdown",
   "id": "3672081f-61fd-4679-ae54-1b26c5a1d59c",
   "metadata": {},
   "source": [
    "## First plot of the comet\n",
    "\n",
    "We start by computing the Goldbach function up to $E=10000$ : "
   ]
  },
  {
   "cell_type": "code",
   "execution_count": null,
   "id": "1ac4c78d-5645-4185-b020-23634fffa43a",
   "metadata": {},
   "outputs": [],
   "source": [
    "%%time\n",
    "n = 20_000\n",
    "g_df_small = compute_g_df(n)"
   ]
  },
  {
   "cell_type": "code",
   "execution_count": null,
   "id": "03338478-62c5-46ec-bdf3-24af1360fb11",
   "metadata": {},
   "outputs": [],
   "source": [
    "len(g_df_small)"
   ]
  },
  {
   "cell_type": "markdown",
   "id": "3f5a5ce2-a17a-4f1d-8885-48eac4aaffb2",
   "metadata": {},
   "source": [
    "And plot it with Matplotlib:"
   ]
  },
  {
   "cell_type": "code",
   "execution_count": null,
   "id": "c91c969b-43e0-4427-8f8f-74f4dfa752f2",
   "metadata": {},
   "outputs": [],
   "source": [
    "ax = g_df_small.plot(\n",
    "    x=\"E\", y=\"g\", style=\".\", ms=5, alpha=0.5, legend=False, figsize=FS\n",
    ")\n",
    "_ = ax.set(\n",
    "    title=\"Goldbach's comet\",\n",
    "    xlabel=\"E\",\n",
    "    ylabel=\"g(E)\",\n",
    ")\n",
    "ax.autoscale(enable=True, axis=\"x\", tight=True)\n",
    "ax.grid(True)"
   ]
  },
  {
   "cell_type": "markdown",
   "id": "4e1e21d5-2d71-4f15-98f0-131517ce655e",
   "metadata": {},
   "source": [
    "## Plot the comet with Datashader\n",
    "\n",
    "Now let's compute the Goldbach function with a larger value of $n$ (this takes about 25 - 30s on my laptop, Intel(R) i7-7700HQ CPU @ 2.80GHz with 8 cores): "
   ]
  },
  {
   "cell_type": "code",
   "execution_count": null,
   "id": "adf95052-d5c6-4d36-aa58-a579c6a34c97",
   "metadata": {},
   "outputs": [],
   "source": [
    "%%time\n",
    "n = 2_000_000\n",
    "g_df = compute_g_df(n)"
   ]
  },
  {
   "cell_type": "code",
   "execution_count": null,
   "id": "704f3d9d-00c8-4fb5-a452-6d5cf7eb0924",
   "metadata": {},
   "outputs": [],
   "source": [
    "len(g_df)"
   ]
  },
  {
   "cell_type": "code",
   "execution_count": null,
   "id": "44eef371-5ead-4051-a9d2-b58638533132",
   "metadata": {},
   "outputs": [],
   "source": [
    "cmap = palette[\"dimgray\"][::-1]\n",
    "bg_col = \"white\"\n",
    "height = 800\n",
    "width = int(np.round(1.6 * height))"
   ]
  },
  {
   "cell_type": "code",
   "execution_count": null,
   "id": "6b650cf0-732c-4666-aefb-2db550814f0c",
   "metadata": {},
   "outputs": [],
   "source": [
    "%%time\n",
    "cvs = ds.Canvas(plot_width=width, plot_height=height)\n",
    "agg = cvs.points(g_df, \"E\", \"g\")\n",
    "img = tf.shade(agg, cmap=cmap)\n",
    "img = tf.set_background(img, bg_col)\n",
    "img"
   ]
  },
  {
   "cell_type": "markdown",
   "id": "4218b1bc-a6ac-4dcf-968e-33c2dd857352",
   "metadata": {},
   "source": [
    "We can clearly observe some dense lines in this \"comet tail\". In order to visualize this vertical distribution of prime pairs count, we are are going to normalize $g$. As explained on [wikipedia](https://en.wikipedia.org/wiki/Goldbach%27s_comet):\n",
    "\n",
    "> An illuminating way of presenting the comet data is as a histogram. The function $g(E)$ can be normalized by dividing by the locally averaged value of $g$, $g_{av}$, taken over perhaps 1000 neighboring values of the even number $E$. The histogram can then be accumulated over a range of up to about 10% either side of a central $E$. "
   ]
  },
  {
   "cell_type": "code",
   "execution_count": null,
   "id": "959035e9-f9e7-40ab-885c-438019070418",
   "metadata": {},
   "outputs": [],
   "source": [
    "%%time\n",
    "g_df[\"g_av\"] = g_df[\"g\"].rolling(window=1000, center=True).mean()\n",
    "g_df[\"g_norm\"] = g_df[\"g\"] / g_df[\"g_av\"]"
   ]
  },
  {
   "cell_type": "code",
   "execution_count": null,
   "id": "8536deca-a631-479d-9d30-3ee5b921120c",
   "metadata": {},
   "outputs": [],
   "source": [
    "%%time\n",
    "cvs = ds.Canvas(plot_width=width, plot_height=height)\n",
    "agg = cvs.points(g_df, \"E\", \"g_norm\")\n",
    "img = tf.shade(agg, cmap=cmap)\n",
    "img = tf.set_background(img, bg_col)\n",
    "img"
   ]
  },
  {
   "cell_type": "markdown",
   "id": "0ae73f49-dff7-4305-b872-7e1c5b6ac05b",
   "metadata": {},
   "source": [
    "We can also plot the histogram of the comet data, which will lead to some kind of cross section of the above plot:"
   ]
  },
  {
   "cell_type": "code",
   "execution_count": null,
   "id": "f8b6c058-a5e9-4e8b-8b64-4d961ee25a2d",
   "metadata": {},
   "outputs": [],
   "source": [
    "%%time\n",
    "ax = g_df[\"g_norm\"].hist(bins=1000, alpha=0.5, figsize=FS)\n",
    "ax.grid(True)\n",
    "_ = ax.set(\n",
    "    title=\"Histogram of the normalized Goldbach function\",\n",
    "    xlabel=\"Normalized number of prime pairs\",\n",
    "    ylabel=\"Number of occurrences\",\n",
    ")\n",
    "_ = plt.xticks(np.arange(0.5, 3.0, 0.1))"
   ]
  },
  {
   "cell_type": "markdown",
   "id": "d880436c-2d8e-44b8-ad34-2e76ba588b4e",
   "metadata": {},
   "source": [
    "## The Hardy-Littlewood estimate\n",
    "\n",
    "As described on the [wikipedia page](https://en.wikipedia.org/wiki/Goldbach%27s_comet) for Goldbach's comet, the number of Goldbach partitions can be estimated using the following formulae from Hardy and Littlewood (1922) :\n",
    "\n",
    "$$\\frac{g(E)}{g_{av}} \\approx c \\prod_{F(E/2)} \\frac{p-1}{p-2}$$\n",
    "\n",
    "where the product is taken over $F(E/2)$ : all primes p that are factors of $E/2$. The constant $c$ is the twin primes constant :\n",
    "\n",
    "$$c = \\prod_{p \\geq 3} \\left( 1 - \\frac{1}{(1-p)^2} \\right)$$\n",
    "\n",
    "where the product is taken over all primes larger or equal to 3."
   ]
  },
  {
   "cell_type": "code",
   "execution_count": null,
   "id": "b4e2ca43-aa69-4af4-9994-f53d8c45bfad",
   "metadata": {},
   "outputs": [],
   "source": [
    "%%time\n",
    "primes = np.array(primesieve.primes(n))\n",
    "c = np.prod(1.0 - 1.0 / np.power(1.0 - primes[1:], 2))\n",
    "c"
   ]
  },
  {
   "cell_type": "markdown",
   "id": "7e3432b7-28b1-47b8-9efc-8399272698d4",
   "metadata": {},
   "source": [
    "So let's compute this estimate of the normalized Goldbach function with Numba `njit` :"
   ]
  },
  {
   "cell_type": "code",
   "execution_count": null,
   "id": "9b1cc121-3261-4670-b2b4-d2b4596f7693",
   "metadata": {},
   "outputs": [],
   "source": [
    "@njit(parallel=True)\n",
    "def compute_g_hl_vector(primes: np.ndarray, n_max: int, c: float) -> np.ndarray:\n",
    "\n",
    "    n_max_half = int(0.5 * n_max) + 1\n",
    "\n",
    "    g_hl_vec = np.empty(n_max_half, dtype=np.float64)\n",
    "\n",
    "    for E_half in prange(n_max_half):\n",
    "        i_max = np.searchsorted(primes, E_half, side=\"right\")\n",
    "        prod = 1.0\n",
    "        for i in range(1, i_max):\n",
    "            p = primes[i]\n",
    "            if E_half % p == 0: # if p is a factor of E/2\n",
    "                prod *= (p - 1.0) / (p - 2.0)\n",
    "\n",
    "        g_hl_vec[E_half] = np.float64(prod)\n",
    "    g_hl_vec *= c\n",
    "\n",
    "    return g_hl_vec"
   ]
  },
  {
   "cell_type": "code",
   "execution_count": null,
   "id": "ab3ae5b4-6ed8-4e4d-824f-995aadd44fc7",
   "metadata": {},
   "outputs": [],
   "source": [
    "%%time\n",
    "g_hl_vec = compute_g_hl_vector(primes, n, c)"
   ]
  },
  {
   "cell_type": "code",
   "execution_count": null,
   "id": "bbbfade9-7989-4405-811a-33f6ab0c7189",
   "metadata": {},
   "outputs": [],
   "source": [
    "g_hl_df = pd.DataFrame(data={\"E\": 2 * np.arange(len(g_hl_vec)), \"g_norm\": g_hl_vec})"
   ]
  },
  {
   "cell_type": "code",
   "execution_count": null,
   "id": "e1d9326d-d2ea-4896-a949-a2c13af5240f",
   "metadata": {},
   "outputs": [],
   "source": [
    "%%time\n",
    "cvs = ds.Canvas(plot_width=width, plot_height=height)\n",
    "agg = cvs.points(g_hl_df, \"E\", \"g_norm\")\n",
    "img = tf.shade(agg, cmap=cmap)\n",
    "img = tf.set_background(img, bg_col)\n",
    "img"
   ]
  },
  {
   "cell_type": "markdown",
   "id": "41b8e4d7-5ce3-4f3a-a355-415ecf2c865a",
   "metadata": {},
   "source": [
    "The vertical distribution of the dense lines seems to be similar to the one from normalized Goldbach function. This can be checked by computing and plotting both kernel density estimates."
   ]
  },
  {
   "cell_type": "code",
   "execution_count": null,
   "id": "07be7344-a979-4a44-9da6-f9b1a0988696",
   "metadata": {},
   "outputs": [],
   "source": [
    "%%time\n",
    "ax = g_df[\"g_norm\"].plot.density(alpha=0.5, figsize=FS, label='Golbach function')\n",
    "ax = g_hl_df.g_norm.plot.density(alpha=0.5, ax=ax, label='Hardy-Littlewood estimate')\n",
    "ax.grid(True)\n",
    "_ = ax.set(\n",
    "    title=\"KDEs of the normalized Goldbach function and its Hardy-Littlewood estimate\",\n",
    "    xlabel=\"Normalized number of prime pairs\",\n",
    "    ylabel=\"Density\",\n",
    ")\n",
    "_ = ax.legend()\n",
    "_ = plt.xticks(np.arange(0.5, 3.0, 0.1))\n",
    "_ = ax.set_xlim(0.5, 2.5)"
   ]
  },
  {
   "cell_type": "markdown",
   "id": "dd95805c-30a9-4db1-9dfb-3d8b69d33838",
   "metadata": {},
   "source": [
    "## Prime E/2 values only\n",
    "\n",
    "Finally, we are going to isolate a part of the most dense line from the comet tail (for a normalized number of prime pairs around 0.66). As explained on [wikipedia](https://en.wikipedia.org/wiki/Goldbach%27s_comet):\n",
    "    \n",
    "> Of particular interest is the peak formed by selecting only values of $E/2$ that are prime. [...] The peak is very close to a Gaussian form. "
   ]
  },
  {
   "cell_type": "code",
   "execution_count": null,
   "id": "e18eb692-22cc-4e95-9a85-69401f6e911f",
   "metadata": {},
   "outputs": [],
   "source": [
    "g_df[\"E_half\"] = (0.5 * g_df[\"E\"]).astype(int)\n",
    "g_df_primes = g_df[g_df[\"E_half\"].isin(primes)]"
   ]
  },
  {
   "cell_type": "code",
   "execution_count": null,
   "id": "7c30009b-f2a6-41b9-aa44-7440b8327cbc",
   "metadata": {},
   "outputs": [],
   "source": [
    "%%time\n",
    "cvs = ds.Canvas(plot_width=width, plot_height=height)\n",
    "agg = cvs.points(g_df_primes, \"E\", \"g_norm\")\n",
    "img = tf.shade(agg, cmap=cmap)\n",
    "img = tf.set_background(img, bg_col)\n",
    "img"
   ]
  },
  {
   "cell_type": "code",
   "execution_count": null,
   "id": "f38405ae-9363-4d33-bb75-0c61bfad54bc",
   "metadata": {},
   "outputs": [],
   "source": [
    "ax = g_df_primes[\"g_norm\"].hist(bins=500, alpha=0.5, figsize=FS)\n",
    "ax.grid(True)\n",
    "_ = ax.set(\n",
    "    title=\"Histogram of the normalized Goldbach function for prime E/2 values only\",\n",
    "    xlabel=\"Normalized number of prime pairs\",\n",
    "    ylabel=\"Number of occurrences\",\n",
    ")"
   ]
  }
 ],
 "metadata": {
  "kernelspec": {
   "display_name": "Python 3 (ipykernel)",
   "language": "python",
   "name": "python3"
  },
  "language_info": {
   "codemirror_mode": {
    "name": "ipython",
    "version": 3
   },
   "file_extension": ".py",
   "mimetype": "text/x-python",
   "name": "python",
   "nbconvert_exporter": "python",
   "pygments_lexer": "ipython3",
   "version": "3.9.6"
  }
 },
 "nbformat": 4,
 "nbformat_minor": 5
}
